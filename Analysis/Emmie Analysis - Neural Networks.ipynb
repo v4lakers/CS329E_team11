{
 "cells": [
  {
   "cell_type": "code",
   "execution_count": null,
   "metadata": {},
   "outputs": [],
   "source": [
    "import warnings\n",
    "warnings.simplefilter(\"ignore\")\n",
    "import pandas as pd\n",
    "import numpy as np\n",
    "import sklearn as sk\n",
    "import matplotlib.pyplot as plt\n",
    "import time\n",
    "\n",
    "from pandas import DataFrame, Series\n",
    "from sklearn.model_selection import train_test_split\n",
    "from sklearn.model_selection import GridSearchCV\n",
    "from sklearn.model_selection import cross_val_score\n",
    "from sklearn.model_selection import cross_val_predict\n",
    "from sklearn.model_selection import cross_validate\n",
    "from sklearn.model_selection import StratifiedKFold\n",
    "from sklearn.decomposition import PCA\n",
    "from sklearn import tree\n",
    "from sklearn import metrics\n",
    "from sklearn.metrics import accuracy_score\n",
    "from sklearn.preprocessing import StandardScaler\n",
    "from sklearn.preprocessing import MinMaxScaler\n",
    "from sklearn.neighbors import KNeighborsClassifier\n",
    "from sklearn.naive_bayes import GaussianNB\n",
    "from sklearn.svm import SVC\n",
    "from sklearn.pipeline import Pipeline\n",
    "from sklearn.neural_network import MLPClassifier\n",
    "from sklearn.ensemble import RandomForestClassifier\n",
    "from sklearn.ensemble import AdaBoostClassifier\n",
    "from imblearn.over_sampling import SMOTE\n",
    "\n",
    "%matplotlib inline"
   ]
  },
  {
   "cell_type": "code",
   "execution_count": null,
   "metadata": {},
   "outputs": [],
   "source": [
    "data = pd.read_csv(\"../Data/Speed_Dating_Clean.csv\")\n",
    "print(data.shape)\n",
    "data.head(10)"
   ]
  },
  {
   "cell_type": "code",
   "execution_count": null,
   "metadata": {},
   "outputs": [],
   "source": [
    "data_Y = data['match']\n",
    "data_X = data.drop(['match', 'decision', 'decision_o', 'Unnamed: 0'], axis = 1)\n",
    "labels = data_Y\n",
    "print(data_X.shape)\n",
    "data_X.head(10)"
   ]
  },
  {
   "cell_type": "code",
   "execution_count": null,
   "metadata": {},
   "outputs": [],
   "source": [
    "def downsample_data(data):\n",
    "    downData = None\n",
    "    downLabels = None\n",
    "\n",
    "    kfold = StratifiedKFold(n_splits = 100, shuffle = True)\n",
    "    for throwAway_index, subsample_index in kfold.split(data, labels):\n",
    "        downData = data.iloc[subsample_index]\n",
    "        downLabels = labels.iloc[subsample_index]\n",
    "        break\n",
    "\n",
    "    print(downData.shape)\n",
    "    return downData"
   ]
  },
  {
   "cell_type": "code",
   "execution_count": null,
   "metadata": {},
   "outputs": [],
   "source": [
    "data_X1 = data_X.copy()\n",
    "data_X1['match'] = data_Y\n",
    "\n",
    "downData = downsample_data(data_X1)\n",
    "data_Y1 = downData['match']\n",
    "data_X1 = downData.drop(['match'], axis = 1)\n",
    "\n",
    "print(data_X1.shape)\n",
    "data_X1.head(10)"
   ]
  },
  {
   "cell_type": "code",
   "execution_count": null,
   "metadata": {},
   "outputs": [],
   "source": [
    "data_X2 = data_X.copy()\n",
    "data_X2['match'] = data_Y\n",
    "\n",
    "no_match = len(data_X2[data_X2['match'] == 0])\n",
    "no_match_indices = data_X2[data_X2.match == 0].index\n",
    "random_indices = np.random.choice(no_match_indices, no_match, replace = False)\n",
    "\n",
    "match_indices = data_X2[data_X2.match == 1].index\n",
    "under_sample_indices = np.concatenate([match_indices, random_indices])\n",
    "under_sample = data_X2.loc[under_sample_indices]\n",
    "\n",
    "under_X = under_sample.loc[:, under_sample.columns != 'match']\n",
    "under_Y = under_sample.loc[:, under_sample.columns == 'match']"
   ]
  },
  {
   "cell_type": "code",
   "execution_count": null,
   "metadata": {},
   "outputs": [],
   "source": [
    "print(under_X.shape)\n",
    "under_X.head(10)"
   ]
  },
  {
   "cell_type": "code",
   "execution_count": null,
   "metadata": {},
   "outputs": [],
   "source": [
    "sm = SMOTE(random_state = 12, ratio = 1.0)\n",
    "smote_X, smote_Y = sm.fit_sample(data_X, data_Y)"
   ]
  },
  {
   "cell_type": "code",
   "execution_count": null,
   "metadata": {},
   "outputs": [],
   "source": [
    "print(smote_X.shape)\n",
    "smote_X = DataFrame(smote_X)\n",
    "smote_X.head(10)"
   ]
  },
  {
   "cell_type": "code",
   "execution_count": null,
   "metadata": {},
   "outputs": [],
   "source": [
    "# Neural Networks: w/o PCA\n",
    "scaler = StandardScaler()\n",
    "clf = MLPClassifier()\n",
    "pipe = Pipeline(steps = [('scaler', scaler), ('clf', clf)])\n",
    "\n",
    "param_grid = {\n",
    "    'clf__hidden_layer_sizes': [(10,), (20,), (30,), (40,), (50,), (60,), (70,), (80,), (90,), (100,)],\n",
    "    'clf__activation': ['identity', 'logistic', 'tanh', 'relu']\n",
    "}\n",
    "\n",
    "#grid_search = GridSearchCV(pipe, param_grid, iid = False, cv = 3)\n",
    "grid_search = GridSearchCV(pipe, param_grid, iid = False, cv = 5)"
   ]
  },
  {
   "cell_type": "code",
   "execution_count": null,
   "metadata": {},
   "outputs": [],
   "source": [
    "# Neural Networks - Original\n",
    "grid_search.fit(data_X, data_Y)\n",
    "print(grid_search.best_params_)\n",
    "print(\"Accuracy:\", grid_search.best_score_ * 100)\n",
    "\n",
    "#nested_score = cross_val_score(grid_search, data_X, data_Y, cv = 5)\n",
    "#print(\"Accuracy:\", nested_score.mean() * 100)"
   ]
  },
  {
   "cell_type": "code",
   "execution_count": null,
   "metadata": {},
   "outputs": [],
   "source": [
    "# Neural Networks - Downsample\n",
    "grid_search.fit(data_X1, data_Y1)\n",
    "print(grid_search.best_params_)\n",
    "print(\"Accuracy:\", grid_search.best_score_ * 100)\n",
    "\n",
    "#nested_score = cross_val_score(grid_search, data_X, data_Y, cv = 5)\n",
    "#print(\"Accuracy:\", nested_score.mean() * 100)"
   ]
  },
  {
   "cell_type": "code",
   "execution_count": null,
   "metadata": {},
   "outputs": [],
   "source": [
    "# Neural Networks - Undersampling\n",
    "grid_search.fit(under_X, under_Y)\n",
    "print(grid_search.best_params_)\n",
    "print(\"Accuracy:\", grid_search.best_score_ * 100)\n",
    "\n",
    "#nested_score = cross_val_score(grid_search, under_X, under_Y, cv = 5)\n",
    "#print(\"Accuracy:\", nested_score.mean() * 100)"
   ]
  },
  {
   "cell_type": "code",
   "execution_count": null,
   "metadata": {},
   "outputs": [],
   "source": [
    "# Neural Networks - SMOTE\n",
    "grid_search.fit(smote_X, smote_Y)\n",
    "print(grid_search.best_params_)\n",
    "print(\"Accuracy:\", grid_search.best_score_ * 100)\n",
    "\n",
    "#nested_score = cross_val_score(grid_search, smote_X, smote_Y, cv = 5)\n",
    "#print(\"Accuracy:\", nested_score.mean() * 100)"
   ]
  },
  {
   "cell_type": "code",
   "execution_count": null,
   "metadata": {},
   "outputs": [],
   "source": [
    "# Neural Networks: w/o PCA param and var of 0.95\n",
    "scaler = StandardScaler()\n",
    "pca = PCA(0.95)\n",
    "clf = MLPClassifier()\n",
    "pipe = Pipeline(steps = [('scaler', scaler), ('pca', pca), ('clf', clf)])\n",
    "\n",
    "param_grid = {\n",
    "    'clf__hidden_layer_sizes': [(10,), (20,), (30,), (40,), (50,), (60,), (70,), (80,), (90,), (100,)],\n",
    "    'clf__activation': ['identity', 'logistic', 'tanh', 'relu']\n",
    "}\n",
    "\n",
    "#grid_search = GridSearchCV(pipe, param_grid, iid = False, cv = 3)\n",
    "grid_search = GridSearchCV(pipe, param_grid, iid = False, cv = 5)"
   ]
  },
  {
   "cell_type": "code",
   "execution_count": null,
   "metadata": {},
   "outputs": [],
   "source": [
    "# Neural Networks - Original\n",
    "grid_search.fit(data_X, data_Y)\n",
    "print(grid_search.best_params_)\n",
    "print(\"Accuracy:\", grid_search.best_score_ * 100)\n",
    "\n",
    "#nested_score = cross_val_score(grid_search, data_X, data_Y, cv = 5)\n",
    "#print(\"Accuracy:\", nested_score.mean() * 100)"
   ]
  },
  {
   "cell_type": "code",
   "execution_count": null,
   "metadata": {},
   "outputs": [],
   "source": [
    "# Neural Networks - Downsample\n",
    "grid_search.fit(data_X1, data_Y1)\n",
    "print(grid_search.best_params_)\n",
    "print(\"Accuracy:\", grid_search.best_score_ * 100)\n",
    "\n",
    "#nested_score = cross_val_score(grid_search, data_X, data_Y, cv = 5)\n",
    "#print(\"Accuracy:\", nested_score.mean() * 100)"
   ]
  },
  {
   "cell_type": "code",
   "execution_count": null,
   "metadata": {},
   "outputs": [],
   "source": [
    "# Neural Networks - Undersampling\n",
    "grid_search.fit(under_X, under_Y)\n",
    "print(grid_search.best_params_)\n",
    "print(\"Accuracy:\", grid_search.best_score_ * 100)\n",
    "\n",
    "#nested_score = cross_val_score(grid_search, under_X, under_Y, cv = 5)\n",
    "#print(\"Accuracy:\", nested_score.mean() * 100)"
   ]
  },
  {
   "cell_type": "code",
   "execution_count": null,
   "metadata": {},
   "outputs": [],
   "source": [
    "# Neural Networks - SMOTE\n",
    "grid_search.fit(smote_X, smote_Y)\n",
    "print(grid_search.best_params_)\n",
    "print(\"Accuracy:\", grid_search.best_score_ * 100)\n",
    "\n",
    "#nested_score = cross_val_score(grid_search, smote_X, smote_Y, cv = 5)\n",
    "#print(\"Accuracy:\", nested_score.mean() * 100)"
   ]
  },
  {
   "cell_type": "code",
   "execution_count": null,
   "metadata": {},
   "outputs": [],
   "source": [
    "# Neural Networks\n",
    "scaler = StandardScaler()\n",
    "pca = PCA()\n",
    "clf = MLPClassifier()\n",
    "pipe = Pipeline(steps = [('scaler', scaler), ('pca', pca), ('clf', clf)])\n",
    "\n",
    "param_grid = {\n",
    "    'pca__n_components': list(range(1, 63)),\n",
    "    'clf__hidden_layer_sizes': [(10,), (20,), (30,), (40,), (50,), (60,), (70,), (80,), (90,), (100,)],\n",
    "    'clf__activation': ['identity', 'logistic', 'tanh', 'relu']\n",
    "}\n",
    "\n",
    "#grid_search = GridSearchCV(pipe, param_grid, iid = False, cv = 3)\n",
    "grid_search = GridSearchCV(pipe, param_grid, iid = False, cv = 5)"
   ]
  },
  {
   "cell_type": "code",
   "execution_count": null,
   "metadata": {},
   "outputs": [],
   "source": [
    "# Neural Networks - Original\n",
    "grid_search.fit(data_X, data_Y)\n",
    "print(grid_search.best_params_)\n",
    "print(\"Accuracy:\", grid_search.best_score_ * 100)\n",
    "\n",
    "#nested_score = cross_val_score(grid_search, data_X, data_Y, cv = 5)\n",
    "#print(\"Accuracy:\", nested_score.mean() * 100)"
   ]
  },
  {
   "cell_type": "code",
   "execution_count": null,
   "metadata": {},
   "outputs": [],
   "source": [
    "# Neural Networks - Downsample\n",
    "grid_search.fit(data_X1, data_Y1)\n",
    "print(grid_search.best_params_)\n",
    "print(\"Accuracy:\", grid_search.best_score_ * 100)\n",
    "\n",
    "#nested_score = cross_val_score(grid_search, data_X, data_Y, cv = 5)\n",
    "#print(\"Accuracy:\", nested_score.mean() * 100)"
   ]
  },
  {
   "cell_type": "code",
   "execution_count": null,
   "metadata": {},
   "outputs": [],
   "source": [
    "# Neural Networks - Undersampling\n",
    "grid_search.fit(under_X, under_Y)\n",
    "print(grid_search.best_params_)\n",
    "print(\"Accuracy:\", grid_search.best_score_ * 100)\n",
    "\n",
    "#nested_score = cross_val_score(grid_search, under_X, under_Y, cv = 5)\n",
    "#print(\"Accuracy:\", nested_score.mean() * 100)"
   ]
  },
  {
   "cell_type": "code",
   "execution_count": null,
   "metadata": {},
   "outputs": [],
   "source": [
    "# Neural Networks - SMOTE\n",
    "grid_search.fit(smote_X, smote_Y)\n",
    "print(grid_search.best_params_)\n",
    "print(\"Accuracy:\", grid_search.best_score_ * 100)\n",
    "\n",
    "#nested_score = cross_val_score(grid_search, smote_X, smote_Y, cv = 5)\n",
    "#print(\"Accuracy:\", nested_score.mean() * 100)"
   ]
  }
 ],
 "metadata": {
  "kernelspec": {
   "display_name": "Python 3",
   "language": "python",
   "name": "python3"
  },
  "language_info": {
   "codemirror_mode": {
    "name": "ipython",
    "version": 3
   },
   "file_extension": ".py",
   "mimetype": "text/x-python",
   "name": "python",
   "nbconvert_exporter": "python",
   "pygments_lexer": "ipython3",
   "version": "3.7.1"
  }
 },
 "nbformat": 4,
 "nbformat_minor": 2
}
