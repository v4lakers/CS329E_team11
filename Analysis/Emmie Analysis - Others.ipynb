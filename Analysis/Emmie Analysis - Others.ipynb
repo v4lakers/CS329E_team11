{
 "cells": [
  {
   "cell_type": "code",
   "execution_count": null,
   "metadata": {},
   "outputs": [],
   "source": [
    "import warnings\n",
    "warnings.simplefilter(\"ignore\")\n",
    "import pandas as pd\n",
    "import numpy as np\n",
    "import sklearn as sk\n",
    "import matplotlib.pyplot as plt\n",
    "import time\n",
    "\n",
    "from pandas import DataFrame, Series\n",
    "from sklearn.model_selection import train_test_split\n",
    "from sklearn.model_selection import GridSearchCV\n",
    "from sklearn.model_selection import cross_val_score\n",
    "from sklearn.model_selection import cross_val_predict\n",
    "from sklearn.model_selection import cross_validate\n",
    "from sklearn.model_selection import StratifiedKFold\n",
    "from sklearn.decomposition import PCA\n",
    "from sklearn import tree\n",
    "from sklearn import metrics\n",
    "from sklearn.metrics import accuracy_score\n",
    "from sklearn.preprocessing import StandardScaler\n",
    "from sklearn.preprocessing import MinMaxScaler\n",
    "from sklearn.neighbors import KNeighborsClassifier\n",
    "from sklearn.naive_bayes import GaussianNB\n",
    "from sklearn.svm import SVC\n",
    "from sklearn.pipeline import Pipeline\n",
    "from sklearn.neural_network import MLPClassifier\n",
    "from sklearn.ensemble import RandomForestClassifier\n",
    "from sklearn.ensemble import AdaBoostClassifier\n",
    "from imblearn.over_sampling import SMOTE\n",
    "\n",
    "%matplotlib inline"
   ]
  },
  {
   "cell_type": "code",
   "execution_count": null,
   "metadata": {},
   "outputs": [],
   "source": [
    "data = pd.read_csv(\"../Data/Speed_Dating_Clean.csv\")\n",
    "print(data.shape)\n",
    "data.head(10)"
   ]
  },
  {
   "cell_type": "code",
   "execution_count": null,
   "metadata": {},
   "outputs": [],
   "source": [
    "data_Y = data['match']\n",
    "data_X = data.drop(['match', 'decision', 'decision_o', 'Unnamed: 0'], axis = 1)\n",
    "labels = data_Y\n",
    "print(data_X.shape)\n",
    "data_X.head(10)"
   ]
  },
  {
   "cell_type": "code",
   "execution_count": null,
   "metadata": {},
   "outputs": [],
   "source": [
    "def downsample_data(data):\n",
    "    downData = None\n",
    "    downLabels = None\n",
    "\n",
    "    kfold = StratifiedKFold(n_splits = 100, shuffle = True)\n",
    "    for throwAway_index, subsample_index in kfold.split(data, labels):\n",
    "        downData = data.iloc[subsample_index]\n",
    "        downLabels = labels.iloc[subsample_index]\n",
    "        break\n",
    "\n",
    "    print(downData.shape)\n",
    "    return downData"
   ]
  },
  {
   "cell_type": "code",
   "execution_count": null,
   "metadata": {},
   "outputs": [],
   "source": [
    "data_X1 = data_X.copy()\n",
    "data_X1['match'] = data_Y\n",
    "\n",
    "downData = downsample_data(data_X1)\n",
    "data_Y1 = downData['match']\n",
    "data_X1 = downData.drop(['match'], axis = 1)\n",
    "\n",
    "print(data_X1.shape)\n",
    "data_X1.head(10)"
   ]
  },
  {
   "cell_type": "code",
   "execution_count": null,
   "metadata": {},
   "outputs": [],
   "source": [
    "data_X2 = data_X.copy()\n",
    "data_X2['match'] = data_Y\n",
    "\n",
    "no_match = len(data_X2[data_X2['match'] == 0])\n",
    "no_match_indices = data_X2[data_X2.match == 0].index\n",
    "random_indices = np.random.choice(no_match_indices, no_match, replace = False)\n",
    "\n",
    "match_indices = data_X2[data_X2.match == 1].index\n",
    "under_sample_indices = np.concatenate([match_indices, random_indices])\n",
    "under_sample = data_X2.loc[under_sample_indices]\n",
    "\n",
    "under_X = under_sample.loc[:, under_sample.columns != 'match']\n",
    "under_Y = under_sample.loc[:, under_sample.columns == 'match']"
   ]
  },
  {
   "cell_type": "code",
   "execution_count": null,
   "metadata": {},
   "outputs": [],
   "source": [
    "print(under_X.shape)\n",
    "under_X.head(10)"
   ]
  },
  {
   "cell_type": "code",
   "execution_count": null,
   "metadata": {},
   "outputs": [],
   "source": [
    "sm = SMOTE(random_state = 12, ratio = 1.0)\n",
    "smote_X, smote_Y = sm.fit_sample(data_X, data_Y)"
   ]
  },
  {
   "cell_type": "code",
   "execution_count": null,
   "metadata": {},
   "outputs": [],
   "source": [
    "print(smote_X.shape)\n",
    "smote_X = DataFrame(smote_X)\n",
    "smote_X.head(10)"
   ]
  },
  {
   "cell_type": "markdown",
   "metadata": {},
   "source": [
    "# Decision Trees"
   ]
  },
  {
   "cell_type": "code",
   "execution_count": null,
   "metadata": {
    "scrolled": true
   },
   "outputs": [],
   "source": [
    "# Decision Trees\n",
    "scaler = StandardScaler()\n",
    "pca = PCA(0.95)\n",
    "clf = tree.DecisionTreeClassifier()\n",
    "pipe = Pipeline(steps = [('scaler', scaler), ('pca', pca), ('clf', clf)])\n",
    "\n",
    "param_grid = {\n",
    "    'clf__criterion': ['gini', 'entropy'],\n",
    "    'clf__max_depth': list(range(5, 60)),\n",
    "    'clf__max_features': ['sqrt', 'log2'],\n",
    "    'clf__min_samples_leaf': list(range(5, 60, 5))\n",
    "}\n",
    "\n",
    "#grid_search = GridSearchCV(pipe, param_grid, iid = False, cv = 3)\n",
    "grid_search = GridSearchCV(pipe, param_grid, iid = False, cv = 5)"
   ]
  },
  {
   "cell_type": "code",
   "execution_count": null,
   "metadata": {},
   "outputs": [],
   "source": [
    "# Decision Trees - Original\n",
    "grid_search.fit(data_X, data_Y)\n",
    "print(grid_search.best_params_)\n",
    "print(\"Accuracy:\", grid_search.best_score_ * 100)\n",
    "\n",
    "#nested_score = cross_val_score(grid_search, data_X, data_Y, cv = 5)\n",
    "#print(\"Accuracy:\", nested_score.mean() * 100)"
   ]
  },
  {
   "cell_type": "code",
   "execution_count": null,
   "metadata": {},
   "outputs": [],
   "source": [
    "# Decision Trees - Downsample\n",
    "grid_search.fit(data_X1, data_Y1)\n",
    "print(grid_search.best_params_)\n",
    "print(\"Accuracy:\", grid_search.best_score_ * 100)\n",
    "\n",
    "#nested_score = cross_val_score(grid_search, data_X, data_Y, cv = 5)\n",
    "#print(\"Accuracy:\", nested_score.mean() * 100)"
   ]
  },
  {
   "cell_type": "code",
   "execution_count": null,
   "metadata": {},
   "outputs": [],
   "source": [
    "# Decision Trees - Undersampling\n",
    "grid_search.fit(under_X, under_Y)\n",
    "print(grid_search.best_params_)\n",
    "print(\"Accuracy:\", grid_search.best_score_ * 100)\n",
    "\n",
    "#nested_score = cross_val_score(grid_search, under_X, under_Y, cv = 5)\n",
    "#print(\"Accuracy:\", nested_score.mean() * 100)"
   ]
  },
  {
   "cell_type": "code",
   "execution_count": null,
   "metadata": {},
   "outputs": [],
   "source": [
    "# Decision Trees - SMOTE\n",
    "grid_search.fit(smote_X, smote_Y)\n",
    "print(grid_search.best_params_)\n",
    "print(\"Accuracy:\", grid_search.best_score_ * 100)\n",
    "\n",
    "#nested_score = cross_val_score(grid_search, smote_X, smote_Y, cv = 5)\n",
    "#print(\"Accuracy:\", nested_score.mean() * 100)"
   ]
  },
  {
   "cell_type": "code",
   "execution_count": null,
   "metadata": {},
   "outputs": [],
   "source": [
    "# Decision Trees\n",
    "scaler = StandardScaler()\n",
    "pca = PCA()\n",
    "clf = tree.DecisionTreeClassifier()\n",
    "pipe = Pipeline(steps = [('scaler', scaler), ('pca', pca), ('clf', clf)])\n",
    "\n",
    "param_grid = {\n",
    "    'pca__n_components': list(range(1, 63)),\n",
    "    'clf__criterion': ['gini', 'entropy'],\n",
    "    'clf__max_depth': list(range(5, 60)),\n",
    "    'clf__max_features': ['sqrt', 'log2'],\n",
    "    'clf__min_samples_leaf': list(range(5, 60, 5))\n",
    "}\n",
    "\n",
    "#grid_search = GridSearchCV(pipe, param_grid, iid = False, cv = 3)\n",
    "grid_search = GridSearchCV(pipe, param_grid, iid = False, cv = 5)"
   ]
  },
  {
   "cell_type": "code",
   "execution_count": null,
   "metadata": {},
   "outputs": [],
   "source": [
    "# Decision Trees - Original\n",
    "grid_search.fit(data_X, data_Y)\n",
    "print(grid_search.best_params_)\n",
    "print(\"Accuracy:\", grid_search.best_score_ * 100)\n",
    "\n",
    "#nested_score = cross_val_score(grid_search, data_X, data_Y, cv = 5)\n",
    "#print(\"Accuracy:\", nested_score.mean() * 100)"
   ]
  },
  {
   "cell_type": "code",
   "execution_count": null,
   "metadata": {},
   "outputs": [],
   "source": [
    "# Decision Trees - Downsample\n",
    "grid_search.fit(data_X1, data_Y1)\n",
    "print(grid_search.best_params_)\n",
    "print(\"Accuracy:\", grid_search.best_score_ * 100)\n",
    "\n",
    "#nested_score = cross_val_score(grid_search, data_X, data_Y, cv = 5)\n",
    "#print(\"Accuracy:\", nested_score.mean() * 100)"
   ]
  },
  {
   "cell_type": "code",
   "execution_count": null,
   "metadata": {},
   "outputs": [],
   "source": [
    "# Decision Trees - Undersampling\n",
    "grid_search.fit(under_X, under_Y)\n",
    "print(grid_search.best_params_)\n",
    "print(\"Accuracy:\", grid_search.best_score_ * 100)\n",
    "\n",
    "#nested_score = cross_val_score(grid_search, under_X, under_Y, cv = 5)\n",
    "#print(\"Accuracy:\", nested_score.mean() * 100)"
   ]
  },
  {
   "cell_type": "code",
   "execution_count": null,
   "metadata": {},
   "outputs": [],
   "source": [
    "# Decision Trees - SMOTE\n",
    "grid_search.fit(smote_X, smote_Y)\n",
    "print(grid_search.best_params_)\n",
    "print(\"Accuracy:\", grid_search.best_score_ * 100)\n",
    "\n",
    "#nested_score = cross_val_score(grid_search, smote_X, smote_Y, cv = 5)\n",
    "#print(\"Accuracy:\", nested_score.mean() * 100)"
   ]
  },
  {
   "cell_type": "markdown",
   "metadata": {},
   "source": [
    "# Naive Bayes"
   ]
  },
  {
   "cell_type": "code",
   "execution_count": null,
   "metadata": {},
   "outputs": [],
   "source": [
    "# Naive Bayes - Original\n",
    "clf = GaussianNB()\n",
    "scores = cross_val_score(clf, data_X, data_Y, cv = 10)\n",
    "print(\"Accuracy:\", scores.mean() * 100)\n",
    "\n",
    "\n",
    "pred_Y = cross_val_predict(clf, data_X, data_Y, cv = 10)\n",
    "print(metrics.confusion_matrix(data_Y, pred_Y))\n",
    "\n",
    "print('\\n', metrics.classification_report(data_Y, pred_Y))\n",
    "\n",
    "\n",
    "train_X, test_X, train_Y, test_Y = train_test_split(data_X, data_Y, test_size = 0.20)\n",
    "\n",
    "clf.fit(train_X, train_Y)\n",
    "\n",
    "preds = clf.predict_proba(test_X)\n",
    "\n",
    "fpr, tpr, thresholds = metrics.roc_curve(test_Y, preds[:, 1], pos_label = 1)\n",
    "\n",
    "print(metrics.roc_auc_score(test_Y, preds[:, 1]))\n",
    "\n",
    "# Do not change this code! This plots the ROC curve.\n",
    "# Just replace the fpr and tpr above with the values from your roc_curve\n",
    "plt.plot([0,1],[0,1],'k--') #plot the diagonal line\n",
    "plt.plot(fpr, tpr, label='NB') #plot the ROC curve\n",
    "plt.xlabel('fpr')\n",
    "plt.ylabel('tpr')\n",
    "plt.title('ROC Curve Naive Bayes')\n",
    "plt.show()"
   ]
  },
  {
   "cell_type": "code",
   "execution_count": null,
   "metadata": {},
   "outputs": [],
   "source": [
    "# Naive Bayes - Downsample\n",
    "clf = GaussianNB()\n",
    "scores = cross_val_score(clf, data_X1, data_Y1, cv = 10)\n",
    "print(\"Accuracy:\", scores.mean() * 100)\n",
    "\n",
    "\n",
    "pred_Y = cross_val_predict(clf, data_X1, data_Y1, cv = 10)\n",
    "print(metrics.confusion_matrix(data_Y1, pred_Y))\n",
    "\n",
    "print('\\n', metrics.classification_report(data_Y1, pred_Y))\n",
    "\n",
    "\n",
    "train_X, test_X, train_Y, test_Y = train_test_split(data_X1, data_Y1, test_size = 0.20)\n",
    "\n",
    "clf.fit(train_X, train_Y)\n",
    "\n",
    "preds = clf.predict_proba(test_X)\n",
    "\n",
    "fpr, tpr, thresholds = metrics.roc_curve(test_Y, preds[:, 1], pos_label = 1)\n",
    "\n",
    "print(metrics.roc_auc_score(test_Y, preds[:, 1]))\n",
    "\n",
    "# Do not change this code! This plots the ROC curve.\n",
    "# Just replace the fpr and tpr above with the values from your roc_curve\n",
    "plt.plot([0,1],[0,1],'k--') #plot the diagonal line\n",
    "plt.plot(fpr, tpr, label='NB') #plot the ROC curve\n",
    "plt.xlabel('fpr')\n",
    "plt.ylabel('tpr')\n",
    "plt.title('ROC Curve Naive Bayes')\n",
    "plt.show()"
   ]
  },
  {
   "cell_type": "code",
   "execution_count": null,
   "metadata": {},
   "outputs": [],
   "source": [
    "# Naive Bayes - Undersampling\n",
    "clf = GaussianNB()\n",
    "scores = cross_val_score(clf, under_X, under_Y, cv = 10)\n",
    "print(\"Accuracy:\", scores.mean() * 100)\n",
    "\n",
    "\n",
    "pred_Y = cross_val_predict(clf, under_X, under_Y, cv = 10)\n",
    "print(metrics.confusion_matrix(under_Y, pred_Y))\n",
    "\n",
    "print('\\n', metrics.classification_report(under_Y, pred_Y))\n",
    "\n",
    "\n",
    "train_X, test_X, train_Y, test_Y = train_test_split(under_X, under_Y, test_size = 0.20)\n",
    "\n",
    "clf.fit(train_X, train_Y)\n",
    "\n",
    "preds = clf.predict_proba(test_X)\n",
    "\n",
    "fpr, tpr, thresholds = metrics.roc_curve(test_Y, preds[:, 1], pos_label = 1)\n",
    "\n",
    "print(metrics.roc_auc_score(test_Y, preds[:, 1]))\n",
    "\n",
    "# Do not change this code! This plots the ROC curve.\n",
    "# Just replace the fpr and tpr above with the values from your roc_curve\n",
    "plt.plot([0,1],[0,1],'k--') #plot the diagonal line\n",
    "plt.plot(fpr, tpr, label='NB') #plot the ROC curve\n",
    "plt.xlabel('fpr')\n",
    "plt.ylabel('tpr')\n",
    "plt.title('ROC Curve Naive Bayes')\n",
    "plt.show()"
   ]
  },
  {
   "cell_type": "code",
   "execution_count": null,
   "metadata": {},
   "outputs": [],
   "source": [
    "# Naive Bayes - SMOTE\n",
    "clf = GaussianNB()\n",
    "scores = cross_val_score(clf, smote_X, smote_Y, cv = 10)\n",
    "print(\"Accuracy:\", scores.mean() * 100)\n",
    "\n",
    "\n",
    "pred_Y = cross_val_predict(clf, smote_X, smote_Y, cv = 10)\n",
    "print(metrics.confusion_matrix(smote_Y, pred_Y))\n",
    "\n",
    "print('\\n', metrics.classification_report(smote_Y, pred_Y))\n",
    "\n",
    "\n",
    "train_X, test_X, train_Y, test_Y = train_test_split(smote_X, smote_Y, test_size = 0.20)\n",
    "\n",
    "clf.fit(train_X, train_Y)\n",
    "\n",
    "preds = clf.predict_proba(test_X)\n",
    "\n",
    "fpr, tpr, thresholds = metrics.roc_curve(test_Y, preds[:, 1], pos_label = 1)\n",
    "\n",
    "print(metrics.roc_auc_score(test_Y, preds[:, 1]))\n",
    "\n",
    "# Do not change this code! This plots the ROC curve.\n",
    "# Just replace the fpr and tpr above with the values from your roc_curve\n",
    "plt.plot([0,1],[0,1],'k--') #plot the diagonal line\n",
    "plt.plot(fpr, tpr, label='NB') #plot the ROC curve\n",
    "plt.xlabel('fpr')\n",
    "plt.ylabel('tpr')\n",
    "plt.title('ROC Curve Naive Bayes')\n",
    "plt.show()"
   ]
  },
  {
   "cell_type": "markdown",
   "metadata": {},
   "source": [
    "# K Nearest Neighbors"
   ]
  },
  {
   "cell_type": "code",
   "execution_count": null,
   "metadata": {},
   "outputs": [],
   "source": [
    "# K Nearest Neighbors\n",
    "scaler = MinMaxScaler()\n",
    "pca = PCA(0.95)\n",
    "knn = KNeighborsClassifier()\n",
    "pipe = Pipeline(steps = [('scaler', scaler), ('pca', pca), ('knn', knn)])\n",
    "\n",
    "param_grid = {\n",
    "    'knn__n_neighbors': list(range(1, 50))\n",
    "}\n",
    "\n",
    "#grid_search = GridSearchCV(pipe, param_grid, iid = False, cv = 3)\n",
    "grid_search = GridSearchCV(pipe, param_grid, iid = False, cv = 5)"
   ]
  },
  {
   "cell_type": "code",
   "execution_count": null,
   "metadata": {},
   "outputs": [],
   "source": [
    "# K Nearest Neighbors - Original\n",
    "grid_search.fit(data_X, data_Y)\n",
    "print(grid_search.best_params_)\n",
    "print(\"Accuracy:\", grid_search.best_score_ * 100)\n",
    "\n",
    "#nested_score = cross_val_score(grid_search, data_X, data_Y, cv = 5)\n",
    "#print(\"Accuracy:\", nested_score.mean() * 100)"
   ]
  },
  {
   "cell_type": "code",
   "execution_count": null,
   "metadata": {},
   "outputs": [],
   "source": [
    "# K Nearest Neighbors - Downsample\n",
    "grid_search.fit(data_X1, data_Y1)\n",
    "print(grid_search.best_params_)\n",
    "print(\"Accuracy:\", grid_search.best_score_ * 100)\n",
    "\n",
    "#nested_score = cross_val_score(grid_search, data_X, data_Y, cv = 5)\n",
    "#print(\"Accuracy:\", nested_score.mean() * 100)"
   ]
  },
  {
   "cell_type": "code",
   "execution_count": null,
   "metadata": {},
   "outputs": [],
   "source": [
    "# K Nearest Neighbors - Undersampling\n",
    "grid_search.fit(under_X, under_Y)\n",
    "print(grid_search.best_params_)\n",
    "print(\"Accuracy:\", grid_search.best_score_ * 100)\n",
    "\n",
    "#nested_score = cross_val_score(grid_search, under_X, under_Y, cv = 5)\n",
    "#print(\"Accuracy:\", nested_score.mean() * 100)"
   ]
  },
  {
   "cell_type": "code",
   "execution_count": null,
   "metadata": {},
   "outputs": [],
   "source": [
    "# K Nearest Neighbors - SMOTE\n",
    "grid_search.fit(smote_X, smote_Y)\n",
    "print(grid_search.best_params_)\n",
    "print(\"Accuracy:\", grid_search.best_score_ * 100)\n",
    "\n",
    "#nested_score = cross_val_score(grid_search, smote_X, smote_Y, cv = 5)\n",
    "#print(\"Accuracy:\", nested_score.mean() * 100)"
   ]
  },
  {
   "cell_type": "code",
   "execution_count": null,
   "metadata": {},
   "outputs": [],
   "source": [
    "# K Nearest Neighbors\n",
    "scaler = MinMaxScaler()\n",
    "pca = PCA()\n",
    "knn = KNeighborsClassifier()\n",
    "pipe = Pipeline(steps = [('scaler', scaler), ('pca', pca), ('knn', knn)])\n",
    "\n",
    "param_grid = {\n",
    "    'pca__n_components': list(range(1, 63)),\n",
    "    'knn__n_neighbors': list(range(1, 50))\n",
    "}\n",
    "\n",
    "#grid_search = GridSearchCV(pipe, param_grid, iid = False, cv = 3)\n",
    "grid_search = GridSearchCV(pipe, param_grid, iid = False, cv = 5)"
   ]
  },
  {
   "cell_type": "code",
   "execution_count": null,
   "metadata": {},
   "outputs": [],
   "source": [
    "# K Nearest Neighbors - Original\n",
    "grid_search.fit(data_X, data_Y)\n",
    "print(grid_search.best_params_)\n",
    "print(\"Accuracy:\", grid_search.best_score_ * 100)\n",
    "\n",
    "#nested_score = cross_val_score(grid_search, data_X, data_Y, cv = 5)\n",
    "#print(\"Accuracy:\", nested_score.mean() * 100)"
   ]
  },
  {
   "cell_type": "code",
   "execution_count": null,
   "metadata": {},
   "outputs": [],
   "source": [
    "# K Nearest Neighbors - Downsample\n",
    "grid_search.fit(data_X1, data_Y1)\n",
    "print(grid_search.best_params_)\n",
    "print(\"Accuracy:\", grid_search.best_score_ * 100)\n",
    "\n",
    "#nested_score = cross_val_score(grid_search, data_X, data_Y, cv = 5)\n",
    "#print(\"Accuracy:\", nested_score.mean() * 100)"
   ]
  },
  {
   "cell_type": "code",
   "execution_count": null,
   "metadata": {},
   "outputs": [],
   "source": [
    "# K Nearest Neighbors - Undersampling\n",
    "grid_search.fit(under_X, under_Y)\n",
    "print(grid_search.best_params_)\n",
    "print(\"Accuracy:\", grid_search.best_score_ * 100)\n",
    "\n",
    "#nested_score = cross_val_score(grid_search, under_X, under_Y, cv = 5)\n",
    "#print(\"Accuracy:\", nested_score.mean() * 100)"
   ]
  },
  {
   "cell_type": "code",
   "execution_count": null,
   "metadata": {},
   "outputs": [],
   "source": [
    "# K Nearest Neighbors - SMOTE\n",
    "grid_search.fit(smote_X, smote_Y)\n",
    "print(grid_search.best_params_)\n",
    "print(\"Accuracy:\", grid_search.best_score_ * 100)\n",
    "\n",
    "#nested_score = cross_val_score(grid_search, smote_X, smote_Y, cv = 5)\n",
    "#print(\"Accuracy:\", nested_score.mean() * 100)"
   ]
  },
  {
   "cell_type": "markdown",
   "metadata": {},
   "source": [
    "# SVM"
   ]
  },
  {
   "cell_type": "code",
   "execution_count": null,
   "metadata": {},
   "outputs": [],
   "source": [
    "# SVM\n",
    "scaler = StandardScaler()\n",
    "clf = SVC()\n",
    "pipe = Pipeline(steps = [('scaler', scaler), ('clf', clf)])\n",
    "\n",
    "param_grid = {\n",
    "    'clf__kernel': ['linear', 'rbf', 'poly', 'sigmoid'],\n",
    "    'clf__C': list(range(10, 200, 10))\n",
    "}\n",
    "\n",
    "#grid_search = GridSearchCV(pipe, param_grid, iid = False, cv = 3)\n",
    "grid_search = GridSearchCV(pipe, param_grid, iid = False, cv = 5)"
   ]
  },
  {
   "cell_type": "code",
   "execution_count": null,
   "metadata": {},
   "outputs": [],
   "source": [
    "# SVM - Original\n",
    "grid_search.fit(data_X, data_Y)\n",
    "print(grid_search.best_params_)\n",
    "print(\"Accuracy:\", grid_search.best_score_ * 100)\n",
    "\n",
    "#nested_score = cross_val_score(grid_search, data_X, data_Y, cv = 5)\n",
    "#print(\"Accuracy:\", nested_score.mean() * 100)"
   ]
  },
  {
   "cell_type": "code",
   "execution_count": null,
   "metadata": {},
   "outputs": [],
   "source": [
    "# SVM - Downsample\n",
    "grid_search.fit(data_X1, data_Y1)\n",
    "print(grid_search.best_params_)\n",
    "print(\"Accuracy:\", grid_search.best_score_ * 100)\n",
    "\n",
    "#nested_score = cross_val_score(grid_search, data_X, data_Y, cv = 5)\n",
    "#print(\"Accuracy:\", nested_score.mean() * 100)"
   ]
  },
  {
   "cell_type": "code",
   "execution_count": null,
   "metadata": {},
   "outputs": [],
   "source": [
    "# SVM - Undersampling\n",
    "grid_search.fit(under_X, under_Y)\n",
    "print(grid_search.best_params_)\n",
    "print(\"Accuracy:\", grid_search.best_score_ * 100)\n",
    "\n",
    "#nested_score = cross_val_score(grid_search, under_X, under_Y, cv = 5)\n",
    "#print(\"Accuracy:\", nested_score.mean() * 100)"
   ]
  },
  {
   "cell_type": "code",
   "execution_count": null,
   "metadata": {},
   "outputs": [],
   "source": [
    "# SVM - SMOTE\n",
    "grid_search.fit(smote_X, smote_Y)\n",
    "print(grid_search.best_params_)\n",
    "print(\"Accuracy:\", grid_search.best_score_ * 100)\n",
    "\n",
    "#nested_score = cross_val_score(grid_search, smote_X, smote_Y, cv = 5)\n",
    "#print(\"Accuracy:\", nested_score.mean() * 100)"
   ]
  },
  {
   "cell_type": "markdown",
   "metadata": {},
   "source": [
    "# Ensembles"
   ]
  },
  {
   "cell_type": "code",
   "execution_count": null,
   "metadata": {},
   "outputs": [],
   "source": [
    "# Ensembles - Random Forests\n",
    "scaler = StandardScaler()\n",
    "pca = PCA(0.95)\n",
    "clf = RandomForestClassifier()\n",
    "pipe = Pipeline(steps = [('scaler', scaler), ('pca', pca), ('clf', clf)])\n",
    "\n",
    "param_grid = {\n",
    "    'clf__criterion': ['gini', 'entropy'],\n",
    "    'clf__max_depth': list(range(5, 60)),\n",
    "    'clf__max_features': ['sqrt', 'log2'],\n",
    "    'clf__min_samples_leaf': list(range(5, 60, 5))\n",
    "}\n",
    "\n",
    "#grid_search = GridSearchCV(pipe, param_grid, iid = False, cv = 3)\n",
    "grid_search = GridSearchCV(pipe, param_grid, iid = False, cv = 5)"
   ]
  },
  {
   "cell_type": "code",
   "execution_count": null,
   "metadata": {},
   "outputs": [],
   "source": [
    "# Ensembles - Random Forests - Original\n",
    "grid_search.fit(data_X, data_Y)\n",
    "print(grid_search.best_params_)\n",
    "print(\"Accuracy:\", grid_search.best_score_ * 100)\n",
    "\n",
    "#nested_score = cross_val_score(grid_search, data_X, data_Y, cv = 5)\n",
    "#print(\"Accuracy:\", nested_score.mean() * 100)"
   ]
  },
  {
   "cell_type": "code",
   "execution_count": null,
   "metadata": {},
   "outputs": [],
   "source": [
    "# Ensembles - Random Forests - Downsample\n",
    "grid_search.fit(data_X1, data_Y1)\n",
    "print(grid_search.best_params_)\n",
    "print(\"Accuracy:\", grid_search.best_score_ * 100)\n",
    "\n",
    "#nested_score = cross_val_score(grid_search, data_X, data_Y, cv = 5)\n",
    "#print(\"Accuracy:\", nested_score.mean() * 100)"
   ]
  },
  {
   "cell_type": "code",
   "execution_count": null,
   "metadata": {},
   "outputs": [],
   "source": [
    "# Ensembles - Random Forests - Undersampling\n",
    "grid_search.fit(under_X, under_Y)\n",
    "print(grid_search.best_params_)\n",
    "print(\"Accuracy:\", grid_search.best_score_ * 100)\n",
    "\n",
    "#nested_score = cross_val_score(grid_search, under_X, under_Y, cv = 5)\n",
    "#print(\"Accuracy:\", nested_score.mean() * 100)"
   ]
  },
  {
   "cell_type": "code",
   "execution_count": null,
   "metadata": {},
   "outputs": [],
   "source": [
    "# Ensembles - Random Forests - SMOTE\n",
    "grid_search.fit(smote_X, smote_Y)\n",
    "print(grid_search.best_params_)\n",
    "print(\"Accuracy:\", grid_search.best_score_ * 100)\n",
    "\n",
    "#nested_score = cross_val_score(grid_search, smote_X, smote_Y, cv = 5)\n",
    "#print(\"Accuracy:\", nested_score.mean() * 100)"
   ]
  },
  {
   "cell_type": "code",
   "execution_count": null,
   "metadata": {},
   "outputs": [],
   "source": [
    "# Ensembles - Random Forests\n",
    "scaler = StandardScaler()\n",
    "pca = PCA()\n",
    "clf = RandomForestClassifier()\n",
    "pipe = Pipeline(steps = [('scaler', scaler), ('pca', pca), ('clf', clf)])\n",
    "\n",
    "param_grid = {\n",
    "    'pca__n_components': list(range(1, 63)),\n",
    "    'clf__criterion': ['gini', 'entropy'],\n",
    "    'clf__max_depth': list(range(5, 60)),\n",
    "    'clf__max_features': ['sqrt', 'log2'],\n",
    "    'clf__min_samples_leaf': list(range(5, 60, 5))\n",
    "}\n",
    "\n",
    "#grid_search = GridSearchCV(pipe, param_grid, iid = False, cv = 3)\n",
    "grid_search = GridSearchCV(pipe, param_grid, iid = False, cv = 5)"
   ]
  },
  {
   "cell_type": "code",
   "execution_count": null,
   "metadata": {},
   "outputs": [],
   "source": [
    "# Ensembles - Random Forests - Original\n",
    "grid_search.fit(data_X, data_Y)\n",
    "print(grid_search.best_params_)\n",
    "print(\"Accuracy:\", grid_search.best_score_ * 100)\n",
    "\n",
    "#nested_score = cross_val_score(grid_search, data_X, data_Y, cv = 5)\n",
    "#print(\"Accuracy:\", nested_score.mean() * 100)"
   ]
  },
  {
   "cell_type": "code",
   "execution_count": null,
   "metadata": {},
   "outputs": [],
   "source": [
    "# Ensembles - Random Forests - Downsample\n",
    "grid_search.fit(data_X1, data_Y1)\n",
    "print(grid_search.best_params_)\n",
    "print(\"Accuracy:\", grid_search.best_score_ * 100)\n",
    "\n",
    "#nested_score = cross_val_score(grid_search, data_X, data_Y, cv = 5)\n",
    "#print(\"Accuracy:\", nested_score.mean() * 100)"
   ]
  },
  {
   "cell_type": "code",
   "execution_count": null,
   "metadata": {},
   "outputs": [],
   "source": [
    "# Ensembles - Random Forests - Undersampling\n",
    "grid_search.fit(under_X, under_Y)\n",
    "print(grid_search.best_params_)\n",
    "print(\"Accuracy:\", grid_search.best_score_ * 100)\n",
    "\n",
    "#nested_score = cross_val_score(grid_search, under_X, under_Y, cv = 5)\n",
    "#print(\"Accuracy:\", nested_score.mean() * 100)"
   ]
  },
  {
   "cell_type": "code",
   "execution_count": null,
   "metadata": {},
   "outputs": [],
   "source": [
    "# Ensembles - Random Forests - SMOTE\n",
    "grid_search.fit(smote_X, smote_Y)\n",
    "print(grid_search.best_params_)\n",
    "print(\"Accuracy:\", grid_search.best_score_ * 100)\n",
    "\n",
    "#nested_score = cross_val_score(grid_search, smote_X, smote_Y, cv = 5)\n",
    "#print(\"Accuracy:\", nested_score.mean() * 100)"
   ]
  },
  {
   "cell_type": "code",
   "execution_count": null,
   "metadata": {},
   "outputs": [],
   "source": [
    "# Ensembles - AdaBoost\n",
    "scaler = StandardScaler()\n",
    "pca = PCA(0.95)\n",
    "clf = AdaBoostClassifier()\n",
    "pipe = Pipeline(steps = [('scaler', scaler), ('pca', pca), ('clf', clf)])\n",
    "\n",
    "param_grid = {\n",
    "    'clf__n_estimators': list(range(50, 500, 25))\n",
    "}\n",
    "\n",
    "#grid_search = GridSearchCV(pipe, param_grid, iid = False, cv = 3)\n",
    "grid_search = GridSearchCV(pipe, param_grid, iid = False, cv = 5)"
   ]
  },
  {
   "cell_type": "code",
   "execution_count": null,
   "metadata": {},
   "outputs": [],
   "source": [
    "# Ensembles - AdaBoost - Original\n",
    "grid_search.fit(data_X, data_Y)\n",
    "print(grid_search.best_params_)\n",
    "print(\"Accuracy:\", grid_search.best_score_ * 100)\n",
    "\n",
    "#nested_score = cross_val_score(grid_search, data_X, data_Y, cv = 5)\n",
    "#print(\"Accuracy:\", nested_score.mean() * 100)"
   ]
  },
  {
   "cell_type": "code",
   "execution_count": null,
   "metadata": {},
   "outputs": [],
   "source": [
    "# Ensembles - AdaBoost - Downsample\n",
    "grid_search.fit(data_X1, data_Y1)\n",
    "print(grid_search.best_params_)\n",
    "print(\"Accuracy:\", grid_search.best_score_ * 100)\n",
    "\n",
    "#nested_score = cross_val_score(grid_search, data_X, data_Y, cv = 5)\n",
    "#print(\"Accuracy:\", nested_score.mean() * 100)"
   ]
  },
  {
   "cell_type": "code",
   "execution_count": null,
   "metadata": {},
   "outputs": [],
   "source": [
    "# Ensembles - AdaBoost - Undersampling\n",
    "grid_search.fit(under_X, under_Y)\n",
    "print(grid_search.best_params_)\n",
    "print(\"Accuracy:\", grid_search.best_score_ * 100)\n",
    "\n",
    "#nested_score = cross_val_score(grid_search, under_X, under_Y, cv = 5)\n",
    "#print(\"Accuracy:\", nested_score.mean() * 100)"
   ]
  },
  {
   "cell_type": "code",
   "execution_count": null,
   "metadata": {},
   "outputs": [],
   "source": [
    "# Ensembles - AdaBoost - SMOTE\n",
    "grid_search.fit(smote_X, smote_Y)\n",
    "print(grid_search.best_params_)\n",
    "print(\"Accuracy:\", grid_search.best_score_ * 100)\n",
    "\n",
    "#nested_score = cross_val_score(grid_search, smote_X, smote_Y, cv = 5)\n",
    "#print(\"Accuracy:\", nested_score.mean() * 100)"
   ]
  },
  {
   "cell_type": "code",
   "execution_count": null,
   "metadata": {},
   "outputs": [],
   "source": [
    "# Ensembles - AdaBoost\n",
    "scaler = StandardScaler()\n",
    "pca = PCA()\n",
    "clf = AdaBoostClassifier()\n",
    "pipe = Pipeline(steps = [('scaler', scaler), ('pca', pca), ('clf', clf)])\n",
    "\n",
    "param_grid = {\n",
    "    'pca__n_components': list(range(1, 63)),\n",
    "    'clf__n_estimators': list(range(50, 500, 25))\n",
    "}\n",
    "\n",
    "#grid_search = GridSearchCV(pipe, param_grid, iid = False, cv = 3)\n",
    "grid_search = GridSearchCV(pipe, param_grid, iid = False, cv = 5)"
   ]
  },
  {
   "cell_type": "code",
   "execution_count": null,
   "metadata": {},
   "outputs": [],
   "source": [
    "# Ensembles - AdaBoost - Original\n",
    "grid_search.fit(data_X, data_Y)\n",
    "print(grid_search.best_params_)\n",
    "print(\"Accuracy:\", grid_search.best_score_ * 100)\n",
    "\n",
    "#nested_score = cross_val_score(grid_search, data_X, data_Y, cv = 5)\n",
    "#print(\"Accuracy:\", nested_score.mean() * 100)"
   ]
  },
  {
   "cell_type": "code",
   "execution_count": null,
   "metadata": {},
   "outputs": [],
   "source": [
    "# Ensembles - AdaBoost - Downsample\n",
    "grid_search.fit(data_X1, data_Y1)\n",
    "print(grid_search.best_params_)\n",
    "print(\"Accuracy:\", grid_search.best_score_ * 100)\n",
    "\n",
    "#nested_score = cross_val_score(grid_search, data_X, data_Y, cv = 5)\n",
    "#print(\"Accuracy:\", nested_score.mean() * 100)"
   ]
  },
  {
   "cell_type": "code",
   "execution_count": null,
   "metadata": {},
   "outputs": [],
   "source": [
    "# Ensembles - AdaBoost - Undersampling\n",
    "grid_search.fit(under_X, under_Y)\n",
    "print(grid_search.best_params_)\n",
    "print(\"Accuracy:\", grid_search.best_score_ * 100)\n",
    "\n",
    "#nested_score = cross_val_score(grid_search, under_X, under_Y, cv = 5)\n",
    "#print(\"Accuracy:\", nested_score.mean() * 100)"
   ]
  },
  {
   "cell_type": "code",
   "execution_count": null,
   "metadata": {},
   "outputs": [],
   "source": [
    "# Ensembles - AdaBoost - SMOTE\n",
    "grid_search.fit(smote_X, smote_Y)\n",
    "print(grid_search.best_params_)\n",
    "print(\"Accuracy:\", grid_search.best_score_ * 100)\n",
    "\n",
    "#nested_score = cross_val_score(grid_search, smote_X, smote_Y, cv = 5)\n",
    "#print(\"Accuracy:\", nested_score.mean() * 100)"
   ]
  },
  {
   "cell_type": "markdown",
   "metadata": {},
   "source": [
    "# Unsupervised Learning"
   ]
  },
  {
   "cell_type": "code",
   "execution_count": null,
   "metadata": {},
   "outputs": [],
   "source": [
    "# Unsupervised Learning (Optional to compare)\n",
    "# Clustering with DBSCAN, Clustering with K-means\n",
    "# Hierarchical Clustering, Anomaly Detection"
   ]
  }
 ],
 "metadata": {
  "kernelspec": {
   "display_name": "Python 3",
   "language": "python",
   "name": "python3"
  },
  "language_info": {
   "codemirror_mode": {
    "name": "ipython",
    "version": 3
   },
   "file_extension": ".py",
   "mimetype": "text/x-python",
   "name": "python",
   "nbconvert_exporter": "python",
   "pygments_lexer": "ipython3",
   "version": "3.7.1"
  }
 },
 "nbformat": 4,
 "nbformat_minor": 2
}
