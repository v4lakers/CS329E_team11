{
 "cells": [
  {
   "cell_type": "code",
   "execution_count": 1,
   "metadata": {},
   "outputs": [],
   "source": [
    "import warnings\n",
    "warnings.simplefilter(\"ignore\")\n",
    "import pandas as pd\n",
    "import numpy as np\n",
    "import sklearn as sk\n",
    "import matplotlib.pyplot as plt\n",
    "import time\n",
    "import os\n",
    "import datetime\n",
    "ts = '{:%Y%m%d%H%M%S}'.format(datetime.datetime.now())\n",
    "\n",
    "from IPython.display import Image\n",
    "from time import sleep\n",
    "from sklearn.metrics import classification_report\n",
    "from sklearn.metrics import r2_score\n",
    "from amb_sdk.sdk import DarwinSdk\n",
    "\n",
    "%matplotlib inline"
   ]
  },
  {
   "cell_type": "code",
   "execution_count": 2,
   "metadata": {},
   "outputs": [],
   "source": [
    "ds = DarwinSdk()\n",
    "ds.set_url('https://amb-demo-api.sparkcognition.com/v1/')\n",
    "status, msg = ds.auth_login_user('EMMIECHNG@UTEXAS.EDU', 'QMCZgepW6u')\n",
    "\n",
    "if not status:\n",
    "    print(msg)"
   ]
  },
  {
   "cell_type": "code",
   "execution_count": 3,
   "metadata": {},
   "outputs": [],
   "source": [
    "dataset_name = 'Speed_Dating_Clean.csv'\n",
    "data = pd.read_csv(\"../Data/Speed_Dating_Clean.csv\")"
   ]
  },
  {
   "cell_type": "code",
   "execution_count": 4,
   "metadata": {},
   "outputs": [
    {
     "data": {
      "text/html": [
       "<div>\n",
       "<style>\n",
       "    .dataframe thead tr:only-child th {\n",
       "        text-align: right;\n",
       "    }\n",
       "\n",
       "    .dataframe thead th {\n",
       "        text-align: left;\n",
       "    }\n",
       "\n",
       "    .dataframe tbody tr th {\n",
       "        vertical-align: top;\n",
       "    }\n",
       "</style>\n",
       "<table border=\"1\" class=\"dataframe\">\n",
       "  <thead>\n",
       "    <tr style=\"text-align: right;\">\n",
       "      <th></th>\n",
       "      <th>Unnamed: 0</th>\n",
       "      <th>gender</th>\n",
       "      <th>age</th>\n",
       "      <th>age_o</th>\n",
       "      <th>d_age</th>\n",
       "      <th>d_d_age</th>\n",
       "      <th>race</th>\n",
       "      <th>race_o</th>\n",
       "      <th>samerace</th>\n",
       "      <th>importance_same_race</th>\n",
       "      <th>...</th>\n",
       "      <th>yoga</th>\n",
       "      <th>interests_correlate</th>\n",
       "      <th>expected_happy_with_sd_people</th>\n",
       "      <th>expected_num_matches</th>\n",
       "      <th>like</th>\n",
       "      <th>guess_prob_liked</th>\n",
       "      <th>met</th>\n",
       "      <th>decision</th>\n",
       "      <th>decision_o</th>\n",
       "      <th>match</th>\n",
       "    </tr>\n",
       "  </thead>\n",
       "  <tbody>\n",
       "    <tr>\n",
       "      <th>0</th>\n",
       "      <td>0</td>\n",
       "      <td>0</td>\n",
       "      <td>21.0</td>\n",
       "      <td>27.0</td>\n",
       "      <td>6</td>\n",
       "      <td>3</td>\n",
       "      <td>1</td>\n",
       "      <td>3</td>\n",
       "      <td>0</td>\n",
       "      <td>2.0</td>\n",
       "      <td>...</td>\n",
       "      <td>1.0</td>\n",
       "      <td>0.14</td>\n",
       "      <td>3.0</td>\n",
       "      <td>4.0</td>\n",
       "      <td>7.0</td>\n",
       "      <td>6.0</td>\n",
       "      <td>0.0</td>\n",
       "      <td>1</td>\n",
       "      <td>0</td>\n",
       "      <td>0</td>\n",
       "    </tr>\n",
       "    <tr>\n",
       "      <th>1</th>\n",
       "      <td>1</td>\n",
       "      <td>0</td>\n",
       "      <td>21.0</td>\n",
       "      <td>22.0</td>\n",
       "      <td>1</td>\n",
       "      <td>1</td>\n",
       "      <td>1</td>\n",
       "      <td>3</td>\n",
       "      <td>0</td>\n",
       "      <td>2.0</td>\n",
       "      <td>...</td>\n",
       "      <td>1.0</td>\n",
       "      <td>0.54</td>\n",
       "      <td>3.0</td>\n",
       "      <td>4.0</td>\n",
       "      <td>7.0</td>\n",
       "      <td>5.0</td>\n",
       "      <td>1.0</td>\n",
       "      <td>1</td>\n",
       "      <td>0</td>\n",
       "      <td>0</td>\n",
       "    </tr>\n",
       "    <tr>\n",
       "      <th>2</th>\n",
       "      <td>2</td>\n",
       "      <td>0</td>\n",
       "      <td>21.0</td>\n",
       "      <td>22.0</td>\n",
       "      <td>1</td>\n",
       "      <td>1</td>\n",
       "      <td>1</td>\n",
       "      <td>1</td>\n",
       "      <td>1</td>\n",
       "      <td>2.0</td>\n",
       "      <td>...</td>\n",
       "      <td>1.0</td>\n",
       "      <td>0.16</td>\n",
       "      <td>3.0</td>\n",
       "      <td>4.0</td>\n",
       "      <td>7.0</td>\n",
       "      <td>0.0</td>\n",
       "      <td>1.0</td>\n",
       "      <td>1</td>\n",
       "      <td>1</td>\n",
       "      <td>1</td>\n",
       "    </tr>\n",
       "    <tr>\n",
       "      <th>3</th>\n",
       "      <td>3</td>\n",
       "      <td>0</td>\n",
       "      <td>21.0</td>\n",
       "      <td>23.0</td>\n",
       "      <td>2</td>\n",
       "      <td>2</td>\n",
       "      <td>1</td>\n",
       "      <td>3</td>\n",
       "      <td>0</td>\n",
       "      <td>2.0</td>\n",
       "      <td>...</td>\n",
       "      <td>1.0</td>\n",
       "      <td>0.61</td>\n",
       "      <td>3.0</td>\n",
       "      <td>4.0</td>\n",
       "      <td>7.0</td>\n",
       "      <td>6.0</td>\n",
       "      <td>0.0</td>\n",
       "      <td>1</td>\n",
       "      <td>1</td>\n",
       "      <td>1</td>\n",
       "    </tr>\n",
       "    <tr>\n",
       "      <th>4</th>\n",
       "      <td>4</td>\n",
       "      <td>0</td>\n",
       "      <td>21.0</td>\n",
       "      <td>24.0</td>\n",
       "      <td>3</td>\n",
       "      <td>2</td>\n",
       "      <td>1</td>\n",
       "      <td>4</td>\n",
       "      <td>0</td>\n",
       "      <td>2.0</td>\n",
       "      <td>...</td>\n",
       "      <td>1.0</td>\n",
       "      <td>0.21</td>\n",
       "      <td>3.0</td>\n",
       "      <td>4.0</td>\n",
       "      <td>6.0</td>\n",
       "      <td>6.0</td>\n",
       "      <td>0.0</td>\n",
       "      <td>1</td>\n",
       "      <td>1</td>\n",
       "      <td>1</td>\n",
       "    </tr>\n",
       "  </tbody>\n",
       "</table>\n",
       "<p>5 rows × 67 columns</p>\n",
       "</div>"
      ],
      "text/plain": [
       "   Unnamed: 0  gender   age  age_o  d_age  d_d_age  race  race_o  samerace  \\\n",
       "0           0       0  21.0   27.0      6        3     1       3         0   \n",
       "1           1       0  21.0   22.0      1        1     1       3         0   \n",
       "2           2       0  21.0   22.0      1        1     1       1         1   \n",
       "3           3       0  21.0   23.0      2        2     1       3         0   \n",
       "4           4       0  21.0   24.0      3        2     1       4         0   \n",
       "\n",
       "   importance_same_race  ...    yoga  interests_correlate  \\\n",
       "0                   2.0  ...     1.0                 0.14   \n",
       "1                   2.0  ...     1.0                 0.54   \n",
       "2                   2.0  ...     1.0                 0.16   \n",
       "3                   2.0  ...     1.0                 0.61   \n",
       "4                   2.0  ...     1.0                 0.21   \n",
       "\n",
       "   expected_happy_with_sd_people  expected_num_matches  like  \\\n",
       "0                            3.0                   4.0   7.0   \n",
       "1                            3.0                   4.0   7.0   \n",
       "2                            3.0                   4.0   7.0   \n",
       "3                            3.0                   4.0   7.0   \n",
       "4                            3.0                   4.0   6.0   \n",
       "\n",
       "   guess_prob_liked  met  decision  decision_o  match  \n",
       "0               6.0  0.0         1           0      0  \n",
       "1               5.0  1.0         1           0      0  \n",
       "2               0.0  1.0         1           1      1  \n",
       "3               6.0  0.0         1           1      1  \n",
       "4               6.0  0.0         1           1      1  \n",
       "\n",
       "[5 rows x 67 columns]"
      ]
     },
     "execution_count": 4,
     "metadata": {},
     "output_type": "execute_result"
    }
   ],
   "source": [
    "data.head()"
   ]
  },
  {
   "cell_type": "code",
   "execution_count": 5,
   "metadata": {},
   "outputs": [
    {
     "data": {
      "text/plain": [
       "0    6870\n",
       "1    1350\n",
       "Name: match, dtype: int64"
      ]
     },
     "execution_count": 5,
     "metadata": {},
     "output_type": "execute_result"
    }
   ],
   "source": [
    "data.match.value_counts()"
   ]
  },
  {
   "cell_type": "code",
   "execution_count": 6,
   "metadata": {},
   "outputs": [
    {
     "data": {
      "text/html": [
       "<div>\n",
       "<style>\n",
       "    .dataframe thead tr:only-child th {\n",
       "        text-align: right;\n",
       "    }\n",
       "\n",
       "    .dataframe thead th {\n",
       "        text-align: left;\n",
       "    }\n",
       "\n",
       "    .dataframe tbody tr th {\n",
       "        vertical-align: top;\n",
       "    }\n",
       "</style>\n",
       "<table border=\"1\" class=\"dataframe\">\n",
       "  <thead>\n",
       "    <tr style=\"text-align: right;\">\n",
       "      <th></th>\n",
       "      <th>Unnamed: 0</th>\n",
       "      <th>gender</th>\n",
       "      <th>age</th>\n",
       "      <th>age_o</th>\n",
       "      <th>d_age</th>\n",
       "      <th>d_d_age</th>\n",
       "      <th>race</th>\n",
       "      <th>race_o</th>\n",
       "      <th>samerace</th>\n",
       "      <th>importance_same_race</th>\n",
       "      <th>...</th>\n",
       "      <th>yoga</th>\n",
       "      <th>interests_correlate</th>\n",
       "      <th>expected_happy_with_sd_people</th>\n",
       "      <th>expected_num_matches</th>\n",
       "      <th>like</th>\n",
       "      <th>guess_prob_liked</th>\n",
       "      <th>met</th>\n",
       "      <th>decision</th>\n",
       "      <th>decision_o</th>\n",
       "      <th>match</th>\n",
       "    </tr>\n",
       "  </thead>\n",
       "  <tbody>\n",
       "    <tr>\n",
       "      <th>count</th>\n",
       "      <td>8220.000000</td>\n",
       "      <td>8220.000000</td>\n",
       "      <td>8220.000000</td>\n",
       "      <td>8220.000000</td>\n",
       "      <td>8220.000000</td>\n",
       "      <td>8220.000000</td>\n",
       "      <td>8220.000000</td>\n",
       "      <td>8220.00000</td>\n",
       "      <td>8220.000000</td>\n",
       "      <td>8220.000000</td>\n",
       "      <td>...</td>\n",
       "      <td>8220.000000</td>\n",
       "      <td>8220.000000</td>\n",
       "      <td>8220.000000</td>\n",
       "      <td>8220.000000</td>\n",
       "      <td>8220.000000</td>\n",
       "      <td>8220.000000</td>\n",
       "      <td>8220.000000</td>\n",
       "      <td>8220.000000</td>\n",
       "      <td>8220.000000</td>\n",
       "      <td>8220.000000</td>\n",
       "    </tr>\n",
       "    <tr>\n",
       "      <th>mean</th>\n",
       "      <td>4212.978467</td>\n",
       "      <td>0.500608</td>\n",
       "      <td>26.353830</td>\n",
       "      <td>26.359971</td>\n",
       "      <td>3.837348</td>\n",
       "      <td>2.327859</td>\n",
       "      <td>2.677007</td>\n",
       "      <td>2.68017</td>\n",
       "      <td>0.400973</td>\n",
       "      <td>3.786861</td>\n",
       "      <td>...</td>\n",
       "      <td>4.345742</td>\n",
       "      <td>0.196010</td>\n",
       "      <td>5.530262</td>\n",
       "      <td>2.760255</td>\n",
       "      <td>5.963954</td>\n",
       "      <td>5.020073</td>\n",
       "      <td>0.047567</td>\n",
       "      <td>0.419830</td>\n",
       "      <td>0.419465</td>\n",
       "      <td>0.164234</td>\n",
       "    </tr>\n",
       "    <tr>\n",
       "      <th>std</th>\n",
       "      <td>2416.638105</td>\n",
       "      <td>0.500030</td>\n",
       "      <td>3.559995</td>\n",
       "      <td>3.554904</td>\n",
       "      <td>3.594644</td>\n",
       "      <td>1.037995</td>\n",
       "      <td>1.111031</td>\n",
       "      <td>1.11304</td>\n",
       "      <td>0.490125</td>\n",
       "      <td>2.847048</td>\n",
       "      <td>...</td>\n",
       "      <td>2.717269</td>\n",
       "      <td>0.303539</td>\n",
       "      <td>1.730610</td>\n",
       "      <td>2.535208</td>\n",
       "      <td>2.068454</td>\n",
       "      <td>2.299052</td>\n",
       "      <td>0.276949</td>\n",
       "      <td>0.493561</td>\n",
       "      <td>0.493501</td>\n",
       "      <td>0.370510</td>\n",
       "    </tr>\n",
       "    <tr>\n",
       "      <th>min</th>\n",
       "      <td>0.000000</td>\n",
       "      <td>0.000000</td>\n",
       "      <td>18.000000</td>\n",
       "      <td>18.000000</td>\n",
       "      <td>0.000000</td>\n",
       "      <td>1.000000</td>\n",
       "      <td>1.000000</td>\n",
       "      <td>1.00000</td>\n",
       "      <td>0.000000</td>\n",
       "      <td>0.000000</td>\n",
       "      <td>...</td>\n",
       "      <td>0.000000</td>\n",
       "      <td>-0.830000</td>\n",
       "      <td>1.000000</td>\n",
       "      <td>0.000000</td>\n",
       "      <td>0.000000</td>\n",
       "      <td>0.000000</td>\n",
       "      <td>0.000000</td>\n",
       "      <td>0.000000</td>\n",
       "      <td>0.000000</td>\n",
       "      <td>0.000000</td>\n",
       "    </tr>\n",
       "    <tr>\n",
       "      <th>25%</th>\n",
       "      <td>2136.750000</td>\n",
       "      <td>0.000000</td>\n",
       "      <td>24.000000</td>\n",
       "      <td>24.000000</td>\n",
       "      <td>1.000000</td>\n",
       "      <td>1.000000</td>\n",
       "      <td>2.000000</td>\n",
       "      <td>2.00000</td>\n",
       "      <td>0.000000</td>\n",
       "      <td>1.000000</td>\n",
       "      <td>...</td>\n",
       "      <td>2.000000</td>\n",
       "      <td>-0.020000</td>\n",
       "      <td>5.000000</td>\n",
       "      <td>1.000000</td>\n",
       "      <td>5.000000</td>\n",
       "      <td>4.000000</td>\n",
       "      <td>0.000000</td>\n",
       "      <td>0.000000</td>\n",
       "      <td>0.000000</td>\n",
       "      <td>0.000000</td>\n",
       "    </tr>\n",
       "    <tr>\n",
       "      <th>50%</th>\n",
       "      <td>4191.500000</td>\n",
       "      <td>1.000000</td>\n",
       "      <td>26.000000</td>\n",
       "      <td>26.000000</td>\n",
       "      <td>3.000000</td>\n",
       "      <td>2.000000</td>\n",
       "      <td>3.000000</td>\n",
       "      <td>3.00000</td>\n",
       "      <td>0.000000</td>\n",
       "      <td>3.000000</td>\n",
       "      <td>...</td>\n",
       "      <td>4.000000</td>\n",
       "      <td>0.210000</td>\n",
       "      <td>6.000000</td>\n",
       "      <td>2.000000</td>\n",
       "      <td>6.000000</td>\n",
       "      <td>5.000000</td>\n",
       "      <td>0.000000</td>\n",
       "      <td>0.000000</td>\n",
       "      <td>0.000000</td>\n",
       "      <td>0.000000</td>\n",
       "    </tr>\n",
       "    <tr>\n",
       "      <th>75%</th>\n",
       "      <td>6322.250000</td>\n",
       "      <td>1.000000</td>\n",
       "      <td>28.000000</td>\n",
       "      <td>28.000000</td>\n",
       "      <td>5.000000</td>\n",
       "      <td>3.000000</td>\n",
       "      <td>3.000000</td>\n",
       "      <td>3.00000</td>\n",
       "      <td>1.000000</td>\n",
       "      <td>6.000000</td>\n",
       "      <td>...</td>\n",
       "      <td>7.000000</td>\n",
       "      <td>0.430000</td>\n",
       "      <td>7.000000</td>\n",
       "      <td>4.000000</td>\n",
       "      <td>7.000000</td>\n",
       "      <td>7.000000</td>\n",
       "      <td>0.000000</td>\n",
       "      <td>1.000000</td>\n",
       "      <td>1.000000</td>\n",
       "      <td>0.000000</td>\n",
       "    </tr>\n",
       "    <tr>\n",
       "      <th>max</th>\n",
       "      <td>8377.000000</td>\n",
       "      <td>1.000000</td>\n",
       "      <td>55.000000</td>\n",
       "      <td>55.000000</td>\n",
       "      <td>32.000000</td>\n",
       "      <td>4.000000</td>\n",
       "      <td>5.000000</td>\n",
       "      <td>5.00000</td>\n",
       "      <td>1.000000</td>\n",
       "      <td>10.000000</td>\n",
       "      <td>...</td>\n",
       "      <td>10.000000</td>\n",
       "      <td>0.910000</td>\n",
       "      <td>10.000000</td>\n",
       "      <td>18.000000</td>\n",
       "      <td>10.000000</td>\n",
       "      <td>10.000000</td>\n",
       "      <td>8.000000</td>\n",
       "      <td>1.000000</td>\n",
       "      <td>1.000000</td>\n",
       "      <td>1.000000</td>\n",
       "    </tr>\n",
       "  </tbody>\n",
       "</table>\n",
       "<p>8 rows × 67 columns</p>\n",
       "</div>"
      ],
      "text/plain": [
       "        Unnamed: 0       gender          age        age_o        d_age  \\\n",
       "count  8220.000000  8220.000000  8220.000000  8220.000000  8220.000000   \n",
       "mean   4212.978467     0.500608    26.353830    26.359971     3.837348   \n",
       "std    2416.638105     0.500030     3.559995     3.554904     3.594644   \n",
       "min       0.000000     0.000000    18.000000    18.000000     0.000000   \n",
       "25%    2136.750000     0.000000    24.000000    24.000000     1.000000   \n",
       "50%    4191.500000     1.000000    26.000000    26.000000     3.000000   \n",
       "75%    6322.250000     1.000000    28.000000    28.000000     5.000000   \n",
       "max    8377.000000     1.000000    55.000000    55.000000    32.000000   \n",
       "\n",
       "           d_d_age         race      race_o     samerace  \\\n",
       "count  8220.000000  8220.000000  8220.00000  8220.000000   \n",
       "mean      2.327859     2.677007     2.68017     0.400973   \n",
       "std       1.037995     1.111031     1.11304     0.490125   \n",
       "min       1.000000     1.000000     1.00000     0.000000   \n",
       "25%       1.000000     2.000000     2.00000     0.000000   \n",
       "50%       2.000000     3.000000     3.00000     0.000000   \n",
       "75%       3.000000     3.000000     3.00000     1.000000   \n",
       "max       4.000000     5.000000     5.00000     1.000000   \n",
       "\n",
       "       importance_same_race     ...              yoga  interests_correlate  \\\n",
       "count           8220.000000     ...       8220.000000          8220.000000   \n",
       "mean               3.786861     ...          4.345742             0.196010   \n",
       "std                2.847048     ...          2.717269             0.303539   \n",
       "min                0.000000     ...          0.000000            -0.830000   \n",
       "25%                1.000000     ...          2.000000            -0.020000   \n",
       "50%                3.000000     ...          4.000000             0.210000   \n",
       "75%                6.000000     ...          7.000000             0.430000   \n",
       "max               10.000000     ...         10.000000             0.910000   \n",
       "\n",
       "       expected_happy_with_sd_people  expected_num_matches         like  \\\n",
       "count                    8220.000000           8220.000000  8220.000000   \n",
       "mean                        5.530262              2.760255     5.963954   \n",
       "std                         1.730610              2.535208     2.068454   \n",
       "min                         1.000000              0.000000     0.000000   \n",
       "25%                         5.000000              1.000000     5.000000   \n",
       "50%                         6.000000              2.000000     6.000000   \n",
       "75%                         7.000000              4.000000     7.000000   \n",
       "max                        10.000000             18.000000    10.000000   \n",
       "\n",
       "       guess_prob_liked          met     decision   decision_o        match  \n",
       "count       8220.000000  8220.000000  8220.000000  8220.000000  8220.000000  \n",
       "mean           5.020073     0.047567     0.419830     0.419465     0.164234  \n",
       "std            2.299052     0.276949     0.493561     0.493501     0.370510  \n",
       "min            0.000000     0.000000     0.000000     0.000000     0.000000  \n",
       "25%            4.000000     0.000000     0.000000     0.000000     0.000000  \n",
       "50%            5.000000     0.000000     0.000000     0.000000     0.000000  \n",
       "75%            7.000000     0.000000     1.000000     1.000000     0.000000  \n",
       "max           10.000000     8.000000     1.000000     1.000000     1.000000  \n",
       "\n",
       "[8 rows x 67 columns]"
      ]
     },
     "execution_count": 6,
     "metadata": {},
     "output_type": "execute_result"
    }
   ],
   "source": [
    "data.describe()"
   ]
  },
  {
   "cell_type": "code",
   "execution_count": 7,
   "metadata": {},
   "outputs": [
    {
     "name": "stdout",
     "output_type": "stream",
     "text": [
      "400: BAD REQUEST - {\"message\": \"Dataset already exists\"}\n",
      "\n"
     ]
    }
   ],
   "source": [
    "status, dataset = ds.upload_dataset(\"../Data/Speed_Dating_Clean.csv\")\n",
    "\n",
    "if not status:\n",
    "    print(dataset)"
   ]
  },
  {
   "cell_type": "code",
   "execution_count": 8,
   "metadata": {},
   "outputs": [
    {
     "data": {
      "text/plain": [
       "(True,\n",
       " [{'name': 'Speed_Dating_Clean_Emmie.csv',\n",
       "   'mbytes': 16.3504695892334,\n",
       "   'minimum_recommeded_train_time': '5 minutes',\n",
       "   'updated_at': '2019-04-14T05:02:29.133019',\n",
       "   'categorical': None,\n",
       "   'sequential': None,\n",
       "   'imbalanced': None},\n",
       "  {'name': 'Speed_Dating_Clean_Emmie_new.csv',\n",
       "   'mbytes': 16.195444107055664,\n",
       "   'minimum_recommeded_train_time': '5 minutes',\n",
       "   'updated_at': '2019-04-15T11:48:11.822992',\n",
       "   'categorical': None,\n",
       "   'sequential': None,\n",
       "   'imbalanced': None},\n",
       "  {'name': 'Speed_Dating_Clean.csv',\n",
       "   'mbytes': 2.1142759323120117,\n",
       "   'minimum_recommeded_train_time': '5 minutes',\n",
       "   'updated_at': '2019-04-11T13:51:41.541573',\n",
       "   'categorical': None,\n",
       "   'sequential': None,\n",
       "   'imbalanced': None}])"
      ]
     },
     "execution_count": 8,
     "metadata": {},
     "output_type": "execute_result"
    }
   ],
   "source": [
    "ds.lookup_dataset()"
   ]
  },
  {
   "cell_type": "code",
   "execution_count": 9,
   "metadata": {},
   "outputs": [
    {
     "name": "stdout",
     "output_type": "stream",
     "text": [
      "{'status': 'Requested', 'starttime': '2019-04-15T12:06:01.326046', 'endtime': None, 'percent_complete': 0, 'job_type': 'CleanDataTiny', 'loss': None, 'generations': None, 'dataset_names': ['Speed_Dating_Clean.csv'], 'artifact_names': ['08b4ef4efa4c4505937a53330b454cea'], 'model_name': None, 'job_error': None}\n",
      "{'status': 'Complete', 'starttime': '2019-04-15T12:06:01.326046', 'endtime': '2019-04-15T12:06:12.449014', 'percent_complete': 100, 'job_type': 'CleanDataTiny', 'loss': None, 'generations': None, 'dataset_names': ['Speed_Dating_Clean.csv'], 'artifact_names': ['08b4ef4efa4c4505937a53330b454cea'], 'model_name': None, 'job_error': ''}\n"
     ]
    }
   ],
   "source": [
    "target = \"match\"\n",
    "status, job_id = ds.clean_data(dataset_name, target = target)\n",
    "\n",
    "if status:\n",
    "    ds.wait_for_job(job_id['job_name'])\n",
    "else:\n",
    "    print(job_id)"
   ]
  },
  {
   "cell_type": "markdown",
   "metadata": {},
   "source": [
    "# Darwin Supervised Classification"
   ]
  },
  {
   "cell_type": "code",
   "execution_count": 10,
   "metadata": {},
   "outputs": [
    {
     "name": "stdout",
     "output_type": "stream",
     "text": [
      "{'status': 'Running', 'starttime': '2019-04-15T12:06:17.613258', 'endtime': None, 'percent_complete': 0, 'job_type': 'TrainModel', 'loss': None, 'generations': 0, 'dataset_names': ['Speed_Dating_Clean.csv'], 'artifact_names': None, 'model_name': 'match_model20190415120557', 'job_error': ''}\n",
      "{'status': 'Running', 'starttime': '2019-04-15T12:06:17.613258', 'endtime': None, 'percent_complete': 6, 'job_type': 'TrainModel', 'loss': 0.3132626414299011, 'generations': 1, 'dataset_names': ['Speed_Dating_Clean.csv'], 'artifact_names': None, 'model_name': 'match_model20190415120557', 'job_error': ''}\n",
      "{'status': 'Running', 'starttime': '2019-04-15T12:06:17.613258', 'endtime': None, 'percent_complete': 9, 'job_type': 'TrainModel', 'loss': 0.3132626414299011, 'generations': 2, 'dataset_names': ['Speed_Dating_Clean.csv'], 'artifact_names': None, 'model_name': 'match_model20190415120557', 'job_error': ''}\n",
      "{'status': 'Running', 'starttime': '2019-04-15T12:06:17.613258', 'endtime': None, 'percent_complete': 9, 'job_type': 'TrainModel', 'loss': 0.3132626414299011, 'generations': 2, 'dataset_names': ['Speed_Dating_Clean.csv'], 'artifact_names': None, 'model_name': 'match_model20190415120557', 'job_error': ''}\n",
      "403: FORBIDDEN - {\"message\": \"Your token is out of date\"}\n",
      "\n"
     ]
    }
   ],
   "source": [
    "# Darwin Supervised Classification\n",
    "model = target + \"_model\" + ts\n",
    "status, job_id = ds.create_model(dataset_names = dataset_name,\n",
    "                                 model_name = model,\n",
    "                                 max_train_time = '00:02')\n",
    "\n",
    "if status:\n",
    "    ds.wait_for_job(job_id['job_name'])\n",
    "else:\n",
    "    print(job_id)"
   ]
  },
  {
   "cell_type": "code",
   "execution_count": 11,
   "metadata": {},
   "outputs": [
    {
     "name": "stdout",
     "output_type": "stream",
     "text": [
      "403: FORBIDDEN - {\"message\": \"Your token is out of date\"}\n",
      "\n"
     ]
    }
   ],
   "source": [
    "status, job_id = ds.resume_training_model(dataset_names = dataset_name, \n",
    "                                         model_name = model,\n",
    "                                         max_train_time = '00:05')\n",
    "\n",
    "if status:\n",
    "    ds.wait_for_job(job_id['job_name'])\n",
    "else:\n",
    "    print(job_id)"
   ]
  },
  {
   "cell_type": "code",
   "execution_count": 12,
   "metadata": {},
   "outputs": [
    {
     "name": "stdout",
     "output_type": "stream",
     "text": [
      "403: FORBIDDEN - {\"message\": \"Your token is out of date\"}\n",
      "\n"
     ]
    },
    {
     "ename": "TypeError",
     "evalue": "string indices must be integers",
     "output_type": "error",
     "traceback": [
      "\u001b[0;31m---------------------------------------------------------------------------\u001b[0m",
      "\u001b[0;31mTypeError\u001b[0m                                 Traceback (most recent call last)",
      "\u001b[0;32m<ipython-input-12-216d96179023>\u001b[0m in \u001b[0;36m<module>\u001b[0;34m\u001b[0m\n\u001b[1;32m      5\u001b[0m \u001b[0;32melse\u001b[0m\u001b[0;34m:\u001b[0m\u001b[0;34m\u001b[0m\u001b[0;34m\u001b[0m\u001b[0m\n\u001b[1;32m      6\u001b[0m     \u001b[0mprint\u001b[0m\u001b[0;34m(\u001b[0m\u001b[0martifact\u001b[0m\u001b[0;34m)\u001b[0m\u001b[0;34m\u001b[0m\u001b[0;34m\u001b[0m\u001b[0m\n\u001b[0;32m----> 7\u001b[0;31m \u001b[0mstatus\u001b[0m\u001b[0;34m,\u001b[0m \u001b[0mfeature_importance\u001b[0m \u001b[0;34m=\u001b[0m \u001b[0mds\u001b[0m\u001b[0;34m.\u001b[0m\u001b[0mdownload_artifact\u001b[0m\u001b[0;34m(\u001b[0m\u001b[0martifact\u001b[0m\u001b[0;34m[\u001b[0m\u001b[0;34m'artifact_name'\u001b[0m\u001b[0;34m]\u001b[0m\u001b[0;34m)\u001b[0m\u001b[0;34m\u001b[0m\u001b[0;34m\u001b[0m\u001b[0m\n\u001b[0m",
      "\u001b[0;31mTypeError\u001b[0m: string indices must be integers"
     ]
    }
   ],
   "source": [
    "status, artifact = ds.analyze_model(model)\n",
    "sleep(1)\n",
    "if status:\n",
    "    ds.wait_for_job(artifact['job_name'])\n",
    "else:\n",
    "    print(artifact)\n",
    "status, feature_importance = ds.download_artifact(artifact['artifact_name'])"
   ]
  },
  {
   "cell_type": "code",
   "execution_count": null,
   "metadata": {},
   "outputs": [],
   "source": [
    "feature_importance[:10]"
   ]
  },
  {
   "cell_type": "code",
   "execution_count": null,
   "metadata": {},
   "outputs": [],
   "source": [
    "status, artifact = ds.run_model(dataset_name, model)\n",
    "sleep(1)\n",
    "ds.wait_for_job(artifact['job_name'])"
   ]
  },
  {
   "cell_type": "code",
   "execution_count": null,
   "metadata": {},
   "outputs": [],
   "source": [
    "status, prediction = ds.download_artifact(artifact['artifact_name'])\n",
    "prediction.head()"
   ]
  },
  {
   "cell_type": "code",
   "execution_count": null,
   "metadata": {},
   "outputs": [],
   "source": [
    "unq = prediction[target].unique()[::-1]\n",
    "p = np.zeros((len(prediction),))\n",
    "a = np.zeros((len(prediction),))\n",
    "for i,q in enumerate(unq):\n",
    "    p += i*(prediction[target] == q).values\n",
    "    a += i*(data[target] == q).values\n",
    "#Plot predictions vs actual\n",
    "plt.plot(a)\n",
    "plt.plot(p)\n",
    "plt.legend(['Actual','Predicted'])\n",
    "plt.yticks([i for i in range(len(unq))],[q for q in unq]);\n",
    "print(classification_report(data[target], prediction[target]))"
   ]
  },
  {
   "cell_type": "code",
   "execution_count": null,
   "metadata": {},
   "outputs": [],
   "source": [
    "status, model_type = ds.lookup_model_name(model)\n",
    "print(model_type['description']['best_genome'])"
   ]
  },
  {
   "cell_type": "markdown",
   "metadata": {},
   "source": [
    "# Darwin Supervised Regression"
   ]
  },
  {
   "cell_type": "code",
   "execution_count": null,
   "metadata": {},
   "outputs": [],
   "source": [
    "# Darwin Supervised Regression\n",
    "model = target + \"_model0\" + ts\n",
    "status, job_id = ds.create_model(dataset_names = dataset_name,\n",
    "                                 model_name =  model,\n",
    "                                 max_train_time = '00:02')\n",
    "if status:\n",
    "    ds.wait_for_job(job_id['job_name'])\n",
    "else:\n",
    "    print(job_id)"
   ]
  },
  {
   "cell_type": "code",
   "execution_count": null,
   "metadata": {},
   "outputs": [],
   "source": [
    "status, job_id = ds.resume_training_model(dataset_names = dataset_name,\n",
    "                                          model_name = model,\n",
    "                                          max_train_time = '00:05')\n",
    "                                          \n",
    "if status:\n",
    "    ds.wait_for_job(job_id['job_name'])\n",
    "else:\n",
    "    print(job_id)"
   ]
  },
  {
   "cell_type": "code",
   "execution_count": null,
   "metadata": {},
   "outputs": [],
   "source": [
    "status, artifact = ds.analyze_model(model)\n",
    "sleep(1)\n",
    "if status:\n",
    "    ds.wait_for_job(artifact['job_name'])\n",
    "else:\n",
    "    print(artifact)\n",
    "status, feature_importance = ds.download_artifact(artifact['artifact_name'])"
   ]
  },
  {
   "cell_type": "code",
   "execution_count": null,
   "metadata": {},
   "outputs": [],
   "source": [
    "feature_importance[:10]"
   ]
  },
  {
   "cell_type": "code",
   "execution_count": null,
   "metadata": {},
   "outputs": [],
   "source": [
    "status, artifact = ds.run_model(dataset_name, model)\n",
    "sleep(1)\n",
    "ds.wait_for_job(artifact['job_name'])"
   ]
  },
  {
   "cell_type": "code",
   "execution_count": null,
   "metadata": {},
   "outputs": [],
   "source": [
    "status, prediction = ds.download_artifact(artifact['artifact_name'])\n",
    "prediction.head()"
   ]
  },
  {
   "cell_type": "code",
   "execution_count": null,
   "metadata": {},
   "outputs": [],
   "source": [
    "plt.plot(data[target], prediction[target], '.')\n",
    "plt.plot([0,2.3e7],[0,2.3e7],'--k')\n",
    "print('R^2 : ', r2_score(data[target], prediction[target]))"
   ]
  },
  {
   "cell_type": "code",
   "execution_count": null,
   "metadata": {},
   "outputs": [],
   "source": [
    "status, model_type = ds.lookup_model_name(model)\n",
    "print(model_type['description']['best_genome'])"
   ]
  },
  {
   "cell_type": "code",
   "execution_count": null,
   "metadata": {},
   "outputs": [],
   "source": [
    "'''\n",
    "ds.delete_all_models()\n",
    "ds.delete_all_datasets()\n",
    "ds.delete_all_artifacts()\n",
    "'''"
   ]
  },
  {
   "cell_type": "code",
   "execution_count": null,
   "metadata": {},
   "outputs": [],
   "source": [
    "ds.lookup_job_status()\n",
    "#ds.stop_job(\"fab6ca38fd424c80ba8d8afd881633bf\")\n",
    "#ds.delete_job(\"fab6ca38fd424c80ba8d8afd881633bf\")"
   ]
  }
 ],
 "metadata": {
  "kernelspec": {
   "display_name": "Python 3",
   "language": "python",
   "name": "python3"
  },
  "language_info": {
   "codemirror_mode": {
    "name": "ipython",
    "version": 3
   },
   "file_extension": ".py",
   "mimetype": "text/x-python",
   "name": "python",
   "nbconvert_exporter": "python",
   "pygments_lexer": "ipython3",
   "version": "3.6.8"
  }
 },
 "nbformat": 4,
 "nbformat_minor": 2
}
