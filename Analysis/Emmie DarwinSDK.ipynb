{
 "cells": [
  {
   "cell_type": "code",
   "execution_count": 1,
   "metadata": {},
   "outputs": [],
   "source": [
    "import warnings\n",
    "warnings.simplefilter(\"ignore\")\n",
    "import pandas as pd\n",
    "import numpy as np\n",
    "import sklearn as sk\n",
    "import matplotlib.pyplot as plt\n",
    "import time\n",
    "import os\n",
    "import datetime\n",
    "ts = '{:%Y%m%d%H%M%S}'.format(datetime.datetime.now())\n",
    "\n",
    "from IPython.display import Image\n",
    "from time import sleep\n",
    "from sklearn.metrics import classification_report\n",
    "from sklearn.metrics import r2_score\n",
    "from amb_sdk.sdk import DarwinSdk\n",
    "\n",
    "%matplotlib inline"
   ]
  },
  {
   "cell_type": "code",
   "execution_count": 2,
   "metadata": {},
   "outputs": [],
   "source": [
    "ds = DarwinSdk()\n",
    "ds.set_url('https://amb-demo-api.sparkcognition.com/v1/')\n",
    "status, msg = ds.auth_login_user('EMMIECHNG@UTEXAS.EDU', 'QMCZgepW6u')\n",
    "\n",
    "if not status:\n",
    "    print(msg)"
   ]
  },
  {
   "cell_type": "code",
   "execution_count": 3,
   "metadata": {},
   "outputs": [],
   "source": [
    "dataset_name = 'Speed_Dating_Clean.csv'\n",
    "data = pd.read_csv(\"../Data/Speed_Dating_Clean.csv\")"
   ]
  },
  {
   "cell_type": "code",
   "execution_count": 4,
   "metadata": {},
   "outputs": [
    {
     "data": {
      "text/html": [
       "<div>\n",
       "<style scoped>\n",
       "    .dataframe tbody tr th:only-of-type {\n",
       "        vertical-align: middle;\n",
       "    }\n",
       "\n",
       "    .dataframe tbody tr th {\n",
       "        vertical-align: top;\n",
       "    }\n",
       "\n",
       "    .dataframe thead th {\n",
       "        text-align: right;\n",
       "    }\n",
       "</style>\n",
       "<table border=\"1\" class=\"dataframe\">\n",
       "  <thead>\n",
       "    <tr style=\"text-align: right;\">\n",
       "      <th></th>\n",
       "      <th>Unnamed: 0</th>\n",
       "      <th>gender</th>\n",
       "      <th>age</th>\n",
       "      <th>age_o</th>\n",
       "      <th>d_age</th>\n",
       "      <th>d_d_age</th>\n",
       "      <th>race</th>\n",
       "      <th>race_o</th>\n",
       "      <th>samerace</th>\n",
       "      <th>importance_same_race</th>\n",
       "      <th>...</th>\n",
       "      <th>yoga</th>\n",
       "      <th>interests_correlate</th>\n",
       "      <th>expected_happy_with_sd_people</th>\n",
       "      <th>expected_num_matches</th>\n",
       "      <th>like</th>\n",
       "      <th>guess_prob_liked</th>\n",
       "      <th>met</th>\n",
       "      <th>decision</th>\n",
       "      <th>decision_o</th>\n",
       "      <th>match</th>\n",
       "    </tr>\n",
       "  </thead>\n",
       "  <tbody>\n",
       "    <tr>\n",
       "      <th>0</th>\n",
       "      <td>0</td>\n",
       "      <td>0</td>\n",
       "      <td>21.0</td>\n",
       "      <td>27.0</td>\n",
       "      <td>6</td>\n",
       "      <td>3</td>\n",
       "      <td>1</td>\n",
       "      <td>3</td>\n",
       "      <td>0</td>\n",
       "      <td>2.0</td>\n",
       "      <td>...</td>\n",
       "      <td>1.0</td>\n",
       "      <td>0.14</td>\n",
       "      <td>3.0</td>\n",
       "      <td>4.0</td>\n",
       "      <td>7.0</td>\n",
       "      <td>6.0</td>\n",
       "      <td>0.0</td>\n",
       "      <td>1</td>\n",
       "      <td>0</td>\n",
       "      <td>0</td>\n",
       "    </tr>\n",
       "    <tr>\n",
       "      <th>1</th>\n",
       "      <td>1</td>\n",
       "      <td>0</td>\n",
       "      <td>21.0</td>\n",
       "      <td>22.0</td>\n",
       "      <td>1</td>\n",
       "      <td>1</td>\n",
       "      <td>1</td>\n",
       "      <td>3</td>\n",
       "      <td>0</td>\n",
       "      <td>2.0</td>\n",
       "      <td>...</td>\n",
       "      <td>1.0</td>\n",
       "      <td>0.54</td>\n",
       "      <td>3.0</td>\n",
       "      <td>4.0</td>\n",
       "      <td>7.0</td>\n",
       "      <td>5.0</td>\n",
       "      <td>1.0</td>\n",
       "      <td>1</td>\n",
       "      <td>0</td>\n",
       "      <td>0</td>\n",
       "    </tr>\n",
       "    <tr>\n",
       "      <th>2</th>\n",
       "      <td>2</td>\n",
       "      <td>0</td>\n",
       "      <td>21.0</td>\n",
       "      <td>22.0</td>\n",
       "      <td>1</td>\n",
       "      <td>1</td>\n",
       "      <td>1</td>\n",
       "      <td>1</td>\n",
       "      <td>1</td>\n",
       "      <td>2.0</td>\n",
       "      <td>...</td>\n",
       "      <td>1.0</td>\n",
       "      <td>0.16</td>\n",
       "      <td>3.0</td>\n",
       "      <td>4.0</td>\n",
       "      <td>7.0</td>\n",
       "      <td>0.0</td>\n",
       "      <td>1.0</td>\n",
       "      <td>1</td>\n",
       "      <td>1</td>\n",
       "      <td>1</td>\n",
       "    </tr>\n",
       "    <tr>\n",
       "      <th>3</th>\n",
       "      <td>3</td>\n",
       "      <td>0</td>\n",
       "      <td>21.0</td>\n",
       "      <td>23.0</td>\n",
       "      <td>2</td>\n",
       "      <td>2</td>\n",
       "      <td>1</td>\n",
       "      <td>3</td>\n",
       "      <td>0</td>\n",
       "      <td>2.0</td>\n",
       "      <td>...</td>\n",
       "      <td>1.0</td>\n",
       "      <td>0.61</td>\n",
       "      <td>3.0</td>\n",
       "      <td>4.0</td>\n",
       "      <td>7.0</td>\n",
       "      <td>6.0</td>\n",
       "      <td>0.0</td>\n",
       "      <td>1</td>\n",
       "      <td>1</td>\n",
       "      <td>1</td>\n",
       "    </tr>\n",
       "    <tr>\n",
       "      <th>4</th>\n",
       "      <td>4</td>\n",
       "      <td>0</td>\n",
       "      <td>21.0</td>\n",
       "      <td>24.0</td>\n",
       "      <td>3</td>\n",
       "      <td>2</td>\n",
       "      <td>1</td>\n",
       "      <td>4</td>\n",
       "      <td>0</td>\n",
       "      <td>2.0</td>\n",
       "      <td>...</td>\n",
       "      <td>1.0</td>\n",
       "      <td>0.21</td>\n",
       "      <td>3.0</td>\n",
       "      <td>4.0</td>\n",
       "      <td>6.0</td>\n",
       "      <td>6.0</td>\n",
       "      <td>0.0</td>\n",
       "      <td>1</td>\n",
       "      <td>1</td>\n",
       "      <td>1</td>\n",
       "    </tr>\n",
       "  </tbody>\n",
       "</table>\n",
       "<p>5 rows × 67 columns</p>\n",
       "</div>"
      ],
      "text/plain": [
       "   Unnamed: 0  gender   age  age_o  d_age  d_d_age  race  race_o  samerace  \\\n",
       "0           0       0  21.0   27.0      6        3     1       3         0   \n",
       "1           1       0  21.0   22.0      1        1     1       3         0   \n",
       "2           2       0  21.0   22.0      1        1     1       1         1   \n",
       "3           3       0  21.0   23.0      2        2     1       3         0   \n",
       "4           4       0  21.0   24.0      3        2     1       4         0   \n",
       "\n",
       "   importance_same_race  ...    yoga  interests_correlate  \\\n",
       "0                   2.0  ...     1.0                 0.14   \n",
       "1                   2.0  ...     1.0                 0.54   \n",
       "2                   2.0  ...     1.0                 0.16   \n",
       "3                   2.0  ...     1.0                 0.61   \n",
       "4                   2.0  ...     1.0                 0.21   \n",
       "\n",
       "   expected_happy_with_sd_people  expected_num_matches  like  \\\n",
       "0                            3.0                   4.0   7.0   \n",
       "1                            3.0                   4.0   7.0   \n",
       "2                            3.0                   4.0   7.0   \n",
       "3                            3.0                   4.0   7.0   \n",
       "4                            3.0                   4.0   6.0   \n",
       "\n",
       "   guess_prob_liked  met  decision  decision_o  match  \n",
       "0               6.0  0.0         1           0      0  \n",
       "1               5.0  1.0         1           0      0  \n",
       "2               0.0  1.0         1           1      1  \n",
       "3               6.0  0.0         1           1      1  \n",
       "4               6.0  0.0         1           1      1  \n",
       "\n",
       "[5 rows x 67 columns]"
      ]
     },
     "execution_count": 4,
     "metadata": {},
     "output_type": "execute_result"
    }
   ],
   "source": [
    "data.head()"
   ]
  },
  {
   "cell_type": "code",
   "execution_count": 5,
   "metadata": {},
   "outputs": [
    {
     "data": {
      "text/plain": [
       "0    6870\n",
       "1    1350\n",
       "Name: match, dtype: int64"
      ]
     },
     "execution_count": 5,
     "metadata": {},
     "output_type": "execute_result"
    }
   ],
   "source": [
    "data.match.value_counts()"
   ]
  },
  {
   "cell_type": "code",
   "execution_count": 6,
   "metadata": {},
   "outputs": [
    {
     "data": {
      "text/html": [
       "<div>\n",
       "<style scoped>\n",
       "    .dataframe tbody tr th:only-of-type {\n",
       "        vertical-align: middle;\n",
       "    }\n",
       "\n",
       "    .dataframe tbody tr th {\n",
       "        vertical-align: top;\n",
       "    }\n",
       "\n",
       "    .dataframe thead th {\n",
       "        text-align: right;\n",
       "    }\n",
       "</style>\n",
       "<table border=\"1\" class=\"dataframe\">\n",
       "  <thead>\n",
       "    <tr style=\"text-align: right;\">\n",
       "      <th></th>\n",
       "      <th>Unnamed: 0</th>\n",
       "      <th>gender</th>\n",
       "      <th>age</th>\n",
       "      <th>age_o</th>\n",
       "      <th>d_age</th>\n",
       "      <th>d_d_age</th>\n",
       "      <th>race</th>\n",
       "      <th>race_o</th>\n",
       "      <th>samerace</th>\n",
       "      <th>importance_same_race</th>\n",
       "      <th>...</th>\n",
       "      <th>yoga</th>\n",
       "      <th>interests_correlate</th>\n",
       "      <th>expected_happy_with_sd_people</th>\n",
       "      <th>expected_num_matches</th>\n",
       "      <th>like</th>\n",
       "      <th>guess_prob_liked</th>\n",
       "      <th>met</th>\n",
       "      <th>decision</th>\n",
       "      <th>decision_o</th>\n",
       "      <th>match</th>\n",
       "    </tr>\n",
       "  </thead>\n",
       "  <tbody>\n",
       "    <tr>\n",
       "      <th>count</th>\n",
       "      <td>8220.000000</td>\n",
       "      <td>8220.000000</td>\n",
       "      <td>8220.000000</td>\n",
       "      <td>8220.000000</td>\n",
       "      <td>8220.000000</td>\n",
       "      <td>8220.000000</td>\n",
       "      <td>8220.000000</td>\n",
       "      <td>8220.00000</td>\n",
       "      <td>8220.000000</td>\n",
       "      <td>8220.000000</td>\n",
       "      <td>...</td>\n",
       "      <td>8220.000000</td>\n",
       "      <td>8220.000000</td>\n",
       "      <td>8220.000000</td>\n",
       "      <td>8220.000000</td>\n",
       "      <td>8220.000000</td>\n",
       "      <td>8220.000000</td>\n",
       "      <td>8220.000000</td>\n",
       "      <td>8220.000000</td>\n",
       "      <td>8220.000000</td>\n",
       "      <td>8220.000000</td>\n",
       "    </tr>\n",
       "    <tr>\n",
       "      <th>mean</th>\n",
       "      <td>4212.978467</td>\n",
       "      <td>0.500608</td>\n",
       "      <td>26.353830</td>\n",
       "      <td>26.359971</td>\n",
       "      <td>3.837348</td>\n",
       "      <td>2.327859</td>\n",
       "      <td>2.677007</td>\n",
       "      <td>2.68017</td>\n",
       "      <td>0.400973</td>\n",
       "      <td>3.786861</td>\n",
       "      <td>...</td>\n",
       "      <td>4.345742</td>\n",
       "      <td>0.196010</td>\n",
       "      <td>5.530262</td>\n",
       "      <td>2.760255</td>\n",
       "      <td>5.963954</td>\n",
       "      <td>5.020073</td>\n",
       "      <td>0.047567</td>\n",
       "      <td>0.419830</td>\n",
       "      <td>0.419465</td>\n",
       "      <td>0.164234</td>\n",
       "    </tr>\n",
       "    <tr>\n",
       "      <th>std</th>\n",
       "      <td>2416.638105</td>\n",
       "      <td>0.500030</td>\n",
       "      <td>3.559995</td>\n",
       "      <td>3.554904</td>\n",
       "      <td>3.594644</td>\n",
       "      <td>1.037995</td>\n",
       "      <td>1.111031</td>\n",
       "      <td>1.11304</td>\n",
       "      <td>0.490125</td>\n",
       "      <td>2.847048</td>\n",
       "      <td>...</td>\n",
       "      <td>2.717269</td>\n",
       "      <td>0.303539</td>\n",
       "      <td>1.730610</td>\n",
       "      <td>2.535208</td>\n",
       "      <td>2.068454</td>\n",
       "      <td>2.299052</td>\n",
       "      <td>0.276949</td>\n",
       "      <td>0.493561</td>\n",
       "      <td>0.493501</td>\n",
       "      <td>0.370510</td>\n",
       "    </tr>\n",
       "    <tr>\n",
       "      <th>min</th>\n",
       "      <td>0.000000</td>\n",
       "      <td>0.000000</td>\n",
       "      <td>18.000000</td>\n",
       "      <td>18.000000</td>\n",
       "      <td>0.000000</td>\n",
       "      <td>1.000000</td>\n",
       "      <td>1.000000</td>\n",
       "      <td>1.00000</td>\n",
       "      <td>0.000000</td>\n",
       "      <td>0.000000</td>\n",
       "      <td>...</td>\n",
       "      <td>0.000000</td>\n",
       "      <td>-0.830000</td>\n",
       "      <td>1.000000</td>\n",
       "      <td>0.000000</td>\n",
       "      <td>0.000000</td>\n",
       "      <td>0.000000</td>\n",
       "      <td>0.000000</td>\n",
       "      <td>0.000000</td>\n",
       "      <td>0.000000</td>\n",
       "      <td>0.000000</td>\n",
       "    </tr>\n",
       "    <tr>\n",
       "      <th>25%</th>\n",
       "      <td>2136.750000</td>\n",
       "      <td>0.000000</td>\n",
       "      <td>24.000000</td>\n",
       "      <td>24.000000</td>\n",
       "      <td>1.000000</td>\n",
       "      <td>1.000000</td>\n",
       "      <td>2.000000</td>\n",
       "      <td>2.00000</td>\n",
       "      <td>0.000000</td>\n",
       "      <td>1.000000</td>\n",
       "      <td>...</td>\n",
       "      <td>2.000000</td>\n",
       "      <td>-0.020000</td>\n",
       "      <td>5.000000</td>\n",
       "      <td>1.000000</td>\n",
       "      <td>5.000000</td>\n",
       "      <td>4.000000</td>\n",
       "      <td>0.000000</td>\n",
       "      <td>0.000000</td>\n",
       "      <td>0.000000</td>\n",
       "      <td>0.000000</td>\n",
       "    </tr>\n",
       "    <tr>\n",
       "      <th>50%</th>\n",
       "      <td>4191.500000</td>\n",
       "      <td>1.000000</td>\n",
       "      <td>26.000000</td>\n",
       "      <td>26.000000</td>\n",
       "      <td>3.000000</td>\n",
       "      <td>2.000000</td>\n",
       "      <td>3.000000</td>\n",
       "      <td>3.00000</td>\n",
       "      <td>0.000000</td>\n",
       "      <td>3.000000</td>\n",
       "      <td>...</td>\n",
       "      <td>4.000000</td>\n",
       "      <td>0.210000</td>\n",
       "      <td>6.000000</td>\n",
       "      <td>2.000000</td>\n",
       "      <td>6.000000</td>\n",
       "      <td>5.000000</td>\n",
       "      <td>0.000000</td>\n",
       "      <td>0.000000</td>\n",
       "      <td>0.000000</td>\n",
       "      <td>0.000000</td>\n",
       "    </tr>\n",
       "    <tr>\n",
       "      <th>75%</th>\n",
       "      <td>6322.250000</td>\n",
       "      <td>1.000000</td>\n",
       "      <td>28.000000</td>\n",
       "      <td>28.000000</td>\n",
       "      <td>5.000000</td>\n",
       "      <td>3.000000</td>\n",
       "      <td>3.000000</td>\n",
       "      <td>3.00000</td>\n",
       "      <td>1.000000</td>\n",
       "      <td>6.000000</td>\n",
       "      <td>...</td>\n",
       "      <td>7.000000</td>\n",
       "      <td>0.430000</td>\n",
       "      <td>7.000000</td>\n",
       "      <td>4.000000</td>\n",
       "      <td>7.000000</td>\n",
       "      <td>7.000000</td>\n",
       "      <td>0.000000</td>\n",
       "      <td>1.000000</td>\n",
       "      <td>1.000000</td>\n",
       "      <td>0.000000</td>\n",
       "    </tr>\n",
       "    <tr>\n",
       "      <th>max</th>\n",
       "      <td>8377.000000</td>\n",
       "      <td>1.000000</td>\n",
       "      <td>55.000000</td>\n",
       "      <td>55.000000</td>\n",
       "      <td>32.000000</td>\n",
       "      <td>4.000000</td>\n",
       "      <td>5.000000</td>\n",
       "      <td>5.00000</td>\n",
       "      <td>1.000000</td>\n",
       "      <td>10.000000</td>\n",
       "      <td>...</td>\n",
       "      <td>10.000000</td>\n",
       "      <td>0.910000</td>\n",
       "      <td>10.000000</td>\n",
       "      <td>18.000000</td>\n",
       "      <td>10.000000</td>\n",
       "      <td>10.000000</td>\n",
       "      <td>8.000000</td>\n",
       "      <td>1.000000</td>\n",
       "      <td>1.000000</td>\n",
       "      <td>1.000000</td>\n",
       "    </tr>\n",
       "  </tbody>\n",
       "</table>\n",
       "<p>8 rows × 67 columns</p>\n",
       "</div>"
      ],
      "text/plain": [
       "        Unnamed: 0       gender          age        age_o        d_age  \\\n",
       "count  8220.000000  8220.000000  8220.000000  8220.000000  8220.000000   \n",
       "mean   4212.978467     0.500608    26.353830    26.359971     3.837348   \n",
       "std    2416.638105     0.500030     3.559995     3.554904     3.594644   \n",
       "min       0.000000     0.000000    18.000000    18.000000     0.000000   \n",
       "25%    2136.750000     0.000000    24.000000    24.000000     1.000000   \n",
       "50%    4191.500000     1.000000    26.000000    26.000000     3.000000   \n",
       "75%    6322.250000     1.000000    28.000000    28.000000     5.000000   \n",
       "max    8377.000000     1.000000    55.000000    55.000000    32.000000   \n",
       "\n",
       "           d_d_age         race      race_o     samerace  \\\n",
       "count  8220.000000  8220.000000  8220.00000  8220.000000   \n",
       "mean      2.327859     2.677007     2.68017     0.400973   \n",
       "std       1.037995     1.111031     1.11304     0.490125   \n",
       "min       1.000000     1.000000     1.00000     0.000000   \n",
       "25%       1.000000     2.000000     2.00000     0.000000   \n",
       "50%       2.000000     3.000000     3.00000     0.000000   \n",
       "75%       3.000000     3.000000     3.00000     1.000000   \n",
       "max       4.000000     5.000000     5.00000     1.000000   \n",
       "\n",
       "       importance_same_race     ...              yoga  interests_correlate  \\\n",
       "count           8220.000000     ...       8220.000000          8220.000000   \n",
       "mean               3.786861     ...          4.345742             0.196010   \n",
       "std                2.847048     ...          2.717269             0.303539   \n",
       "min                0.000000     ...          0.000000            -0.830000   \n",
       "25%                1.000000     ...          2.000000            -0.020000   \n",
       "50%                3.000000     ...          4.000000             0.210000   \n",
       "75%                6.000000     ...          7.000000             0.430000   \n",
       "max               10.000000     ...         10.000000             0.910000   \n",
       "\n",
       "       expected_happy_with_sd_people  expected_num_matches         like  \\\n",
       "count                    8220.000000           8220.000000  8220.000000   \n",
       "mean                        5.530262              2.760255     5.963954   \n",
       "std                         1.730610              2.535208     2.068454   \n",
       "min                         1.000000              0.000000     0.000000   \n",
       "25%                         5.000000              1.000000     5.000000   \n",
       "50%                         6.000000              2.000000     6.000000   \n",
       "75%                         7.000000              4.000000     7.000000   \n",
       "max                        10.000000             18.000000    10.000000   \n",
       "\n",
       "       guess_prob_liked          met     decision   decision_o        match  \n",
       "count       8220.000000  8220.000000  8220.000000  8220.000000  8220.000000  \n",
       "mean           5.020073     0.047567     0.419830     0.419465     0.164234  \n",
       "std            2.299052     0.276949     0.493561     0.493501     0.370510  \n",
       "min            0.000000     0.000000     0.000000     0.000000     0.000000  \n",
       "25%            4.000000     0.000000     0.000000     0.000000     0.000000  \n",
       "50%            5.000000     0.000000     0.000000     0.000000     0.000000  \n",
       "75%            7.000000     0.000000     1.000000     1.000000     0.000000  \n",
       "max           10.000000     8.000000     1.000000     1.000000     1.000000  \n",
       "\n",
       "[8 rows x 67 columns]"
      ]
     },
     "execution_count": 6,
     "metadata": {},
     "output_type": "execute_result"
    }
   ],
   "source": [
    "data.describe()"
   ]
  },
  {
   "cell_type": "code",
   "execution_count": 7,
   "metadata": {},
   "outputs": [],
   "source": [
    "status, dataset = ds.upload_dataset(\"../Data/Speed_Dating_Clean.csv\")\n",
    "\n",
    "if not status:\n",
    "    print(dataset)"
   ]
  },
  {
   "cell_type": "code",
   "execution_count": 8,
   "metadata": {},
   "outputs": [
    {
     "data": {
      "text/plain": [
       "(True,\n",
       " [{'name': 'Speed_Dating_Clean.csv',\n",
       "   'mbytes': 2.1142759323120117,\n",
       "   'minimum_recommeded_train_time': '5 minutes',\n",
       "   'updated_at': '2019-04-11T13:51:41.541573',\n",
       "   'categorical': None,\n",
       "   'sequential': None,\n",
       "   'imbalanced': None}])"
      ]
     },
     "execution_count": 8,
     "metadata": {},
     "output_type": "execute_result"
    }
   ],
   "source": [
    "ds.lookup_dataset()"
   ]
  },
  {
   "cell_type": "code",
   "execution_count": 9,
   "metadata": {},
   "outputs": [
    {
     "name": "stdout",
     "output_type": "stream",
     "text": [
      "{'status': 'Requested', 'starttime': '2019-04-11T13:51:42.885514', 'endtime': None, 'percent_complete': 0, 'job_type': 'CleanDataTiny', 'loss': None, 'generations': None, 'dataset_names': ['Speed_Dating_Clean.csv'], 'artifact_names': ['c82b37bf7997455ebc197890729e238c'], 'model_name': None, 'job_error': None}\n",
      "{'status': 'Complete', 'starttime': '2019-04-11T13:51:42.885514', 'endtime': '2019-04-11T13:51:53.43086', 'percent_complete': 100, 'job_type': 'CleanDataTiny', 'loss': None, 'generations': None, 'dataset_names': ['Speed_Dating_Clean.csv'], 'artifact_names': ['c82b37bf7997455ebc197890729e238c'], 'model_name': None, 'job_error': ''}\n"
     ]
    }
   ],
   "source": [
    "target = \"match\"\n",
    "status, job_id = ds.clean_data(dataset_name, target = target)\n",
    "\n",
    "if status:\n",
    "    ds.wait_for_job(job_id['job_name'])\n",
    "else:\n",
    "    print(job_id)"
   ]
  },
  {
   "cell_type": "markdown",
   "metadata": {},
   "source": [
    "# Darwin Supervised Classification"
   ]
  },
  {
   "cell_type": "code",
   "execution_count": 10,
   "metadata": {},
   "outputs": [
    {
     "name": "stdout",
     "output_type": "stream",
     "text": [
      "{'status': 'Requested', 'starttime': '2019-04-11T13:51:59.189169', 'endtime': None, 'percent_complete': 0, 'job_type': 'TrainModel', 'loss': None, 'generations': 0, 'dataset_names': ['Speed_Dating_Clean.csv'], 'artifact_names': None, 'model_name': 'match_model20190412025132', 'job_error': None}\n",
      "{'status': 'Running', 'starttime': '2019-04-11T13:51:59.189169', 'endtime': None, 'percent_complete': 7, 'job_type': 'TrainModel', 'loss': 0.3132784068584442, 'generations': 1, 'dataset_names': ['Speed_Dating_Clean.csv'], 'artifact_names': None, 'model_name': 'match_model20190412025132', 'job_error': ''}\n",
      "{'status': 'Running', 'starttime': '2019-04-11T13:51:59.189169', 'endtime': None, 'percent_complete': 13, 'job_type': 'TrainModel', 'loss': 0.3132784068584442, 'generations': 2, 'dataset_names': ['Speed_Dating_Clean.csv'], 'artifact_names': None, 'model_name': 'match_model20190412025132', 'job_error': ''}\n",
      "{'status': 'Running', 'starttime': '2019-04-11T13:51:59.189169', 'endtime': None, 'percent_complete': 13, 'job_type': 'TrainModel', 'loss': 0.3132784068584442, 'generations': 2, 'dataset_names': ['Speed_Dating_Clean.csv'], 'artifact_names': None, 'model_name': 'match_model20190412025132', 'job_error': ''}\n",
      "{'status': 'Running', 'starttime': '2019-04-11T13:51:59.189169', 'endtime': None, 'percent_complete': 13, 'job_type': 'TrainModel', 'loss': 0.3132784068584442, 'generations': 2, 'dataset_names': ['Speed_Dating_Clean.csv'], 'artifact_names': None, 'model_name': 'match_model20190412025132', 'job_error': ''}\n",
      "{'status': 'Running', 'starttime': '2019-04-11T13:51:59.189169', 'endtime': None, 'percent_complete': 13, 'job_type': 'TrainModel', 'loss': 0.3132784068584442, 'generations': 2, 'dataset_names': ['Speed_Dating_Clean.csv'], 'artifact_names': None, 'model_name': 'match_model20190412025132', 'job_error': ''}\n",
      "{'status': 'Running', 'starttime': '2019-04-11T13:51:59.189169', 'endtime': None, 'percent_complete': 13, 'job_type': 'TrainModel', 'loss': 0.3132784068584442, 'generations': 2, 'dataset_names': ['Speed_Dating_Clean.csv'], 'artifact_names': None, 'model_name': 'match_model20190412025132', 'job_error': ''}\n",
      "{'status': 'Running', 'starttime': '2019-04-11T13:51:59.189169', 'endtime': None, 'percent_complete': 13, 'job_type': 'TrainModel', 'loss': 0.3132784068584442, 'generations': 2, 'dataset_names': ['Speed_Dating_Clean.csv'], 'artifact_names': None, 'model_name': 'match_model20190412025132', 'job_error': ''}\n",
      "{'status': 'Running', 'starttime': '2019-04-11T13:51:59.189169', 'endtime': None, 'percent_complete': 13, 'job_type': 'TrainModel', 'loss': 0.3132784068584442, 'generations': 2, 'dataset_names': ['Speed_Dating_Clean.csv'], 'artifact_names': None, 'model_name': 'match_model20190412025132', 'job_error': ''}\n",
      "{'status': 'Complete', 'starttime': '2019-04-11T13:51:59.189169', 'endtime': '2019-04-11T13:54:11.661991', 'percent_complete': 100, 'job_type': 'TrainModel', 'loss': 0.3132784068584442, 'generations': 2, 'dataset_names': ['Speed_Dating_Clean.csv'], 'artifact_names': None, 'model_name': 'match_model20190412025132', 'job_error': ''}\n"
     ]
    }
   ],
   "source": [
    "# Darwin Supervised Classification\n",
    "model = target + \"_model\" + ts\n",
    "status, job_id = ds.create_model(dataset_names = dataset_name,\n",
    "                                 model_name = model,\n",
    "                                 max_train_time = '00:02')\n",
    "\n",
    "if status:\n",
    "    ds.wait_for_job(job_id['job_name'])\n",
    "else:\n",
    "    print(job_id)"
   ]
  },
  {
   "cell_type": "code",
   "execution_count": 11,
   "metadata": {},
   "outputs": [
    {
     "name": "stdout",
     "output_type": "stream",
     "text": [
      "{'status': 'Requested', 'starttime': '2019-04-11T13:54:16.17318', 'endtime': None, 'percent_complete': 0, 'job_type': 'UpdateModel', 'loss': 0.3132784068584442, 'generations': 2, 'dataset_names': ['Speed_Dating_Clean.csv'], 'artifact_names': None, 'model_name': 'match_model20190412025132', 'job_error': None}\n",
      "{'status': 'Running', 'starttime': '2019-04-11T13:54:16.17318', 'endtime': None, 'percent_complete': 1, 'job_type': 'UpdateModel', 'loss': 0.3132784068584442, 'generations': 4, 'dataset_names': ['Speed_Dating_Clean.csv'], 'artifact_names': None, 'model_name': 'match_model20190412025132', 'job_error': ''}\n",
      "{'status': 'Running', 'starttime': '2019-04-11T13:54:16.17318', 'endtime': None, 'percent_complete': 2, 'job_type': 'UpdateModel', 'loss': 0.3132784068584442, 'generations': 5, 'dataset_names': ['Speed_Dating_Clean.csv'], 'artifact_names': None, 'model_name': 'match_model20190412025132', 'job_error': ''}\n",
      "{'status': 'Running', 'starttime': '2019-04-11T13:54:16.17318', 'endtime': None, 'percent_complete': 2, 'job_type': 'UpdateModel', 'loss': 0.3132784068584442, 'generations': 5, 'dataset_names': ['Speed_Dating_Clean.csv'], 'artifact_names': None, 'model_name': 'match_model20190412025132', 'job_error': ''}\n",
      "{'status': 'Running', 'starttime': '2019-04-11T13:54:16.17318', 'endtime': None, 'percent_complete': 2, 'job_type': 'UpdateModel', 'loss': 0.3132784068584442, 'generations': 5, 'dataset_names': ['Speed_Dating_Clean.csv'], 'artifact_names': None, 'model_name': 'match_model20190412025132', 'job_error': ''}\n",
      "{'status': 'Running', 'starttime': '2019-04-11T13:54:16.17318', 'endtime': None, 'percent_complete': 2, 'job_type': 'UpdateModel', 'loss': 0.3132784068584442, 'generations': 5, 'dataset_names': ['Speed_Dating_Clean.csv'], 'artifact_names': None, 'model_name': 'match_model20190412025132', 'job_error': ''}\n",
      "{'status': 'Running', 'starttime': '2019-04-11T13:54:16.17318', 'endtime': None, 'percent_complete': 2, 'job_type': 'UpdateModel', 'loss': 0.3132784068584442, 'generations': 5, 'dataset_names': ['Speed_Dating_Clean.csv'], 'artifact_names': None, 'model_name': 'match_model20190412025132', 'job_error': ''}\n",
      "{'status': 'Running', 'starttime': '2019-04-11T13:54:16.17318', 'endtime': None, 'percent_complete': 2, 'job_type': 'UpdateModel', 'loss': 0.3132784068584442, 'generations': 5, 'dataset_names': ['Speed_Dating_Clean.csv'], 'artifact_names': None, 'model_name': 'match_model20190412025132', 'job_error': ''}\n",
      "{'status': 'Running', 'starttime': '2019-04-11T13:54:16.17318', 'endtime': None, 'percent_complete': 2, 'job_type': 'UpdateModel', 'loss': 0.3132784068584442, 'generations': 5, 'dataset_names': ['Speed_Dating_Clean.csv'], 'artifact_names': None, 'model_name': 'match_model20190412025132', 'job_error': ''}\n",
      "{'status': 'Running', 'starttime': '2019-04-11T13:54:16.17318', 'endtime': None, 'percent_complete': 2, 'job_type': 'UpdateModel', 'loss': 0.3132784068584442, 'generations': 5, 'dataset_names': ['Speed_Dating_Clean.csv'], 'artifact_names': None, 'model_name': 'match_model20190412025132', 'job_error': ''}\n",
      "{'status': 'Running', 'starttime': '2019-04-11T13:54:16.17318', 'endtime': None, 'percent_complete': 2, 'job_type': 'UpdateModel', 'loss': 0.3132784068584442, 'generations': 5, 'dataset_names': ['Speed_Dating_Clean.csv'], 'artifact_names': None, 'model_name': 'match_model20190412025132', 'job_error': ''}\n",
      "{'status': 'Running', 'starttime': '2019-04-11T13:54:16.17318', 'endtime': None, 'percent_complete': 2, 'job_type': 'UpdateModel', 'loss': 0.3132784068584442, 'generations': 5, 'dataset_names': ['Speed_Dating_Clean.csv'], 'artifact_names': None, 'model_name': 'match_model20190412025132', 'job_error': ''}\n",
      "{'status': 'Running', 'starttime': '2019-04-11T13:54:16.17318', 'endtime': None, 'percent_complete': 2, 'job_type': 'UpdateModel', 'loss': 0.3132784068584442, 'generations': 5, 'dataset_names': ['Speed_Dating_Clean.csv'], 'artifact_names': None, 'model_name': 'match_model20190412025132', 'job_error': ''}\n",
      "{'status': 'Running', 'starttime': '2019-04-11T13:54:16.17318', 'endtime': None, 'percent_complete': 2, 'job_type': 'UpdateModel', 'loss': 0.3132784068584442, 'generations': 5, 'dataset_names': ['Speed_Dating_Clean.csv'], 'artifact_names': None, 'model_name': 'match_model20190412025132', 'job_error': ''}\n",
      "{'status': 'Running', 'starttime': '2019-04-11T13:54:16.17318', 'endtime': None, 'percent_complete': 2, 'job_type': 'UpdateModel', 'loss': 0.3132784068584442, 'generations': 5, 'dataset_names': ['Speed_Dating_Clean.csv'], 'artifact_names': None, 'model_name': 'match_model20190412025132', 'job_error': ''}\n",
      "{'status': 'Running', 'starttime': '2019-04-11T13:54:16.17318', 'endtime': None, 'percent_complete': 2, 'job_type': 'UpdateModel', 'loss': 0.3132784068584442, 'generations': 5, 'dataset_names': ['Speed_Dating_Clean.csv'], 'artifact_names': None, 'model_name': 'match_model20190412025132', 'job_error': ''}\n",
      "{'status': 'Running', 'starttime': '2019-04-11T13:54:16.17318', 'endtime': None, 'percent_complete': 2, 'job_type': 'UpdateModel', 'loss': 0.3132784068584442, 'generations': 5, 'dataset_names': ['Speed_Dating_Clean.csv'], 'artifact_names': None, 'model_name': 'match_model20190412025132', 'job_error': ''}\n",
      "{'status': 'Running', 'starttime': '2019-04-11T13:54:16.17318', 'endtime': None, 'percent_complete': 2, 'job_type': 'UpdateModel', 'loss': 0.3132784068584442, 'generations': 5, 'dataset_names': ['Speed_Dating_Clean.csv'], 'artifact_names': None, 'model_name': 'match_model20190412025132', 'job_error': ''}\n",
      "{'status': 'Running', 'starttime': '2019-04-11T13:54:16.17318', 'endtime': None, 'percent_complete': 33, 'job_type': 'UpdateModel', 'loss': 5.819041420147235e-08, 'generations': 5, 'dataset_names': ['Speed_Dating_Clean.csv'], 'artifact_names': None, 'model_name': 'match_model20190412025132', 'job_error': ''}\n",
      "{'status': 'Running', 'starttime': '2019-04-11T13:54:16.17318', 'endtime': None, 'percent_complete': 33, 'job_type': 'UpdateModel', 'loss': 5.819041420147235e-08, 'generations': 5, 'dataset_names': ['Speed_Dating_Clean.csv'], 'artifact_names': None, 'model_name': 'match_model20190412025132', 'job_error': ''}\n",
      "{'status': 'Running', 'starttime': '2019-04-11T13:54:16.17318', 'endtime': None, 'percent_complete': 33, 'job_type': 'UpdateModel', 'loss': 5.819041420147235e-08, 'generations': 5, 'dataset_names': ['Speed_Dating_Clean.csv'], 'artifact_names': None, 'model_name': 'match_model20190412025132', 'job_error': ''}\n",
      "{'status': 'Running', 'starttime': '2019-04-11T13:54:16.17318', 'endtime': None, 'percent_complete': 33, 'job_type': 'UpdateModel', 'loss': 5.819041420147235e-08, 'generations': 5, 'dataset_names': ['Speed_Dating_Clean.csv'], 'artifact_names': None, 'model_name': 'match_model20190412025132', 'job_error': ''}\n",
      "{'status': 'Complete', 'starttime': '2019-04-11T13:54:16.17318', 'endtime': '2019-04-11T13:59:44.001864', 'percent_complete': 100, 'job_type': 'UpdateModel', 'loss': 5.819041420147235e-08, 'generations': 5, 'dataset_names': ['Speed_Dating_Clean.csv'], 'artifact_names': None, 'model_name': 'match_model20190412025132', 'job_error': ''}\n"
     ]
    }
   ],
   "source": [
    "status, job_id = ds.resume_training_model(dataset_names = dataset_name, \n",
    "                                         model_name = model,\n",
    "                                         max_train_time = '00:05')\n",
    "\n",
    "if status:\n",
    "    ds.wait_for_job(job_id['job_name'])\n",
    "else:\n",
    "    print(job_id)"
   ]
  },
  {
   "cell_type": "code",
   "execution_count": 12,
   "metadata": {},
   "outputs": [
    {
     "name": "stdout",
     "output_type": "stream",
     "text": [
      "{'status': 'Running', 'starttime': '2019-04-11T13:59:49.292738', 'endtime': None, 'percent_complete': 0, 'job_type': 'AnalyzeModel', 'loss': 5.819041420147235e-08, 'generations': 5, 'dataset_names': None, 'artifact_names': ['d88427d13472446394ae05384c41c0a0'], 'model_name': 'match_model20190412025132', 'job_error': ''}\n",
      "{'status': 'Complete', 'starttime': '2019-04-11T13:59:49.292738', 'endtime': '2019-04-11T13:59:51.377993', 'percent_complete': 100, 'job_type': 'AnalyzeModel', 'loss': 5.819041420147235e-08, 'generations': 5, 'dataset_names': None, 'artifact_names': ['d88427d13472446394ae05384c41c0a0'], 'model_name': 'match_model20190412025132', 'job_error': ''}\n"
     ]
    }
   ],
   "source": [
    "status, artifact = ds.analyze_model(model)\n",
    "sleep(1)\n",
    "if status:\n",
    "    ds.wait_for_job(artifact['job_name'])\n",
    "else:\n",
    "    print(artifact)\n",
    "status, feature_importance = ds.download_artifact(artifact['artifact_name'])"
   ]
  },
  {
   "cell_type": "code",
   "execution_count": 13,
   "metadata": {},
   "outputs": [
    {
     "data": {
      "text/plain": [
       "decision_o = 1              0.194510\n",
       "decision = 1                0.176940\n",
       "like                        0.029740\n",
       "attractive_partner          0.028867\n",
       "attractive_o                0.027861\n",
       "funny_o                     0.022413\n",
       "funny_partner               0.019953\n",
       "guess_prob_liked            0.018644\n",
       "shared_interests_partner    0.018415\n",
       "shared_interests_o          0.017793\n",
       "dtype: float64"
      ]
     },
     "execution_count": 13,
     "metadata": {},
     "output_type": "execute_result"
    }
   ],
   "source": [
    "feature_importance[:10]"
   ]
  },
  {
   "cell_type": "code",
   "execution_count": 14,
   "metadata": {},
   "outputs": [
    {
     "name": "stdout",
     "output_type": "stream",
     "text": [
      "{'status': 'Running', 'starttime': '2019-04-11T14:00:07.344325', 'endtime': None, 'percent_complete': 0, 'job_type': 'RunModel', 'loss': 5.819041420147235e-08, 'generations': 5, 'dataset_names': ['Speed_Dating_Clean.csv'], 'artifact_names': ['c8914cd9d2d745b798db14855c9625e0'], 'model_name': 'match_model20190412025132', 'job_error': ''}\n",
      "{'status': 'Complete', 'starttime': '2019-04-11T14:00:07.344325', 'endtime': '2019-04-11T14:00:08.966154', 'percent_complete': 100, 'job_type': 'RunModel', 'loss': 5.819041420147235e-08, 'generations': 5, 'dataset_names': ['Speed_Dating_Clean.csv'], 'artifact_names': ['c8914cd9d2d745b798db14855c9625e0'], 'model_name': 'match_model20190412025132', 'job_error': ''}\n"
     ]
    },
    {
     "data": {
      "text/plain": [
       "(True, 'Job completed')"
      ]
     },
     "execution_count": 14,
     "metadata": {},
     "output_type": "execute_result"
    }
   ],
   "source": [
    "status, artifact = ds.run_model(dataset_name, model)\n",
    "sleep(1)\n",
    "ds.wait_for_job(artifact['job_name'])"
   ]
  },
  {
   "cell_type": "code",
   "execution_count": 15,
   "metadata": {},
   "outputs": [
    {
     "data": {
      "text/html": [
       "<div>\n",
       "<style scoped>\n",
       "    .dataframe tbody tr th:only-of-type {\n",
       "        vertical-align: middle;\n",
       "    }\n",
       "\n",
       "    .dataframe tbody tr th {\n",
       "        vertical-align: top;\n",
       "    }\n",
       "\n",
       "    .dataframe thead th {\n",
       "        text-align: right;\n",
       "    }\n",
       "</style>\n",
       "<table border=\"1\" class=\"dataframe\">\n",
       "  <thead>\n",
       "    <tr style=\"text-align: right;\">\n",
       "      <th></th>\n",
       "      <th>match</th>\n",
       "      <th>prob_0</th>\n",
       "      <th>prob_1</th>\n",
       "    </tr>\n",
       "  </thead>\n",
       "  <tbody>\n",
       "    <tr>\n",
       "      <th>0</th>\n",
       "      <td>0</td>\n",
       "      <td>1.000000e+00</td>\n",
       "      <td>1.220000e-08</td>\n",
       "    </tr>\n",
       "    <tr>\n",
       "      <th>1</th>\n",
       "      <td>0</td>\n",
       "      <td>1.000000e+00</td>\n",
       "      <td>2.050000e-08</td>\n",
       "    </tr>\n",
       "    <tr>\n",
       "      <th>2</th>\n",
       "      <td>1</td>\n",
       "      <td>8.700000e-09</td>\n",
       "      <td>1.000000e+00</td>\n",
       "    </tr>\n",
       "    <tr>\n",
       "      <th>3</th>\n",
       "      <td>1</td>\n",
       "      <td>4.100000e-09</td>\n",
       "      <td>1.000000e+00</td>\n",
       "    </tr>\n",
       "    <tr>\n",
       "      <th>4</th>\n",
       "      <td>1</td>\n",
       "      <td>6.200000e-09</td>\n",
       "      <td>1.000000e+00</td>\n",
       "    </tr>\n",
       "  </tbody>\n",
       "</table>\n",
       "</div>"
      ],
      "text/plain": [
       "   match        prob_0        prob_1\n",
       "0      0  1.000000e+00  1.220000e-08\n",
       "1      0  1.000000e+00  2.050000e-08\n",
       "2      1  8.700000e-09  1.000000e+00\n",
       "3      1  4.100000e-09  1.000000e+00\n",
       "4      1  6.200000e-09  1.000000e+00"
      ]
     },
     "execution_count": 15,
     "metadata": {},
     "output_type": "execute_result"
    }
   ],
   "source": [
    "status, prediction = ds.download_artifact(artifact['artifact_name'])\n",
    "prediction.head()"
   ]
  },
  {
   "cell_type": "code",
   "execution_count": 16,
   "metadata": {},
   "outputs": [
    {
     "name": "stdout",
     "output_type": "stream",
     "text": [
      "              precision    recall  f1-score   support\n",
      "\n",
      "           0       1.00      1.00      1.00      6870\n",
      "           1       1.00      1.00      1.00      1350\n",
      "\n",
      "   micro avg       1.00      1.00      1.00      8220\n",
      "   macro avg       1.00      1.00      1.00      8220\n",
      "weighted avg       1.00      1.00      1.00      8220\n",
      "\n"
     ]
    },
    {
     "data": {
      "image/png": "[encoded data removed]",
      "text/plain": [
       "<Figure size 432x288 with 1 Axes>"
      ]
     },
     "metadata": {
      "needs_background": "light"
     },
     "output_type": "display_data"
    }
   ],
   "source": [
    "unq = prediction[target].unique()[::-1]\n",
    "p = np.zeros((len(prediction),))\n",
    "a = np.zeros((len(prediction),))\n",
    "for i,q in enumerate(unq):\n",
    "    p += i*(prediction[target] == q).values\n",
    "    a += i*(data[target] == q).values\n",
    "#Plot predictions vs actual\n",
    "plt.plot(a)\n",
    "plt.plot(p)\n",
    "plt.legend(['Actual','Predicted'])\n",
    "plt.yticks([i for i in range(len(unq))],[q for q in unq]);\n",
    "print(classification_report(data[target], prediction[target]))"
   ]
  },
  {
   "cell_type": "code",
   "execution_count": 17,
   "metadata": {},
   "outputs": [
    {
     "name": "stdout",
     "output_type": "stream",
     "text": [
      "[{'layer 1': {'type': 'LinearGene', 'parameters': {'activation': 'relu', 'numunits': 461}}}, {'layer 2': {'type': 'LinearGene', 'parameters': {'activation': 'relu', 'numunits': 2}}}]\n"
     ]
    }
   ],
   "source": [
    "status, model_type = ds.lookup_model_name(model)\n",
    "print(model_type['description']['best_genome'])"
   ]
  },
  {
   "cell_type": "markdown",
   "metadata": {},
   "source": [
    "# Darwin Supervised Regression"
   ]
  },
  {
   "cell_type": "code",
   "execution_count": 18,
   "metadata": {},
   "outputs": [
    {
     "name": "stdout",
     "output_type": "stream",
     "text": [
      "{'status': 'Requested', 'starttime': '2019-04-11T14:00:26.638472', 'endtime': None, 'percent_complete': 0, 'job_type': 'TrainModel', 'loss': None, 'generations': 0, 'dataset_names': ['Speed_Dating_Clean.csv'], 'artifact_names': None, 'model_name': 'match_model020190412025132', 'job_error': None}\n",
      "{'status': 'Running', 'starttime': '2019-04-11T14:00:26.638472', 'endtime': None, 'percent_complete': 7, 'job_type': 'TrainModel', 'loss': 0.31332650780677795, 'generations': 2, 'dataset_names': ['Speed_Dating_Clean.csv'], 'artifact_names': None, 'model_name': 'match_model020190412025132', 'job_error': ''}\n",
      "{'status': 'Running', 'starttime': '2019-04-11T14:00:26.638472', 'endtime': None, 'percent_complete': 7, 'job_type': 'TrainModel', 'loss': 0.31332650780677795, 'generations': 2, 'dataset_names': ['Speed_Dating_Clean.csv'], 'artifact_names': None, 'model_name': 'match_model020190412025132', 'job_error': ''}\n",
      "{'status': 'Running', 'starttime': '2019-04-11T14:00:26.638472', 'endtime': None, 'percent_complete': 7, 'job_type': 'TrainModel', 'loss': 0.31332650780677795, 'generations': 2, 'dataset_names': ['Speed_Dating_Clean.csv'], 'artifact_names': None, 'model_name': 'match_model020190412025132', 'job_error': ''}\n",
      "{'status': 'Running', 'starttime': '2019-04-11T14:00:26.638472', 'endtime': None, 'percent_complete': 7, 'job_type': 'TrainModel', 'loss': 0.31332650780677795, 'generations': 2, 'dataset_names': ['Speed_Dating_Clean.csv'], 'artifact_names': None, 'model_name': 'match_model020190412025132', 'job_error': ''}\n",
      "{'status': 'Running', 'starttime': '2019-04-11T14:00:26.638472', 'endtime': None, 'percent_complete': 7, 'job_type': 'TrainModel', 'loss': 0.31332650780677795, 'generations': 2, 'dataset_names': ['Speed_Dating_Clean.csv'], 'artifact_names': None, 'model_name': 'match_model020190412025132', 'job_error': ''}\n",
      "{'status': 'Running', 'starttime': '2019-04-11T14:00:26.638472', 'endtime': None, 'percent_complete': 7, 'job_type': 'TrainModel', 'loss': 0.31332650780677795, 'generations': 2, 'dataset_names': ['Speed_Dating_Clean.csv'], 'artifact_names': None, 'model_name': 'match_model020190412025132', 'job_error': ''}\n",
      "{'status': 'Running', 'starttime': '2019-04-11T14:00:26.638472', 'endtime': None, 'percent_complete': 7, 'job_type': 'TrainModel', 'loss': 0.31332650780677795, 'generations': 2, 'dataset_names': ['Speed_Dating_Clean.csv'], 'artifact_names': None, 'model_name': 'match_model020190412025132', 'job_error': ''}\n",
      "{'status': 'Running', 'starttime': '2019-04-11T14:00:26.638472', 'endtime': None, 'percent_complete': 7, 'job_type': 'TrainModel', 'loss': 0.31332650780677795, 'generations': 2, 'dataset_names': ['Speed_Dating_Clean.csv'], 'artifact_names': None, 'model_name': 'match_model020190412025132', 'job_error': ''}\n",
      "{'status': 'Complete', 'starttime': '2019-04-11T14:00:26.638472', 'endtime': '2019-04-11T14:02:38.292242', 'percent_complete': 100, 'job_type': 'TrainModel', 'loss': 0.31332650780677795, 'generations': 2, 'dataset_names': ['Speed_Dating_Clean.csv'], 'artifact_names': None, 'model_name': 'match_model020190412025132', 'job_error': ''}\n"
     ]
    }
   ],
   "source": [
    "# Darwin Supervised Regression\n",
    "model = target + \"_model0\" + ts\n",
    "status, job_id = ds.create_model(dataset_names = dataset_name,\n",
    "                                 model_name =  model,\n",
    "                                 max_train_time = '00:02')\n",
    "if status:\n",
    "    ds.wait_for_job(job_id['job_name'])\n",
    "else:\n",
    "    print(job_id)"
   ]
  },
  {
   "cell_type": "code",
   "execution_count": 19,
   "metadata": {},
   "outputs": [
    {
     "name": "stdout",
     "output_type": "stream",
     "text": [
      "{'status': 'Taken', 'starttime': '2019-04-11T14:02:44.252086', 'endtime': None, 'percent_complete': 0, 'job_type': 'UpdateModel', 'loss': 0.31332650780677795, 'generations': 2, 'dataset_names': ['Speed_Dating_Clean.csv'], 'artifact_names': None, 'model_name': 'match_model020190412025132', 'job_error': None}\n",
      "{'status': 'Running', 'starttime': '2019-04-11T14:02:44.252086', 'endtime': None, 'percent_complete': 1, 'job_type': 'UpdateModel', 'loss': 0.31332650780677795, 'generations': 4, 'dataset_names': ['Speed_Dating_Clean.csv'], 'artifact_names': None, 'model_name': 'match_model020190412025132', 'job_error': ''}\n",
      "{'status': 'Running', 'starttime': '2019-04-11T14:02:44.252086', 'endtime': None, 'percent_complete': 3, 'job_type': 'UpdateModel', 'loss': 0.31332650780677795, 'generations': 5, 'dataset_names': ['Speed_Dating_Clean.csv'], 'artifact_names': None, 'model_name': 'match_model020190412025132', 'job_error': ''}\n",
      "{'status': 'Running', 'starttime': '2019-04-11T14:02:44.252086', 'endtime': None, 'percent_complete': 3, 'job_type': 'UpdateModel', 'loss': 0.31332650780677795, 'generations': 5, 'dataset_names': ['Speed_Dating_Clean.csv'], 'artifact_names': None, 'model_name': 'match_model020190412025132', 'job_error': ''}\n",
      "{'status': 'Running', 'starttime': '2019-04-11T14:02:44.252086', 'endtime': None, 'percent_complete': 3, 'job_type': 'UpdateModel', 'loss': 0.31332650780677795, 'generations': 5, 'dataset_names': ['Speed_Dating_Clean.csv'], 'artifact_names': None, 'model_name': 'match_model020190412025132', 'job_error': ''}\n",
      "{'status': 'Running', 'starttime': '2019-04-11T14:02:44.252086', 'endtime': None, 'percent_complete': 3, 'job_type': 'UpdateModel', 'loss': 0.31332650780677795, 'generations': 5, 'dataset_names': ['Speed_Dating_Clean.csv'], 'artifact_names': None, 'model_name': 'match_model020190412025132', 'job_error': ''}\n",
      "{'status': 'Running', 'starttime': '2019-04-11T14:02:44.252086', 'endtime': None, 'percent_complete': 3, 'job_type': 'UpdateModel', 'loss': 0.31332650780677795, 'generations': 5, 'dataset_names': ['Speed_Dating_Clean.csv'], 'artifact_names': None, 'model_name': 'match_model020190412025132', 'job_error': ''}\n",
      "{'status': 'Running', 'starttime': '2019-04-11T14:02:44.252086', 'endtime': None, 'percent_complete': 3, 'job_type': 'UpdateModel', 'loss': 0.31332650780677795, 'generations': 5, 'dataset_names': ['Speed_Dating_Clean.csv'], 'artifact_names': None, 'model_name': 'match_model020190412025132', 'job_error': ''}\n",
      "{'status': 'Running', 'starttime': '2019-04-11T14:02:44.252086', 'endtime': None, 'percent_complete': 3, 'job_type': 'UpdateModel', 'loss': 0.31332650780677795, 'generations': 5, 'dataset_names': ['Speed_Dating_Clean.csv'], 'artifact_names': None, 'model_name': 'match_model020190412025132', 'job_error': ''}\n",
      "{'status': 'Running', 'starttime': '2019-04-11T14:02:44.252086', 'endtime': None, 'percent_complete': 3, 'job_type': 'UpdateModel', 'loss': 0.31332650780677795, 'generations': 5, 'dataset_names': ['Speed_Dating_Clean.csv'], 'artifact_names': None, 'model_name': 'match_model020190412025132', 'job_error': ''}\n",
      "{'status': 'Running', 'starttime': '2019-04-11T14:02:44.252086', 'endtime': None, 'percent_complete': 3, 'job_type': 'UpdateModel', 'loss': 0.31332650780677795, 'generations': 5, 'dataset_names': ['Speed_Dating_Clean.csv'], 'artifact_names': None, 'model_name': 'match_model020190412025132', 'job_error': ''}\n",
      "{'status': 'Running', 'starttime': '2019-04-11T14:02:44.252086', 'endtime': None, 'percent_complete': 3, 'job_type': 'UpdateModel', 'loss': 0.31332650780677795, 'generations': 5, 'dataset_names': ['Speed_Dating_Clean.csv'], 'artifact_names': None, 'model_name': 'match_model020190412025132', 'job_error': ''}\n",
      "{'status': 'Running', 'starttime': '2019-04-11T14:02:44.252086', 'endtime': None, 'percent_complete': 3, 'job_type': 'UpdateModel', 'loss': 0.31332650780677795, 'generations': 5, 'dataset_names': ['Speed_Dating_Clean.csv'], 'artifact_names': None, 'model_name': 'match_model020190412025132', 'job_error': ''}\n",
      "{'status': 'Running', 'starttime': '2019-04-11T14:02:44.252086', 'endtime': None, 'percent_complete': 3, 'job_type': 'UpdateModel', 'loss': 0.31332650780677795, 'generations': 5, 'dataset_names': ['Speed_Dating_Clean.csv'], 'artifact_names': None, 'model_name': 'match_model020190412025132', 'job_error': ''}\n",
      "{'status': 'Running', 'starttime': '2019-04-11T14:02:44.252086', 'endtime': None, 'percent_complete': 3, 'job_type': 'UpdateModel', 'loss': 0.31332650780677795, 'generations': 5, 'dataset_names': ['Speed_Dating_Clean.csv'], 'artifact_names': None, 'model_name': 'match_model020190412025132', 'job_error': ''}\n",
      "{'status': 'Running', 'starttime': '2019-04-11T14:02:44.252086', 'endtime': None, 'percent_complete': 3, 'job_type': 'UpdateModel', 'loss': 0.31332650780677795, 'generations': 5, 'dataset_names': ['Speed_Dating_Clean.csv'], 'artifact_names': None, 'model_name': 'match_model020190412025132', 'job_error': ''}\n",
      "{'status': 'Running', 'starttime': '2019-04-11T14:02:44.252086', 'endtime': None, 'percent_complete': 3, 'job_type': 'UpdateModel', 'loss': 0.31332650780677795, 'generations': 5, 'dataset_names': ['Speed_Dating_Clean.csv'], 'artifact_names': None, 'model_name': 'match_model020190412025132', 'job_error': ''}\n",
      "{'status': 'Running', 'starttime': '2019-04-11T14:02:44.252086', 'endtime': None, 'percent_complete': 33, 'job_type': 'UpdateModel', 'loss': 7.87632805960519e-08, 'generations': 5, 'dataset_names': ['Speed_Dating_Clean.csv'], 'artifact_names': None, 'model_name': 'match_model020190412025132', 'job_error': ''}\n",
      "{'status': 'Running', 'starttime': '2019-04-11T14:02:44.252086', 'endtime': None, 'percent_complete': 33, 'job_type': 'UpdateModel', 'loss': 7.87632805960519e-08, 'generations': 5, 'dataset_names': ['Speed_Dating_Clean.csv'], 'artifact_names': None, 'model_name': 'match_model020190412025132', 'job_error': ''}\n",
      "{'status': 'Running', 'starttime': '2019-04-11T14:02:44.252086', 'endtime': None, 'percent_complete': 33, 'job_type': 'UpdateModel', 'loss': 7.87632805960519e-08, 'generations': 5, 'dataset_names': ['Speed_Dating_Clean.csv'], 'artifact_names': None, 'model_name': 'match_model020190412025132', 'job_error': ''}\n",
      "{'status': 'Running', 'starttime': '2019-04-11T14:02:44.252086', 'endtime': None, 'percent_complete': 33, 'job_type': 'UpdateModel', 'loss': 7.87632805960519e-08, 'generations': 5, 'dataset_names': ['Speed_Dating_Clean.csv'], 'artifact_names': None, 'model_name': 'match_model020190412025132', 'job_error': ''}\n",
      "{'status': 'Running', 'starttime': '2019-04-11T14:02:44.252086', 'endtime': None, 'percent_complete': 33, 'job_type': 'UpdateModel', 'loss': 7.87632805960519e-08, 'generations': 5, 'dataset_names': ['Speed_Dating_Clean.csv'], 'artifact_names': None, 'model_name': 'match_model020190412025132', 'job_error': ''}\n",
      "{'status': 'Complete', 'starttime': '2019-04-11T14:02:44.252086', 'endtime': '2019-04-11T14:08:10.937775', 'percent_complete': 100, 'job_type': 'UpdateModel', 'loss': 7.87632805960519e-08, 'generations': 5, 'dataset_names': ['Speed_Dating_Clean.csv'], 'artifact_names': None, 'model_name': 'match_model020190412025132', 'job_error': ''}\n"
     ]
    }
   ],
   "source": [
    "status, job_id = ds.resume_training_model(dataset_names = dataset_name,\n",
    "                                          model_name = model,\n",
    "                                          max_train_time = '00:05')\n",
    "                                          \n",
    "if status:\n",
    "    ds.wait_for_job(job_id['job_name'])\n",
    "else:\n",
    "    print(job_id)"
   ]
  },
  {
   "cell_type": "code",
   "execution_count": 20,
   "metadata": {},
   "outputs": [
    {
     "name": "stdout",
     "output_type": "stream",
     "text": [
      "{'status': 'Running', 'starttime': '2019-04-11T14:08:17.440411', 'endtime': None, 'percent_complete': 0, 'job_type': 'AnalyzeModel', 'loss': 7.87632805960519e-08, 'generations': 5, 'dataset_names': None, 'artifact_names': ['53ba06b67d5c4d0c913606ac81b9c1f4'], 'model_name': 'match_model020190412025132', 'job_error': ''}\n",
      "{'status': 'Complete', 'starttime': '2019-04-11T14:08:17.440411', 'endtime': '2019-04-11T14:08:19.351086', 'percent_complete': 100, 'job_type': 'AnalyzeModel', 'loss': 7.87632805960519e-08, 'generations': 5, 'dataset_names': None, 'artifact_names': ['53ba06b67d5c4d0c913606ac81b9c1f4'], 'model_name': 'match_model020190412025132', 'job_error': ''}\n"
     ]
    }
   ],
   "source": [
    "status, artifact = ds.analyze_model(model)\n",
    "sleep(1)\n",
    "if status:\n",
    "    ds.wait_for_job(artifact['job_name'])\n",
    "else:\n",
    "    print(artifact)\n",
    "status, feature_importance = ds.download_artifact(artifact['artifact_name'])"
   ]
  },
  {
   "cell_type": "code",
   "execution_count": 21,
   "metadata": {},
   "outputs": [
    {
     "data": {
      "text/plain": [
       "decision = 1                0.191843\n",
       "decision_o = 1              0.180428\n",
       "shared_interests_o          0.031752\n",
       "like                        0.027454\n",
       "attractive_partner          0.027270\n",
       "funny_o                     0.023393\n",
       "funny_partner               0.021895\n",
       "attractive_o                0.021524\n",
       "shared_interests_partner    0.020063\n",
       "guess_prob_liked            0.017229\n",
       "dtype: float64"
      ]
     },
     "execution_count": 21,
     "metadata": {},
     "output_type": "execute_result"
    }
   ],
   "source": [
    "feature_importance[:10]"
   ]
  },
  {
   "cell_type": "code",
   "execution_count": 22,
   "metadata": {},
   "outputs": [
    {
     "name": "stdout",
     "output_type": "stream",
     "text": [
      "{'status': 'Running', 'starttime': '2019-04-11T14:08:35.582107', 'endtime': None, 'percent_complete': 0, 'job_type': 'RunModel', 'loss': 7.87632805960519e-08, 'generations': 5, 'dataset_names': ['Speed_Dating_Clean.csv'], 'artifact_names': ['8ddca46bfd634aa9bd98c77d862bd5a8'], 'model_name': 'match_model020190412025132', 'job_error': ''}\n",
      "{'status': 'Complete', 'starttime': '2019-04-11T14:08:35.582107', 'endtime': '2019-04-11T14:08:37.013844', 'percent_complete': 100, 'job_type': 'RunModel', 'loss': 7.87632805960519e-08, 'generations': 5, 'dataset_names': ['Speed_Dating_Clean.csv'], 'artifact_names': ['8ddca46bfd634aa9bd98c77d862bd5a8'], 'model_name': 'match_model020190412025132', 'job_error': ''}\n"
     ]
    },
    {
     "data": {
      "text/plain": [
       "(True, 'Job completed')"
      ]
     },
     "execution_count": 22,
     "metadata": {},
     "output_type": "execute_result"
    }
   ],
   "source": [
    "status, artifact = ds.run_model(dataset_name, model)\n",
    "sleep(1)\n",
    "ds.wait_for_job(artifact['job_name'])"
   ]
  },
  {
   "cell_type": "code",
   "execution_count": 23,
   "metadata": {},
   "outputs": [
    {
     "data": {
      "text/html": [
       "<div>\n",
       "<style scoped>\n",
       "    .dataframe tbody tr th:only-of-type {\n",
       "        vertical-align: middle;\n",
       "    }\n",
       "\n",
       "    .dataframe tbody tr th {\n",
       "        vertical-align: top;\n",
       "    }\n",
       "\n",
       "    .dataframe thead th {\n",
       "        text-align: right;\n",
       "    }\n",
       "</style>\n",
       "<table border=\"1\" class=\"dataframe\">\n",
       "  <thead>\n",
       "    <tr style=\"text-align: right;\">\n",
       "      <th></th>\n",
       "      <th>match</th>\n",
       "      <th>prob_0</th>\n",
       "      <th>prob_1</th>\n",
       "    </tr>\n",
       "  </thead>\n",
       "  <tbody>\n",
       "    <tr>\n",
       "      <th>0</th>\n",
       "      <td>0</td>\n",
       "      <td>1.000000e+00</td>\n",
       "      <td>9.000000e-09</td>\n",
       "    </tr>\n",
       "    <tr>\n",
       "      <th>1</th>\n",
       "      <td>0</td>\n",
       "      <td>1.000000e+00</td>\n",
       "      <td>1.500000e-08</td>\n",
       "    </tr>\n",
       "    <tr>\n",
       "      <th>2</th>\n",
       "      <td>1</td>\n",
       "      <td>4.000000e-09</td>\n",
       "      <td>1.000000e+00</td>\n",
       "    </tr>\n",
       "    <tr>\n",
       "      <th>3</th>\n",
       "      <td>1</td>\n",
       "      <td>3.800000e-09</td>\n",
       "      <td>1.000000e+00</td>\n",
       "    </tr>\n",
       "    <tr>\n",
       "      <th>4</th>\n",
       "      <td>1</td>\n",
       "      <td>5.600000e-09</td>\n",
       "      <td>1.000000e+00</td>\n",
       "    </tr>\n",
       "  </tbody>\n",
       "</table>\n",
       "</div>"
      ],
      "text/plain": [
       "   match        prob_0        prob_1\n",
       "0      0  1.000000e+00  9.000000e-09\n",
       "1      0  1.000000e+00  1.500000e-08\n",
       "2      1  4.000000e-09  1.000000e+00\n",
       "3      1  3.800000e-09  1.000000e+00\n",
       "4      1  5.600000e-09  1.000000e+00"
      ]
     },
     "execution_count": 23,
     "metadata": {},
     "output_type": "execute_result"
    }
   ],
   "source": [
    "status, prediction = ds.download_artifact(artifact['artifact_name'])\n",
    "prediction.head()"
   ]
  },
  {
   "cell_type": "code",
   "execution_count": 24,
   "metadata": {},
   "outputs": [
    {
     "name": "stdout",
     "output_type": "stream",
     "text": [
      "R^2 :  1.0\n"
     ]
    },
    {
     "data": {
      "image/png": "[encoded data removed]",
      "text/plain": [
       "<Figure size 432x288 with 1 Axes>"
      ]
     },
     "metadata": {
      "needs_background": "light"
     },
     "output_type": "display_data"
    }
   ],
   "source": [
    "plt.plot(data[target], prediction[target], '.')\n",
    "plt.plot([0,2.3e7],[0,2.3e7],'--k')\n",
    "print('R^2 : ', r2_score(data[target], prediction[target]))"
   ]
  },
  {
   "cell_type": "code",
   "execution_count": 25,
   "metadata": {},
   "outputs": [
    {
     "name": "stdout",
     "output_type": "stream",
     "text": [
      "[{'layer 1': {'type': 'LinearGene', 'parameters': {'activation': 'relu', 'numunits': 299}}}, {'layer 2': {'type': 'LinearGene', 'parameters': {'activation': 'selu', 'numunits': 2}}}]\n"
     ]
    }
   ],
   "source": [
    "status, model_type = ds.lookup_model_name(model)\n",
    "print(model_type['description']['best_genome'])"
   ]
  },
  {
   "cell_type": "code",
   "execution_count": 26,
   "metadata": {},
   "outputs": [
    {
     "data": {
      "text/plain": [
       "'\\nds.delete_all_models()\\nds.delete_all_datasets()\\nds.delete_all_artifacts()\\n'"
      ]
     },
     "execution_count": 26,
     "metadata": {},
     "output_type": "execute_result"
    }
   ],
   "source": [
    "'''\n",
    "ds.delete_all_models()\n",
    "ds.delete_all_datasets()\n",
    "ds.delete_all_artifacts()\n",
    "'''"
   ]
  },
  {
   "cell_type": "code",
   "execution_count": 27,
   "metadata": {},
   "outputs": [
    {
     "data": {
      "text/plain": [
       "(True,\n",
       " [{'job_name': '2239f51414d742ed948a7438744600bf',\n",
       "   'job_id': '34b371e0-5c8d-11e9-b8f9-1b63252f24d5',\n",
       "   'status': 'Complete',\n",
       "   'starttime': '2019-04-11T14:08:35.582107',\n",
       "   'endtime': '2019-04-11T14:08:37.013844',\n",
       "   'percent_complete': 100,\n",
       "   'job_type': 'RunModel',\n",
       "   'loss': 7.87632805960519e-08,\n",
       "   'generations': 5,\n",
       "   'dataset_names': ['Speed_Dating_Clean.csv'],\n",
       "   'artifact_names': ['8ddca46bfd634aa9bd98c77d862bd5a8'],\n",
       "   'model_name': 'match_model020190412025132',\n",
       "   'job_error': ''},\n",
       "  {'job_name': '4d0a7e872a694559b9f8c26ce25d6223',\n",
       "   'job_id': '29e33aac-5c8d-11e9-b8f9-abf049934e3b',\n",
       "   'status': 'Complete',\n",
       "   'starttime': '2019-04-11T14:08:17.440411',\n",
       "   'endtime': '2019-04-11T14:08:19.351086',\n",
       "   'percent_complete': 100,\n",
       "   'job_type': 'AnalyzeModel',\n",
       "   'loss': 7.87632805960519e-08,\n",
       "   'generations': 5,\n",
       "   'dataset_names': None,\n",
       "   'artifact_names': ['53ba06b67d5c4d0c913606ac81b9c1f4'],\n",
       "   'model_name': 'match_model020190412025132',\n",
       "   'job_error': ''},\n",
       "  {'job_name': 'e002f223e40c48288e079c738edaaa19',\n",
       "   'job_id': '634ac004-5c8c-11e9-b8f9-5f9fb0df045a',\n",
       "   'status': 'Complete',\n",
       "   'starttime': '2019-04-11T14:02:44.252086',\n",
       "   'endtime': '2019-04-11T14:08:10.937775',\n",
       "   'percent_complete': 100,\n",
       "   'job_type': 'UpdateModel',\n",
       "   'loss': 7.87632805960519e-08,\n",
       "   'generations': 5,\n",
       "   'dataset_names': ['Speed_Dating_Clean.csv'],\n",
       "   'artifact_names': None,\n",
       "   'model_name': 'match_model020190412025132',\n",
       "   'job_error': ''},\n",
       "  {'job_name': 'ea2e47e3a0944179b36895ae2bc57b7d',\n",
       "   'job_id': '114492b2-5c8c-11e9-b8f9-f384a3c1d2e1',\n",
       "   'status': 'Complete',\n",
       "   'starttime': '2019-04-11T14:00:26.638472',\n",
       "   'endtime': '2019-04-11T14:02:38.292242',\n",
       "   'percent_complete': 100,\n",
       "   'job_type': 'TrainModel',\n",
       "   'loss': 7.87632805960519e-08,\n",
       "   'generations': 5,\n",
       "   'dataset_names': ['Speed_Dating_Clean.csv'],\n",
       "   'artifact_names': None,\n",
       "   'model_name': 'match_model020190412025132',\n",
       "   'job_error': ''},\n",
       "  {'job_name': '71dd6d25809e4f428f08b664dc67a3ab',\n",
       "   'job_id': '05c47e5c-5c8c-11e9-b8f9-235514ac78e8',\n",
       "   'status': 'Complete',\n",
       "   'starttime': '2019-04-11T14:00:07.344325',\n",
       "   'endtime': '2019-04-11T14:00:08.966154',\n",
       "   'percent_complete': 100,\n",
       "   'job_type': 'RunModel',\n",
       "   'loss': 5.819041420147235e-08,\n",
       "   'generations': 5,\n",
       "   'dataset_names': ['Speed_Dating_Clean.csv'],\n",
       "   'artifact_names': ['c8914cd9d2d745b798db14855c9625e0'],\n",
       "   'model_name': 'match_model20190412025132',\n",
       "   'job_error': ''},\n",
       "  {'job_name': '3dc7ce7dda6f42f18e132353964e2741',\n",
       "   'job_id': 'fb020b56-5c8b-11e9-968f-1fb43cd9958d',\n",
       "   'status': 'Complete',\n",
       "   'starttime': '2019-04-11T13:59:49.292738',\n",
       "   'endtime': '2019-04-11T13:59:51.377993',\n",
       "   'percent_complete': 100,\n",
       "   'job_type': 'AnalyzeModel',\n",
       "   'loss': 5.819041420147235e-08,\n",
       "   'generations': 5,\n",
       "   'dataset_names': None,\n",
       "   'artifact_names': ['d88427d13472446394ae05384c41c0a0'],\n",
       "   'model_name': 'match_model20190412025132',\n",
       "   'job_error': ''},\n",
       "  {'job_name': '07d77ce38bc64ea792ab88d81623b5f7',\n",
       "   'job_id': '347416be-5c8b-11e9-b8f9-77230f2165d3',\n",
       "   'status': 'Complete',\n",
       "   'starttime': '2019-04-11T13:54:16.17318',\n",
       "   'endtime': '2019-04-11T13:59:44.001864',\n",
       "   'percent_complete': 100,\n",
       "   'job_type': 'UpdateModel',\n",
       "   'loss': 5.819041420147235e-08,\n",
       "   'generations': 5,\n",
       "   'dataset_names': ['Speed_Dating_Clean.csv'],\n",
       "   'artifact_names': None,\n",
       "   'model_name': 'match_model20190412025132',\n",
       "   'job_error': ''},\n",
       "  {'job_name': '2989c27c65ff4a119d9f1227b06e99ea',\n",
       "   'job_id': 'e2cdf500-5c8a-11e9-968f-5747056287a3',\n",
       "   'status': 'Complete',\n",
       "   'starttime': '2019-04-11T13:51:59.189169',\n",
       "   'endtime': '2019-04-11T13:54:11.661991',\n",
       "   'percent_complete': 100,\n",
       "   'job_type': 'TrainModel',\n",
       "   'loss': 5.819041420147235e-08,\n",
       "   'generations': 5,\n",
       "   'dataset_names': ['Speed_Dating_Clean.csv'],\n",
       "   'artifact_names': None,\n",
       "   'model_name': 'match_model20190412025132',\n",
       "   'job_error': ''},\n",
       "  {'job_name': 'abecc4e94c7645a8bec0a908377477de',\n",
       "   'job_id': 'd9163054-5c8a-11e9-968f-879befc46d10',\n",
       "   'status': 'Complete',\n",
       "   'starttime': '2019-04-11T13:51:42.885514',\n",
       "   'endtime': '2019-04-11T13:51:53.43086',\n",
       "   'percent_complete': 100,\n",
       "   'job_type': 'CleanDataTiny',\n",
       "   'loss': None,\n",
       "   'generations': None,\n",
       "   'dataset_names': ['Speed_Dating_Clean.csv'],\n",
       "   'artifact_names': ['c82b37bf7997455ebc197890729e238c'],\n",
       "   'model_name': None,\n",
       "   'job_error': ''}])"
      ]
     },
     "execution_count": 27,
     "metadata": {},
     "output_type": "execute_result"
    }
   ],
   "source": [
    "ds.lookup_job_status()\n",
    "#ds.stop_job(\"fab6ca38fd424c80ba8d8afd881633bf\")\n",
    "#ds.delete_job(\"fab6ca38fd424c80ba8d8afd881633bf\")"
   ]
  }
 ],
 "metadata": {
  "kernelspec": {
   "display_name": "Python 3",
   "language": "python",
   "name": "python3"
  },
  "language_info": {
   "codemirror_mode": {
    "name": "ipython",
    "version": 3
   },
   "file_extension": ".py",
   "mimetype": "text/x-python",
   "name": "python",
   "nbconvert_exporter": "python",
   "pygments_lexer": "ipython3",
   "version": "3.7.1"
  }
 },
 "nbformat": 4,
 "nbformat_minor": 2
}
