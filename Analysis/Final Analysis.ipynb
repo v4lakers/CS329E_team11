{
 "cells": [
  {
   "cell_type": "code",
   "execution_count": 1,
   "metadata": {},
   "outputs": [],
   "source": [
    "import warnings\n",
    "warnings.simplefilter(\"ignore\")\n",
    "import pandas as pd\n",
    "import numpy as np\n",
    "import sklearn as sk\n",
    "import matplotlib.pyplot as plt\n",
    "import time\n",
    "import os\n",
    "import datetime\n",
    "ts = '{:%Y%m%d%H%M%S}'.format(datetime.datetime.now())\n",
    "\n",
    "from IPython.display import Image\n",
    "from time import sleep\n",
    "from sklearn.preprocessing import LabelEncoder\n",
    "from sklearn.preprocessing import StandardScaler\n",
    "from sklearn.preprocessing import MinMaxScaler\n",
    "from sklearn.decomposition import PCA\n",
    "from sklearn.model_selection import train_test_split\n",
    "from sklearn.model_selection import GridSearchCV\n",
    "from sklearn.model_selection import cross_val_score\n",
    "from imblearn.over_sampling import SMOTE\n",
    "from pandas import DataFrame, Series\n",
    "from sklearn.pipeline import Pipeline\n",
    "from sklearn.tree import DecisionTreeClassifier\n",
    "from sklearn.ensemble import RandomForestClassifier\n",
    "from sklearn.ensemble import AdaBoostClassifier\n",
    "from sklearn.ensemble import GradientBoostingClassifier\n",
    "from sklearn.neighbors import KNeighborsClassifier\n",
    "from sklearn.svm import SVC\n",
    "from sklearn.naive_bayes import GaussianNB\n",
    "from sklearn.neural_network import MLPClassifier\n",
    "from sklearn.metrics import classification_report\n",
    "from sklearn.metrics import confusion_matrix\n",
    "from amb_sdk.sdk import DarwinSdk\n",
    "\n",
    "%matplotlib inline"
   ]
  },
  {
   "cell_type": "markdown",
   "metadata": {},
   "source": [
    "# Cleaning Data"
   ]
  },
  {
   "cell_type": "code",
   "execution_count": 2,
   "metadata": {},
   "outputs": [
    {
     "name": "stdout",
     "output_type": "stream",
     "text": [
      "(8220, 287)\n"
     ]
    },
    {
     "data": {
      "text/html": [
       "<div>\n",
       "<style scoped>\n",
       "    .dataframe tbody tr th:only-of-type {\n",
       "        vertical-align: middle;\n",
       "    }\n",
       "\n",
       "    .dataframe tbody tr th {\n",
       "        vertical-align: top;\n",
       "    }\n",
       "\n",
       "    .dataframe thead th {\n",
       "        text-align: right;\n",
       "    }\n",
       "</style>\n",
       "<table border=\"1\" class=\"dataframe\">\n",
       "  <thead>\n",
       "    <tr style=\"text-align: right;\">\n",
       "      <th></th>\n",
       "      <th>age</th>\n",
       "      <th>age_o</th>\n",
       "      <th>same_race_i</th>\n",
       "      <th>same_religion_i</th>\n",
       "      <th>attractive_o_i</th>\n",
       "      <th>sincere_o_i</th>\n",
       "      <th>intelligence_o_i</th>\n",
       "      <th>funny_o_i</th>\n",
       "      <th>ambitious_o_i</th>\n",
       "      <th>shared_interests_o_i</th>\n",
       "      <th>...</th>\n",
       "      <th>field_tc [health ed]</th>\n",
       "      <th>field_teaching of english</th>\n",
       "      <th>field_tesol</th>\n",
       "      <th>field_theater</th>\n",
       "      <th>field_theatre management &amp; producing</th>\n",
       "      <th>field_theory</th>\n",
       "      <th>field_undergrad - gs</th>\n",
       "      <th>field_urban planning</th>\n",
       "      <th>field_working</th>\n",
       "      <th>field_writing: literary nonfiction</th>\n",
       "    </tr>\n",
       "  </thead>\n",
       "  <tbody>\n",
       "    <tr>\n",
       "      <th>0</th>\n",
       "      <td>21.0</td>\n",
       "      <td>27.0</td>\n",
       "      <td>2.0</td>\n",
       "      <td>4.0</td>\n",
       "      <td>0.35</td>\n",
       "      <td>0.20</td>\n",
       "      <td>0.20</td>\n",
       "      <td>0.20</td>\n",
       "      <td>0.00</td>\n",
       "      <td>0.05</td>\n",
       "      <td>...</td>\n",
       "      <td>0</td>\n",
       "      <td>0</td>\n",
       "      <td>0</td>\n",
       "      <td>0</td>\n",
       "      <td>0</td>\n",
       "      <td>0</td>\n",
       "      <td>0</td>\n",
       "      <td>0</td>\n",
       "      <td>0</td>\n",
       "      <td>0</td>\n",
       "    </tr>\n",
       "    <tr>\n",
       "      <th>1</th>\n",
       "      <td>21.0</td>\n",
       "      <td>22.0</td>\n",
       "      <td>2.0</td>\n",
       "      <td>4.0</td>\n",
       "      <td>0.60</td>\n",
       "      <td>0.00</td>\n",
       "      <td>0.00</td>\n",
       "      <td>0.40</td>\n",
       "      <td>0.00</td>\n",
       "      <td>0.00</td>\n",
       "      <td>...</td>\n",
       "      <td>0</td>\n",
       "      <td>0</td>\n",
       "      <td>0</td>\n",
       "      <td>0</td>\n",
       "      <td>0</td>\n",
       "      <td>0</td>\n",
       "      <td>0</td>\n",
       "      <td>0</td>\n",
       "      <td>0</td>\n",
       "      <td>0</td>\n",
       "    </tr>\n",
       "    <tr>\n",
       "      <th>2</th>\n",
       "      <td>21.0</td>\n",
       "      <td>22.0</td>\n",
       "      <td>2.0</td>\n",
       "      <td>4.0</td>\n",
       "      <td>0.19</td>\n",
       "      <td>0.18</td>\n",
       "      <td>0.19</td>\n",
       "      <td>0.18</td>\n",
       "      <td>0.14</td>\n",
       "      <td>0.12</td>\n",
       "      <td>...</td>\n",
       "      <td>0</td>\n",
       "      <td>0</td>\n",
       "      <td>0</td>\n",
       "      <td>0</td>\n",
       "      <td>0</td>\n",
       "      <td>0</td>\n",
       "      <td>0</td>\n",
       "      <td>0</td>\n",
       "      <td>0</td>\n",
       "      <td>0</td>\n",
       "    </tr>\n",
       "    <tr>\n",
       "      <th>3</th>\n",
       "      <td>21.0</td>\n",
       "      <td>23.0</td>\n",
       "      <td>2.0</td>\n",
       "      <td>4.0</td>\n",
       "      <td>0.30</td>\n",
       "      <td>0.05</td>\n",
       "      <td>0.15</td>\n",
       "      <td>0.40</td>\n",
       "      <td>0.05</td>\n",
       "      <td>0.05</td>\n",
       "      <td>...</td>\n",
       "      <td>0</td>\n",
       "      <td>0</td>\n",
       "      <td>0</td>\n",
       "      <td>0</td>\n",
       "      <td>0</td>\n",
       "      <td>0</td>\n",
       "      <td>0</td>\n",
       "      <td>0</td>\n",
       "      <td>0</td>\n",
       "      <td>0</td>\n",
       "    </tr>\n",
       "    <tr>\n",
       "      <th>4</th>\n",
       "      <td>21.0</td>\n",
       "      <td>24.0</td>\n",
       "      <td>2.0</td>\n",
       "      <td>4.0</td>\n",
       "      <td>0.30</td>\n",
       "      <td>0.10</td>\n",
       "      <td>0.20</td>\n",
       "      <td>0.10</td>\n",
       "      <td>0.10</td>\n",
       "      <td>0.20</td>\n",
       "      <td>...</td>\n",
       "      <td>0</td>\n",
       "      <td>0</td>\n",
       "      <td>0</td>\n",
       "      <td>0</td>\n",
       "      <td>0</td>\n",
       "      <td>0</td>\n",
       "      <td>0</td>\n",
       "      <td>0</td>\n",
       "      <td>0</td>\n",
       "      <td>0</td>\n",
       "    </tr>\n",
       "  </tbody>\n",
       "</table>\n",
       "<p>5 rows × 287 columns</p>\n",
       "</div>"
      ],
      "text/plain": [
       "    age  age_o  same_race_i  same_religion_i  attractive_o_i  sincere_o_i  \\\n",
       "0  21.0   27.0          2.0              4.0            0.35         0.20   \n",
       "1  21.0   22.0          2.0              4.0            0.60         0.00   \n",
       "2  21.0   22.0          2.0              4.0            0.19         0.18   \n",
       "3  21.0   23.0          2.0              4.0            0.30         0.05   \n",
       "4  21.0   24.0          2.0              4.0            0.30         0.10   \n",
       "\n",
       "   intelligence_o_i  funny_o_i  ambitious_o_i  shared_interests_o_i  \\\n",
       "0              0.20       0.20           0.00                  0.05   \n",
       "1              0.00       0.40           0.00                  0.00   \n",
       "2              0.19       0.18           0.14                  0.12   \n",
       "3              0.15       0.40           0.05                  0.05   \n",
       "4              0.20       0.10           0.10                  0.20   \n",
       "\n",
       "                  ...                  field_tc [health ed]  \\\n",
       "0                 ...                                     0   \n",
       "1                 ...                                     0   \n",
       "2                 ...                                     0   \n",
       "3                 ...                                     0   \n",
       "4                 ...                                     0   \n",
       "\n",
       "   field_teaching of english  field_tesol  field_theater  \\\n",
       "0                          0            0              0   \n",
       "1                          0            0              0   \n",
       "2                          0            0              0   \n",
       "3                          0            0              0   \n",
       "4                          0            0              0   \n",
       "\n",
       "   field_theatre management & producing  field_theory  field_undergrad - gs  \\\n",
       "0                                     0             0                     0   \n",
       "1                                     0             0                     0   \n",
       "2                                     0             0                     0   \n",
       "3                                     0             0                     0   \n",
       "4                                     0             0                     0   \n",
       "\n",
       "   field_urban planning  field_working  field_writing: literary nonfiction  \n",
       "0                     0              0                                   0  \n",
       "1                     0              0                                   0  \n",
       "2                     0              0                                   0  \n",
       "3                     0              0                                   0  \n",
       "4                     0              0                                   0  \n",
       "\n",
       "[5 rows x 287 columns]"
      ]
     },
     "execution_count": 2,
     "metadata": {},
     "output_type": "execute_result"
    }
   ],
   "source": [
    "data = pd.read_csv(\"speed-dating_raw.csv\")\n",
    "x = ['gender', 'race', 'race_o', 'field']\n",
    "columns = list(data)\n",
    "\n",
    "# Deleting bins\n",
    "for column in columns:\n",
    "    if column not in x and data[str(column)].dtype.name == 'object':\n",
    "        del data[str(column)]\n",
    "\n",
    "# Deleting useless columns        \n",
    "del data['has_null']\n",
    "del data['wave']\n",
    "del data['d_age']\n",
    "del data['samerace']\n",
    "del data['expected_happy_with_sd_people']\n",
    "del data['expected_num_interested_in_me']\n",
    "del data['expected_num_matches']\n",
    "del data['like']\n",
    "del data['guess_prob_liked']\n",
    "del data['decision']\n",
    "del data['decision_o']\n",
    "\n",
    "# Replace age NA with mean\n",
    "mean = round(data['age'].mean())\n",
    "data['age'].fillna(mean, inplace = True)\n",
    "mean = round(data['age_o'].mean())\n",
    "data['age_o'].fillna(mean, inplace = True)\n",
    "\n",
    "# Make sure difference in age is correct\n",
    "data['age_d'] = (data['age'] - data['age_o'])\n",
    "data['age_d_abs'] = data['age_d'].abs()\n",
    "\n",
    "# Replace race NA with other\n",
    "data['race'].fillna('other', inplace= True)\n",
    "data['race_o'].fillna('other', inplace = True)\n",
    "\n",
    "# Verifying that same_race is correct with replaced race\n",
    "data['same_race'] = (data['race'] == data['race_o'])\n",
    "\n",
    "# Replace NA with 0 for preferences\n",
    "preferences = ['pref_o_attractive', 'pref_o_sincere', 'pref_o_intelligence', 'pref_o_funny', 'pref_o_ambitious', 'pref_o_shared_interests']          \n",
    "for pref in preferences:\n",
    "    data[pref].fillna(0, inplace = True)\n",
    "\n",
    "# Renaming column names\n",
    "data.rename(columns = {'importance_same_race':'same_race_i',\n",
    "                       'importance_same_religion': 'same_religion_i',\n",
    "                       'pref_o_attractive':'attractive_o_i',\n",
    "                       'pref_o_sincere':'sincere_o_i',\n",
    "                       'pref_o_intelligence':'intelligence_o_i',\n",
    "                       'pref_o_funny':'funny_o_i',\n",
    "                       'pref_o_ambitious':'ambitious_o_i',\n",
    "                       'pref_o_shared_interests':'shared_interests_o_i',\n",
    "                       'attractive_important':'attractive_i',\n",
    "                       'sincere_important': 'sincere_i',\n",
    "                       'intellicence_important': 'intelligence_i',\n",
    "                       'funny_important':'funny_i',\n",
    "                       'ambtition_important':'ambitious_i',\n",
    "                       'shared_interests_important':'shared_interests_i',\n",
    "                       'ambition':'ambitious',\n",
    "                       'sinsere_o': 'sincere_o',\n",
    "                       'ambitous_o':'ambitious_o',\n",
    "                       'ambition_partner':'ambitious_partner'}, inplace = True)\n",
    "\n",
    "# Making sure that opposite's importance columns add up to 100\n",
    "data['o_i'] = data['attractive_o_i'] + data['sincere_o_i'] + data['intelligence_o_i'] + data['funny_o_i'] + data['ambitious_o_i'] + data['shared_interests_o_i']\n",
    "data['attractive_o_i'] = (data['attractive_o_i'] / data['o_i'])\n",
    "data['sincere_o_i'] = (data['sincere_o_i'] / data['o_i'])\n",
    "data['intelligence_o_i'] = (data['intelligence_o_i'] / data['o_i'])\n",
    "data['funny_o_i'] = (data['funny_o_i'] / data['o_i'])\n",
    "data['ambitious_o_i'] = (data['ambitious_o_i'] / data['o_i'])\n",
    "data['shared_interests_o_i'] = (data['shared_interests_o_i'] / data['o_i'])\n",
    "\n",
    "# Making sure that my importance columns add up to 100\n",
    "data['i'] = data['attractive_i'] + data['sincere_i'] + data['intelligence_i'] + data['funny_i'] + data['ambitious_i'] + data['shared_interests_i']\n",
    "data['attractive_i'] = (data['attractive_i'] / data['i'])\n",
    "data['sincere_i'] = (data['sincere_i'] / data['i'])\n",
    "data['intelligence_i'] = (data['intelligence_i'] / data['i'])\n",
    "data['funny_i'] = (data['funny_i'] / data['i'])\n",
    "data['ambitious_i'] = (data['ambitious_i'] / data['i'])\n",
    "data['shared_interests_i'] = (data['shared_interests_i'] / data['i'])\n",
    "\n",
    "del data['o_i']\n",
    "del data['i']\n",
    "\n",
    "# Filling in data that are empty\n",
    "temp = ['attractive_o_i', 'sincere_o_i', 'intelligence_o_i', 'funny_o_i', 'ambitious_o_i', 'shared_interests_o_i', 'attractive_i', 'sincere_i', 'intelligence_i', 'funny_i', 'ambitious_i', 'shared_interests_i']          \n",
    "for t in temp:\n",
    "    data[t].fillna((1.0 / 6.0), inplace = True)\n",
    "\n",
    "# Replacing same_race_i & same_religion_i with mean (importance)\n",
    "mean = data['same_race_i'].mean()\n",
    "data['same_race_i'].fillna(round(mean), inplace = True)\n",
    "\n",
    "mean = data['same_religion_i'].mean()\n",
    "data['same_religion_i'].fillna(round(mean), inplace = True)\n",
    "\n",
    "# One Hot Encoding of categorical data\n",
    "data = pd.concat([data, pd.get_dummies(data['gender'], prefix = 'gender')], axis = 1)\n",
    "data = pd.concat([data, pd.get_dummies(data['race'], prefix = 'race')], axis = 1)\n",
    "data = pd.concat([data, pd.get_dummies(data['race_o'], prefix = 'race_o')], axis = 1)\n",
    "data = pd.concat([data, pd.get_dummies(data['field'], prefix = 'field')], axis = 1)\n",
    "\n",
    "del data['gender']\n",
    "del data['race']\n",
    "del data['race_o']\n",
    "del data['field']\n",
    "\n",
    "# Label Encoding\n",
    "le = LabelEncoder()\n",
    "data['same_race'] = le.fit_transform(data['same_race'])\n",
    "\n",
    "# Fill NA's with mean\n",
    "mean = data['attractive_o'].mean()\n",
    "data['attractive_o'].fillna(round(mean), inplace = True)\n",
    "mean = data['sincere_o'].mean()\n",
    "data['sincere_o'].fillna(round(mean), inplace = True)\n",
    "mean = data['intelligence_o'].mean()\n",
    "data['intelligence_o'].fillna(round(mean), inplace = True)\n",
    "mean = data['funny_o'].mean()\n",
    "data['funny_o'].fillna(round(mean), inplace = True)\n",
    "mean = data['ambitious_o'].mean()\n",
    "data['ambitious_o'].fillna(round(mean), inplace = True)\n",
    "mean = data['shared_interests_o'].mean()\n",
    "data['shared_interests_o'].fillna(round(mean), inplace = True)\n",
    "mean = data['attractive'].mean()\n",
    "data['attractive'].fillna(round(mean), inplace = True)\n",
    "mean = data['sincere'].mean()\n",
    "data['sincere'].fillna(round(mean), inplace = True)\n",
    "mean = data['intelligence'].mean()\n",
    "data['intelligence'].fillna(round(mean), inplace = True)\n",
    "mean = data['funny'].mean()\n",
    "data['funny'].fillna(round(mean), inplace = True)\n",
    "mean = data['ambitious'].mean()\n",
    "data['ambitious'].fillna(round(mean), inplace = True)\n",
    "mean = data['attractive_partner'].mean()\n",
    "data['attractive_partner'].fillna(round(mean), inplace = True)\n",
    "mean = data['sincere_partner'].mean()\n",
    "data['sincere_partner'].fillna(round(mean), inplace = True)\n",
    "mean = data['intelligence_partner'].mean()\n",
    "data['intelligence_partner'].fillna(round(mean), inplace = True)\n",
    "mean = data['funny_partner'].mean()\n",
    "data['funny_partner'].fillna(round(mean), inplace = True)\n",
    "mean = data['ambitious_partner'].mean()\n",
    "data['ambitious_partner'].fillna(round(mean), inplace = True)\n",
    "mean = data['shared_interests_partner'].mean()\n",
    "data['shared_interests_partner'].fillna(round(mean), inplace = True)\n",
    "mean = data['met'].mean()\n",
    "data['met'].fillna(round(mean), inplace = True)\n",
    "\n",
    "# Delete rows with NA's for interests correlate\n",
    "data = data.dropna(axis = 0, subset = ['interests_correlate'])\n",
    "\n",
    "print(data.shape)\n",
    "data.head()"
   ]
  },
  {
   "cell_type": "markdown",
   "metadata": {},
   "source": [
    "# Feature Engineering"
   ]
  },
  {
   "cell_type": "code",
   "execution_count": 3,
   "metadata": {},
   "outputs": [],
   "source": [
    "# Difference between opposite's and my importance\n",
    "data['attractive_i_d'] = (data['attractive_i'] - data['attractive_o_i'])\n",
    "data['sincere_i_d'] = (data['sincere_i'] - data['sincere_o_i'])\n",
    "data['intelligence_i_d'] = (data['intelligence_i'] - data['intelligence_o_i'])\n",
    "data['funny_i_d'] = (data['funny_i'] - data['funny_o_i'])\n",
    "data['ambitious_i_d'] = (data['ambitious_i'] - data['ambitious_o_i'])\n",
    "data['shared_interests_i_d'] = (data['shared_interests_i'] - data['shared_interests_o_i'])\n",
    "\n",
    "# Absolute difference of importance\n",
    "data['attractive_i_d_abs'] = data['attractive_i_d'].abs()\n",
    "data['sincere_i_d_abs'] = data['sincere_i_d'].abs()\n",
    "data['intelligence_i_d_abs'] = data['intelligence_i_d'].abs()\n",
    "data['funny_i_d_abs'] = data['funny_i_d'].abs()\n",
    "data['ambitious_i_d_abs'] = data['ambitious_i_d'].abs()\n",
    "data['shared_interests_i_d_abs'] = data['shared_interests_i_d'].abs()\n",
    "\n",
    "# Difference between opposite's and my rating of me\n",
    "data['attractive_d'] = (data['attractive'] - data['attractive_o'])\n",
    "data['sincere_d'] = (data['sincere'] - data['sincere_o'])\n",
    "data['intelligence_d'] = (data['intelligence'] - data['intelligence_o'])\n",
    "data['funny_d'] = (data['funny'] - data['funny_o'])\n",
    "data['ambitious_d'] = (data['ambitious'] - data['ambitious_o'])\n",
    "data['shared_interests_d'] = (data['shared_interests_partner'] - data['shared_interests_o'])\n",
    "\n",
    "# Absolute difference of rating\n",
    "data['attractive_d_abs'] = data['attractive_d'].abs()\n",
    "data['sincere_d_abs'] = data['sincere_d'].abs()\n",
    "data['intelligence_d_abs'] = data['intelligence_d'].abs()\n",
    "data['funny_d_abs'] = data['funny_d'].abs()\n",
    "data['ambitious_d_abs'] = data['ambitious_d'].abs()\n",
    "data['shared_interests_d_abs'] = data['shared_interests_d'].abs()\n",
    "\n",
    "# Changing from [1-10] scale to percentage for opposite's rating\n",
    "data['o'] = data['attractive_o'] + data['sincere_o'] + data['intelligence_o'] + data['funny_o'] + data['ambitious_o'] + data['shared_interests_o']\n",
    "data['attractive_o_n'] = (data['attractive_o'] / data['o'])\n",
    "data['sincere_o_n'] = (data['sincere_o'] / data['o'])\n",
    "data['intelligence_o_n'] = (data['intelligence_o'] / data['o'])\n",
    "data['funny_o_n'] = (data['funny_o'] / data['o'])\n",
    "data['ambitious_o_n'] = (data['ambitious_o'] / data['o'])\n",
    "data['shared_interests_o_n'] = (data['shared_interests_o'] / data['o'])\n",
    "\n",
    "# Changing from [1-10] scale to percentage for my rating of opposite\n",
    "data['p'] = data['attractive_partner'] + data['sincere_partner'] + data['intelligence_partner'] + data['funny_partner'] + data['ambitious_partner'] + data['shared_interests_partner']\n",
    "data['attractive_p_n'] = (data['attractive_partner'] / data['p'])\n",
    "data['sincere_p_n'] = (data['sincere_partner'] / data['p'])\n",
    "data['intelligence_p_n'] = (data['intelligence_partner'] / data['p'])\n",
    "data['funny_p_n'] = (data['funny_partner'] / data['p'])\n",
    "data['ambitious_p_n'] = (data['ambitious_partner'] / data['p'])\n",
    "data['shared_interests_p_n'] = (data['shared_interests_partner'] / data['p'])\n",
    "\n",
    "del data['o']\n",
    "del data['p']\n",
    "\n",
    "# Filling in blanks with 0\n",
    "preferences = ['attractive_o_n', 'sincere_o_n', 'intelligence_o_n', 'funny_o_n', 'ambitious_o_n', 'shared_interests_o_n', 'attractive_p_n', 'sincere_p_n', 'intelligence_p_n', 'funny_p_n', 'ambitious_p_n', 'shared_interests_p_n']\n",
    "for pref in preferences:\n",
    "    data[pref].fillna(0, inplace = True)\n",
    "\n",
    "# Difference of rating percentage\n",
    "data['d'] = data['attractive_d_abs'] + data['sincere_d_abs'] + data['intelligence_d_abs'] + data['funny_d_abs'] + data['ambitious_d_abs'] + data['shared_interests_d_abs']\n",
    "data['attractive_d_n'] = (data['attractive_d'] / data['d'])\n",
    "data['sincere_d_n'] = (data['sincere_d'] / data['d'])\n",
    "data['intelligence_d_n'] = (data['intelligence_d'] / data['d'])\n",
    "data['funny_d_n'] = (data['funny_d'] / data['d'])\n",
    "data['ambitious_d_n'] = (data['ambitious_d'] / data['d'])\n",
    "data['shared_interests_d_n'] = (data['shared_interests_d'] / data['d'])\n",
    "\n",
    "del data['d']\n",
    "\n",
    "# Absolute difference of rating percentage\n",
    "data['attractive_d_n_abs'] = data['attractive_d_n'].abs()\n",
    "data['sincere_d_n_abs'] = data['sincere_d_n'].abs()\n",
    "data['intelligence_d_n_abs'] = data['intelligence_d_n'].abs()\n",
    "data['funny_d_n_abs'] = data['funny_d_n'].abs()\n",
    "data['ambitious_d_n_abs'] = data['ambitious_d_n'].abs()\n",
    "data['shared_interests_d_n_abs'] = data['shared_interests_d_n'].abs()\n",
    "\n",
    "# Difference between opposite's importance and their rating of me\n",
    "data['attractive_oi_o_d_n'] = (data['attractive_o_i'] - data['attractive_o_n'])\n",
    "data['sincere_oi_o_d_n'] = (data['sincere_o_i'] - data['sincere_o_n'])\n",
    "data['intelligence_oi_o_d_n'] = (data['intelligence_o_i'] - data['intelligence_o_n'])\n",
    "data['funny_oi_o_d_n'] = (data['funny_o_i'] - data['funny_o_n'])\n",
    "data['ambitious_oi_o_d_n'] = (data['ambitious_o_i'] - data['ambitious_o_n'])\n",
    "data['shared_interests_oi_o_d_n'] = (data['shared_interests_o_i'] - data['shared_interests_o_n'])\n",
    "\n",
    "# Absolute difference of opposite's importance and their rating of me\n",
    "data['attractive_oi_o_d_n_abs'] = data['attractive_oi_o_d_n'].abs()\n",
    "data['sincere_oi_o_d_n_abs'] = data['sincere_oi_o_d_n'].abs()\n",
    "data['intelligence_oi_o_d_n_abs'] = data['intelligence_oi_o_d_n'].abs()\n",
    "data['funny_oi_o_d_n_abs'] = data['funny_oi_o_d_n'].abs()\n",
    "data['ambitious_oi_o_d_n_abs'] = data['ambitious_oi_o_d_n'].abs()\n",
    "data['shared_interests_oi_o_d_n_abs'] = data['shared_interests_oi_o_d_n'].abs()\n",
    "\n",
    "# Difference between my importance and my rating of opposite\n",
    "data['attractive_i_p_d_n'] = (data['attractive_i'] - data['attractive_p_n'])\n",
    "data['sincere_i_p_d_n'] = (data['sincere_i'] - data['sincere_p_n'])\n",
    "data['intelligence_i_p_d_n'] = (data['intelligence_i'] - data['intelligence_p_n'])\n",
    "data['funny_i_p_d_n'] = (data['funny_i'] - data['funny_p_n'])\n",
    "data['ambitious_i_p_d_n'] = (data['ambitious_i'] - data['ambitious_p_n'])\n",
    "data['shared_interests_i_p_d_n'] = (data['shared_interests_i'] - data['shared_interests_p_n'])\n",
    "\n",
    "# Absolute difference of my importance and my rating of opposite\n",
    "data['attractive_i_p_d_n_abs'] = data['attractive_i_p_d_n'].abs()\n",
    "data['sincere_i_p_d_n_abs'] = data['sincere_i_p_d_n'].abs()\n",
    "data['intelligence_i_p_d_n_abs'] = data['intelligence_i_p_d_n'].abs()\n",
    "data['funny_i_p_d_n_abs'] = data['funny_i_p_d_n'].abs()\n",
    "data['ambitious_i_p_d_n_abs'] = data['ambitious_i_p_d_n'].abs()\n",
    "data['shared_interests_i_p_d_n_abs'] = data['shared_interests_i_p_d_n'].abs()\n",
    "\n",
    "# Changing from [1-10] scale to percentage for activities\n",
    "data['a'] = data['sports'] + data['tvsports'] + data['exercise'] + data['dining'] + data['museums'] + data['art'] + data['hiking'] + data['gaming'] + data['clubbing'] + data['reading'] + data['tv'] + data['theater'] + data['movies'] + data['concerts'] + data['music'] + data['shopping'] + data['yoga']\n",
    "data['sports_n'] = (data['sports'] / data['a']) \n",
    "data['tvsports_n'] = (data['tvsports'] / data['a']) \n",
    "data['exercise_n'] = (data['exercise'] / data['a']) \n",
    "data['dining_n'] = (data['dining'] / data['a']) \n",
    "data['museums_n'] = (data['museums'] / data['a']) \n",
    "data['art_n'] = (data['art'] / data['a']) \n",
    "data['hiking_n'] = (data['hiking'] / data['a']) \n",
    "data['gaming_n'] = (data['gaming'] / data['a']) \n",
    "data['clubbing_n'] = (data['clubbing'] / data['a']) \n",
    "data['reading_n'] = (data['reading'] / data['a']) \n",
    "data['tv_n'] = (data['tv'] / data['a']) \n",
    "data['theater_n'] = (data['theater'] / data['a']) \n",
    "data['movies_n'] = (data['movies'] / data['a']) \n",
    "data['concerts_n'] = (data['concerts'] / data['a']) \n",
    "data['music_n'] = (data['music'] / data['a']) \n",
    "data['shopping_n'] = (data['shopping'] / data['a']) \n",
    "data['yoga_n'] = (data['yoga'] / data['a']) \n",
    "\n",
    "del data['a']"
   ]
  },
  {
   "cell_type": "markdown",
   "metadata": {},
   "source": [
    "# SMOTE"
   ]
  },
  {
   "cell_type": "code",
   "execution_count": 4,
   "metadata": {},
   "outputs": [
    {
     "name": "stdout",
     "output_type": "stream",
     "text": [
      "(13740, 375)\n",
      "(13740,)\n"
     ]
    }
   ],
   "source": [
    "data_Y = data['match']\n",
    "data_X = data.drop(['match'], axis = 1)\n",
    "\n",
    "sm = SMOTE(sampling_strategy = 'minority', random_state = 11)\n",
    "smote_X, smote_Y = sm.fit_sample(data_X, data_Y)\n",
    "\n",
    "print(smote_X.shape)\n",
    "print(smote_Y.shape)\n",
    "smote_X = DataFrame(smote_X, columns = data_X.columns)\n",
    "smote_Y = Series(smote_Y, name = 'match')\n",
    "data = pd.concat([smote_X, smote_Y], axis = 1)\n",
    "data.head()\n",
    "\n",
    "data.to_csv('Speed_Dating_Clean_SMOTE.csv', index = False)\n",
    "\n",
    "# Create train and test data for Darwin (SMOTE)\n",
    "data_Y = data['match']\n",
    "data_X = data.drop(['match'], axis = 1)\n",
    "\n",
    "train_X, test_X, train_Y, test_Y = train_test_split(data_X, data_Y, test_size = 0.20, random_state = 11)\n",
    "train_data = pd.concat([train_X, train_Y], axis = 1)\n",
    "train_data.to_csv('Speed_Dating_Clean_SMOTE_train.csv', index = False)\n",
    "test_data = pd.concat([test_X, test_Y], axis = 1)\n",
    "test_data.to_csv('Speed_Dating_Clean_SMOTE_test.csv', index = False) "
   ]
  },
  {
   "cell_type": "markdown",
   "metadata": {},
   "source": [
    "# Decision Tree"
   ]
  },
  {
   "cell_type": "code",
   "execution_count": 5,
   "metadata": {},
   "outputs": [
    {
     "name": "stdout",
     "output_type": "stream",
     "text": [
      "{'clf__criterion': 'entropy', 'clf__max_depth': 25, 'clf__max_features': 'sqrt', 'clf__min_samples_leaf': 3}\n",
      "\n",
      "Accuracy (model): 78.67540029112081\n",
      "\n",
      "Accuracy (train): 96.53384279475983\n",
      "Classification report (train):\n",
      "               precision    recall  f1-score   support\n",
      "\n",
      "           0       0.96      0.97      0.97      5494\n",
      "           1       0.97      0.96      0.97      5498\n",
      "\n",
      "   micro avg       0.97      0.97      0.97     10992\n",
      "   macro avg       0.97      0.97      0.97     10992\n",
      "weighted avg       0.97      0.97      0.97     10992\n",
      "\n",
      "Accuracy (test): 78.82096069868996\n",
      "Classification report (test):\n",
      "               precision    recall  f1-score   support\n",
      "\n",
      "           0       0.80      0.76      0.78      1376\n",
      "           1       0.77      0.81      0.79      1372\n",
      "\n",
      "   micro avg       0.79      0.79      0.79      2748\n",
      "   macro avg       0.79      0.79      0.79      2748\n",
      "weighted avg       0.79      0.79      0.79      2748\n",
      "\n",
      "Wall time: 4min 29s\n"
     ]
    }
   ],
   "source": [
    "%%time\n",
    "\n",
    "scaler = StandardScaler()\n",
    "pca = PCA(0.95, random_state = 11)\n",
    "clf = DecisionTreeClassifier(random_state = 11)\n",
    "\n",
    "# Creating the pipeline\n",
    "pipe = Pipeline(steps = [('sca', scaler ), ('pca', pca), ('clf', clf)])\n",
    "\n",
    "# Set parameters\n",
    "params = {\"clf__criterion\" : ['gini', 'entropy'],\n",
    "          \"clf__max_depth\": [20, 25, 30, 35],\n",
    "          \"clf__max_features\": ['sqrt', 'log2'],\n",
    "          \"clf__min_samples_leaf\": [3, 5, 7]\n",
    "         }\n",
    "\n",
    "# Find best parameters\n",
    "grid_search = GridSearchCV(pipe, params, cv = 5)\n",
    "\n",
    "# Fit model and print best hyperparameters\n",
    "grid_search.fit(train_X, train_Y)\n",
    "print(grid_search.best_params_)\n",
    "\n",
    "# Print results\n",
    "print(\"\\nAccuracy (model):\", grid_search.best_score_ * 100)\n",
    "print(\"\\nAccuracy (train):\", grid_search.score(train_X, train_Y) * 100)\n",
    "print(\"Classification report (train):\\n\", classification_report(train_Y, grid_search.predict(train_X)))\n",
    "print(\"Accuracy (test):\", grid_search.score(test_X, test_Y) * 100)\n",
    "print(\"Classification report (test):\\n\", classification_report(test_Y, grid_search.predict(test_X)))"
   ]
  },
  {
   "cell_type": "markdown",
   "metadata": {},
   "source": [
    "# Random Forest"
   ]
  },
  {
   "cell_type": "code",
   "execution_count": 6,
   "metadata": {},
   "outputs": [
    {
     "name": "stdout",
     "output_type": "stream",
     "text": [
      "{'clf__criterion': 'entropy', 'clf__max_depth': 35, 'clf__max_features': 'log2', 'clf__min_samples_leaf': 3}\n",
      "\n",
      "Accuracy (model): 90.2019650655022\n",
      "\n",
      "Accuracy (train): 99.79985443959242\n",
      "Classification report (train):\n",
      "               precision    recall  f1-score   support\n",
      "\n",
      "           0       1.00      1.00      1.00      5494\n",
      "           1       1.00      1.00      1.00      5498\n",
      "\n",
      "   micro avg       1.00      1.00      1.00     10992\n",
      "   macro avg       1.00      1.00      1.00     10992\n",
      "weighted avg       1.00      1.00      1.00     10992\n",
      "\n",
      "Accuracy (test): 91.30276564774381\n",
      "Classification report (test):\n",
      "               precision    recall  f1-score   support\n",
      "\n",
      "           0       0.92      0.90      0.91      1376\n",
      "           1       0.91      0.92      0.91      1372\n",
      "\n",
      "   micro avg       0.91      0.91      0.91      2748\n",
      "   macro avg       0.91      0.91      0.91      2748\n",
      "weighted avg       0.91      0.91      0.91      2748\n",
      "\n",
      "Wall time: 1h 6s\n"
     ]
    }
   ],
   "source": [
    "%%time\n",
    "\n",
    "scaler = StandardScaler()\n",
    "pca = PCA(0.95, random_state = 11)\n",
    "clf = RandomForestClassifier(random_state = 11, n_estimators = 100)\n",
    "\n",
    "# Creating the pipeline\n",
    "pipe = Pipeline(steps = [('sca', scaler ), ('pca', pca), ('clf', clf)])\n",
    "\n",
    "# Set parameters\n",
    "params = {\"clf__criterion\" : ['gini', 'entropy'],\n",
    "          \"clf__max_depth\": [20, 25, 30, 35],\n",
    "          \"clf__max_features\": ['sqrt', 'log2'],\n",
    "          \"clf__min_samples_leaf\": [3, 5, 7]\n",
    "         }\n",
    "\n",
    "# Find best parameters\n",
    "grid_search = GridSearchCV(pipe, params, cv = 5)\n",
    "\n",
    "# Fit model and print best hyperparameters\n",
    "grid_search.fit(train_X, train_Y)\n",
    "print(grid_search.best_params_)\n",
    "\n",
    "# Print results\n",
    "print(\"\\nAccuracy (model):\", grid_search.best_score_ * 100)\n",
    "print(\"\\nAccuracy (train):\", grid_search.score(train_X, train_Y) * 100)\n",
    "print(\"Classification report (train):\\n\", classification_report(train_Y, grid_search.predict(train_X)))\n",
    "print(\"Accuracy (test):\", grid_search.score(test_X, test_Y) * 100)\n",
    "print(\"Classification report (test):\\n\", classification_report(test_Y, grid_search.predict(test_X)))"
   ]
  },
  {
   "cell_type": "markdown",
   "metadata": {},
   "source": [
    "# AdaBoost"
   ]
  },
  {
   "cell_type": "code",
   "execution_count": 7,
   "metadata": {},
   "outputs": [
    {
     "name": "stdout",
     "output_type": "stream",
     "text": [
      "Accuracy (model): 81.61421151654838\n",
      "\n",
      "Accuracy (train): 85.10735080058224\n",
      "Classification report (train):\n",
      "               precision    recall  f1-score   support\n",
      "\n",
      "           0       0.86      0.83      0.85      5494\n",
      "           1       0.84      0.87      0.85      5498\n",
      "\n",
      "   micro avg       0.85      0.85      0.85     10992\n",
      "   macro avg       0.85      0.85      0.85     10992\n",
      "weighted avg       0.85      0.85      0.85     10992\n",
      "\n",
      "Accuracy (test): 80.49490538573508\n",
      "Classification report (test):\n",
      "               precision    recall  f1-score   support\n",
      "\n",
      "           0       0.81      0.79      0.80      1376\n",
      "           1       0.80      0.82      0.81      1372\n",
      "\n",
      "   micro avg       0.80      0.80      0.80      2748\n",
      "   macro avg       0.81      0.80      0.80      2748\n",
      "weighted avg       0.81      0.80      0.80      2748\n",
      "\n",
      "Wall time: 3min 14s\n"
     ]
    }
   ],
   "source": [
    "%%time\n",
    "\n",
    "scaler = StandardScaler()\n",
    "pca = PCA(0.95, random_state = 11)\n",
    "clf = AdaBoostClassifier(random_state = 11, n_estimators = 100)\n",
    "\n",
    "# Creating the pipeline\n",
    "pipe = Pipeline(steps = [('sca', scaler ), ('pca', pca), ('clf', clf)])\n",
    "\n",
    "# CV on train\n",
    "scores = cross_val_score(pipe, train_X, train_Y, cv = 5)\n",
    "\n",
    "# Fit the model\n",
    "pipe.fit(train_X, train_Y)\n",
    "\n",
    "# Print results\n",
    "print(\"Accuracy (model):\", scores.mean() * 100)\n",
    "print(\"\\nAccuracy (train):\", pipe.score(train_X, train_Y) * 100)\n",
    "print(\"Classification report (train):\\n\", classification_report(train_Y, pipe.predict(train_X)))\n",
    "print(\"Accuracy (test):\", pipe.score(test_X, test_Y) * 100)\n",
    "print(\"Classification report (test):\\n\", classification_report(test_Y, pipe.predict(test_X)))"
   ]
  },
  {
   "cell_type": "markdown",
   "metadata": {},
   "source": [
    "# GradientBoosting"
   ]
  },
  {
   "cell_type": "code",
   "execution_count": 8,
   "metadata": {},
   "outputs": [
    {
     "name": "stdout",
     "output_type": "stream",
     "text": [
      "{'clf__max_depth': 30, 'clf__max_features': 'log2', 'clf__min_samples_leaf': 5}\n",
      "\n",
      "Accuracy (model): 93.22234352256187\n",
      "\n",
      "Accuracy (train): 100.0\n",
      "Classification report (train):\n",
      "               precision    recall  f1-score   support\n",
      "\n",
      "           0       1.00      1.00      1.00      5494\n",
      "           1       1.00      1.00      1.00      5498\n",
      "\n",
      "   micro avg       1.00      1.00      1.00     10992\n",
      "   macro avg       1.00      1.00      1.00     10992\n",
      "weighted avg       1.00      1.00      1.00     10992\n",
      "\n",
      "Accuracy (test): 93.70451237263464\n",
      "Classification report (test):\n",
      "               precision    recall  f1-score   support\n",
      "\n",
      "           0       0.94      0.93      0.94      1376\n",
      "           1       0.93      0.94      0.94      1372\n",
      "\n",
      "   micro avg       0.94      0.94      0.94      2748\n",
      "   macro avg       0.94      0.94      0.94      2748\n",
      "weighted avg       0.94      0.94      0.94      2748\n",
      "\n",
      "Wall time: 1h 17min 43s\n"
     ]
    }
   ],
   "source": [
    "%%time\n",
    "\n",
    "scaler = StandardScaler()\n",
    "pca = PCA(0.95, random_state = 11)\n",
    "clf = GradientBoostingClassifier(random_state = 11, n_estimators = 100)\n",
    "\n",
    "# Creating the pipeline\n",
    "pipe = Pipeline(steps = [('sca', scaler ), ('pca', pca), ('clf', clf)])\n",
    "\n",
    "# Set parameters\n",
    "params = {\"clf__max_depth\": [20, 25, 30, 35],\n",
    "          \"clf__max_features\": ['sqrt', 'log2'],\n",
    "          \"clf__min_samples_leaf\": [3, 5, 7]\n",
    "         }\n",
    "\n",
    "# Find best parameters\n",
    "grid_search = GridSearchCV(pipe, params, cv = 5)\n",
    "\n",
    "# Fit model and print best hyperparameters\n",
    "grid_search.fit(train_X, train_Y)\n",
    "print(grid_search.best_params_)\n",
    "\n",
    "# Print results\n",
    "print(\"\\nAccuracy (model):\", grid_search.best_score_ * 100)\n",
    "print(\"\\nAccuracy (train):\", grid_search.score(train_X, train_Y) * 100)\n",
    "print(\"Classification report (train):\\n\", classification_report(train_Y, grid_search.predict(train_X)))\n",
    "print(\"Accuracy (test):\", grid_search.score(test_X, test_Y) * 100)\n",
    "print(\"Classification report (test):\\n\", classification_report(test_Y, grid_search.predict(test_X)))"
   ]
  },
  {
   "cell_type": "markdown",
   "metadata": {},
   "source": [
    "# KNN"
   ]
  },
  {
   "cell_type": "code",
   "execution_count": 9,
   "metadata": {},
   "outputs": [
    {
     "name": "stdout",
     "output_type": "stream",
     "text": [
      "{'knn__n_neighbors': 3}\n",
      "\n",
      "Accuracy (model): 82.15065502183407\n",
      "\n",
      "Accuracy (train): 92.09425036390103\n",
      "Classification report (train):\n",
      "               precision    recall  f1-score   support\n",
      "\n",
      "           0       0.99      0.85      0.91      5494\n",
      "           1       0.87      0.99      0.93      5498\n",
      "\n",
      "   micro avg       0.92      0.92      0.92     10992\n",
      "   macro avg       0.93      0.92      0.92     10992\n",
      "weighted avg       0.93      0.92      0.92     10992\n",
      "\n",
      "Accuracy (test): 84.27947598253274\n",
      "Classification report (test):\n",
      "               precision    recall  f1-score   support\n",
      "\n",
      "           0       0.96      0.71      0.82      1376\n",
      "           1       0.77      0.97      0.86      1372\n",
      "\n",
      "   micro avg       0.84      0.84      0.84      2748\n",
      "   macro avg       0.87      0.84      0.84      2748\n",
      "weighted avg       0.87      0.84      0.84      2748\n",
      "\n",
      "Wall time: 18min 17s\n"
     ]
    }
   ],
   "source": [
    "%%time\n",
    "\n",
    "scaler = MinMaxScaler()\n",
    "pca = PCA(0.95, random_state = 11)\n",
    "knn = KNeighborsClassifier()\n",
    "\n",
    "# Creating the pipeline\n",
    "pipe = Pipeline(steps = [('sca', scaler ), ('pca', pca), ('knn', knn)])\n",
    "\n",
    "# Set parameters\n",
    "params = {'knn__n_neighbors': [3, 5, 7, 9]}\n",
    "\n",
    "# Find best parameters\n",
    "grid_search = GridSearchCV(pipe, params, cv = 5)\n",
    "\n",
    "# Fit model and print best hyperparameters\n",
    "grid_search.fit(train_X, train_Y)\n",
    "print(grid_search.best_params_)\n",
    "\n",
    "# Print results\n",
    "print(\"\\nAccuracy (model):\", grid_search.best_score_ * 100)\n",
    "print(\"\\nAccuracy (train):\", grid_search.score(train_X, train_Y) * 100)\n",
    "print(\"Classification report (train):\\n\", classification_report(train_Y, grid_search.predict(train_X)))\n",
    "print(\"Accuracy (test):\", grid_search.score(test_X, test_Y) * 100)\n",
    "print(\"Classification report (test):\\n\", classification_report(test_Y, grid_search.predict(test_X)))"
   ]
  },
  {
   "cell_type": "markdown",
   "metadata": {},
   "source": [
    "# SVM"
   ]
  },
  {
   "cell_type": "code",
   "execution_count": 10,
   "metadata": {},
   "outputs": [
    {
     "name": "stdout",
     "output_type": "stream",
     "text": [
      "Accuracy (model): 88.05500869926242\n",
      "\n",
      "Accuracy (train): 92.94941775836972\n",
      "Classification report (train):\n",
      "               precision    recall  f1-score   support\n",
      "\n",
      "           0       0.95      0.91      0.93      5494\n",
      "           1       0.91      0.95      0.93      5498\n",
      "\n",
      "   micro avg       0.93      0.93      0.93     10992\n",
      "   macro avg       0.93      0.93      0.93     10992\n",
      "weighted avg       0.93      0.93      0.93     10992\n",
      "\n",
      "Accuracy (test): 88.68267831149927\n",
      "Classification report (test):\n",
      "               precision    recall  f1-score   support\n",
      "\n",
      "           0       0.91      0.86      0.88      1376\n",
      "           1       0.87      0.92      0.89      1372\n",
      "\n",
      "   micro avg       0.89      0.89      0.89      2748\n",
      "   macro avg       0.89      0.89      0.89      2748\n",
      "weighted avg       0.89      0.89      0.89      2748\n",
      "\n",
      "Wall time: 8min 58s\n"
     ]
    }
   ],
   "source": [
    "%%time\n",
    "\n",
    "scaler = StandardScaler()\n",
    "\n",
    "# Creating svc. Here we use the default instead of linear as mentioned on the piazza post. \n",
    "svc_clf = SVC(random_state = 11)\n",
    "\n",
    "# Creating the pipeline\n",
    "pipe = Pipeline(steps = [('sca', scaler ), ('svc', svc_clf)])\n",
    "\n",
    "# CV on train\n",
    "scores = cross_val_score(pipe, train_X, train_Y, cv = 5)\n",
    "\n",
    "# Fit the model\n",
    "pipe.fit(train_X, train_Y)\n",
    "\n",
    "# Print results\n",
    "print(\"Accuracy (model):\", scores.mean() * 100)\n",
    "print(\"\\nAccuracy (train):\", pipe.score(train_X, train_Y) * 100)\n",
    "print(\"Classification report (train):\\n\", classification_report(train_Y, pipe.predict(train_X)))\n",
    "print(\"Accuracy (test):\", pipe.score(test_X, test_Y) * 100)\n",
    "print(\"Classification report (test):\\n\", classification_report(test_Y, pipe.predict(test_X)))"
   ]
  },
  {
   "cell_type": "markdown",
   "metadata": {},
   "source": [
    "# Naive Bayes"
   ]
  },
  {
   "cell_type": "code",
   "execution_count": 11,
   "metadata": {},
   "outputs": [
    {
     "name": "stdout",
     "output_type": "stream",
     "text": [
      "Accuracy (model): 58.03354594890566\n",
      "\n",
      "Accuracy (train): 59.006550218340614\n",
      "Classification report (train):\n",
      "               precision    recall  f1-score   support\n",
      "\n",
      "           0       0.86      0.21      0.34      5494\n",
      "           1       0.55      0.97      0.70      5498\n",
      "\n",
      "   micro avg       0.59      0.59      0.59     10992\n",
      "   macro avg       0.71      0.59      0.52     10992\n",
      "weighted avg       0.71      0.59      0.52     10992\n",
      "\n",
      "Accuracy (test): 58.406113537117896\n",
      "Classification report (test):\n",
      "               precision    recall  f1-score   support\n",
      "\n",
      "           0       0.83      0.21      0.34      1376\n",
      "           1       0.55      0.96      0.70      1372\n",
      "\n",
      "   micro avg       0.58      0.58      0.58      2748\n",
      "   macro avg       0.69      0.58      0.52      2748\n",
      "weighted avg       0.69      0.58      0.52      2748\n",
      "\n",
      "Wall time: 3.42 s\n"
     ]
    }
   ],
   "source": [
    "%%time\n",
    "\n",
    "# Create NB clf and fit it\n",
    "clf_rf = GaussianNB()\n",
    "\n",
    "# CV on train\n",
    "scores = cross_val_score(clf_rf, train_X, train_Y, cv = 10)\n",
    "\n",
    "# Fit the model\n",
    "clf_rf.fit(train_X, train_Y)\n",
    "\n",
    "# Print results\n",
    "print(\"Accuracy (model):\", scores.mean() * 100)\n",
    "print(\"\\nAccuracy (train):\", clf_rf.score(train_X, train_Y) * 100)\n",
    "print(\"Classification report (train):\\n\", classification_report(train_Y, clf_rf.predict(train_X)))\n",
    "print(\"Accuracy (test):\", clf_rf.score(test_X, test_Y) * 100)\n",
    "print(\"Classification report (test):\\n\", classification_report(test_Y, clf_rf.predict(test_X)))"
   ]
  },
  {
   "cell_type": "markdown",
   "metadata": {},
   "source": [
    "# Neural Networks"
   ]
  },
  {
   "cell_type": "code",
   "execution_count": 12,
   "metadata": {},
   "outputs": [
    {
     "name": "stdout",
     "output_type": "stream",
     "text": [
      "{'clf__activation': 'relu', 'clf__hidden_layer_sizes': (70,)}\n",
      "\n",
      "Accuracy (model): 93.04039301310044\n",
      "\n",
      "Accuracy (train): 100.0\n",
      "Classification report (train):\n",
      "               precision    recall  f1-score   support\n",
      "\n",
      "           0       1.00      1.00      1.00      5494\n",
      "           1       1.00      1.00      1.00      5498\n",
      "\n",
      "   micro avg       1.00      1.00      1.00     10992\n",
      "   macro avg       1.00      1.00      1.00     10992\n",
      "weighted avg       1.00      1.00      1.00     10992\n",
      "\n",
      "Accuracy (test): 93.95924308588064\n",
      "Classification report (test):\n",
      "               precision    recall  f1-score   support\n",
      "\n",
      "           0       0.98      0.90      0.94      1376\n",
      "           1       0.91      0.98      0.94      1372\n",
      "\n",
      "   micro avg       0.94      0.94      0.94      2748\n",
      "   macro avg       0.94      0.94      0.94      2748\n",
      "weighted avg       0.94      0.94      0.94      2748\n",
      "\n",
      "Wall time: 25min 55s\n"
     ]
    }
   ],
   "source": [
    "%%time\n",
    "\n",
    "scaler = StandardScaler()\n",
    "clf = MLPClassifier(random_state = 11)\n",
    "\n",
    "# Create pipeline\n",
    "pipe = Pipeline(steps = [('scaler', scaler), ('clf', clf)])\n",
    "\n",
    "# Set parameters\n",
    "param_grid = {\n",
    "    'clf__hidden_layer_sizes': [(50,), (60,), (70,), (80,), (90,), (100,)],\n",
    "    'clf__activation': ['identity', 'logistic', 'tanh', 'relu']\n",
    "}\n",
    "\n",
    "# Find best parameters\n",
    "grid_search = GridSearchCV(pipe, param_grid, cv = 5)\n",
    "\n",
    "# Fit model and print best hyperparameters\n",
    "grid_search.fit(train_X, train_Y)\n",
    "print(grid_search.best_params_)\n",
    "\n",
    "# Print results\n",
    "print(\"\\nAccuracy (model):\", grid_search.best_score_ * 100)\n",
    "print(\"\\nAccuracy (train):\", grid_search.score(train_X, train_Y) * 100)\n",
    "print(\"Classification report (train):\\n\", classification_report(train_Y, grid_search.predict(train_X)))\n",
    "print(\"Accuracy (test):\", grid_search.score(test_X, test_Y) * 100)\n",
    "print(\"Classification report (test):\\n\", classification_report(test_Y, grid_search.predict(test_X)))"
   ]
  },
  {
   "cell_type": "markdown",
   "metadata": {},
   "source": [
    "# Darwin (SMOTE)"
   ]
  },
  {
   "cell_type": "code",
   "execution_count": 13,
   "metadata": {},
   "outputs": [],
   "source": [
    "ds = DarwinSdk()\n",
    "ds.set_url('https://amb-demo-api.sparkcognition.com/v1/')\n",
    "status, msg = ds.auth_login_user('EMMIECHNG@UTEXAS.EDU', 'QMCZgepW6u')\n",
    "\n",
    "if not status:\n",
    "    print(msg)"
   ]
  },
  {
   "cell_type": "code",
   "execution_count": 14,
   "metadata": {},
   "outputs": [],
   "source": [
    "dataset_train = 'Speed_Dating_Clean_SMOTE_train.csv'\n",
    "dataset_test = 'Speed_Dating_Clean_SMOTE_test.csv'"
   ]
  },
  {
   "cell_type": "markdown",
   "metadata": {},
   "source": [
    "**Remove datasets**"
   ]
  },
  {
   "cell_type": "code",
   "execution_count": 15,
   "metadata": {},
   "outputs": [],
   "source": [
    "# Remove previously uploaded datasets to not run into errors\n",
    "if ds.lookup_dataset_name(\"Speed_Dating_Clean_SMOTE_train.csv\")[0]:\n",
    "    ds.delete_dataset(\"Speed_Dating_Clean_SMOTE_train.csv\")\n",
    "    \n",
    "if ds.lookup_dataset_name(\"Speed_Dating_Clean_SMOTE_test.csv\")[0]:\n",
    "    ds.delete_dataset(\"Speed_Dating_Clean_SMOTE_test.csv\")"
   ]
  },
  {
   "cell_type": "markdown",
   "metadata": {},
   "source": [
    "**Upload datasets**"
   ]
  },
  {
   "cell_type": "code",
   "execution_count": 16,
   "metadata": {},
   "outputs": [],
   "source": [
    "# Upload train dataset to Darwin\n",
    "data_SMOTE_train = pd.read_csv(\"Speed_Dating_Clean_SMOTE_train.csv\")\n",
    "status, dataset = ds.upload_dataset(\"Speed_Dating_Clean_SMOTE_train.csv\")\n",
    "\n",
    "if not status:\n",
    "    print(dataset)"
   ]
  },
  {
   "cell_type": "code",
   "execution_count": 17,
   "metadata": {},
   "outputs": [],
   "source": [
    "# Upload test dataset to Darwin\n",
    "data_SMOTE_test = pd.read_csv(\"Speed_Dating_Clean_SMOTE_test.csv\")\n",
    "status, dataset = ds.upload_dataset(\"Speed_Dating_Clean_SMOTE_test.csv\")\n",
    "\n",
    "if not status:\n",
    "    print(dataset)"
   ]
  },
  {
   "cell_type": "code",
   "execution_count": 18,
   "metadata": {},
   "outputs": [
    {
     "data": {
      "text/plain": [
       "(True,\n",
       " [{'name': 'Speed_Dating_Clean_SMOTE_train.csv',\n",
       "   'mbytes': 30.262596130371094,\n",
       "   'minimum_recommeded_train_time': '5 minutes',\n",
       "   'updated_at': '2019-04-20T04:28:36.801557',\n",
       "   'categorical': None,\n",
       "   'sequential': None,\n",
       "   'imbalanced': None},\n",
       "  {'name': 'Speed_Dating_Clean_SMOTE_test.csv',\n",
       "   'mbytes': 7.55277156829834,\n",
       "   'minimum_recommeded_train_time': '5 minutes',\n",
       "   'updated_at': '2019-04-20T04:29:10.971834',\n",
       "   'categorical': None,\n",
       "   'sequential': None,\n",
       "   'imbalanced': None}])"
      ]
     },
     "execution_count": 18,
     "metadata": {},
     "output_type": "execute_result"
    }
   ],
   "source": [
    "ds.lookup_dataset()"
   ]
  },
  {
   "cell_type": "markdown",
   "metadata": {},
   "source": [
    "**Clean datasets**"
   ]
  },
  {
   "cell_type": "code",
   "execution_count": 19,
   "metadata": {},
   "outputs": [
    {
     "name": "stdout",
     "output_type": "stream",
     "text": [
      "{'status': 'Requested', 'starttime': '2019-04-20T04:29:12.402888', 'endtime': None, 'percent_complete': 0, 'job_type': 'CleanDataTiny', 'loss': None, 'generations': None, 'dataset_names': ['Speed_Dating_Clean_SMOTE_train.csv'], 'artifact_names': ['3ab9c233462544b79471c583bd79c7ee'], 'model_name': None, 'job_error': None}\n",
      "{'status': 'Running', 'starttime': '2019-04-20T04:29:12.402888', 'endtime': None, 'percent_complete': 0, 'job_type': 'CleanDataTiny', 'loss': None, 'generations': None, 'dataset_names': ['Speed_Dating_Clean_SMOTE_train.csv'], 'artifact_names': ['3ab9c233462544b79471c583bd79c7ee'], 'model_name': None, 'job_error': ''}\n",
      "{'status': 'Running', 'starttime': '2019-04-20T04:29:12.402888', 'endtime': None, 'percent_complete': 0, 'job_type': 'CleanDataTiny', 'loss': None, 'generations': None, 'dataset_names': ['Speed_Dating_Clean_SMOTE_train.csv'], 'artifact_names': ['3ab9c233462544b79471c583bd79c7ee'], 'model_name': None, 'job_error': ''}\n",
      "{'status': 'Complete', 'starttime': '2019-04-20T04:29:12.402888', 'endtime': '2019-04-20T04:29:44.712857', 'percent_complete': 100, 'job_type': 'CleanDataTiny', 'loss': None, 'generations': None, 'dataset_names': ['Speed_Dating_Clean_SMOTE_train.csv'], 'artifact_names': ['3ab9c233462544b79471c583bd79c7ee'], 'model_name': None, 'job_error': ''}\n"
     ]
    }
   ],
   "source": [
    "# Clean train dataset on Darwin\n",
    "target = \"match\"\n",
    "status, job_id = ds.clean_data(dataset_train, target = target)\n",
    "\n",
    "if status:\n",
    "    ds.wait_for_job(job_id['job_name'])\n",
    "else:\n",
    "    print(job_id)"
   ]
  },
  {
   "cell_type": "code",
   "execution_count": 20,
   "metadata": {},
   "outputs": [
    {
     "name": "stdout",
     "output_type": "stream",
     "text": [
      "{'status': 'Requested', 'starttime': '2019-04-20T04:29:58.871106', 'endtime': None, 'percent_complete': 0, 'job_type': 'CleanDataTiny', 'loss': None, 'generations': None, 'dataset_names': ['Speed_Dating_Clean_SMOTE_test.csv'], 'artifact_names': ['fad301ccde3146ff9cb5a43f0e7eebd7'], 'model_name': None, 'job_error': None}\n",
      "{'status': 'Running', 'starttime': '2019-04-20T04:29:58.871106', 'endtime': None, 'percent_complete': 0, 'job_type': 'CleanDataTiny', 'loss': None, 'generations': None, 'dataset_names': ['Speed_Dating_Clean_SMOTE_test.csv'], 'artifact_names': ['fad301ccde3146ff9cb5a43f0e7eebd7'], 'model_name': None, 'job_error': ''}\n",
      "{'status': 'Complete', 'starttime': '2019-04-20T04:29:58.871106', 'endtime': '2019-04-20T04:30:15.080146', 'percent_complete': 100, 'job_type': 'CleanDataTiny', 'loss': None, 'generations': None, 'dataset_names': ['Speed_Dating_Clean_SMOTE_test.csv'], 'artifact_names': ['fad301ccde3146ff9cb5a43f0e7eebd7'], 'model_name': None, 'job_error': ''}\n"
     ]
    }
   ],
   "source": [
    "# Clean test dataset on Darwin\n",
    "target = \"match\"\n",
    "status, job_id = ds.clean_data(dataset_test, target = target)\n",
    "\n",
    "if status:\n",
    "    ds.wait_for_job(job_id['job_name'])\n",
    "else:\n",
    "    print(job_id)"
   ]
  },
  {
   "cell_type": "markdown",
   "metadata": {},
   "source": [
    "**Create model**"
   ]
  },
  {
   "cell_type": "code",
   "execution_count": 21,
   "metadata": {},
   "outputs": [
    {
     "name": "stdout",
     "output_type": "stream",
     "text": [
      "{'status': 'Requested', 'starttime': '2019-04-20T04:30:30.252159', 'endtime': None, 'percent_complete': 0, 'job_type': 'TrainModel', 'loss': None, 'generations': 0, 'dataset_names': ['Speed_Dating_Clean_SMOTE_train.csv'], 'artifact_names': None, 'model_name': 'match_model20190420140707', 'job_error': None}\n",
      "{'status': 'Running', 'starttime': '2019-04-20T04:30:30.252159', 'endtime': None, 'percent_complete': 1, 'job_type': 'TrainModel', 'loss': 0.42760908603668213, 'generations': 0, 'dataset_names': ['Speed_Dating_Clean_SMOTE_train.csv'], 'artifact_names': None, 'model_name': 'match_model20190420140707', 'job_error': ''}\n",
      "{'status': 'Running', 'starttime': '2019-04-20T04:30:30.252159', 'endtime': None, 'percent_complete': 1, 'job_type': 'TrainModel', 'loss': 0.42760908603668213, 'generations': 0, 'dataset_names': ['Speed_Dating_Clean_SMOTE_train.csv'], 'artifact_names': None, 'model_name': 'match_model20190420140707', 'job_error': ''}\n",
      "{'status': 'Running', 'starttime': '2019-04-20T04:30:30.252159', 'endtime': None, 'percent_complete': 5, 'job_type': 'TrainModel', 'loss': 0.42760908603668213, 'generations': 1, 'dataset_names': ['Speed_Dating_Clean_SMOTE_train.csv'], 'artifact_names': None, 'model_name': 'match_model20190420140707', 'job_error': ''}\n",
      "{'status': 'Running', 'starttime': '2019-04-20T04:30:30.252159', 'endtime': None, 'percent_complete': 7, 'job_type': 'TrainModel', 'loss': 0.42760908603668213, 'generations': 2, 'dataset_names': ['Speed_Dating_Clean_SMOTE_train.csv'], 'artifact_names': None, 'model_name': 'match_model20190420140707', 'job_error': ''}\n",
      "{'status': 'Running', 'starttime': '2019-04-20T04:30:30.252159', 'endtime': None, 'percent_complete': 7, 'job_type': 'TrainModel', 'loss': 0.42760908603668213, 'generations': 2, 'dataset_names': ['Speed_Dating_Clean_SMOTE_train.csv'], 'artifact_names': None, 'model_name': 'match_model20190420140707', 'job_error': ''}\n",
      "{'status': 'Running', 'starttime': '2019-04-20T04:30:30.252159', 'endtime': None, 'percent_complete': 7, 'job_type': 'TrainModel', 'loss': 0.42760908603668213, 'generations': 2, 'dataset_names': ['Speed_Dating_Clean_SMOTE_train.csv'], 'artifact_names': None, 'model_name': 'match_model20190420140707', 'job_error': ''}\n",
      "{'status': 'Running', 'starttime': '2019-04-20T04:30:30.252159', 'endtime': None, 'percent_complete': 7, 'job_type': 'TrainModel', 'loss': 0.42760908603668213, 'generations': 2, 'dataset_names': ['Speed_Dating_Clean_SMOTE_train.csv'], 'artifact_names': None, 'model_name': 'match_model20190420140707', 'job_error': ''}\n",
      "{'status': 'Running', 'starttime': '2019-04-20T04:30:30.252159', 'endtime': None, 'percent_complete': 7, 'job_type': 'TrainModel', 'loss': 0.42760908603668213, 'generations': 2, 'dataset_names': ['Speed_Dating_Clean_SMOTE_train.csv'], 'artifact_names': None, 'model_name': 'match_model20190420140707', 'job_error': ''}\n",
      "{'status': 'Running', 'starttime': '2019-04-20T04:30:30.252159', 'endtime': None, 'percent_complete': 7, 'job_type': 'TrainModel', 'loss': 0.42760908603668213, 'generations': 2, 'dataset_names': ['Speed_Dating_Clean_SMOTE_train.csv'], 'artifact_names': None, 'model_name': 'match_model20190420140707', 'job_error': ''}\n",
      "{'status': 'Running', 'starttime': '2019-04-20T04:30:30.252159', 'endtime': None, 'percent_complete': 7, 'job_type': 'TrainModel', 'loss': 0.42760908603668213, 'generations': 2, 'dataset_names': ['Speed_Dating_Clean_SMOTE_train.csv'], 'artifact_names': None, 'model_name': 'match_model20190420140707', 'job_error': ''}\n",
      "{'status': 'Running', 'starttime': '2019-04-20T04:30:30.252159', 'endtime': None, 'percent_complete': 20, 'job_type': 'TrainModel', 'loss': 0.22009418408075967, 'generations': 2, 'dataset_names': ['Speed_Dating_Clean_SMOTE_train.csv'], 'artifact_names': None, 'model_name': 'match_model20190420140707', 'job_error': ''}\n",
      "{'status': 'Running', 'starttime': '2019-04-20T04:30:30.252159', 'endtime': None, 'percent_complete': 20, 'job_type': 'TrainModel', 'loss': 0.22009418408075967, 'generations': 2, 'dataset_names': ['Speed_Dating_Clean_SMOTE_train.csv'], 'artifact_names': None, 'model_name': 'match_model20190420140707', 'job_error': ''}\n",
      "{'status': 'Running', 'starttime': '2019-04-20T04:30:30.252159', 'endtime': None, 'percent_complete': 20, 'job_type': 'TrainModel', 'loss': 0.22009418408075967, 'generations': 2, 'dataset_names': ['Speed_Dating_Clean_SMOTE_train.csv'], 'artifact_names': None, 'model_name': 'match_model20190420140707', 'job_error': ''}\n",
      "{'status': 'Running', 'starttime': '2019-04-20T04:30:30.252159', 'endtime': None, 'percent_complete': 20, 'job_type': 'TrainModel', 'loss': 0.22009418408075967, 'generations': 2, 'dataset_names': ['Speed_Dating_Clean_SMOTE_train.csv'], 'artifact_names': None, 'model_name': 'match_model20190420140707', 'job_error': ''}\n",
      "{'status': 'Running', 'starttime': '2019-04-20T04:30:30.252159', 'endtime': None, 'percent_complete': 20, 'job_type': 'TrainModel', 'loss': 0.22009418408075967, 'generations': 2, 'dataset_names': ['Speed_Dating_Clean_SMOTE_train.csv'], 'artifact_names': None, 'model_name': 'match_model20190420140707', 'job_error': ''}\n",
      "{'status': 'Running', 'starttime': '2019-04-20T04:30:30.252159', 'endtime': None, 'percent_complete': 20, 'job_type': 'TrainModel', 'loss': 0.22009418408075967, 'generations': 2, 'dataset_names': ['Speed_Dating_Clean_SMOTE_train.csv'], 'artifact_names': None, 'model_name': 'match_model20190420140707', 'job_error': ''}\n",
      "{'status': 'Running', 'starttime': '2019-04-20T04:30:30.252159', 'endtime': None, 'percent_complete': 20, 'job_type': 'TrainModel', 'loss': 0.22009418408075967, 'generations': 2, 'dataset_names': ['Speed_Dating_Clean_SMOTE_train.csv'], 'artifact_names': None, 'model_name': 'match_model20190420140707', 'job_error': ''}\n",
      "{'status': 'Running', 'starttime': '2019-04-20T04:30:30.252159', 'endtime': None, 'percent_complete': 20, 'job_type': 'TrainModel', 'loss': 0.22009418408075967, 'generations': 2, 'dataset_names': ['Speed_Dating_Clean_SMOTE_train.csv'], 'artifact_names': None, 'model_name': 'match_model20190420140707', 'job_error': ''}\n",
      "{'status': 'Running', 'starttime': '2019-04-20T04:30:30.252159', 'endtime': None, 'percent_complete': 20, 'job_type': 'TrainModel', 'loss': 0.22009418408075967, 'generations': 2, 'dataset_names': ['Speed_Dating_Clean_SMOTE_train.csv'], 'artifact_names': None, 'model_name': 'match_model20190420140707', 'job_error': ''}\n",
      "{'status': 'Running', 'starttime': '2019-04-20T04:30:30.252159', 'endtime': None, 'percent_complete': 20, 'job_type': 'TrainModel', 'loss': 0.22009418408075967, 'generations': 2, 'dataset_names': ['Speed_Dating_Clean_SMOTE_train.csv'], 'artifact_names': None, 'model_name': 'match_model20190420140707', 'job_error': ''}\n",
      "{'status': 'Running', 'starttime': '2019-04-20T04:30:30.252159', 'endtime': None, 'percent_complete': 20, 'job_type': 'TrainModel', 'loss': 0.22009418408075967, 'generations': 2, 'dataset_names': ['Speed_Dating_Clean_SMOTE_train.csv'], 'artifact_names': None, 'model_name': 'match_model20190420140707', 'job_error': ''}\n",
      "{'status': 'Running', 'starttime': '2019-04-20T04:30:30.252159', 'endtime': None, 'percent_complete': 20, 'job_type': 'TrainModel', 'loss': 0.22009418408075967, 'generations': 2, 'dataset_names': ['Speed_Dating_Clean_SMOTE_train.csv'], 'artifact_names': None, 'model_name': 'match_model20190420140707', 'job_error': ''}\n",
      "{'status': 'Running', 'starttime': '2019-04-20T04:30:30.252159', 'endtime': None, 'percent_complete': 20, 'job_type': 'TrainModel', 'loss': 0.22009418408075967, 'generations': 2, 'dataset_names': ['Speed_Dating_Clean_SMOTE_train.csv'], 'artifact_names': None, 'model_name': 'match_model20190420140707', 'job_error': ''}\n",
      "{'status': 'Running', 'starttime': '2019-04-20T04:30:30.252159', 'endtime': None, 'percent_complete': 20, 'job_type': 'TrainModel', 'loss': 0.22009418408075967, 'generations': 2, 'dataset_names': ['Speed_Dating_Clean_SMOTE_train.csv'], 'artifact_names': None, 'model_name': 'match_model20190420140707', 'job_error': ''}\n",
      "{'status': 'Running', 'starttime': '2019-04-20T04:30:30.252159', 'endtime': None, 'percent_complete': 20, 'job_type': 'TrainModel', 'loss': 0.22009418408075967, 'generations': 2, 'dataset_names': ['Speed_Dating_Clean_SMOTE_train.csv'], 'artifact_names': None, 'model_name': 'match_model20190420140707', 'job_error': ''}\n"
     ]
    },
    {
     "name": "stdout",
     "output_type": "stream",
     "text": [
      "{'status': 'Running', 'starttime': '2019-04-20T04:30:30.252159', 'endtime': None, 'percent_complete': 20, 'job_type': 'TrainModel', 'loss': 0.22009418408075967, 'generations': 2, 'dataset_names': ['Speed_Dating_Clean_SMOTE_train.csv'], 'artifact_names': None, 'model_name': 'match_model20190420140707', 'job_error': ''}\n",
      "{'status': 'Running', 'starttime': '2019-04-20T04:30:30.252159', 'endtime': None, 'percent_complete': 20, 'job_type': 'TrainModel', 'loss': 0.22009418408075967, 'generations': 2, 'dataset_names': ['Speed_Dating_Clean_SMOTE_train.csv'], 'artifact_names': None, 'model_name': 'match_model20190420140707', 'job_error': ''}\n",
      "{'status': 'Running', 'starttime': '2019-04-20T04:30:30.252159', 'endtime': None, 'percent_complete': 20, 'job_type': 'TrainModel', 'loss': 0.22009418408075967, 'generations': 2, 'dataset_names': ['Speed_Dating_Clean_SMOTE_train.csv'], 'artifact_names': None, 'model_name': 'match_model20190420140707', 'job_error': ''}\n",
      "{'status': 'Running', 'starttime': '2019-04-20T04:30:30.252159', 'endtime': None, 'percent_complete': 20, 'job_type': 'TrainModel', 'loss': 0.22009418408075967, 'generations': 2, 'dataset_names': ['Speed_Dating_Clean_SMOTE_train.csv'], 'artifact_names': None, 'model_name': 'match_model20190420140707', 'job_error': ''}\n",
      "{'status': 'Running', 'starttime': '2019-04-20T04:30:30.252159', 'endtime': None, 'percent_complete': 20, 'job_type': 'TrainModel', 'loss': 0.22009418408075967, 'generations': 2, 'dataset_names': ['Speed_Dating_Clean_SMOTE_train.csv'], 'artifact_names': None, 'model_name': 'match_model20190420140707', 'job_error': ''}\n",
      "{'status': 'Running', 'starttime': '2019-04-20T04:30:30.252159', 'endtime': None, 'percent_complete': 20, 'job_type': 'TrainModel', 'loss': 0.22009418408075967, 'generations': 2, 'dataset_names': ['Speed_Dating_Clean_SMOTE_train.csv'], 'artifact_names': None, 'model_name': 'match_model20190420140707', 'job_error': ''}\n",
      "{'status': 'Running', 'starttime': '2019-04-20T04:30:30.252159', 'endtime': None, 'percent_complete': 20, 'job_type': 'TrainModel', 'loss': 0.22009418408075967, 'generations': 2, 'dataset_names': ['Speed_Dating_Clean_SMOTE_train.csv'], 'artifact_names': None, 'model_name': 'match_model20190420140707', 'job_error': ''}\n",
      "{'status': 'Running', 'starttime': '2019-04-20T04:30:30.252159', 'endtime': None, 'percent_complete': 20, 'job_type': 'TrainModel', 'loss': 0.22009418408075967, 'generations': 2, 'dataset_names': ['Speed_Dating_Clean_SMOTE_train.csv'], 'artifact_names': None, 'model_name': 'match_model20190420140707', 'job_error': ''}\n",
      "{'status': 'Running', 'starttime': '2019-04-20T04:30:30.252159', 'endtime': None, 'percent_complete': 20, 'job_type': 'TrainModel', 'loss': 0.22009418408075967, 'generations': 2, 'dataset_names': ['Speed_Dating_Clean_SMOTE_train.csv'], 'artifact_names': None, 'model_name': 'match_model20190420140707', 'job_error': ''}\n",
      "{'status': 'Running', 'starttime': '2019-04-20T04:30:30.252159', 'endtime': None, 'percent_complete': 20, 'job_type': 'TrainModel', 'loss': 0.22009418408075967, 'generations': 2, 'dataset_names': ['Speed_Dating_Clean_SMOTE_train.csv'], 'artifact_names': None, 'model_name': 'match_model20190420140707', 'job_error': ''}\n",
      "{'status': 'Running', 'starttime': '2019-04-20T04:30:30.252159', 'endtime': None, 'percent_complete': 20, 'job_type': 'TrainModel', 'loss': 0.22009418408075967, 'generations': 2, 'dataset_names': ['Speed_Dating_Clean_SMOTE_train.csv'], 'artifact_names': None, 'model_name': 'match_model20190420140707', 'job_error': ''}\n",
      "{'status': 'Running', 'starttime': '2019-04-20T04:30:30.252159', 'endtime': None, 'percent_complete': 20, 'job_type': 'TrainModel', 'loss': 0.22009418408075967, 'generations': 2, 'dataset_names': ['Speed_Dating_Clean_SMOTE_train.csv'], 'artifact_names': None, 'model_name': 'match_model20190420140707', 'job_error': ''}\n",
      "{'status': 'Running', 'starttime': '2019-04-20T04:30:30.252159', 'endtime': None, 'percent_complete': 20, 'job_type': 'TrainModel', 'loss': 0.22009418408075967, 'generations': 2, 'dataset_names': ['Speed_Dating_Clean_SMOTE_train.csv'], 'artifact_names': None, 'model_name': 'match_model20190420140707', 'job_error': ''}\n",
      "{'status': 'Running', 'starttime': '2019-04-20T04:30:30.252159', 'endtime': None, 'percent_complete': 20, 'job_type': 'TrainModel', 'loss': 0.22009418408075967, 'generations': 2, 'dataset_names': ['Speed_Dating_Clean_SMOTE_train.csv'], 'artifact_names': None, 'model_name': 'match_model20190420140707', 'job_error': ''}\n",
      "{'status': 'Running', 'starttime': '2019-04-20T04:30:30.252159', 'endtime': None, 'percent_complete': 20, 'job_type': 'TrainModel', 'loss': 0.22009418408075967, 'generations': 2, 'dataset_names': ['Speed_Dating_Clean_SMOTE_train.csv'], 'artifact_names': None, 'model_name': 'match_model20190420140707', 'job_error': ''}\n"
     ]
    }
   ],
   "source": [
    "# Create Darwin model\n",
    "model = target + \"_model\" + ts\n",
    "status, job_id = ds.create_model(dataset_names = dataset_train,\n",
    "                                 model_name = model,\n",
    "                                 max_train_time = '00:10')\n",
    "\n",
    "if status:\n",
    "    ds.wait_for_job(job_id['job_name'])\n",
    "else:\n",
    "    print(job_id)"
   ]
  },
  {
   "cell_type": "code",
   "execution_count": 22,
   "metadata": {
    "scrolled": true
   },
   "outputs": [
    {
     "name": "stdout",
     "output_type": "stream",
     "text": [
      "{'status': 'Taken', 'starttime': '2019-04-20T04:40:34.947569', 'endtime': None, 'percent_complete': 0, 'job_type': 'UpdateModel', 'loss': 0.22009418408075967, 'generations': 2, 'dataset_names': ['Speed_Dating_Clean_SMOTE_train.csv'], 'artifact_names': None, 'model_name': 'match_model20190420140707', 'job_error': None}\n",
      "{'status': 'Running', 'starttime': '2019-04-20T04:40:34.947569', 'endtime': None, 'percent_complete': 0, 'job_type': 'UpdateModel', 'loss': 0.22009418408075967, 'generations': 2, 'dataset_names': ['Speed_Dating_Clean_SMOTE_train.csv'], 'artifact_names': None, 'model_name': 'match_model20190420140707', 'job_error': ''}\n",
      "{'status': 'Running', 'starttime': '2019-04-20T04:40:34.947569', 'endtime': None, 'percent_complete': 1, 'job_type': 'UpdateModel', 'loss': 0.22009418408075967, 'generations': 4, 'dataset_names': ['Speed_Dating_Clean_SMOTE_train.csv'], 'artifact_names': None, 'model_name': 'match_model20190420140707', 'job_error': ''}\n",
      "{'status': 'Running', 'starttime': '2019-04-20T04:40:34.947569', 'endtime': None, 'percent_complete': 1, 'job_type': 'UpdateModel', 'loss': 0.22009418408075967, 'generations': 4, 'dataset_names': ['Speed_Dating_Clean_SMOTE_train.csv'], 'artifact_names': None, 'model_name': 'match_model20190420140707', 'job_error': ''}\n",
      "{'status': 'Running', 'starttime': '2019-04-20T04:40:34.947569', 'endtime': None, 'percent_complete': 1, 'job_type': 'UpdateModel', 'loss': 0.22009418408075967, 'generations': 4, 'dataset_names': ['Speed_Dating_Clean_SMOTE_train.csv'], 'artifact_names': None, 'model_name': 'match_model20190420140707', 'job_error': ''}\n",
      "{'status': 'Running', 'starttime': '2019-04-20T04:40:34.947569', 'endtime': None, 'percent_complete': 9, 'job_type': 'UpdateModel', 'loss': 0.22009418408075967, 'generations': 5, 'dataset_names': ['Speed_Dating_Clean_SMOTE_train.csv'], 'artifact_names': None, 'model_name': 'match_model20190420140707', 'job_error': ''}\n",
      "{'status': 'Running', 'starttime': '2019-04-20T04:40:34.947569', 'endtime': None, 'percent_complete': 9, 'job_type': 'UpdateModel', 'loss': 0.22009418408075967, 'generations': 5, 'dataset_names': ['Speed_Dating_Clean_SMOTE_train.csv'], 'artifact_names': None, 'model_name': 'match_model20190420140707', 'job_error': ''}\n",
      "{'status': 'Running', 'starttime': '2019-04-20T04:40:34.947569', 'endtime': None, 'percent_complete': 9, 'job_type': 'UpdateModel', 'loss': 0.22009418408075967, 'generations': 5, 'dataset_names': ['Speed_Dating_Clean_SMOTE_train.csv'], 'artifact_names': None, 'model_name': 'match_model20190420140707', 'job_error': ''}\n",
      "{'status': 'Running', 'starttime': '2019-04-20T04:40:34.947569', 'endtime': None, 'percent_complete': 9, 'job_type': 'UpdateModel', 'loss': 0.22009418408075967, 'generations': 5, 'dataset_names': ['Speed_Dating_Clean_SMOTE_train.csv'], 'artifact_names': None, 'model_name': 'match_model20190420140707', 'job_error': ''}\n",
      "{'status': 'Running', 'starttime': '2019-04-20T04:40:34.947569', 'endtime': None, 'percent_complete': 9, 'job_type': 'UpdateModel', 'loss': 0.22009418408075967, 'generations': 5, 'dataset_names': ['Speed_Dating_Clean_SMOTE_train.csv'], 'artifact_names': None, 'model_name': 'match_model20190420140707', 'job_error': ''}\n",
      "{'status': 'Running', 'starttime': '2019-04-20T04:40:34.947569', 'endtime': None, 'percent_complete': 9, 'job_type': 'UpdateModel', 'loss': 0.22009418408075967, 'generations': 5, 'dataset_names': ['Speed_Dating_Clean_SMOTE_train.csv'], 'artifact_names': None, 'model_name': 'match_model20190420140707', 'job_error': ''}\n",
      "{'status': 'Running', 'starttime': '2019-04-20T04:40:34.947569', 'endtime': None, 'percent_complete': 9, 'job_type': 'UpdateModel', 'loss': 0.22009418408075967, 'generations': 5, 'dataset_names': ['Speed_Dating_Clean_SMOTE_train.csv'], 'artifact_names': None, 'model_name': 'match_model20190420140707', 'job_error': ''}\n",
      "{'status': 'Running', 'starttime': '2019-04-20T04:40:34.947569', 'endtime': None, 'percent_complete': 9, 'job_type': 'UpdateModel', 'loss': 0.22009418408075967, 'generations': 5, 'dataset_names': ['Speed_Dating_Clean_SMOTE_train.csv'], 'artifact_names': None, 'model_name': 'match_model20190420140707', 'job_error': ''}\n",
      "{'status': 'Running', 'starttime': '2019-04-20T04:40:34.947569', 'endtime': None, 'percent_complete': 9, 'job_type': 'UpdateModel', 'loss': 0.22009418408075967, 'generations': 5, 'dataset_names': ['Speed_Dating_Clean_SMOTE_train.csv'], 'artifact_names': None, 'model_name': 'match_model20190420140707', 'job_error': ''}\n",
      "{'status': 'Running', 'starttime': '2019-04-20T04:40:34.947569', 'endtime': None, 'percent_complete': 9, 'job_type': 'UpdateModel', 'loss': 0.22009418408075967, 'generations': 5, 'dataset_names': ['Speed_Dating_Clean_SMOTE_train.csv'], 'artifact_names': None, 'model_name': 'match_model20190420140707', 'job_error': ''}\n",
      "{'status': 'Running', 'starttime': '2019-04-20T04:40:34.947569', 'endtime': None, 'percent_complete': 9, 'job_type': 'UpdateModel', 'loss': 0.22009418408075967, 'generations': 5, 'dataset_names': ['Speed_Dating_Clean_SMOTE_train.csv'], 'artifact_names': None, 'model_name': 'match_model20190420140707', 'job_error': ''}\n",
      "{'status': 'Running', 'starttime': '2019-04-20T04:40:34.947569', 'endtime': None, 'percent_complete': 9, 'job_type': 'UpdateModel', 'loss': 0.22009418408075967, 'generations': 5, 'dataset_names': ['Speed_Dating_Clean_SMOTE_train.csv'], 'artifact_names': None, 'model_name': 'match_model20190420140707', 'job_error': ''}\n",
      "{'status': 'Running', 'starttime': '2019-04-20T04:40:34.947569', 'endtime': None, 'percent_complete': 9, 'job_type': 'UpdateModel', 'loss': 0.22009418408075967, 'generations': 5, 'dataset_names': ['Speed_Dating_Clean_SMOTE_train.csv'], 'artifact_names': None, 'model_name': 'match_model20190420140707', 'job_error': ''}\n",
      "{'status': 'Running', 'starttime': '2019-04-20T04:40:34.947569', 'endtime': None, 'percent_complete': 9, 'job_type': 'UpdateModel', 'loss': 0.22009418408075967, 'generations': 5, 'dataset_names': ['Speed_Dating_Clean_SMOTE_train.csv'], 'artifact_names': None, 'model_name': 'match_model20190420140707', 'job_error': ''}\n",
      "{'status': 'Running', 'starttime': '2019-04-20T04:40:34.947569', 'endtime': None, 'percent_complete': 9, 'job_type': 'UpdateModel', 'loss': 0.22009418408075967, 'generations': 5, 'dataset_names': ['Speed_Dating_Clean_SMOTE_train.csv'], 'artifact_names': None, 'model_name': 'match_model20190420140707', 'job_error': ''}\n",
      "{'status': 'Running', 'starttime': '2019-04-20T04:40:34.947569', 'endtime': None, 'percent_complete': 9, 'job_type': 'UpdateModel', 'loss': 0.22009418408075967, 'generations': 5, 'dataset_names': ['Speed_Dating_Clean_SMOTE_train.csv'], 'artifact_names': None, 'model_name': 'match_model20190420140707', 'job_error': ''}\n",
      "{'status': 'Running', 'starttime': '2019-04-20T04:40:34.947569', 'endtime': None, 'percent_complete': 9, 'job_type': 'UpdateModel', 'loss': 0.22009418408075967, 'generations': 5, 'dataset_names': ['Speed_Dating_Clean_SMOTE_train.csv'], 'artifact_names': None, 'model_name': 'match_model20190420140707', 'job_error': ''}\n",
      "{'status': 'Running', 'starttime': '2019-04-20T04:40:34.947569', 'endtime': None, 'percent_complete': 9, 'job_type': 'UpdateModel', 'loss': 0.22009418408075967, 'generations': 5, 'dataset_names': ['Speed_Dating_Clean_SMOTE_train.csv'], 'artifact_names': None, 'model_name': 'match_model20190420140707', 'job_error': ''}\n",
      "{'status': 'Running', 'starttime': '2019-04-20T04:40:34.947569', 'endtime': None, 'percent_complete': 9, 'job_type': 'UpdateModel', 'loss': 0.22009418408075967, 'generations': 5, 'dataset_names': ['Speed_Dating_Clean_SMOTE_train.csv'], 'artifact_names': None, 'model_name': 'match_model20190420140707', 'job_error': ''}\n",
      "{'status': 'Running', 'starttime': '2019-04-20T04:40:34.947569', 'endtime': None, 'percent_complete': 9, 'job_type': 'UpdateModel', 'loss': 0.22009418408075967, 'generations': 5, 'dataset_names': ['Speed_Dating_Clean_SMOTE_train.csv'], 'artifact_names': None, 'model_name': 'match_model20190420140707', 'job_error': ''}\n",
      "{'status': 'Running', 'starttime': '2019-04-20T04:40:34.947569', 'endtime': None, 'percent_complete': 9, 'job_type': 'UpdateModel', 'loss': 0.22009418408075967, 'generations': 5, 'dataset_names': ['Speed_Dating_Clean_SMOTE_train.csv'], 'artifact_names': None, 'model_name': 'match_model20190420140707', 'job_error': ''}\n"
     ]
    },
    {
     "name": "stdout",
     "output_type": "stream",
     "text": [
      "{'status': 'Running', 'starttime': '2019-04-20T04:40:34.947569', 'endtime': None, 'percent_complete': 9, 'job_type': 'UpdateModel', 'loss': 0.22009418408075967, 'generations': 5, 'dataset_names': ['Speed_Dating_Clean_SMOTE_train.csv'], 'artifact_names': None, 'model_name': 'match_model20190420140707', 'job_error': ''}\n",
      "{'status': 'Running', 'starttime': '2019-04-20T04:40:34.947569', 'endtime': None, 'percent_complete': 9, 'job_type': 'UpdateModel', 'loss': 0.22009418408075967, 'generations': 5, 'dataset_names': ['Speed_Dating_Clean_SMOTE_train.csv'], 'artifact_names': None, 'model_name': 'match_model20190420140707', 'job_error': ''}\n",
      "{'status': 'Running', 'starttime': '2019-04-20T04:40:34.947569', 'endtime': None, 'percent_complete': 9, 'job_type': 'UpdateModel', 'loss': 0.22009418408075967, 'generations': 5, 'dataset_names': ['Speed_Dating_Clean_SMOTE_train.csv'], 'artifact_names': None, 'model_name': 'match_model20190420140707', 'job_error': ''}\n",
      "{'status': 'Running', 'starttime': '2019-04-20T04:40:34.947569', 'endtime': None, 'percent_complete': 9, 'job_type': 'UpdateModel', 'loss': 0.22009418408075967, 'generations': 5, 'dataset_names': ['Speed_Dating_Clean_SMOTE_train.csv'], 'artifact_names': None, 'model_name': 'match_model20190420140707', 'job_error': ''}\n",
      "{'status': 'Running', 'starttime': '2019-04-20T04:40:34.947569', 'endtime': None, 'percent_complete': 9, 'job_type': 'UpdateModel', 'loss': 0.22009418408075967, 'generations': 5, 'dataset_names': ['Speed_Dating_Clean_SMOTE_train.csv'], 'artifact_names': None, 'model_name': 'match_model20190420140707', 'job_error': ''}\n",
      "{'status': 'Running', 'starttime': '2019-04-20T04:40:34.947569', 'endtime': None, 'percent_complete': 9, 'job_type': 'UpdateModel', 'loss': 0.22009418408075967, 'generations': 5, 'dataset_names': ['Speed_Dating_Clean_SMOTE_train.csv'], 'artifact_names': None, 'model_name': 'match_model20190420140707', 'job_error': ''}\n",
      "{'status': 'Running', 'starttime': '2019-04-20T04:40:34.947569', 'endtime': None, 'percent_complete': 9, 'job_type': 'UpdateModel', 'loss': 0.22009418408075967, 'generations': 5, 'dataset_names': ['Speed_Dating_Clean_SMOTE_train.csv'], 'artifact_names': None, 'model_name': 'match_model20190420140707', 'job_error': ''}\n",
      "{'status': 'Running', 'starttime': '2019-04-20T04:40:34.947569', 'endtime': None, 'percent_complete': 9, 'job_type': 'UpdateModel', 'loss': 0.22009418408075967, 'generations': 5, 'dataset_names': ['Speed_Dating_Clean_SMOTE_train.csv'], 'artifact_names': None, 'model_name': 'match_model20190420140707', 'job_error': ''}\n",
      "{'status': 'Running', 'starttime': '2019-04-20T04:40:34.947569', 'endtime': None, 'percent_complete': 9, 'job_type': 'UpdateModel', 'loss': 0.22009418408075967, 'generations': 5, 'dataset_names': ['Speed_Dating_Clean_SMOTE_train.csv'], 'artifact_names': None, 'model_name': 'match_model20190420140707', 'job_error': ''}\n",
      "{'status': 'Running', 'starttime': '2019-04-20T04:40:34.947569', 'endtime': None, 'percent_complete': 9, 'job_type': 'UpdateModel', 'loss': 0.22009418408075967, 'generations': 5, 'dataset_names': ['Speed_Dating_Clean_SMOTE_train.csv'], 'artifact_names': None, 'model_name': 'match_model20190420140707', 'job_error': ''}\n",
      "{'status': 'Running', 'starttime': '2019-04-20T04:40:34.947569', 'endtime': None, 'percent_complete': 9, 'job_type': 'UpdateModel', 'loss': 0.22009418408075967, 'generations': 5, 'dataset_names': ['Speed_Dating_Clean_SMOTE_train.csv'], 'artifact_names': None, 'model_name': 'match_model20190420140707', 'job_error': ''}\n",
      "{'status': 'Running', 'starttime': '2019-04-20T04:40:34.947569', 'endtime': None, 'percent_complete': 9, 'job_type': 'UpdateModel', 'loss': 0.22009418408075967, 'generations': 5, 'dataset_names': ['Speed_Dating_Clean_SMOTE_train.csv'], 'artifact_names': None, 'model_name': 'match_model20190420140707', 'job_error': ''}\n",
      "{'status': 'Running', 'starttime': '2019-04-20T04:40:34.947569', 'endtime': None, 'percent_complete': 9, 'job_type': 'UpdateModel', 'loss': 0.22009418408075967, 'generations': 5, 'dataset_names': ['Speed_Dating_Clean_SMOTE_train.csv'], 'artifact_names': None, 'model_name': 'match_model20190420140707', 'job_error': ''}\n",
      "{'status': 'Running', 'starttime': '2019-04-20T04:40:34.947569', 'endtime': None, 'percent_complete': 9, 'job_type': 'UpdateModel', 'loss': 0.22009418408075967, 'generations': 5, 'dataset_names': ['Speed_Dating_Clean_SMOTE_train.csv'], 'artifact_names': None, 'model_name': 'match_model20190420140707', 'job_error': ''}\n",
      "{'status': 'Running', 'starttime': '2019-04-20T04:40:34.947569', 'endtime': None, 'percent_complete': 9, 'job_type': 'UpdateModel', 'loss': 0.22009418408075967, 'generations': 5, 'dataset_names': ['Speed_Dating_Clean_SMOTE_train.csv'], 'artifact_names': None, 'model_name': 'match_model20190420140707', 'job_error': ''}\n"
     ]
    }
   ],
   "source": [
    "# Extra training for Darwin model\n",
    "status, job_id = ds.resume_training_model(dataset_names = dataset_train, \n",
    "                                         model_name = model,\n",
    "                                         max_train_time = '00:10')\n",
    "\n",
    "if status:\n",
    "    ds.wait_for_job(job_id['job_name'])\n",
    "else:\n",
    "    print(job_id)"
   ]
  },
  {
   "cell_type": "markdown",
   "metadata": {},
   "source": [
    "# Best model decided by Darwin"
   ]
  },
  {
   "cell_type": "markdown",
   "metadata": {},
   "source": [
    "**Analyze model**"
   ]
  },
  {
   "cell_type": "code",
   "execution_count": 23,
   "metadata": {},
   "outputs": [
    {
     "name": "stdout",
     "output_type": "stream",
     "text": [
      "{'status': 'Running', 'starttime': '2019-04-20T04:50:39.675304', 'endtime': None, 'percent_complete': 0, 'job_type': 'AnalyzeModel', 'loss': 0.22009418408075967, 'generations': 5, 'dataset_names': None, 'artifact_names': ['c1d26e46adac48b8af51358ea94af87a'], 'model_name': 'match_model20190420140707', 'job_error': ''}\n",
      "{'status': 'Complete', 'starttime': '2019-04-20T04:50:39.675304', 'endtime': '2019-04-20T04:50:50.795727', 'percent_complete': 100, 'job_type': 'AnalyzeModel', 'loss': 0.22009418408075967, 'generations': 5, 'dataset_names': None, 'artifact_names': ['c1d26e46adac48b8af51358ea94af87a'], 'model_name': 'match_model20190420140707', 'job_error': ''}\n"
     ]
    }
   ],
   "source": [
    "# Analyze Darwin model\n",
    "status, artifact = ds.analyze_model(model)\n",
    "sleep(1)\n",
    "if status:\n",
    "    ds.wait_for_job(artifact['job_name'])\n",
    "else:\n",
    "    print(artifact)\n",
    "status, feature_importance = ds.download_artifact(artifact['artifact_name'])"
   ]
  },
  {
   "cell_type": "code",
   "execution_count": 24,
   "metadata": {},
   "outputs": [
    {
     "data": {
      "text/plain": [
       "<matplotlib.axes._subplots.AxesSubplot at 0x252190e4438>"
      ]
     },
     "execution_count": 24,
     "metadata": {},
     "output_type": "execute_result"
    },
    {
     "data": {
      "image/png": "[encoded data removed]",
      "text/plain": [
       "<Figure size 432x288 with 1 Axes>"
      ]
     },
     "metadata": {
      "needs_background": "light"
     },
     "output_type": "display_data"
    }
   ],
   "source": [
    "feature_importance[:20].plot.bar()"
   ]
  },
  {
   "cell_type": "markdown",
   "metadata": {},
   "source": [
    "**Prediction on training dataset**"
   ]
  },
  {
   "cell_type": "code",
   "execution_count": 25,
   "metadata": {},
   "outputs": [
    {
     "name": "stdout",
     "output_type": "stream",
     "text": [
      "{'status': 'Running', 'starttime': '2019-04-20T04:50:58.06878', 'endtime': None, 'percent_complete': 0, 'job_type': 'RunModel', 'loss': 0.22009418408075967, 'generations': 5, 'dataset_names': ['Speed_Dating_Clean_SMOTE_train.csv'], 'artifact_names': ['50f758b28408457a9e60fc3f1f437dce'], 'model_name': 'match_model20190420140707', 'job_error': ''}\n",
      "{'status': 'Complete', 'starttime': '2019-04-20T04:50:58.06878', 'endtime': '2019-04-20T04:51:01.304966', 'percent_complete': 100, 'job_type': 'RunModel', 'loss': 0.22009418408075967, 'generations': 5, 'dataset_names': ['Speed_Dating_Clean_SMOTE_train.csv'], 'artifact_names': ['50f758b28408457a9e60fc3f1f437dce'], 'model_name': 'match_model20190420140707', 'job_error': ''}\n",
      "\n",
      "    match    prob_0    prob_1\n",
      "0      1  0.003871  0.996129\n",
      "1      1  0.003364  0.996636\n",
      "2      0  0.999855  0.000145\n",
      "3      1  0.021667  0.978333\n",
      "4      0  0.993909  0.006091\n"
     ]
    }
   ],
   "source": [
    "status, artifact = ds.run_model(dataset_train, model)\n",
    "sleep(1)\n",
    "ds.wait_for_job(artifact['job_name'])\n",
    "\n",
    "status, prediction = ds.download_artifact(artifact['artifact_name'])\n",
    "print(\"\\n\", prediction.head())"
   ]
  },
  {
   "cell_type": "markdown",
   "metadata": {},
   "source": [
    "**Create plots comparing predictions with actual target**"
   ]
  },
  {
   "cell_type": "code",
   "execution_count": 26,
   "metadata": {},
   "outputs": [
    {
     "name": "stdout",
     "output_type": "stream",
     "text": [
      "\n",
      "               precision    recall  f1-score   support\n",
      "\n",
      "           0       0.99      0.98      0.99      5494\n",
      "           1       0.98      0.99      0.99      5498\n",
      "\n",
      "   micro avg       0.99      0.99      0.99     10992\n",
      "   macro avg       0.99      0.99      0.99     10992\n",
      "weighted avg       0.99      0.99      0.99     10992\n",
      "\n"
     ]
    },
    {
     "data": {
      "image/png": "[encoded data removed]",
      "text/plain": [
       "<Figure size 432x288 with 1 Axes>"
      ]
     },
     "metadata": {
      "needs_background": "light"
     },
     "output_type": "display_data"
    }
   ],
   "source": [
    "unq = prediction[target].unique()[::-1]\n",
    "p = np.zeros((len(prediction),))\n",
    "a = np.zeros((len(prediction),))\n",
    "for i,q in enumerate(unq):\n",
    "    p += i*(prediction[target] == q).values\n",
    "    a += i*(data_SMOTE_train[target] == q).values\n",
    "#Plot predictions vs actual\n",
    "plt.plot(a)\n",
    "plt.plot(p)\n",
    "plt.legend(['Actual','Predicted'])\n",
    "plt.yticks([i for i in range(len(unq))],[q for q in unq]);\n",
    "print(\"\\n\", classification_report(data_SMOTE_train[target], prediction[target]))"
   ]
  },
  {
   "cell_type": "markdown",
   "metadata": {},
   "source": [
    "**Prediction on testing data**"
   ]
  },
  {
   "cell_type": "code",
   "execution_count": 27,
   "metadata": {},
   "outputs": [
    {
     "name": "stdout",
     "output_type": "stream",
     "text": [
      "{'status': 'Running', 'starttime': '2019-04-20T04:51:17.284428', 'endtime': None, 'percent_complete': 0, 'job_type': 'RunModel', 'loss': 0.22009418408075967, 'generations': 5, 'dataset_names': ['Speed_Dating_Clean_SMOTE_test.csv'], 'artifact_names': ['a1a3c231c92243ac9dcee1927c542930'], 'model_name': 'match_model20190420140707', 'job_error': ''}\n",
      "{'status': 'Complete', 'starttime': '2019-04-20T04:51:17.284428', 'endtime': '2019-04-20T04:51:19.620519', 'percent_complete': 100, 'job_type': 'RunModel', 'loss': 0.22009418408075967, 'generations': 5, 'dataset_names': ['Speed_Dating_Clean_SMOTE_test.csv'], 'artifact_names': ['a1a3c231c92243ac9dcee1927c542930'], 'model_name': 'match_model20190420140707', 'job_error': ''}\n",
      "\n",
      "    match    prob_0    prob_1\n",
      "0      0  0.999924  0.000076\n",
      "1      0  0.996561  0.003439\n",
      "2      1  0.016505  0.983495\n",
      "3      1  0.236021  0.763979\n",
      "4      0  0.709961  0.290038\n"
     ]
    }
   ],
   "source": [
    "status, artifact = ds.run_model(dataset_test, model)\n",
    "sleep(1)\n",
    "ds.wait_for_job(artifact['job_name'])\n",
    "\n",
    "status, prediction = ds.download_artifact(artifact['artifact_name'])\n",
    "print(\"\\n\", prediction.head())"
   ]
  },
  {
   "cell_type": "markdown",
   "metadata": {},
   "source": [
    "**Create plots comparing predictions with actual target**"
   ]
  },
  {
   "cell_type": "code",
   "execution_count": 28,
   "metadata": {},
   "outputs": [
    {
     "name": "stdout",
     "output_type": "stream",
     "text": [
      "\n",
      "               precision    recall  f1-score   support\n",
      "\n",
      "           0       0.62      0.83      0.71      1376\n",
      "           1       0.74      0.49      0.59      1372\n",
      "\n",
      "   micro avg       0.66      0.66      0.66      2748\n",
      "   macro avg       0.68      0.66      0.65      2748\n",
      "weighted avg       0.68      0.66      0.65      2748\n",
      "\n"
     ]
    },
    {
     "data": {
      "image/png": "[encoded data removed]",
      "text/plain": [
       "<Figure size 432x288 with 1 Axes>"
      ]
     },
     "metadata": {
      "needs_background": "light"
     },
     "output_type": "display_data"
    }
   ],
   "source": [
    "unq = prediction[target].unique()[::-1]\n",
    "p = np.zeros((len(prediction),))\n",
    "a = np.zeros((len(prediction),))\n",
    "for i,q in enumerate(unq):\n",
    "    p += i*(prediction[target] == q).values\n",
    "    a += i*(data_SMOTE_test[target] == q).values\n",
    "#Plot predictions vs actual\n",
    "plt.plot(a)\n",
    "plt.plot(p)\n",
    "plt.legend(['Actual','Predicted'])\n",
    "plt.yticks([i for i in range(len(unq))],[q for q in unq]);\n",
    "print(\"\\n\", classification_report(data_SMOTE_test[target], prediction[target]))"
   ]
  },
  {
   "cell_type": "markdown",
   "metadata": {},
   "source": [
    "**Model Darwin used**"
   ]
  },
  {
   "cell_type": "code",
   "execution_count": 29,
   "metadata": {},
   "outputs": [
    {
     "name": "stdout",
     "output_type": "stream",
     "text": [
      "{'type': 'Supervised', 'updated_at': '2019-04-20T04:51:26.911640', 'trained_on': ['Speed_Dating_Clean_SMOTE_train.csv'], 'loss': 0.22009418408075967, 'generations': 5, 'parameters': {'train_time': '00:10', 'target': 'match', 'recurrent': False, 'max_unique_values': 50, 'max_int_uniques': 15, 'impute': 'mean', 'big_data': False}, 'description': {'best_genome': [{'layer 1': {'type': 'LinearGene', 'parameters': {'activation': 'relu', 'numunits': 358}}}, {'layer 2': {'type': 'LinearGene', 'parameters': {'activation': 'relu', 'numunits': 2}}}], 'recurrent': False, 'genome_type': 'DeepNet'}, 'train_time_seconds': 631, 'algorithm': None, 'running_job_id': None}\n"
     ]
    }
   ],
   "source": [
    "status, model_type = ds.lookup_model_name(model)\n",
    "print(model_type)"
   ]
  },
  {
   "cell_type": "code",
   "execution_count": 30,
   "metadata": {},
   "outputs": [
    {
     "data": {
      "text/plain": [
       "(True,\n",
       " {'population': {'model_types': {'DeepNeuralNetwork': {'model_description': [{'layer 1': {'type': 'LinearGene',\n",
       "        'parameters': {'activation': 'relu', 'numunits': 140}}},\n",
       "      {'layer 2': {'type': 'LinearGene',\n",
       "        'parameters': {'activation': 'relu', 'numunits': 676}}},\n",
       "      {'layer 3': {'type': 'LinearGene',\n",
       "        'parameters': {'activation': 'relu', 'numunits': 2}}}],\n",
       "     'loss_function': 'CrossEntropy',\n",
       "     'fitness': -inf},\n",
       "    'RandomForest': {'model_description': {'type': 'RandomForestClassifier',\n",
       "      'parameters': {'bootstrap': True,\n",
       "       'criterion': 'gini',\n",
       "       'max_depth': 9,\n",
       "       'max_features': 0.28397226585541957,\n",
       "       'max_leaf_nodes': None,\n",
       "       'min_impurity_decrease': 0.0,\n",
       "       'min_samples_leaf': 10,\n",
       "       'min_samples_split': 15,\n",
       "       'n_jobs': -1,\n",
       "       'min_weight_fraction_leaf': 0.0,\n",
       "       'n_estimators': 341}},\n",
       "     'loss_function': 'CrossEntropy',\n",
       "     'fitness': 1.8812707257389707},\n",
       "    'GradientBoosted': {'model_description': {'type': 'XGBClassifier',\n",
       "      'parameters': {'base_score': 0.5,\n",
       "       'colsample_bylevel': 1,\n",
       "       'colsample_bytree': 1,\n",
       "       'gamma': 0,\n",
       "       'learning_rate': 0.5822052303645006,\n",
       "       'max_delta_step': 0,\n",
       "       'max_depth': 8,\n",
       "       'min_child_weight': 18,\n",
       "       'n_estimators': 459,\n",
       "       'n_jobs': -1,\n",
       "       'reg_alpha': 0,\n",
       "       'reg_lambda': 1,\n",
       "       'scale_pos_weight': 1,\n",
       "       'subsample': 0.5522669403520774}},\n",
       "     'loss_function': 'CrossEntropy',\n",
       "     'fitness': 1.9104697304508826}}}})"
      ]
     },
     "execution_count": 30,
     "metadata": {},
     "output_type": "execute_result"
    }
   ],
   "source": [
    "ds.display_population(model)"
   ]
  },
  {
   "cell_type": "markdown",
   "metadata": {},
   "source": [
    "# DeepNeuralNetwork"
   ]
  },
  {
   "cell_type": "markdown",
   "metadata": {},
   "source": [
    "**Analyze DeepNeuralNetwork model**"
   ]
  },
  {
   "cell_type": "code",
   "execution_count": 31,
   "metadata": {},
   "outputs": [
    {
     "name": "stdout",
     "output_type": "stream",
     "text": [
      "{'status': 'Running', 'starttime': '2019-04-20T04:51:36.091952', 'endtime': None, 'percent_complete': 0, 'job_type': 'AnalyzeModel', 'loss': 0.22009418408075967, 'generations': 5, 'dataset_names': None, 'artifact_names': ['9e428bc09fe841a39df7f2001fd2e2dc'], 'model_name': 'match_model20190420140707', 'job_error': ''}\n",
      "{'status': 'Complete', 'starttime': '2019-04-20T04:51:36.091952', 'endtime': '2019-04-20T04:51:46.929648', 'percent_complete': 100, 'job_type': 'AnalyzeModel', 'loss': 0.22009418408075967, 'generations': 5, 'dataset_names': None, 'artifact_names': ['9e428bc09fe841a39df7f2001fd2e2dc'], 'model_name': 'match_model20190420140707', 'job_error': ''}\n"
     ]
    }
   ],
   "source": [
    "# Analyze Darwin DeepNeuralNetwork model\n",
    "status, artifact = ds.analyze_model(model, model_type = 'DeepNeuralNetwork')\n",
    "sleep(1)\n",
    "if status:\n",
    "    ds.wait_for_job(artifact['job_name'])\n",
    "else:\n",
    "    print(artifact)\n",
    "status, feature_importance = ds.download_artifact(artifact['artifact_name'])"
   ]
  },
  {
   "cell_type": "code",
   "execution_count": 32,
   "metadata": {},
   "outputs": [
    {
     "data": {
      "text/plain": [
       "<matplotlib.axes._subplots.AxesSubplot at 0x2521a61fa90>"
      ]
     },
     "execution_count": 32,
     "metadata": {},
     "output_type": "execute_result"
    },
    {
     "data": {
      "image/png": "[encoded data removed]",
      "text/plain": [
       "<Figure size 432x288 with 1 Axes>"
      ]
     },
     "metadata": {
      "needs_background": "light"
     },
     "output_type": "display_data"
    }
   ],
   "source": [
    "feature_importance[:20].plot.bar()"
   ]
  },
  {
   "cell_type": "markdown",
   "metadata": {},
   "source": [
    "**Prediction on training dataset**"
   ]
  },
  {
   "cell_type": "code",
   "execution_count": 33,
   "metadata": {},
   "outputs": [
    {
     "name": "stdout",
     "output_type": "stream",
     "text": [
      "{'status': 'Running', 'starttime': '2019-04-20T04:51:54.008971', 'endtime': None, 'percent_complete': 0, 'job_type': 'RunModel', 'loss': 0.22009418408075967, 'generations': 5, 'dataset_names': ['Speed_Dating_Clean_SMOTE_train.csv'], 'artifact_names': ['6346b6b2d48e42f4b268c2b9ead6f437'], 'model_name': 'match_model20190420140707', 'job_error': ''}\n",
      "{'status': 'Complete', 'starttime': '2019-04-20T04:51:54.008971', 'endtime': '2019-04-20T04:51:57.49079', 'percent_complete': 100, 'job_type': 'RunModel', 'loss': 0.22009418408075967, 'generations': 5, 'dataset_names': ['Speed_Dating_Clean_SMOTE_train.csv'], 'artifact_names': ['6346b6b2d48e42f4b268c2b9ead6f437'], 'model_name': 'match_model20190420140707', 'job_error': ''}\n",
      "\n",
      "    match    prob_0    prob_1\n",
      "0      1  0.480264  0.519736\n",
      "1      1  0.467088  0.532912\n",
      "2      1  0.448174  0.551826\n",
      "3      0  0.529738  0.470262\n",
      "4      1  0.475161  0.524839\n"
     ]
    }
   ],
   "source": [
    "status, artifact = ds.run_model(dataset_train, model, model_type = 'DeepNeuralNetwork')\n",
    "sleep(1)\n",
    "ds.wait_for_job(artifact['job_name'])\n",
    "\n",
    "status, prediction = ds.download_artifact(artifact['artifact_name'])\n",
    "print(\"\\n\", prediction.head())"
   ]
  },
  {
   "cell_type": "markdown",
   "metadata": {},
   "source": [
    "**Create plots comparing predictions with actual target**"
   ]
  },
  {
   "cell_type": "code",
   "execution_count": 34,
   "metadata": {},
   "outputs": [
    {
     "name": "stdout",
     "output_type": "stream",
     "text": [
      "\n",
      "               precision    recall  f1-score   support\n",
      "\n",
      "           0       0.51      0.19      0.28      5494\n",
      "           1       0.50      0.81      0.62      5498\n",
      "\n",
      "   micro avg       0.50      0.50      0.50     10992\n",
      "   macro avg       0.50      0.50      0.45     10992\n",
      "weighted avg       0.50      0.50      0.45     10992\n",
      "\n"
     ]
    },
    {
     "data": {
      "image/png": "[encoded data removed]",
      "text/plain": [
       "<Figure size 432x288 with 1 Axes>"
      ]
     },
     "metadata": {
      "needs_background": "light"
     },
     "output_type": "display_data"
    }
   ],
   "source": [
    "unq = prediction[target].unique()[::-1]\n",
    "p = np.zeros((len(prediction),))\n",
    "a = np.zeros((len(prediction),))\n",
    "for i,q in enumerate(unq):\n",
    "    p += i*(prediction[target] == q).values\n",
    "    a += i*(data_SMOTE_train[target] == q).values\n",
    "#Plot predictions vs actual\n",
    "plt.plot(a)\n",
    "plt.plot(p)\n",
    "plt.legend(['Actual','Predicted'])\n",
    "plt.yticks([i for i in range(len(unq))],[q for q in unq]);\n",
    "print(\"\\n\", classification_report(data_SMOTE_train[target], prediction[target]))"
   ]
  },
  {
   "cell_type": "markdown",
   "metadata": {},
   "source": [
    "**Prediction on testing data**"
   ]
  },
  {
   "cell_type": "code",
   "execution_count": 35,
   "metadata": {},
   "outputs": [
    {
     "name": "stdout",
     "output_type": "stream",
     "text": [
      "{'status': 'Running', 'starttime': '2019-04-20T04:52:15.243827', 'endtime': None, 'percent_complete': 0, 'job_type': 'RunModel', 'loss': 0.22009418408075967, 'generations': 5, 'dataset_names': ['Speed_Dating_Clean_SMOTE_test.csv'], 'artifact_names': ['e5fcfe273ecf459eadfc9b313559b692'], 'model_name': 'match_model20190420140707', 'job_error': ''}\n",
      "{'status': 'Complete', 'starttime': '2019-04-20T04:52:15.243827', 'endtime': '2019-04-20T04:52:16.656205', 'percent_complete': 100, 'job_type': 'RunModel', 'loss': 0.22009418408075967, 'generations': 5, 'dataset_names': ['Speed_Dating_Clean_SMOTE_test.csv'], 'artifact_names': ['e5fcfe273ecf459eadfc9b313559b692'], 'model_name': 'match_model20190420140707', 'job_error': ''}\n",
      "\n",
      "    match    prob_0    prob_1\n",
      "0      1  0.495302  0.504698\n",
      "1      0  0.523372  0.476628\n",
      "2      0  0.544092  0.455908\n",
      "3      0  0.548238  0.451762\n",
      "4      0  0.507407  0.492593\n"
     ]
    }
   ],
   "source": [
    "status, artifact = ds.run_model(dataset_test, model, model_type = 'DeepNeuralNetwork')\n",
    "sleep(1)\n",
    "ds.wait_for_job(artifact['job_name'])\n",
    "\n",
    "status, prediction = ds.download_artifact(artifact['artifact_name'])\n",
    "print(\"\\n\", prediction.head())"
   ]
  },
  {
   "cell_type": "markdown",
   "metadata": {},
   "source": [
    "**Create plots comparing predictions with actual target**"
   ]
  },
  {
   "cell_type": "code",
   "execution_count": 36,
   "metadata": {},
   "outputs": [
    {
     "name": "stdout",
     "output_type": "stream",
     "text": [
      "\n",
      "               precision    recall  f1-score   support\n",
      "\n",
      "           0       0.51      0.90      0.65      1376\n",
      "           1       0.59      0.14      0.23      1372\n",
      "\n",
      "   micro avg       0.52      0.52      0.52      2748\n",
      "   macro avg       0.55      0.52      0.44      2748\n",
      "weighted avg       0.55      0.52      0.44      2748\n",
      "\n"
     ]
    },
    {
     "data": {
      "image/png": "[encoded data removed]",
      "text/plain": [
       "<Figure size 432x288 with 1 Axes>"
      ]
     },
     "metadata": {
      "needs_background": "light"
     },
     "output_type": "display_data"
    }
   ],
   "source": [
    "unq = prediction[target].unique()[::-1]\n",
    "p = np.zeros((len(prediction),))\n",
    "a = np.zeros((len(prediction),))\n",
    "for i,q in enumerate(unq):\n",
    "    p += i*(prediction[target] == q).values\n",
    "    a += i*(data_SMOTE_test[target] == q).values\n",
    "#Plot predictions vs actual\n",
    "plt.plot(a)\n",
    "plt.plot(p)\n",
    "plt.legend(['Actual','Predicted'])\n",
    "plt.yticks([i for i in range(len(unq))],[q for q in unq]);\n",
    "print(\"\\n\", classification_report(data_SMOTE_test[target], prediction[target]))"
   ]
  },
  {
   "cell_type": "markdown",
   "metadata": {},
   "source": [
    "# RandomForest"
   ]
  },
  {
   "cell_type": "markdown",
   "metadata": {},
   "source": [
    "**Analyze RandomForest model**"
   ]
  },
  {
   "cell_type": "code",
   "execution_count": 37,
   "metadata": {},
   "outputs": [
    {
     "name": "stdout",
     "output_type": "stream",
     "text": [
      "{'status': 'Running', 'starttime': '2019-04-20T04:52:33.526802', 'endtime': None, 'percent_complete': 0, 'job_type': 'AnalyzeModel', 'loss': 0.22009418408075967, 'generations': 5, 'dataset_names': None, 'artifact_names': ['61a64fa527ff4d48aaf52f67d8e9f06d'], 'model_name': 'match_model20190420140707', 'job_error': ''}\n",
      "{'status': 'Complete', 'starttime': '2019-04-20T04:52:33.526802', 'endtime': '2019-04-20T04:52:46.990059', 'percent_complete': 100, 'job_type': 'AnalyzeModel', 'loss': 0.22009418408075967, 'generations': 5, 'dataset_names': None, 'artifact_names': ['61a64fa527ff4d48aaf52f67d8e9f06d'], 'model_name': 'match_model20190420140707', 'job_error': ''}\n"
     ]
    }
   ],
   "source": [
    "# Analyze Darwin RandomForest model\n",
    "status, artifact = ds.analyze_model(model, model_type = 'RandomForest')\n",
    "sleep(1)\n",
    "if status:\n",
    "    ds.wait_for_job(artifact['job_name'])\n",
    "else:\n",
    "    print(artifact)\n",
    "status, feature_importance = ds.download_artifact(artifact['artifact_name'])"
   ]
  },
  {
   "cell_type": "code",
   "execution_count": 38,
   "metadata": {},
   "outputs": [
    {
     "data": {
      "text/plain": [
       "<matplotlib.axes._subplots.AxesSubplot at 0x2521a50c3c8>"
      ]
     },
     "execution_count": 38,
     "metadata": {},
     "output_type": "execute_result"
    },
    {
     "data": {
      "image/png": "[encoded data removed]",
      "text/plain": [
       "<Figure size 432x288 with 1 Axes>"
      ]
     },
     "metadata": {
      "needs_background": "light"
     },
     "output_type": "display_data"
    }
   ],
   "source": [
    "feature_importance[:20].plot.bar()"
   ]
  },
  {
   "cell_type": "markdown",
   "metadata": {},
   "source": [
    "**Prediction on training dataset**"
   ]
  },
  {
   "cell_type": "code",
   "execution_count": 39,
   "metadata": {},
   "outputs": [
    {
     "name": "stdout",
     "output_type": "stream",
     "text": [
      "{'status': 'Running', 'starttime': '2019-04-20T04:52:51.476037', 'endtime': None, 'percent_complete': 0, 'job_type': 'RunModel', 'loss': 0.22009418408075967, 'generations': 5, 'dataset_names': ['Speed_Dating_Clean_SMOTE_train.csv'], 'artifact_names': ['94a791dfacc54858befe46aa3a89e237'], 'model_name': 'match_model20190420140707', 'job_error': ''}\n",
      "{'status': 'Complete', 'starttime': '2019-04-20T04:52:51.476037', 'endtime': '2019-04-20T04:52:57.754505', 'percent_complete': 100, 'job_type': 'RunModel', 'loss': 0.22009418408075967, 'generations': 5, 'dataset_names': ['Speed_Dating_Clean_SMOTE_train.csv'], 'artifact_names': ['94a791dfacc54858befe46aa3a89e237'], 'model_name': 'match_model20190420140707', 'job_error': ''}\n",
      "\n",
      "    match    prob_0    prob_1\n",
      "0      1  0.082176  0.917824\n",
      "1      1  0.182339  0.817661\n",
      "2      1  0.421664  0.578336\n",
      "3      1  0.348141  0.651859\n",
      "4      0  0.588710  0.411290\n"
     ]
    }
   ],
   "source": [
    "status, artifact = ds.run_model(dataset_train, model, model_type = 'RandomForest')\n",
    "sleep(1)\n",
    "ds.wait_for_job(artifact['job_name'])\n",
    "\n",
    "status, prediction = ds.download_artifact(artifact['artifact_name'])\n",
    "print(\"\\n\", prediction.head())"
   ]
  },
  {
   "cell_type": "markdown",
   "metadata": {},
   "source": [
    "**Create plots comparing predictions with actual target**"
   ]
  },
  {
   "cell_type": "code",
   "execution_count": 40,
   "metadata": {},
   "outputs": [
    {
     "name": "stdout",
     "output_type": "stream",
     "text": [
      "\n",
      "               precision    recall  f1-score   support\n",
      "\n",
      "           0       0.94      0.92      0.93      5494\n",
      "           1       0.92      0.94      0.93      5498\n",
      "\n",
      "   micro avg       0.93      0.93      0.93     10992\n",
      "   macro avg       0.93      0.93      0.93     10992\n",
      "weighted avg       0.93      0.93      0.93     10992\n",
      "\n"
     ]
    },
    {
     "data": {
      "image/png": "[encoded data removed]",
      "text/plain": [
       "<Figure size 432x288 with 1 Axes>"
      ]
     },
     "metadata": {
      "needs_background": "light"
     },
     "output_type": "display_data"
    }
   ],
   "source": [
    "unq = prediction[target].unique()[::-1]\n",
    "p = np.zeros((len(prediction),))\n",
    "a = np.zeros((len(prediction),))\n",
    "for i,q in enumerate(unq):\n",
    "    p += i*(prediction[target] == q).values\n",
    "    a += i*(data_SMOTE_train[target] == q).values\n",
    "#Plot predictions vs actual\n",
    "plt.plot(a)\n",
    "plt.plot(p)\n",
    "plt.legend(['Actual','Predicted'])\n",
    "plt.yticks([i for i in range(len(unq))],[q for q in unq]);\n",
    "print(\"\\n\", classification_report(data_SMOTE_train[target], prediction[target]))"
   ]
  },
  {
   "cell_type": "markdown",
   "metadata": {},
   "source": [
    "**Prediction on testing data**"
   ]
  },
  {
   "cell_type": "code",
   "execution_count": 41,
   "metadata": {},
   "outputs": [
    {
     "name": "stdout",
     "output_type": "stream",
     "text": [
      "{'status': 'Running', 'starttime': '2019-04-20T04:53:11.137762', 'endtime': None, 'percent_complete': 0, 'job_type': 'RunModel', 'loss': 0.22009418408075967, 'generations': 5, 'dataset_names': ['Speed_Dating_Clean_SMOTE_test.csv'], 'artifact_names': ['aa426888d2d7464c8655346086d1ccf2'], 'model_name': 'match_model20190420140707', 'job_error': ''}\n",
      "{'status': 'Complete', 'starttime': '2019-04-20T04:53:11.137762', 'endtime': '2019-04-20T04:53:13.366809', 'percent_complete': 100, 'job_type': 'RunModel', 'loss': 0.22009418408075967, 'generations': 5, 'dataset_names': ['Speed_Dating_Clean_SMOTE_test.csv'], 'artifact_names': ['aa426888d2d7464c8655346086d1ccf2'], 'model_name': 'match_model20190420140707', 'job_error': ''}\n",
      "\n",
      "    match    prob_0    prob_1\n",
      "0      0  0.904735  0.095265\n",
      "1      1  0.123744  0.876256\n",
      "2      1  0.262410  0.737590\n",
      "3      1  0.112886  0.887114\n",
      "4      0  0.748917  0.251083\n"
     ]
    }
   ],
   "source": [
    "status, artifact = ds.run_model(dataset_test, model, model_type = 'RandomForest')\n",
    "sleep(1)\n",
    "ds.wait_for_job(artifact['job_name'])\n",
    "\n",
    "status, prediction = ds.download_artifact(artifact['artifact_name'])\n",
    "print(\"\\n\", prediction.head())"
   ]
  },
  {
   "cell_type": "markdown",
   "metadata": {},
   "source": [
    "**Create plots comparing predictions with actual target**"
   ]
  },
  {
   "cell_type": "code",
   "execution_count": 42,
   "metadata": {},
   "outputs": [
    {
     "name": "stdout",
     "output_type": "stream",
     "text": [
      "\n",
      "               precision    recall  f1-score   support\n",
      "\n",
      "           0       0.90      0.71      0.80      1376\n",
      "           1       0.76      0.92      0.83      1372\n",
      "\n",
      "   micro avg       0.82      0.82      0.82      2748\n",
      "   macro avg       0.83      0.82      0.82      2748\n",
      "weighted avg       0.83      0.82      0.82      2748\n",
      "\n"
     ]
    },
    {
     "data": {
      "image/png": "[encoded data removed]",
      "text/plain": [
       "<Figure size 432x288 with 1 Axes>"
      ]
     },
     "metadata": {
      "needs_background": "light"
     },
     "output_type": "display_data"
    }
   ],
   "source": [
    "unq = prediction[target].unique()[::-1]\n",
    "p = np.zeros((len(prediction),))\n",
    "a = np.zeros((len(prediction),))\n",
    "for i,q in enumerate(unq):\n",
    "    p += i*(prediction[target] == q).values\n",
    "    a += i*(data_SMOTE_test[target] == q).values\n",
    "#Plot predictions vs actual\n",
    "plt.plot(a)\n",
    "plt.plot(p)\n",
    "plt.legend(['Actual','Predicted'])\n",
    "plt.yticks([i for i in range(len(unq))],[q for q in unq]);\n",
    "print(\"\\n\", classification_report(data_SMOTE_test[target], prediction[target]))"
   ]
  },
  {
   "cell_type": "markdown",
   "metadata": {},
   "source": [
    "# GradientBoosted"
   ]
  },
  {
   "cell_type": "markdown",
   "metadata": {},
   "source": [
    "**Analyze GradientBoosted model**"
   ]
  },
  {
   "cell_type": "code",
   "execution_count": 43,
   "metadata": {},
   "outputs": [
    {
     "name": "stdout",
     "output_type": "stream",
     "text": [
      "{'status': 'Running', 'starttime': '2019-04-20T04:53:29.485083', 'endtime': None, 'percent_complete': 0, 'job_type': 'AnalyzeModel', 'loss': 0.22009418408075967, 'generations': 5, 'dataset_names': None, 'artifact_names': ['98dc12ebae5d4ff7a576d4b6aa98e5e6'], 'model_name': 'match_model20190420140707', 'job_error': ''}\n",
      "{'status': 'Complete', 'starttime': '2019-04-20T04:53:29.485083', 'endtime': '2019-04-20T04:53:40.377892', 'percent_complete': 100, 'job_type': 'AnalyzeModel', 'loss': 0.22009418408075967, 'generations': 5, 'dataset_names': None, 'artifact_names': ['98dc12ebae5d4ff7a576d4b6aa98e5e6'], 'model_name': 'match_model20190420140707', 'job_error': ''}\n"
     ]
    }
   ],
   "source": [
    "# Analyze Darwin GradientBoosted model\n",
    "status, artifact = ds.analyze_model(model, model_type = 'GradientBoosted')\n",
    "sleep(1)\n",
    "if status:\n",
    "    ds.wait_for_job(artifact['job_name'])\n",
    "else:\n",
    "    print(artifact)\n",
    "status, feature_importance = ds.download_artifact(artifact['artifact_name'])"
   ]
  },
  {
   "cell_type": "code",
   "execution_count": 44,
   "metadata": {},
   "outputs": [
    {
     "data": {
      "text/plain": [
       "<matplotlib.axes._subplots.AxesSubplot at 0x2521a5c4198>"
      ]
     },
     "execution_count": 44,
     "metadata": {},
     "output_type": "execute_result"
    },
    {
     "data": {
      "image/png": "[encoded data removed]",
      "text/plain": [
       "<Figure size 432x288 with 1 Axes>"
      ]
     },
     "metadata": {
      "needs_background": "light"
     },
     "output_type": "display_data"
    }
   ],
   "source": [
    "feature_importance[:20].plot.bar()"
   ]
  },
  {
   "cell_type": "markdown",
   "metadata": {},
   "source": [
    "**Prediction on training dataset**"
   ]
  },
  {
   "cell_type": "code",
   "execution_count": 45,
   "metadata": {},
   "outputs": [
    {
     "name": "stdout",
     "output_type": "stream",
     "text": [
      "{'status': 'Running', 'starttime': '2019-04-20T04:53:47.4009', 'endtime': None, 'percent_complete': 0, 'job_type': 'RunModel', 'loss': 0.22009418408075967, 'generations': 5, 'dataset_names': ['Speed_Dating_Clean_SMOTE_train.csv'], 'artifact_names': ['cde021c169774adb9b75a0063d715fd5'], 'model_name': 'match_model20190420140707', 'job_error': ''}\n",
      "{'status': 'Complete', 'starttime': '2019-04-20T04:53:47.4009', 'endtime': '2019-04-20T04:53:57.558042', 'percent_complete': 100, 'job_type': 'RunModel', 'loss': 0.22009418408075967, 'generations': 5, 'dataset_names': ['Speed_Dating_Clean_SMOTE_train.csv'], 'artifact_names': ['cde021c169774adb9b75a0063d715fd5'], 'model_name': 'match_model20190420140707', 'job_error': ''}\n",
      "\n",
      "    match    prob_0    prob_1\n",
      "0      1  0.003843  0.996157\n",
      "1      1  0.000210  0.999790\n",
      "2      0  0.909028  0.090972\n",
      "3      1  0.001474  0.998526\n",
      "4      0  0.965982  0.034018\n"
     ]
    }
   ],
   "source": [
    "status, artifact = ds.run_model(dataset_train, model, model_type = 'GradientBoosted')\n",
    "sleep(1)\n",
    "ds.wait_for_job(artifact['job_name'])\n",
    "\n",
    "status, prediction = ds.download_artifact(artifact['artifact_name'])\n",
    "print(\"\\n\", prediction.head())"
   ]
  },
  {
   "cell_type": "markdown",
   "metadata": {},
   "source": [
    "**Create plots comparing predictions with actual target**"
   ]
  },
  {
   "cell_type": "code",
   "execution_count": 46,
   "metadata": {},
   "outputs": [
    {
     "name": "stdout",
     "output_type": "stream",
     "text": [
      "\n",
      "               precision    recall  f1-score   support\n",
      "\n",
      "           0       0.98      0.98      0.98      5494\n",
      "           1       0.98      0.98      0.98      5498\n",
      "\n",
      "   micro avg       0.98      0.98      0.98     10992\n",
      "   macro avg       0.98      0.98      0.98     10992\n",
      "weighted avg       0.98      0.98      0.98     10992\n",
      "\n"
     ]
    },
    {
     "data": {
      "image/png": "[encoded data removed]",
      "text/plain": [
       "<Figure size 432x288 with 1 Axes>"
      ]
     },
     "metadata": {
      "needs_background": "light"
     },
     "output_type": "display_data"
    }
   ],
   "source": [
    "unq = prediction[target].unique()[::-1]\n",
    "p = np.zeros((len(prediction),))\n",
    "a = np.zeros((len(prediction),))\n",
    "for i,q in enumerate(unq):\n",
    "    p += i*(prediction[target] == q).values\n",
    "    a += i*(data_SMOTE_train[target] == q).values\n",
    "#Plot predictions vs actual\n",
    "plt.plot(a)\n",
    "plt.plot(p)\n",
    "plt.legend(['Actual','Predicted'])\n",
    "plt.yticks([i for i in range(len(unq))],[q for q in unq]);\n",
    "print(\"\\n\", classification_report(data_SMOTE_train[target], prediction[target]))"
   ]
  },
  {
   "cell_type": "markdown",
   "metadata": {},
   "source": [
    "**Prediction on testing data**"
   ]
  },
  {
   "cell_type": "code",
   "execution_count": 47,
   "metadata": {},
   "outputs": [
    {
     "name": "stdout",
     "output_type": "stream",
     "text": [
      "{'status': 'Running', 'starttime': '2019-04-20T04:54:06.963853', 'endtime': None, 'percent_complete': 0, 'job_type': 'RunModel', 'loss': 0.22009418408075967, 'generations': 5, 'dataset_names': ['Speed_Dating_Clean_SMOTE_test.csv'], 'artifact_names': ['ca3a30556e9f482b9fbb7a31d7d08b6f'], 'model_name': 'match_model20190420140707', 'job_error': ''}\n",
      "{'status': 'Complete', 'starttime': '2019-04-20T04:54:06.963853', 'endtime': '2019-04-20T04:54:08.587171', 'percent_complete': 100, 'job_type': 'RunModel', 'loss': 0.22009418408075967, 'generations': 5, 'dataset_names': ['Speed_Dating_Clean_SMOTE_test.csv'], 'artifact_names': ['ca3a30556e9f482b9fbb7a31d7d08b6f'], 'model_name': 'match_model20190420140707', 'job_error': ''}\n",
      "\n",
      "    match    prob_0    prob_1\n",
      "0      0  0.679595  0.320405\n",
      "1      1  0.000700  0.999300\n",
      "2      1  0.002752  0.997248\n",
      "3      1  0.000000  1.000000\n",
      "4      0  0.879480  0.120520\n"
     ]
    }
   ],
   "source": [
    "status, artifact = ds.run_model(dataset_test, model, model_type = 'GradientBoosted')\n",
    "sleep(1)\n",
    "ds.wait_for_job(artifact['job_name'])\n",
    "\n",
    "status, prediction = ds.download_artifact(artifact['artifact_name'])\n",
    "print(\"\\n\", prediction.head())"
   ]
  },
  {
   "cell_type": "markdown",
   "metadata": {},
   "source": [
    "**Create plots comparing predictions with actual target**"
   ]
  },
  {
   "cell_type": "code",
   "execution_count": 48,
   "metadata": {},
   "outputs": [
    {
     "name": "stdout",
     "output_type": "stream",
     "text": [
      "\n",
      "               precision    recall  f1-score   support\n",
      "\n",
      "           0       0.95      0.26      0.41      1376\n",
      "           1       0.57      0.99      0.72      1372\n",
      "\n",
      "   micro avg       0.62      0.62      0.62      2748\n",
      "   macro avg       0.76      0.62      0.57      2748\n",
      "weighted avg       0.76      0.62      0.57      2748\n",
      "\n"
     ]
    },
    {
     "data": {
      "image/png": "[encoded data removed]",
      "text/plain": [
       "<Figure size 432x288 with 1 Axes>"
      ]
     },
     "metadata": {
      "needs_background": "light"
     },
     "output_type": "display_data"
    }
   ],
   "source": [
    "unq = prediction[target].unique()[::-1]\n",
    "p = np.zeros((len(prediction),))\n",
    "a = np.zeros((len(prediction),))\n",
    "for i,q in enumerate(unq):\n",
    "    p += i*(prediction[target] == q).values\n",
    "    a += i*(data_SMOTE_test[target] == q).values\n",
    "#Plot predictions vs actual\n",
    "plt.plot(a)\n",
    "plt.plot(p)\n",
    "plt.legend(['Actual','Predicted'])\n",
    "plt.yticks([i for i in range(len(unq))],[q for q in unq]);\n",
    "print(\"\\n\", classification_report(data_SMOTE_test[target], prediction[target]))"
   ]
  },
  {
   "cell_type": "markdown",
   "metadata": {},
   "source": [
    "# Darwin's hyperparameter"
   ]
  },
  {
   "cell_type": "markdown",
   "metadata": {},
   "source": [
    "**Looking at the model accuracy with Darwin's selected hyperparameters**"
   ]
  },
  {
   "cell_type": "code",
   "execution_count": 50,
   "metadata": {},
   "outputs": [
    {
     "name": "stdout",
     "output_type": "stream",
     "text": [
      "Accuracy (model): 90.02919189390781\n",
      "\n",
      "Accuracy (train): 98.07132459970887\n",
      "Classification report (train):\n",
      "               precision    recall  f1-score   support\n",
      "\n",
      "           0       0.96      1.00      0.98      5494\n",
      "           1       1.00      0.96      0.98      5498\n",
      "\n",
      "   micro avg       0.98      0.98      0.98     10992\n",
      "   macro avg       0.98      0.98      0.98     10992\n",
      "weighted avg       0.98      0.98      0.98     10992\n",
      "\n",
      "Accuracy (test): 90.68413391557496\n",
      "Classification report (test):\n",
      "               precision    recall  f1-score   support\n",
      "\n",
      "           0       0.93      0.89      0.90      1376\n",
      "           1       0.89      0.93      0.91      1372\n",
      "\n",
      "   micro avg       0.91      0.91      0.91      2748\n",
      "   macro avg       0.91      0.91      0.91      2748\n",
      "weighted avg       0.91      0.91      0.91      2748\n",
      "\n",
      "Wall time: 5min 1s\n"
     ]
    }
   ],
   "source": [
    "%%time\n",
    "\n",
    "# DeepNeuralNetwork\n",
    "scaler = StandardScaler()\n",
    "clf = MLPClassifier(random_state = 11, hidden_layer_sizes = (140, 676, 2), activation = 'relu')\n",
    "\n",
    "# Creating the pipeline\n",
    "pipe = Pipeline(steps = [('sca', scaler ), ('clf', clf)])\n",
    "\n",
    "# CV on train\n",
    "scores = cross_val_score(pipe, train_X, train_Y, cv = 5)\n",
    "\n",
    "# Fit the model\n",
    "pipe.fit(train_X, train_Y)\n",
    "\n",
    "# Print results\n",
    "print(\"Accuracy (model):\", scores.mean() * 100)\n",
    "print(\"\\nAccuracy (train):\", pipe.score(train_X, train_Y) * 100)\n",
    "print(\"Classification report (train):\\n\", classification_report(train_Y, pipe.predict(train_X)))\n",
    "print(\"Accuracy (test):\", pipe.score(test_X, test_Y) * 100)\n",
    "print(\"Classification report (test):\\n\", classification_report(test_Y, pipe.predict(test_X)))"
   ]
  },
  {
   "cell_type": "code",
   "execution_count": 51,
   "metadata": {},
   "outputs": [
    {
     "name": "stdout",
     "output_type": "stream",
     "text": [
      "Accuracy (model): 82.32355862003648\n",
      "\n",
      "Accuracy (train): 87.23617176128093\n",
      "Classification report (train):\n",
      "               precision    recall  f1-score   support\n",
      "\n",
      "           0       0.92      0.82      0.86      5494\n",
      "           1       0.84      0.93      0.88      5498\n",
      "\n",
      "   micro avg       0.87      0.87      0.87     10992\n",
      "   macro avg       0.88      0.87      0.87     10992\n",
      "weighted avg       0.88      0.87      0.87     10992\n",
      "\n",
      "Accuracy (test): 81.76855895196506\n",
      "Classification report (test):\n",
      "               precision    recall  f1-score   support\n",
      "\n",
      "           0       0.86      0.77      0.81      1376\n",
      "           1       0.79      0.87      0.83      1372\n",
      "\n",
      "   micro avg       0.82      0.82      0.82      2748\n",
      "   macro avg       0.82      0.82      0.82      2748\n",
      "weighted avg       0.82      0.82      0.82      2748\n",
      "\n",
      "Wall time: 5min 41s\n"
     ]
    }
   ],
   "source": [
    "%%time\n",
    "\n",
    "# RandomForest\n",
    "scaler = StandardScaler()\n",
    "pca = PCA(0.95, random_state = 11)\n",
    "clf = RandomForestClassifier(random_state = 11, bootstrap = True, criterion = 'gini',\n",
    "                             max_depth = 9, max_features = 0.28397226585541957, max_leaf_nodes = None,\n",
    "                             min_impurity_decrease = 0.0, min_samples_leaf = 10, min_samples_split = 15,\n",
    "                             n_jobs = -1, min_weight_fraction_leaf = 0.0, n_estimators = 341)\n",
    "\n",
    "# Creating the pipeline\n",
    "pipe = Pipeline(steps = [('sca', scaler ), ('pca', pca), ('clf', clf)])\n",
    "\n",
    "# CV on train\n",
    "scores = cross_val_score(pipe, train_X, train_Y, cv = 5)\n",
    "\n",
    "# Fit the model\n",
    "pipe.fit(train_X, train_Y)\n",
    "\n",
    "# Print results\n",
    "print(\"Accuracy (model):\", scores.mean() * 100)\n",
    "print(\"\\nAccuracy (train):\", pipe.score(train_X, train_Y) * 100)\n",
    "print(\"Classification report (train):\\n\", classification_report(train_Y, pipe.predict(train_X)))\n",
    "print(\"Accuracy (test):\", pipe.score(test_X, test_Y) * 100)\n",
    "print(\"Classification report (test):\\n\", classification_report(test_Y, pipe.predict(test_X)))"
   ]
  },
  {
   "cell_type": "code",
   "execution_count": 53,
   "metadata": {},
   "outputs": [
    {
     "name": "stdout",
     "output_type": "stream",
     "text": [
      "Accuracy (model): 89.82914233349881\n",
      "\n",
      "Accuracy (train): 100.0\n",
      "Classification report (train):\n",
      "               precision    recall  f1-score   support\n",
      "\n",
      "           0       1.00      1.00      1.00      5494\n",
      "           1       1.00      1.00      1.00      5498\n",
      "\n",
      "   micro avg       1.00      1.00      1.00     10992\n",
      "   macro avg       1.00      1.00      1.00     10992\n",
      "weighted avg       1.00      1.00      1.00     10992\n",
      "\n",
      "Accuracy (test): 89.8471615720524\n",
      "Classification report (test):\n",
      "               precision    recall  f1-score   support\n",
      "\n",
      "           0       0.93      0.86      0.90      1376\n",
      "           1       0.87      0.93      0.90      1372\n",
      "\n",
      "   micro avg       0.90      0.90      0.90      2748\n",
      "   macro avg       0.90      0.90      0.90      2748\n",
      "weighted avg       0.90      0.90      0.90      2748\n",
      "\n",
      "Wall time: 5min\n"
     ]
    }
   ],
   "source": [
    "%%time\n",
    "\n",
    "# GradientBoosted\n",
    "import xgboost as xgb\n",
    "from xgboost.sklearn import XGBClassifier\n",
    "\n",
    "scaler = StandardScaler()\n",
    "pca = PCA(0.95, random_state = 11)\n",
    "clf = XGBClassifier(seed = 11, base_score = 0.5, colsample_bylevel = 1,\n",
    "                    colsample_bytree = 1, gamma = 0, learning_rate = 0.5822052303645006,\n",
    "                    max_delta_step = 0, max_depth = 8, min_child_weight = 18,\n",
    "                    n_estimators = 459, n_jobs = -1, reg_alpha = 0,\n",
    "                    reg_lambda = 1, scale_pos_weight = 1, subsample = 0.5522669403520774)\n",
    "\n",
    "# Creating the pipeline\n",
    "pipe = Pipeline(steps = [('sca', scaler ), ('pca', pca), ('clf', clf)])\n",
    "\n",
    "# CV on train\n",
    "scores = cross_val_score(pipe, train_X, train_Y, cv = 5)\n",
    "\n",
    "# Fit the model\n",
    "pipe.fit(train_X, train_Y)\n",
    "\n",
    "# Print results\n",
    "print(\"Accuracy (model):\", scores.mean() * 100)\n",
    "print(\"\\nAccuracy (train):\", pipe.score(train_X, train_Y) * 100)\n",
    "print(\"Classification report (train):\\n\", classification_report(train_Y, pipe.predict(train_X)))\n",
    "print(\"Accuracy (test):\", pipe.score(test_X, test_Y) * 100)\n",
    "print(\"Classification report (test):\\n\", classification_report(test_Y, pipe.predict(test_X)))"
   ]
  }
 ],
 "metadata": {
  "kernelspec": {
   "display_name": "Python 3",
   "language": "python",
   "name": "python3"
  },
  "language_info": {
   "codemirror_mode": {
    "name": "ipython",
    "version": 3
   },
   "file_extension": ".py",
   "mimetype": "text/x-python",
   "name": "python",
   "nbconvert_exporter": "python",
   "pygments_lexer": "ipython3",
   "version": "3.7.1"
  }
 },
 "nbformat": 4,
 "nbformat_minor": 2
}
