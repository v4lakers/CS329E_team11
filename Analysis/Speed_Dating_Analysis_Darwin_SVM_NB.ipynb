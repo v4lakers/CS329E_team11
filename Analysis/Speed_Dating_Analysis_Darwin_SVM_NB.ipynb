{
 "cells": [
  {
   "cell_type": "code",
   "execution_count": 155,
   "metadata": {},
   "outputs": [],
   "source": [
    "# Import necessary libraries\n",
    "import warnings\n",
    "warnings.filterwarnings(\"ignore\", message=\"numpy.dtype size changed\")\n",
    "#%matplotlib inline\n",
    "import matplotlib.pyplot as plt\n",
    "import pandas as pd\n",
    "from IPython.display import Image\n",
    "from time import sleep\n",
    "import os\n",
    "import numpy as np\n",
    "import numpy as np\n",
    "from sklearn.metrics import classification_report\n",
    "from sklearn.metrics import accuracy_score\n",
    "from sklearn.model_selection import train_test_split\n",
    "from sklearn.model_selection import cross_val_score\n",
    "from sklearn.model_selection import cross_val_predict\n",
    "from sklearn.metrics import confusion_matrix\n",
    "from sklearn.metrics import classification_report\n",
    "from sklearn.preprocessing import MinMaxScaler\n",
    "from sklearn.neighbors import KNeighborsClassifier\n",
    "from sklearn.model_selection import cross_validate\n",
    "from sklearn import tree\n",
    "from sklearn.metrics import accuracy_score\n",
    "from imblearn.over_sampling import SMOTE"
   ]
  },
  {
   "cell_type": "code",
   "execution_count": 156,
   "metadata": {},
   "outputs": [
    {
     "data": {
      "text/html": [
       "<div>\n",
       "<style scoped>\n",
       "    .dataframe tbody tr th:only-of-type {\n",
       "        vertical-align: middle;\n",
       "    }\n",
       "\n",
       "    .dataframe tbody tr th {\n",
       "        vertical-align: top;\n",
       "    }\n",
       "\n",
       "    .dataframe thead th {\n",
       "        text-align: right;\n",
       "    }\n",
       "</style>\n",
       "<table border=\"1\" class=\"dataframe\">\n",
       "  <thead>\n",
       "    <tr style=\"text-align: right;\">\n",
       "      <th></th>\n",
       "      <th>age</th>\n",
       "      <th>age_o</th>\n",
       "      <th>same_race_i</th>\n",
       "      <th>same_religion_i</th>\n",
       "      <th>attractive_o_i</th>\n",
       "      <th>sincere_o_i</th>\n",
       "      <th>intelligence_o_i</th>\n",
       "      <th>funny_o_i</th>\n",
       "      <th>ambitious_o_i</th>\n",
       "      <th>shared_interests_o_i</th>\n",
       "      <th>...</th>\n",
       "      <th>field_teaching of english</th>\n",
       "      <th>field_tesol</th>\n",
       "      <th>field_theater</th>\n",
       "      <th>field_theatre management &amp; producing</th>\n",
       "      <th>field_theory</th>\n",
       "      <th>field_undergrad - gs</th>\n",
       "      <th>field_urban planning</th>\n",
       "      <th>field_working</th>\n",
       "      <th>field_writing: literary nonfiction</th>\n",
       "      <th>match</th>\n",
       "    </tr>\n",
       "  </thead>\n",
       "  <tbody>\n",
       "    <tr>\n",
       "      <th>0</th>\n",
       "      <td>21.0</td>\n",
       "      <td>27.0</td>\n",
       "      <td>2.0</td>\n",
       "      <td>4.0</td>\n",
       "      <td>0.35</td>\n",
       "      <td>0.20</td>\n",
       "      <td>0.20</td>\n",
       "      <td>0.20</td>\n",
       "      <td>0.00</td>\n",
       "      <td>0.05</td>\n",
       "      <td>...</td>\n",
       "      <td>0.0</td>\n",
       "      <td>0.0</td>\n",
       "      <td>0.0</td>\n",
       "      <td>0.0</td>\n",
       "      <td>0.0</td>\n",
       "      <td>0.0</td>\n",
       "      <td>0.0</td>\n",
       "      <td>0.0</td>\n",
       "      <td>0.0</td>\n",
       "      <td>0</td>\n",
       "    </tr>\n",
       "    <tr>\n",
       "      <th>1</th>\n",
       "      <td>21.0</td>\n",
       "      <td>22.0</td>\n",
       "      <td>2.0</td>\n",
       "      <td>4.0</td>\n",
       "      <td>0.60</td>\n",
       "      <td>0.00</td>\n",
       "      <td>0.00</td>\n",
       "      <td>0.40</td>\n",
       "      <td>0.00</td>\n",
       "      <td>0.00</td>\n",
       "      <td>...</td>\n",
       "      <td>0.0</td>\n",
       "      <td>0.0</td>\n",
       "      <td>0.0</td>\n",
       "      <td>0.0</td>\n",
       "      <td>0.0</td>\n",
       "      <td>0.0</td>\n",
       "      <td>0.0</td>\n",
       "      <td>0.0</td>\n",
       "      <td>0.0</td>\n",
       "      <td>0</td>\n",
       "    </tr>\n",
       "    <tr>\n",
       "      <th>2</th>\n",
       "      <td>21.0</td>\n",
       "      <td>22.0</td>\n",
       "      <td>2.0</td>\n",
       "      <td>4.0</td>\n",
       "      <td>0.19</td>\n",
       "      <td>0.18</td>\n",
       "      <td>0.19</td>\n",
       "      <td>0.18</td>\n",
       "      <td>0.14</td>\n",
       "      <td>0.12</td>\n",
       "      <td>...</td>\n",
       "      <td>0.0</td>\n",
       "      <td>0.0</td>\n",
       "      <td>0.0</td>\n",
       "      <td>0.0</td>\n",
       "      <td>0.0</td>\n",
       "      <td>0.0</td>\n",
       "      <td>0.0</td>\n",
       "      <td>0.0</td>\n",
       "      <td>0.0</td>\n",
       "      <td>1</td>\n",
       "    </tr>\n",
       "    <tr>\n",
       "      <th>3</th>\n",
       "      <td>21.0</td>\n",
       "      <td>23.0</td>\n",
       "      <td>2.0</td>\n",
       "      <td>4.0</td>\n",
       "      <td>0.30</td>\n",
       "      <td>0.05</td>\n",
       "      <td>0.15</td>\n",
       "      <td>0.40</td>\n",
       "      <td>0.05</td>\n",
       "      <td>0.05</td>\n",
       "      <td>...</td>\n",
       "      <td>0.0</td>\n",
       "      <td>0.0</td>\n",
       "      <td>0.0</td>\n",
       "      <td>0.0</td>\n",
       "      <td>0.0</td>\n",
       "      <td>0.0</td>\n",
       "      <td>0.0</td>\n",
       "      <td>0.0</td>\n",
       "      <td>0.0</td>\n",
       "      <td>1</td>\n",
       "    </tr>\n",
       "    <tr>\n",
       "      <th>4</th>\n",
       "      <td>21.0</td>\n",
       "      <td>24.0</td>\n",
       "      <td>2.0</td>\n",
       "      <td>4.0</td>\n",
       "      <td>0.30</td>\n",
       "      <td>0.10</td>\n",
       "      <td>0.20</td>\n",
       "      <td>0.10</td>\n",
       "      <td>0.10</td>\n",
       "      <td>0.20</td>\n",
       "      <td>...</td>\n",
       "      <td>0.0</td>\n",
       "      <td>0.0</td>\n",
       "      <td>0.0</td>\n",
       "      <td>0.0</td>\n",
       "      <td>0.0</td>\n",
       "      <td>0.0</td>\n",
       "      <td>0.0</td>\n",
       "      <td>0.0</td>\n",
       "      <td>0.0</td>\n",
       "      <td>1</td>\n",
       "    </tr>\n",
       "  </tbody>\n",
       "</table>\n",
       "<p>5 rows × 287 columns</p>\n",
       "</div>"
      ],
      "text/plain": [
       "    age  age_o  same_race_i  same_religion_i  attractive_o_i  sincere_o_i  \\\n",
       "0  21.0   27.0          2.0              4.0            0.35         0.20   \n",
       "1  21.0   22.0          2.0              4.0            0.60         0.00   \n",
       "2  21.0   22.0          2.0              4.0            0.19         0.18   \n",
       "3  21.0   23.0          2.0              4.0            0.30         0.05   \n",
       "4  21.0   24.0          2.0              4.0            0.30         0.10   \n",
       "\n",
       "   intelligence_o_i  funny_o_i  ambitious_o_i  shared_interests_o_i  ...    \\\n",
       "0              0.20       0.20           0.00                  0.05  ...     \n",
       "1              0.00       0.40           0.00                  0.00  ...     \n",
       "2              0.19       0.18           0.14                  0.12  ...     \n",
       "3              0.15       0.40           0.05                  0.05  ...     \n",
       "4              0.20       0.10           0.10                  0.20  ...     \n",
       "\n",
       "   field_teaching of english  field_tesol  field_theater  \\\n",
       "0                        0.0          0.0            0.0   \n",
       "1                        0.0          0.0            0.0   \n",
       "2                        0.0          0.0            0.0   \n",
       "3                        0.0          0.0            0.0   \n",
       "4                        0.0          0.0            0.0   \n",
       "\n",
       "   field_theatre management & producing  field_theory  field_undergrad - gs  \\\n",
       "0                                   0.0           0.0                   0.0   \n",
       "1                                   0.0           0.0                   0.0   \n",
       "2                                   0.0           0.0                   0.0   \n",
       "3                                   0.0           0.0                   0.0   \n",
       "4                                   0.0           0.0                   0.0   \n",
       "\n",
       "   field_urban planning  field_working  field_writing: literary nonfiction  \\\n",
       "0                   0.0            0.0                                 0.0   \n",
       "1                   0.0            0.0                                 0.0   \n",
       "2                   0.0            0.0                                 0.0   \n",
       "3                   0.0            0.0                                 0.0   \n",
       "4                   0.0            0.0                                 0.0   \n",
       "\n",
       "   match  \n",
       "0      0  \n",
       "1      0  \n",
       "2      1  \n",
       "3      1  \n",
       "4      1  \n",
       "\n",
       "[5 rows x 287 columns]"
      ]
     },
     "execution_count": 156,
     "metadata": {},
     "output_type": "execute_result"
    }
   ],
   "source": [
    "df = pd.read_csv('Desktop/Speed_Dating_Clean.csv')\n",
    "df.head()"
   ]
  },
  {
   "cell_type": "code",
   "execution_count": 158,
   "metadata": {},
   "outputs": [],
   "source": [
    "match_ori = pd.DataFrame(df['match'])\n",
    "data_ori = df.drop(['match'],axis =1)"
   ]
  },
  {
   "cell_type": "markdown",
   "metadata": {},
   "source": [
    "# PCA \n"
   ]
  },
  {
   "cell_type": "code",
   "execution_count": 160,
   "metadata": {},
   "outputs": [
    {
     "name": "stdout",
     "output_type": "stream",
     "text": [
      "n_cols to keep: 31\n",
      "(13740, 31) (13740, 31)\n"
     ]
    }
   ],
   "source": [
    "# your code goes here\n",
    "from sklearn.decomposition import PCA \n",
    "pca = PCA()\n",
    "pca_data = pca.fit_transform(data_ori)\n",
    "\n",
    "#variance and columns\n",
    "var_exp = pca.explained_variance_ratio_\n",
    "#print(\"Variance in each PC:\", var_exp)\n",
    "\n",
    "cum_var_exp = np.cumsum(var_exp)\n",
    "#print(\"Cumulative variance:\", cum_var_exp)\n",
    "\n",
    "n_cols = 1 + np.argmax(cum_var_exp >= 0.95)\n",
    "print(\"n_cols to keep:\", n_cols)\n",
    "\n",
    "#reduce training set \n",
    "data_X = pca_data[:, :n_cols]\n",
    "\n",
    "#tranform the test set \n",
    "match = pca.transform(match_ori)[:, :n_cols] \n",
    "print (data_X.shape, match.shape)"
   ]
  },
  {
   "cell_type": "code",
   "execution_count": 20,
   "metadata": {},
   "outputs": [],
   "source": [
    "race_o =data_X['race_o'].map(race)\n",
    "data_X['race_o'] = race_o"
   ]
  },
  {
   "cell_type": "code",
   "execution_count": 21,
   "metadata": {},
   "outputs": [],
   "source": [
    "study1 = list(data_X['field'].value_counts().index)\n",
    "def study(value): \n",
    "    if value in study1: \n",
    "        return study1.index(value)\n",
    "study_idx = data_X['field'].map(study)\n",
    "data_X['field'] = study_idx"
   ]
  },
  {
   "cell_type": "code",
   "execution_count": 22,
   "metadata": {},
   "outputs": [
    {
     "data": {
      "text/html": [
       "<div>\n",
       "<style scoped>\n",
       "    .dataframe tbody tr th:only-of-type {\n",
       "        vertical-align: middle;\n",
       "    }\n",
       "\n",
       "    .dataframe tbody tr th {\n",
       "        vertical-align: top;\n",
       "    }\n",
       "\n",
       "    .dataframe thead th {\n",
       "        text-align: right;\n",
       "    }\n",
       "</style>\n",
       "<table border=\"1\" class=\"dataframe\">\n",
       "  <thead>\n",
       "    <tr style=\"text-align: right;\">\n",
       "      <th></th>\n",
       "      <th>gender</th>\n",
       "      <th>age</th>\n",
       "      <th>age_o</th>\n",
       "      <th>d_age</th>\n",
       "      <th>d_d_age</th>\n",
       "      <th>race</th>\n",
       "      <th>race_o</th>\n",
       "      <th>samerace</th>\n",
       "      <th>importance_same_race</th>\n",
       "      <th>importance_same_religion</th>\n",
       "      <th>...</th>\n",
       "      <th>concerts</th>\n",
       "      <th>music</th>\n",
       "      <th>shopping</th>\n",
       "      <th>yoga</th>\n",
       "      <th>interests_correlate</th>\n",
       "      <th>expected_happy_with_sd_people</th>\n",
       "      <th>expected_num_matches</th>\n",
       "      <th>like</th>\n",
       "      <th>guess_prob_liked</th>\n",
       "      <th>met</th>\n",
       "    </tr>\n",
       "  </thead>\n",
       "  <tbody>\n",
       "    <tr>\n",
       "      <th>0</th>\n",
       "      <td>0</td>\n",
       "      <td>21.0</td>\n",
       "      <td>27.0</td>\n",
       "      <td>6</td>\n",
       "      <td>3</td>\n",
       "      <td>1</td>\n",
       "      <td>3</td>\n",
       "      <td>0</td>\n",
       "      <td>2.0</td>\n",
       "      <td>4.0</td>\n",
       "      <td>...</td>\n",
       "      <td>10.0</td>\n",
       "      <td>9.0</td>\n",
       "      <td>8.0</td>\n",
       "      <td>1.0</td>\n",
       "      <td>0.14</td>\n",
       "      <td>3.0</td>\n",
       "      <td>4.0</td>\n",
       "      <td>7.0</td>\n",
       "      <td>6.0</td>\n",
       "      <td>0.0</td>\n",
       "    </tr>\n",
       "    <tr>\n",
       "      <th>1</th>\n",
       "      <td>0</td>\n",
       "      <td>21.0</td>\n",
       "      <td>22.0</td>\n",
       "      <td>1</td>\n",
       "      <td>1</td>\n",
       "      <td>1</td>\n",
       "      <td>3</td>\n",
       "      <td>0</td>\n",
       "      <td>2.0</td>\n",
       "      <td>4.0</td>\n",
       "      <td>...</td>\n",
       "      <td>10.0</td>\n",
       "      <td>9.0</td>\n",
       "      <td>8.0</td>\n",
       "      <td>1.0</td>\n",
       "      <td>0.54</td>\n",
       "      <td>3.0</td>\n",
       "      <td>4.0</td>\n",
       "      <td>7.0</td>\n",
       "      <td>5.0</td>\n",
       "      <td>1.0</td>\n",
       "    </tr>\n",
       "    <tr>\n",
       "      <th>2</th>\n",
       "      <td>0</td>\n",
       "      <td>21.0</td>\n",
       "      <td>22.0</td>\n",
       "      <td>1</td>\n",
       "      <td>1</td>\n",
       "      <td>1</td>\n",
       "      <td>1</td>\n",
       "      <td>1</td>\n",
       "      <td>2.0</td>\n",
       "      <td>4.0</td>\n",
       "      <td>...</td>\n",
       "      <td>10.0</td>\n",
       "      <td>9.0</td>\n",
       "      <td>8.0</td>\n",
       "      <td>1.0</td>\n",
       "      <td>0.16</td>\n",
       "      <td>3.0</td>\n",
       "      <td>4.0</td>\n",
       "      <td>7.0</td>\n",
       "      <td>0.0</td>\n",
       "      <td>1.0</td>\n",
       "    </tr>\n",
       "    <tr>\n",
       "      <th>3</th>\n",
       "      <td>0</td>\n",
       "      <td>21.0</td>\n",
       "      <td>23.0</td>\n",
       "      <td>2</td>\n",
       "      <td>2</td>\n",
       "      <td>1</td>\n",
       "      <td>3</td>\n",
       "      <td>0</td>\n",
       "      <td>2.0</td>\n",
       "      <td>4.0</td>\n",
       "      <td>...</td>\n",
       "      <td>10.0</td>\n",
       "      <td>9.0</td>\n",
       "      <td>8.0</td>\n",
       "      <td>1.0</td>\n",
       "      <td>0.61</td>\n",
       "      <td>3.0</td>\n",
       "      <td>4.0</td>\n",
       "      <td>7.0</td>\n",
       "      <td>6.0</td>\n",
       "      <td>0.0</td>\n",
       "    </tr>\n",
       "    <tr>\n",
       "      <th>4</th>\n",
       "      <td>0</td>\n",
       "      <td>21.0</td>\n",
       "      <td>24.0</td>\n",
       "      <td>3</td>\n",
       "      <td>2</td>\n",
       "      <td>1</td>\n",
       "      <td>4</td>\n",
       "      <td>0</td>\n",
       "      <td>2.0</td>\n",
       "      <td>4.0</td>\n",
       "      <td>...</td>\n",
       "      <td>10.0</td>\n",
       "      <td>9.0</td>\n",
       "      <td>8.0</td>\n",
       "      <td>1.0</td>\n",
       "      <td>0.21</td>\n",
       "      <td>3.0</td>\n",
       "      <td>4.0</td>\n",
       "      <td>6.0</td>\n",
       "      <td>6.0</td>\n",
       "      <td>0.0</td>\n",
       "    </tr>\n",
       "  </tbody>\n",
       "</table>\n",
       "<p>5 rows × 63 columns</p>\n",
       "</div>"
      ],
      "text/plain": [
       "   gender   age  age_o  d_age  d_d_age  race  race_o  samerace  \\\n",
       "0       0  21.0   27.0      6        3     1       3         0   \n",
       "1       0  21.0   22.0      1        1     1       3         0   \n",
       "2       0  21.0   22.0      1        1     1       1         1   \n",
       "3       0  21.0   23.0      2        2     1       3         0   \n",
       "4       0  21.0   24.0      3        2     1       4         0   \n",
       "\n",
       "   importance_same_race  importance_same_religion ...   concerts  music  \\\n",
       "0                   2.0                       4.0 ...       10.0    9.0   \n",
       "1                   2.0                       4.0 ...       10.0    9.0   \n",
       "2                   2.0                       4.0 ...       10.0    9.0   \n",
       "3                   2.0                       4.0 ...       10.0    9.0   \n",
       "4                   2.0                       4.0 ...       10.0    9.0   \n",
       "\n",
       "   shopping  yoga  interests_correlate  expected_happy_with_sd_people  \\\n",
       "0       8.0   1.0                 0.14                            3.0   \n",
       "1       8.0   1.0                 0.54                            3.0   \n",
       "2       8.0   1.0                 0.16                            3.0   \n",
       "3       8.0   1.0                 0.61                            3.0   \n",
       "4       8.0   1.0                 0.21                            3.0   \n",
       "\n",
       "   expected_num_matches  like  guess_prob_liked  met  \n",
       "0                   4.0   7.0               6.0  0.0  \n",
       "1                   4.0   7.0               5.0  1.0  \n",
       "2                   4.0   7.0               0.0  1.0  \n",
       "3                   4.0   7.0               6.0  0.0  \n",
       "4                   4.0   6.0               6.0  0.0  \n",
       "\n",
       "[5 rows x 63 columns]"
      ]
     },
     "execution_count": 22,
     "metadata": {},
     "output_type": "execute_result"
    }
   ],
   "source": [
    "data_X[:5]"
   ]
  },
  {
   "cell_type": "markdown",
   "metadata": {},
   "source": [
    "# Under - Sampling to deal with class imbalance"
   ]
  },
  {
   "cell_type": "code",
   "execution_count": 23,
   "metadata": {},
   "outputs": [],
   "source": [
    "data_X2 = data_X.copy()\n",
    "data_X2['match'] = match "
   ]
  },
  {
   "cell_type": "code",
   "execution_count": 24,
   "metadata": {},
   "outputs": [],
   "source": [
    "# first you need to select the ones from majority class and pick it at random\n",
    "no_match = len(data_X2[data_X2['match'] == 0])\n",
    "no_match_indices = data_X2[data_X2.match == 0].index\n",
    "random_indices = np.random.choice(no_match_indices,no_match, replace=False)"
   ]
  },
  {
   "cell_type": "code",
   "execution_count": 25,
   "metadata": {},
   "outputs": [],
   "source": [
    "# get the matched indices and then concatenate to get final\n",
    "match_indices = data_X2[data_X2.match == 1].index\n",
    "under_sample_indices = np.concatenate([match_indices,random_indices])\n",
    "under_sample = data_X2.loc[under_sample_indices]"
   ]
  },
  {
   "cell_type": "code",
   "execution_count": 26,
   "metadata": {},
   "outputs": [],
   "source": [
    "X_under = under_sample.loc[:,under_sample.columns != 'match']\n",
    "y_under = under_sample.loc[:,under_sample.columns == 'match']\n",
    "X_under_train, X_under_test, y_under_train, y_under_test = train_test_split(X_under,y_under,test_size = 0.3, random_state = 0)"
   ]
  },
  {
   "cell_type": "code",
   "execution_count": 27,
   "metadata": {},
   "outputs": [],
   "source": [
    "clf = tree.DecisionTreeClassifier(criterion = 'entropy')\n",
    "clf = clf.fit(X_under_train, y_under_train)"
   ]
  },
  {
   "cell_type": "code",
   "execution_count": 28,
   "metadata": {},
   "outputs": [
    {
     "name": "stdout",
     "output_type": "stream",
     "text": [
      "Accuracy on test data is: 0.8008921330089214\n"
     ]
    }
   ],
   "source": [
    "preds = clf.predict(X_under_test)\n",
    "print('Accuracy on test data is:',(accuracy_score(y_under_test,preds)))"
   ]
  },
  {
   "cell_type": "code",
   "execution_count": 29,
   "metadata": {},
   "outputs": [
    {
     "name": "stdout",
     "output_type": "stream",
     "text": [
      "The confusion matrix is:\n",
      " [[1810  257]\n",
      " [ 234  165]]\n",
      "              precision    recall  f1-score   support\n",
      "\n",
      "           0       0.89      0.88      0.88      2067\n",
      "           1       0.39      0.41      0.40       399\n",
      "\n",
      "   micro avg       0.80      0.80      0.80      2466\n",
      "   macro avg       0.64      0.64      0.64      2466\n",
      "weighted avg       0.81      0.80      0.80      2466\n",
      "\n"
     ]
    }
   ],
   "source": [
    "print('The confusion matrix is:\\n',confusion_matrix(y_under_test,preds))\n",
    "print(classification_report(y_under_test,preds))"
   ]
  },
  {
   "cell_type": "markdown",
   "metadata": {},
   "source": [
    "# SMOTE Analysis"
   ]
  },
  {
   "cell_type": "code",
   "execution_count": 30,
   "metadata": {},
   "outputs": [],
   "source": [
    "x_train, x_val, y_train, y_val = train_test_split(data_X, match,\n",
    "                                                  test_size = .1,\n",
    "                                                  random_state=12)"
   ]
  },
  {
   "cell_type": "code",
   "execution_count": 31,
   "metadata": {},
   "outputs": [
    {
     "name": "stderr",
     "output_type": "stream",
     "text": [
      "/anaconda3/lib/python3.7/site-packages/sklearn/utils/validation.py:761: DataConversionWarning: A column-vector y was passed when a 1d array was expected. Please change the shape of y to (n_samples, ), for example using ravel().\n",
      "  y = column_or_1d(y, warn=True)\n"
     ]
    }
   ],
   "source": [
    "sm = SMOTE(random_state=12, ratio = 1.0)\n",
    "x_train_res, y_train_res = sm.fit_sample(x_train, y_train)"
   ]
  },
  {
   "cell_type": "code",
   "execution_count": 32,
   "metadata": {},
   "outputs": [
    {
     "data": {
      "text/plain": [
       "RandomForestClassifier(bootstrap=True, class_weight=None, criterion='gini',\n",
       "            max_depth=None, max_features='auto', max_leaf_nodes=None,\n",
       "            min_impurity_decrease=0.0, min_impurity_split=None,\n",
       "            min_samples_leaf=1, min_samples_split=2,\n",
       "            min_weight_fraction_leaf=0.0, n_estimators=25, n_jobs=None,\n",
       "            oob_score=False, random_state=12, verbose=0, warm_start=False)"
      ]
     },
     "execution_count": 32,
     "metadata": {},
     "output_type": "execute_result"
    }
   ],
   "source": [
    "from sklearn.ensemble import RandomForestClassifier\n",
    "clf_rf = RandomForestClassifier(n_estimators=25, random_state=12)\n",
    "clf_rf.fit(x_train_res, y_train_res)"
   ]
  },
  {
   "cell_type": "code",
   "execution_count": 33,
   "metadata": {},
   "outputs": [
    {
     "name": "stdout",
     "output_type": "stream",
     "text": [
      "The confusion matrix is:\n",
      " [[667  38]\n",
      " [ 62  55]]\n",
      "              precision    recall  f1-score   support\n",
      "\n",
      "           0       0.91      0.95      0.93       705\n",
      "           1       0.59      0.47      0.52       117\n",
      "\n",
      "   micro avg       0.88      0.88      0.88       822\n",
      "   macro avg       0.75      0.71      0.73       822\n",
      "weighted avg       0.87      0.88      0.87       822\n",
      "\n"
     ]
    }
   ],
   "source": [
    "# this is the result that we would get on the validation set\n",
    "print('The confusion matrix is:\\n',confusion_matrix(y_val,clf_rf.predict(x_val)))\n",
    "print(classification_report(y_val, clf_rf.predict(x_val)))"
   ]
  },
  {
   "cell_type": "code",
   "execution_count": 34,
   "metadata": {},
   "outputs": [
    {
     "name": "stdout",
     "output_type": "stream",
     "text": [
      "The confusion matrix is:\n",
      " [[6830   40]\n",
      " [  63 1287]]\n",
      "              precision    recall  f1-score   support\n",
      "\n",
      "           0       0.99      0.99      0.99      6870\n",
      "           1       0.97      0.95      0.96      1350\n",
      "\n",
      "   micro avg       0.99      0.99      0.99      8220\n",
      "   macro avg       0.98      0.97      0.98      8220\n",
      "weighted avg       0.99      0.99      0.99      8220\n",
      "\n"
     ]
    }
   ],
   "source": [
    "# this is the result that we would get on the test set which is the entire dataset \n",
    "print('The confusion matrix is:\\n',confusion_matrix(match,clf_rf.predict(data_X)))\n",
    "print(classification_report(match, clf_rf.predict(data_X)))"
   ]
  },
  {
   "cell_type": "markdown",
   "metadata": {},
   "source": [
    "# SVM"
   ]
  },
  {
   "cell_type": "code",
   "execution_count": 188,
   "metadata": {},
   "outputs": [
    {
     "name": "stdout",
     "output_type": "stream",
     "text": [
      "Average Accuracy: 67.23435225618631\n"
     ]
    }
   ],
   "source": [
    "#Creating the standard scaler \n",
    "from sklearn.preprocessing import StandardScaler\n",
    "from sklearn.svm import SVC\n",
    "from sklearn.pipeline import Pipeline\n",
    "import warnings\n",
    "warnings.simplefilter(\"ignore\")\n",
    "scaler = StandardScaler()\n",
    "\n",
    "# creating svc. Here we use the default instead of linear as mentioned on the piazza post. \n",
    "svc_clf = SVC()\n",
    "\n",
    "# Creating the pipeline\n",
    "pipe = Pipeline(steps=[('sca',scaler ), ('svc', svc_clf)])\n",
    "\n",
    "#Pass the pipeline in to a cross_val_score \n",
    "scores = cross_val_score(pipe, data_ori, match_ori)\n",
    "\n",
    "#printing the average accuracy\n",
    "print('Average Accuracy:',scores.mean()*100)\n"
   ]
  },
  {
   "cell_type": "markdown",
   "metadata": {},
   "source": [
    "# Naive Bayes"
   ]
  },
  {
   "cell_type": "code",
   "execution_count": 184,
   "metadata": {},
   "outputs": [
    {
     "name": "stdout",
     "output_type": "stream",
     "text": [
      "Accuracy is  0.5727802037845706\n",
      "Accuracy with 10-fold cross validation: 48.842794759825324\n"
     ]
    }
   ],
   "source": [
    "from sklearn.naive_bayes import GaussianNB\n",
    "X_train, X_val, y_train, y_val = train_test_split(data_ori, match_ori, test_size=0.20, random_state=None)\n",
    "\n",
    "#sm = SMOTE(random_state=12, ratio = .8)\n",
    "#X_train_res, Y_train_res = sm.fit_sample(x_train, y_train)\n",
    "\n",
    "\n",
    "#create NB clf and fit it\n",
    "clf_rf = GaussianNB()\n",
    "clf_rf.fit(X_train, y_train)\n",
    "y_pred = clf_rf.predict(X_val)\n",
    "\n",
    "#predict the accuracy with one model\n",
    "print(\"Accuracy is \", accuracy_score(y_val,y_pred))\n",
    "\n",
    "#cross validation\n",
    "scores = cross_val_score(clf_rf, data_ori, match_ori, cv=10)                                         \n",
    "print(\"Accuracy with 10-fold cross validation:\", scores.mean()*100)"
   ]
  },
  {
   "cell_type": "code",
   "execution_count": 186,
   "metadata": {},
   "outputs": [
    {
     "name": "stdout",
     "output_type": "stream",
     "text": [
      "The confusion matrix is:\n",
      " [[ 309 1110]\n",
      " [  64 1265]]\n",
      "              precision    recall  f1-score   support\n",
      "\n",
      "           0       0.83      0.22      0.34      1419\n",
      "           1       0.53      0.95      0.68      1329\n",
      "\n",
      "   micro avg       0.57      0.57      0.57      2748\n",
      "   macro avg       0.68      0.58      0.51      2748\n",
      "weighted avg       0.69      0.57      0.51      2748\n",
      "\n"
     ]
    }
   ],
   "source": [
    "print('The confusion matrix is:\\n',confusion_matrix(y_val,clf_rf.predict(X_val)))\n",
    "print(classification_report(y_val, clf_rf.predict(X_val)))"
   ]
  },
  {
   "cell_type": "code",
   "execution_count": null,
   "metadata": {},
   "outputs": [],
   "source": []
  },
  {
   "cell_type": "markdown",
   "metadata": {},
   "source": [
    "# Darwin\n"
   ]
  },
  {
   "cell_type": "code",
   "execution_count": 81,
   "metadata": {},
   "outputs": [],
   "source": [
    "import warnings\n",
    "warnings.filterwarnings(\"ignore\", message=\"numpy.dtype size changed\")\n",
    "%matplotlib inline\n",
    "import matplotlib.pyplot as plt\n",
    "import pandas as pd\n",
    "from IPython.display import Image\n",
    "from time import sleep\n",
    "import os\n",
    "import numpy as np\n",
    "from sklearn.metrics import classification_report\n",
    "from amb_sdk.sdk import DarwinSdk"
   ]
  },
  {
   "cell_type": "code",
   "execution_count": 82,
   "metadata": {},
   "outputs": [],
   "source": [
    "ds = DarwinSdk()\n",
    "ds.set_url('https://amb-demo-api.sparkcognition.com/v1/')\n",
    "status, msg = ds.auth_login_user('aifazg92@gmail.com', 'UcLUQHr5N7')"
   ]
  },
  {
   "cell_type": "code",
   "execution_count": 83,
   "metadata": {},
   "outputs": [],
   "source": [
    "data = pd.read_csv(\"Desktop/Speed_Dating_Clean.csv\")"
   ]
  },
  {
   "cell_type": "code",
   "execution_count": 84,
   "metadata": {},
   "outputs": [],
   "source": [
    "\n",
    "#Set your user id and password accordingly\n",
    "USER=\"aifazg92@gmail.com\"\n",
    "PW=\"UcLUQHr5N7\"\n",
    "\n",
    "path = 'Desktop/'"
   ]
  },
  {
   "cell_type": "code",
   "execution_count": 85,
   "metadata": {},
   "outputs": [
    {
     "data": {
      "text/html": [
       "<div>\n",
       "<style scoped>\n",
       "    .dataframe tbody tr th:only-of-type {\n",
       "        vertical-align: middle;\n",
       "    }\n",
       "\n",
       "    .dataframe tbody tr th {\n",
       "        vertical-align: top;\n",
       "    }\n",
       "\n",
       "    .dataframe thead th {\n",
       "        text-align: right;\n",
       "    }\n",
       "</style>\n",
       "<table border=\"1\" class=\"dataframe\">\n",
       "  <thead>\n",
       "    <tr style=\"text-align: right;\">\n",
       "      <th></th>\n",
       "      <th>Unnamed: 0</th>\n",
       "      <th>gender</th>\n",
       "      <th>age</th>\n",
       "      <th>age_o</th>\n",
       "      <th>d_age</th>\n",
       "      <th>d_d_age</th>\n",
       "      <th>race</th>\n",
       "      <th>race_o</th>\n",
       "      <th>samerace</th>\n",
       "      <th>importance_same_race</th>\n",
       "      <th>...</th>\n",
       "      <th>yoga</th>\n",
       "      <th>interests_correlate</th>\n",
       "      <th>expected_happy_with_sd_people</th>\n",
       "      <th>expected_num_matches</th>\n",
       "      <th>like</th>\n",
       "      <th>guess_prob_liked</th>\n",
       "      <th>met</th>\n",
       "      <th>decision</th>\n",
       "      <th>decision_o</th>\n",
       "      <th>match</th>\n",
       "    </tr>\n",
       "  </thead>\n",
       "  <tbody>\n",
       "    <tr>\n",
       "      <th>0</th>\n",
       "      <td>0</td>\n",
       "      <td>female</td>\n",
       "      <td>21.0</td>\n",
       "      <td>27.0</td>\n",
       "      <td>6</td>\n",
       "      <td>[4-6]</td>\n",
       "      <td>asian/pacific islander/asian-american</td>\n",
       "      <td>european/caucasian-american</td>\n",
       "      <td>0</td>\n",
       "      <td>2.0</td>\n",
       "      <td>...</td>\n",
       "      <td>1.0</td>\n",
       "      <td>0.14</td>\n",
       "      <td>3.0</td>\n",
       "      <td>4.0</td>\n",
       "      <td>7.0</td>\n",
       "      <td>6.0</td>\n",
       "      <td>0.0</td>\n",
       "      <td>1</td>\n",
       "      <td>0</td>\n",
       "      <td>0</td>\n",
       "    </tr>\n",
       "    <tr>\n",
       "      <th>1</th>\n",
       "      <td>1</td>\n",
       "      <td>female</td>\n",
       "      <td>21.0</td>\n",
       "      <td>22.0</td>\n",
       "      <td>1</td>\n",
       "      <td>[0-1]</td>\n",
       "      <td>asian/pacific islander/asian-american</td>\n",
       "      <td>european/caucasian-american</td>\n",
       "      <td>0</td>\n",
       "      <td>2.0</td>\n",
       "      <td>...</td>\n",
       "      <td>1.0</td>\n",
       "      <td>0.54</td>\n",
       "      <td>3.0</td>\n",
       "      <td>4.0</td>\n",
       "      <td>7.0</td>\n",
       "      <td>5.0</td>\n",
       "      <td>1.0</td>\n",
       "      <td>1</td>\n",
       "      <td>0</td>\n",
       "      <td>0</td>\n",
       "    </tr>\n",
       "    <tr>\n",
       "      <th>2</th>\n",
       "      <td>2</td>\n",
       "      <td>female</td>\n",
       "      <td>21.0</td>\n",
       "      <td>22.0</td>\n",
       "      <td>1</td>\n",
       "      <td>[0-1]</td>\n",
       "      <td>asian/pacific islander/asian-american</td>\n",
       "      <td>asian/pacific islander/asian-american</td>\n",
       "      <td>1</td>\n",
       "      <td>2.0</td>\n",
       "      <td>...</td>\n",
       "      <td>1.0</td>\n",
       "      <td>0.16</td>\n",
       "      <td>3.0</td>\n",
       "      <td>4.0</td>\n",
       "      <td>7.0</td>\n",
       "      <td>0.0</td>\n",
       "      <td>1.0</td>\n",
       "      <td>1</td>\n",
       "      <td>1</td>\n",
       "      <td>1</td>\n",
       "    </tr>\n",
       "    <tr>\n",
       "      <th>3</th>\n",
       "      <td>3</td>\n",
       "      <td>female</td>\n",
       "      <td>21.0</td>\n",
       "      <td>23.0</td>\n",
       "      <td>2</td>\n",
       "      <td>[2-3]</td>\n",
       "      <td>asian/pacific islander/asian-american</td>\n",
       "      <td>european/caucasian-american</td>\n",
       "      <td>0</td>\n",
       "      <td>2.0</td>\n",
       "      <td>...</td>\n",
       "      <td>1.0</td>\n",
       "      <td>0.61</td>\n",
       "      <td>3.0</td>\n",
       "      <td>4.0</td>\n",
       "      <td>7.0</td>\n",
       "      <td>6.0</td>\n",
       "      <td>0.0</td>\n",
       "      <td>1</td>\n",
       "      <td>1</td>\n",
       "      <td>1</td>\n",
       "    </tr>\n",
       "    <tr>\n",
       "      <th>4</th>\n",
       "      <td>4</td>\n",
       "      <td>female</td>\n",
       "      <td>21.0</td>\n",
       "      <td>24.0</td>\n",
       "      <td>3</td>\n",
       "      <td>[2-3]</td>\n",
       "      <td>asian/pacific islander/asian-american</td>\n",
       "      <td>latino/hispanic american</td>\n",
       "      <td>0</td>\n",
       "      <td>2.0</td>\n",
       "      <td>...</td>\n",
       "      <td>1.0</td>\n",
       "      <td>0.21</td>\n",
       "      <td>3.0</td>\n",
       "      <td>4.0</td>\n",
       "      <td>6.0</td>\n",
       "      <td>6.0</td>\n",
       "      <td>0.0</td>\n",
       "      <td>1</td>\n",
       "      <td>1</td>\n",
       "      <td>1</td>\n",
       "    </tr>\n",
       "  </tbody>\n",
       "</table>\n",
       "<p>5 rows × 67 columns</p>\n",
       "</div>"
      ],
      "text/plain": [
       "   Unnamed: 0  gender   age  age_o  d_age d_d_age  \\\n",
       "0           0  female  21.0   27.0      6   [4-6]   \n",
       "1           1  female  21.0   22.0      1   [0-1]   \n",
       "2           2  female  21.0   22.0      1   [0-1]   \n",
       "3           3  female  21.0   23.0      2   [2-3]   \n",
       "4           4  female  21.0   24.0      3   [2-3]   \n",
       "\n",
       "                                    race  \\\n",
       "0  asian/pacific islander/asian-american   \n",
       "1  asian/pacific islander/asian-american   \n",
       "2  asian/pacific islander/asian-american   \n",
       "3  asian/pacific islander/asian-american   \n",
       "4  asian/pacific islander/asian-american   \n",
       "\n",
       "                                  race_o  samerace  importance_same_race  \\\n",
       "0            european/caucasian-american         0                   2.0   \n",
       "1            european/caucasian-american         0                   2.0   \n",
       "2  asian/pacific islander/asian-american         1                   2.0   \n",
       "3            european/caucasian-american         0                   2.0   \n",
       "4               latino/hispanic american         0                   2.0   \n",
       "\n",
       "   ...    yoga interests_correlate  expected_happy_with_sd_people  \\\n",
       "0  ...     1.0                0.14                            3.0   \n",
       "1  ...     1.0                0.54                            3.0   \n",
       "2  ...     1.0                0.16                            3.0   \n",
       "3  ...     1.0                0.61                            3.0   \n",
       "4  ...     1.0                0.21                            3.0   \n",
       "\n",
       "   expected_num_matches  like  guess_prob_liked  met  decision  decision_o  \\\n",
       "0                   4.0   7.0               6.0  0.0         1           0   \n",
       "1                   4.0   7.0               5.0  1.0         1           0   \n",
       "2                   4.0   7.0               0.0  1.0         1           1   \n",
       "3                   4.0   7.0               6.0  0.0         1           1   \n",
       "4                   4.0   6.0               6.0  0.0         1           1   \n",
       "\n",
       "   match  \n",
       "0      0  \n",
       "1      0  \n",
       "2      1  \n",
       "3      1  \n",
       "4      1  \n",
       "\n",
       "[5 rows x 67 columns]"
      ]
     },
     "execution_count": 85,
     "metadata": {},
     "output_type": "execute_result"
    }
   ],
   "source": [
    "dataset_name = 'Speed_Dating_Clean.csv'\n",
    "df = pd.read_csv(os.path.join(path, dataset_name))\n",
    "df.head()"
   ]
  },
  {
   "cell_type": "code",
   "execution_count": 86,
   "metadata": {},
   "outputs": [
    {
     "name": "stdout",
     "output_type": "stream",
     "text": [
      "400: BAD REQUEST - {\"message\": \"Dataset already exists\"}\n",
      "\n"
     ]
    }
   ],
   "source": [
    "# Upload dataset\n",
    "status, dataset = ds.upload_dataset(os.path.join(path, dataset_name))\n",
    "if not status:\n",
    "    print(dataset)"
   ]
  },
  {
   "cell_type": "code",
   "execution_count": 120,
   "metadata": {},
   "outputs": [
    {
     "name": "stdout",
     "output_type": "stream",
     "text": [
      "{'status': 'Requested', 'starttime': '2019-04-15T13:29:02.708559', 'endtime': None, 'percent_complete': 0, 'job_type': 'CleanDataTiny', 'loss': None, 'generations': None, 'dataset_names': ['Speed_Dating_Clean.csv'], 'artifact_names': ['d03575cb1a194d338b82e9faeb235fac'], 'model_name': None, 'job_error': None}\n",
      "{'status': 'Complete', 'starttime': '2019-04-15T13:29:02.708559', 'endtime': '2019-04-15T13:29:13.1918', 'percent_complete': 100, 'job_type': 'CleanDataTiny', 'loss': None, 'generations': None, 'dataset_names': ['Speed_Dating_Clean.csv'], 'artifact_names': ['d03575cb1a194d338b82e9faeb235fac'], 'model_name': None, 'job_error': ''}\n"
     ]
    }
   ],
   "source": [
    "# clean dataset\n",
    "target = \"match\"\n",
    "status, job_id = ds.clean_data(dataset_name, target = target)\n",
    "\n",
    "if status:\n",
    "    ds.wait_for_job(job_id['job_name'])\n",
    "else:\n",
    "    print(job_id)"
   ]
  },
  {
   "cell_type": "code",
   "execution_count": 123,
   "metadata": {},
   "outputs": [
    {
     "data": {
      "text/plain": [
       "(True,\n",
       "                          col_name  num_uniques     mean    stddev   min   max  \\\n",
       " 0                      Unnamed: 0       8220.0  4212.98   2416.64     0  8377   \n",
       " 1                          gender          2.0     None      None  None  None   \n",
       " 2                             age         25.0  26.3538   3.55999    18    55   \n",
       " 3                           age_o         25.0    26.36    3.5549    18    55   \n",
       " 4                           d_age         32.0  3.83735   3.59464     0    32   \n",
       " 5                         d_d_age          4.0     None      None  None  None   \n",
       " 6                            race          5.0     None      None  None  None   \n",
       " 7                          race_o          5.0     None      None  None  None   \n",
       " 8                        samerace          2.0     None      None  None  None   \n",
       " 9            importance_same_race         11.0     None      None  None  None   \n",
       " 10       importance_same_religion         10.0     None      None  None  None   \n",
       " 11                          field        218.0     None      None  None  None   \n",
       " 12              pref_o_attractive         94.0   22.442   12.5821     0   100   \n",
       " 13                 pref_o_sincere         78.0  17.3763   7.03942     0    60   \n",
       " 14            pref_o_intelligence         65.0  20.2559   6.81667     0    50   \n",
       " 15                   pref_o_funny         71.0   17.405   6.12745     0    50   \n",
       " 16               pref_o_ambitious         82.0  10.6615   6.11619     0    53   \n",
       " 17        pref_o_shared_interests         85.0  11.7809    6.4047     0    30   \n",
       " 18                   attractive_o         18.0  6.06069   2.08369     0  10.5   \n",
       " 19                      sinsere_o         13.0  6.97172   2.03707     0    10   \n",
       " 20                 intelligence_o         17.0  7.14398   1.92224     0    10   \n",
       " 21                        funny_o         17.0  6.17184   2.19474     0    11   \n",
       " 22                     ambitous_o         14.0  6.28443   2.35687     0    10   \n",
       " 23             shared_interests_o         15.0  4.89422   2.50398     0    10   \n",
       " 24           attractive_important         94.0  22.4888   12.5835     0   100   \n",
       " 25              sincere_important         78.0   17.397   7.02028     0    60   \n",
       " 26         intellicence_important         65.0  20.2754   6.78415     0    50   \n",
       " 27                funny_important         71.0  17.4226   6.09993     0    50   \n",
       " 28            ambtition_important         82.0  10.6714   6.10439     0    53   \n",
       " 29     shared_interests_important         85.0  11.7967   6.38758     0    30   \n",
       " ..                            ...          ...      ...       ...   ...   ...   \n",
       " 37           intelligence_partner         17.0  7.15103   1.91091     0    10   \n",
       " 38                  funny_partner         16.0  6.17841   2.18805     0    10   \n",
       " 39               ambition_partner         14.0  6.29063   2.35034     0    10   \n",
       " 40       shared_interests_partner         15.0  4.89884   2.50183     0    10   \n",
       " 41                         sports         10.0     None      None  None  None   \n",
       " 42                       tvsports         10.0     None      None  None  None   \n",
       " 43                       exercise         10.0     None      None  None  None   \n",
       " 44                         dining         10.0     None      None  None  None   \n",
       " 45                        museums         11.0     None      None  None  None   \n",
       " 46                            art         11.0     None      None  None  None   \n",
       " 47                         hiking         11.0     None      None  None  None   \n",
       " 48                         gaming         12.0     None      None  None  None   \n",
       " 49                       clubbing         11.0     None      None  None  None   \n",
       " 50                        reading         11.0     None      None  None  None   \n",
       " 51                             tv         10.0     None      None  None  None   \n",
       " 52                        theater         11.0     None      None  None  None   \n",
       " 53                         movies         10.0     None      None  None  None   \n",
       " 54                       concerts         11.0     None      None  None  None   \n",
       " 55                          music         10.0     None      None  None  None   \n",
       " 56                       shopping         10.0     None      None  None  None   \n",
       " 57                           yoga         11.0     None      None  None  None   \n",
       " 58            interests_correlate        155.0  0.19601  0.303539 -0.83  0.91   \n",
       " 59  expected_happy_with_sd_people         11.0  5.53026   1.73061     1    10   \n",
       " 60           expected_num_matches         17.0  2.76026   2.53521     0    18   \n",
       " 61                           like         18.0  5.96395   2.06845     0    10   \n",
       " 62               guess_prob_liked         19.0  5.02007   2.29905     0    10   \n",
       " 63                            met          7.0     None      None  None  None   \n",
       " 64                       decision          2.0     None      None  None  None   \n",
       " 65                     decision_o          2.0     None      None  None  None   \n",
       " 66                          match          2.0     None      None  None  None   \n",
       " \n",
       "    col_type  missing  scalable  is_cat   drop  target  \\\n",
       " 0     int64      0.0      True   False  False   False   \n",
       " 1       str      0.0     False    True  False   False   \n",
       " 2   float64      0.0      True   False  False   False   \n",
       " 3   float64      0.0      True   False  False   False   \n",
       " 4     int64      0.0      True   False  False   False   \n",
       " 5       str      0.0     False    True  False   False   \n",
       " 6       str      0.0     False    True  False   False   \n",
       " 7       str      0.0     False    True  False   False   \n",
       " 8       str      0.0     False    True  False   False   \n",
       " 9       str      0.0     False    True  False   False   \n",
       " 10      str      0.0     False    True  False   False   \n",
       " 11      str      0.0     False    True   True   False   \n",
       " 12  float64      0.0      True   False  False   False   \n",
       " 13  float64      0.0      True   False  False   False   \n",
       " 14  float64      0.0      True   False  False   False   \n",
       " 15  float64      0.0      True   False  False   False   \n",
       " 16  float64      0.0      True   False  False   False   \n",
       " 17  float64      0.0      True   False  False   False   \n",
       " 18  float64      0.0      True   False  False   False   \n",
       " 19  float64      0.0      True   False  False   False   \n",
       " 20  float64      0.0      True   False  False   False   \n",
       " 21  float64      0.0      True   False  False   False   \n",
       " 22  float64      0.0      True   False  False   False   \n",
       " 23  float64      0.0      True   False  False   False   \n",
       " 24  float64      0.0      True   False  False   False   \n",
       " 25  float64      0.0      True   False  False   False   \n",
       " 26  float64      0.0      True   False  False   False   \n",
       " 27  float64      0.0      True   False  False   False   \n",
       " 28  float64      0.0      True   False  False   False   \n",
       " 29  float64      0.0      True   False  False   False   \n",
       " ..      ...      ...       ...     ...    ...     ...   \n",
       " 37  float64      0.0      True   False  False   False   \n",
       " 38  float64      0.0      True   False  False   False   \n",
       " 39  float64      0.0      True   False  False   False   \n",
       " 40  float64      0.0      True   False  False   False   \n",
       " 41      str      0.0     False    True  False   False   \n",
       " 42      str      0.0     False    True  False   False   \n",
       " 43      str      0.0     False    True  False   False   \n",
       " 44      str      0.0     False    True  False   False   \n",
       " 45      str      0.0     False    True  False   False   \n",
       " 46      str      0.0     False    True  False   False   \n",
       " 47      str      0.0     False    True  False   False   \n",
       " 48      str      0.0     False    True  False   False   \n",
       " 49      str      0.0     False    True  False   False   \n",
       " 50      str      0.0     False    True  False   False   \n",
       " 51      str      0.0     False    True  False   False   \n",
       " 52      str      0.0     False    True  False   False   \n",
       " 53      str      0.0     False    True  False   False   \n",
       " 54      str      0.0     False    True  False   False   \n",
       " 55      str      0.0     False    True  False   False   \n",
       " 56      str      0.0     False    True  False   False   \n",
       " 57      str      0.0     False    True  False   False   \n",
       " 58  float64      0.0      True   False  False   False   \n",
       " 59  float64      0.0      True   False  False   False   \n",
       " 60  float64      0.0      True   False  False   False   \n",
       " 61  float64      0.0      True   False  False   False   \n",
       " 62  float64      0.0      True   False  False   False   \n",
       " 63      str      0.0     False    True  False   False   \n",
       " 64      str      0.0     False    True  False   False   \n",
       " 65      str      0.0     False    True  False   False   \n",
       " 66      str      0.0     False    True  False    True   \n",
       " \n",
       "                                               uniques  \n",
       " 0                                                None  \n",
       " 1                                         female,male  \n",
       " 2                                                None  \n",
       " 3                                                None  \n",
       " 4                                                None  \n",
       " 5                            [0-1],[2-3],[4-6],[7-37]  \n",
       " 6   asian/pacific islander/asian-american,black/af...  \n",
       " 7   asian/pacific islander/asian-american,black/af...  \n",
       " 8                                                 0,1  \n",
       " 9        0.0,1.0,2.0,3.0,4.0,5.0,6.0,7.0,8.0,9.0,10.0  \n",
       " 10           1.0,2.0,3.0,4.0,5.0,6.0,7.0,8.0,9.0,10.0  \n",
       " 11  acting,african-american studies/history,americ...  \n",
       " 12                                               None  \n",
       " 13                                               None  \n",
       " 14                                               None  \n",
       " 15                                               None  \n",
       " 16                                               None  \n",
       " 17                                               None  \n",
       " 18                                               None  \n",
       " 19                                               None  \n",
       " 20                                               None  \n",
       " 21                                               None  \n",
       " 22                                               None  \n",
       " 23                                               None  \n",
       " 24                                               None  \n",
       " 25                                               None  \n",
       " 26                                               None  \n",
       " 27                                               None  \n",
       " 28                                               None  \n",
       " 29                                               None  \n",
       " ..                                                ...  \n",
       " 37                                               None  \n",
       " 38                                               None  \n",
       " 39                                               None  \n",
       " 40                                               None  \n",
       " 41           1.0,2.0,3.0,4.0,5.0,6.0,7.0,8.0,9.0,10.0  \n",
       " 42           1.0,2.0,3.0,4.0,5.0,6.0,7.0,8.0,9.0,10.0  \n",
       " 43           1.0,2.0,3.0,4.0,5.0,6.0,7.0,8.0,9.0,10.0  \n",
       " 44           1.0,2.0,3.0,4.0,5.0,6.0,7.0,8.0,9.0,10.0  \n",
       " 45       0.0,1.0,2.0,3.0,4.0,5.0,6.0,7.0,8.0,9.0,10.0  \n",
       " 46       0.0,1.0,2.0,3.0,4.0,5.0,6.0,7.0,8.0,9.0,10.0  \n",
       " 47       0.0,1.0,2.0,3.0,4.0,5.0,6.0,7.0,8.0,9.0,10.0  \n",
       " 48  0.0,1.0,2.0,3.0,4.0,5.0,6.0,7.0,8.0,9.0,10.0,14.0  \n",
       " 49       0.0,1.0,2.0,3.0,4.0,5.0,6.0,7.0,8.0,9.0,10.0  \n",
       " 50      1.0,2.0,3.0,4.0,5.0,6.0,7.0,8.0,9.0,10.0,13.0  \n",
       " 51           1.0,2.0,3.0,4.0,5.0,6.0,7.0,8.0,9.0,10.0  \n",
       " 52       0.0,1.0,2.0,3.0,4.0,5.0,6.0,7.0,8.0,9.0,10.0  \n",
       " 53           0.0,2.0,3.0,4.0,5.0,6.0,7.0,8.0,9.0,10.0  \n",
       " 54       0.0,1.0,2.0,3.0,4.0,5.0,6.0,7.0,8.0,9.0,10.0  \n",
       " 55           1.0,2.0,3.0,4.0,5.0,6.0,7.0,8.0,9.0,10.0  \n",
       " 56           1.0,2.0,3.0,4.0,5.0,6.0,7.0,8.0,9.0,10.0  \n",
       " 57       0.0,1.0,2.0,3.0,4.0,5.0,6.0,7.0,8.0,9.0,10.0  \n",
       " 58                                               None  \n",
       " 59                                               None  \n",
       " 60                                               None  \n",
       " 61                                               None  \n",
       " 62                                               None  \n",
       " 63                        0.0,1.0,3.0,5.0,6.0,7.0,8.0  \n",
       " 64                                                0,1  \n",
       " 65                                                0,1  \n",
       " 66                                                0,1  \n",
       " \n",
       " [67 rows x 13 columns])"
      ]
     },
     "execution_count": 123,
     "metadata": {},
     "output_type": "execute_result"
    }
   ],
   "source": [
    "ds.download_artifact('d03575cb1a194d338b82e9faeb235fac')"
   ]
  },
  {
   "cell_type": "code",
   "execution_count": 88,
   "metadata": {},
   "outputs": [
    {
     "name": "stdout",
     "output_type": "stream",
     "text": [
      "400: BAD REQUEST - {\"message\": \"A model with this name already exists\"}\n",
      "\n"
     ]
    }
   ],
   "source": [
    "model = target + \"_model0\"\n",
    "status, job_id = ds.create_model(dataset_names = dataset_name, \\\n",
    "                                 model_name =  model, \\\n",
    "                                 max_train_time = '00:02')\n",
    "if status:\n",
    "    ds.wait_for_job(job_id['job_name'])\n",
    "else:\n",
    "    print(job_id)"
   ]
  },
  {
   "cell_type": "code",
   "execution_count": 109,
   "metadata": {},
   "outputs": [
    {
     "name": "stdout",
     "output_type": "stream",
     "text": [
      "{'status': 'Running', 'starttime': '2019-04-15T13:16:53.255258', 'endtime': None, 'percent_complete': 0, 'job_type': 'AnalyzeModel', 'loss': 0.3134501576423645, 'generations': 2, 'dataset_names': None, 'artifact_names': ['a08de1e9400f4f4b92e31e285a96d83c'], 'model_name': 'match_model0', 'job_error': ''}\n",
      "{'status': 'Complete', 'starttime': '2019-04-15T13:16:53.255258', 'endtime': '2019-04-15T13:16:55.582674', 'percent_complete': 100, 'job_type': 'AnalyzeModel', 'loss': 0.3134501576423645, 'generations': 2, 'dataset_names': None, 'artifact_names': ['a08de1e9400f4f4b92e31e285a96d83c'], 'model_name': 'match_model0', 'job_error': ''}\n"
     ]
    }
   ],
   "source": [
    "# Retrieve feature importance of built model\n",
    "status, artifact = ds.analyze_model(model)\n",
    "sleep(1)\n",
    "if status:\n",
    "    ds.wait_for_job(artifact['job_name'])\n",
    "else:\n",
    "    print(artifact)\n",
    "status, feature_importance = ds.download_artifact(artifact['artifact_name'])"
   ]
  },
  {
   "cell_type": "code",
   "execution_count": 110,
   "metadata": {},
   "outputs": [
    {
     "data": {
      "text/plain": [
       "(True,\n",
       " {'job_name': '551621ad18684c829d5fda28373e9b48',\n",
       "  'artifact_name': '6092216cd9e044a7bca624c3e7130736'})"
      ]
     },
     "execution_count": 110,
     "metadata": {},
     "output_type": "execute_result"
    }
   ],
   "source": [
    "ds.analyze_data(dataset_name)"
   ]
  },
  {
   "cell_type": "code",
   "execution_count": 111,
   "metadata": {},
   "outputs": [
    {
     "data": {
      "text/plain": [
       "(True,                             col_name num_uniques                 mean  \\\n",
       " 0                           has_null           2   0.8749104798281213   \n",
       " 1                               wave          21   11.350919073764622   \n",
       " 2                             gender           2                 None   \n",
       " 3                                age          26                 None   \n",
       " 4                              age_o          26                 None   \n",
       " 5                              d_age          35      4.1856051563619   \n",
       " 6                            d_d_age           4                 None   \n",
       " 7                               race           6                 None   \n",
       " 8                             race_o           6                 None   \n",
       " 9                           samerace           2   0.3957985199331583   \n",
       " 10              importance_same_race          12                 None   \n",
       " 11          importance_same_religion          11                 None   \n",
       " 12            d_importance_same_race           3                 None   \n",
       " 13        d_importance_same_religion           3                 None   \n",
       " 14                             field         265                 None   \n",
       " 15                 pref_o_attractive          89                 None   \n",
       " 16                    pref_o_sincere          73                 None   \n",
       " 17               pref_o_intelligence          62                 None   \n",
       " 18                      pref_o_funny          70                 None   \n",
       " 19                  pref_o_ambitious          85                 None   \n",
       " 20           pref_o_shared_interests          86                 None   \n",
       " 21               d_pref_o_attractive           3                 None   \n",
       " 22                  d_pref_o_sincere           3                 None   \n",
       " 23             d_pref_o_intelligence           3                 None   \n",
       " 24                    d_pref_o_funny           3                 None   \n",
       " 25                d_pref_o_ambitious           3                 None   \n",
       " 26         d_pref_o_shared_interests           3                 None   \n",
       " 27                      attractive_o          19                 None   \n",
       " 28                         sinsere_o          15                 None   \n",
       " 29                    intelligence_o          18                 None   \n",
       " ..                               ...         ...                  ...   \n",
       " 93                          d_dining           3                 None   \n",
       " 94                         d_museums           3                 None   \n",
       " 95                             d_art           3                 None   \n",
       " 96                          d_hiking           3                 None   \n",
       " 97                          d_gaming           3                 None   \n",
       " 98                        d_clubbing           3                 None   \n",
       " 99                         d_reading           3                 None   \n",
       " 100                             d_tv           3                 None   \n",
       " 101                        d_theater           3                 None   \n",
       " 102                         d_movies           3                 None   \n",
       " 103                       d_concerts           3                 None   \n",
       " 104                          d_music           3                 None   \n",
       " 105                       d_shopping           3                 None   \n",
       " 106                           d_yoga           3                 None   \n",
       " 107              interests_correlate         150                 None   \n",
       " 108            d_interests_correlate           3                 None   \n",
       " 109    expected_happy_with_sd_people          11                 None   \n",
       " 110    expected_num_interested_in_me          19                 None   \n",
       " 111             expected_num_matches          18                 None   \n",
       " 112  d_expected_happy_with_sd_people           3                 None   \n",
       " 113  d_expected_num_interested_in_me           3                 None   \n",
       " 114           d_expected_num_matches           3                 None   \n",
       " 115                             like          19                 None   \n",
       " 116                 guess_prob_liked          20                 None   \n",
       " 117                           d_like           3                 None   \n",
       " 118               d_guess_prob_liked           3                 None   \n",
       " 119                              met           8                 None   \n",
       " 120                         decision           2  0.41990928622582957   \n",
       " 121                       decision_o           2  0.41955120553831465   \n",
       " 122                            match           2  0.16471711625686322   \n",
       " \n",
       "                   stddev   min   max     col_type  missing  \\\n",
       " 0     0.3308401376985741     0     1  IntegerType      0.0   \n",
       " 1      5.995903041209954     1    21  IntegerType      0.0   \n",
       " 2                   None  None  None   StringType      0.0   \n",
       " 3                   None  None  None   StringType      0.0   \n",
       " 4                   None  None  None   StringType      0.0   \n",
       " 5      4.596171468392848     0    37  IntegerType      0.0   \n",
       " 6                   None  None  None   StringType      0.0   \n",
       " 7                   None  None  None   StringType      0.0   \n",
       " 8                   None  None  None   StringType      0.0   \n",
       " 9     0.4890507121039581     0     1  IntegerType      0.0   \n",
       " 10                  None  None  None   StringType      0.0   \n",
       " 11                  None  None  None   StringType      0.0   \n",
       " 12                  None  None  None   StringType      0.0   \n",
       " 13                  None  None  None   StringType      0.0   \n",
       " 14                  None  None  None   StringType      0.0   \n",
       " 15                  None  None  None   StringType      0.0   \n",
       " 16                  None  None  None   StringType      0.0   \n",
       " 17                  None  None  None   StringType      0.0   \n",
       " 18                  None  None  None   StringType      0.0   \n",
       " 19                  None  None  None   StringType      0.0   \n",
       " 20                  None  None  None   StringType      0.0   \n",
       " 21                  None  None  None   StringType      0.0   \n",
       " 22                  None  None  None   StringType      0.0   \n",
       " 23                  None  None  None   StringType      0.0   \n",
       " 24                  None  None  None   StringType      0.0   \n",
       " 25                  None  None  None   StringType      0.0   \n",
       " 26                  None  None  None   StringType      0.0   \n",
       " 27                  None  None  None   StringType      0.0   \n",
       " 28                  None  None  None   StringType      0.0   \n",
       " 29                  None  None  None   StringType      0.0   \n",
       " ..                   ...   ...   ...          ...      ...   \n",
       " 93                  None  None  None   StringType      0.0   \n",
       " 94                  None  None  None   StringType      0.0   \n",
       " 95                  None  None  None   StringType      0.0   \n",
       " 96                  None  None  None   StringType      0.0   \n",
       " 97                  None  None  None   StringType      0.0   \n",
       " 98                  None  None  None   StringType      0.0   \n",
       " 99                  None  None  None   StringType      0.0   \n",
       " 100                 None  None  None   StringType      0.0   \n",
       " 101                 None  None  None   StringType      0.0   \n",
       " 102                 None  None  None   StringType      0.0   \n",
       " 103                 None  None  None   StringType      0.0   \n",
       " 104                 None  None  None   StringType      0.0   \n",
       " 105                 None  None  None   StringType      0.0   \n",
       " 106                 None  None  None   StringType      0.0   \n",
       " 107                 None  None  None   StringType      0.0   \n",
       " 108                 None  None  None   StringType      0.0   \n",
       " 109                 None  None  None   StringType      0.0   \n",
       " 110                 None  None  None   StringType      0.0   \n",
       " 111                 None  None  None   StringType      0.0   \n",
       " 112                 None  None  None   StringType      0.0   \n",
       " 113                 None  None  None   StringType      0.0   \n",
       " 114                 None  None  None   StringType      0.0   \n",
       " 115                 None  None  None   StringType      0.0   \n",
       " 116                 None  None  None   StringType      0.0   \n",
       " 117                 None  None  None   StringType      0.0   \n",
       " 118                 None  None  None   StringType      0.0   \n",
       " 119                 None  None  None   StringType      0.0   \n",
       " 120   0.4935732523712289     0     1  IntegerType      0.0   \n",
       " 121  0.49351500736700754     0     1  IntegerType      0.0   \n",
       " 122   0.3709471822951446     0     1  IntegerType      0.0   \n",
       " \n",
       "     num_with_str_outlier scalable is_cat notes   drop target  \\\n",
       " 0                  False    False   True        False  False   \n",
       " 1                  False     True  False        False  False   \n",
       " 2                  False    False   True        False  False   \n",
       " 3                  False    False   True        False  False   \n",
       " 4                  False    False   True        False  False   \n",
       " 5                  False     True  False        False  False   \n",
       " 6                  False    False   True        False  False   \n",
       " 7                  False    False   True        False  False   \n",
       " 8                  False    False   True        False  False   \n",
       " 9                  False    False   True        False  False   \n",
       " 10                 False    False   True        False  False   \n",
       " 11                 False    False   True        False  False   \n",
       " 12                 False    False   True        False  False   \n",
       " 13                 False    False   True        False  False   \n",
       " 14                 False    False   True         True  False   \n",
       " 15                  True    False   True         True  False   \n",
       " 16                  True    False   True         True  False   \n",
       " 17                  True    False   True         True  False   \n",
       " 18                  True    False   True         True  False   \n",
       " 19                  True    False   True         True  False   \n",
       " 20                  True    False   True         True  False   \n",
       " 21                 False    False   True        False  False   \n",
       " 22                 False    False   True        False  False   \n",
       " 23                 False    False   True        False  False   \n",
       " 24                 False    False   True        False  False   \n",
       " 25                 False    False   True        False  False   \n",
       " 26                 False    False   True        False  False   \n",
       " 27                 False    False   True        False  False   \n",
       " 28                 False    False   True        False  False   \n",
       " 29                 False    False   True        False  False   \n",
       " ..                   ...      ...    ...   ...    ...    ...   \n",
       " 93                 False    False   True        False  False   \n",
       " 94                 False    False   True        False  False   \n",
       " 95                 False    False   True        False  False   \n",
       " 96                 False    False   True        False  False   \n",
       " 97                 False    False   True        False  False   \n",
       " 98                 False    False   True        False  False   \n",
       " 99                 False    False   True        False  False   \n",
       " 100                False    False   True        False  False   \n",
       " 101                False    False   True        False  False   \n",
       " 102                False    False   True        False  False   \n",
       " 103                False    False   True        False  False   \n",
       " 104                False    False   True        False  False   \n",
       " 105                False    False   True        False  False   \n",
       " 106                False    False   True        False  False   \n",
       " 107                 True    False   True         True  False   \n",
       " 108                False    False   True        False  False   \n",
       " 109                False    False   True        False  False   \n",
       " 110                False    False   True        False  False   \n",
       " 111                False    False   True        False  False   \n",
       " 112                False    False   True        False  False   \n",
       " 113                False    False   True        False  False   \n",
       " 114                False    False   True        False  False   \n",
       " 115                False    False   True        False  False   \n",
       " 116                False    False   True        False  False   \n",
       " 117                False    False   True        False  False   \n",
       " 118                False    False   True        False  False   \n",
       " 119                False    False   True        False  False   \n",
       " 120                False    False   True        False  False   \n",
       " 121                False    False   True        False  False   \n",
       " 122                False    False   True        False  False   \n",
       " \n",
       "                                                uniques  \n",
       " 0                                           ['0', '1']  \n",
       " 1    ['1', '10', '11', '12', '13', '14', '15', '16'...  \n",
       " 2                                   ['female', 'male']  \n",
       " 3    ['18', '19', '20', '21', '22', '23', '24', '25...  \n",
       " 4    ['18', '19', '20', '21', '22', '23', '24', '25...  \n",
       " 5    ['0', '1', '10', '11', '12', '13', '14', '15',...  \n",
       " 6                ['[0-1]', '[2-3]', '[4-6]', '[7-37]']  \n",
       " 7    [\"'Asian/Pacific Islander/Asian-American'\", \"'...  \n",
       " 8    [\"'Asian/Pacific Islander/Asian-American'\", \"'...  \n",
       " 9                                           ['0', '1']  \n",
       " 10   ['0', '1', '10', '2', '3', '4', '5', '6', '7',...  \n",
       " 11   ['1', '10', '2', '3', '4', '5', '6', '7', '8',...  \n",
       " 12                        ['[0-1]', '[2-5]', '[6-10]']  \n",
       " 13                        ['[0-1]', '[2-5]', '[6-10]']  \n",
       " 14                                                None  \n",
       " 15                                                None  \n",
       " 16                                                None  \n",
       " 17                                                None  \n",
       " 18                                                None  \n",
       " 19                                                None  \n",
       " 20                                                None  \n",
       " 21                   ['[0-15]', '[16-20]', '[21-100]']  \n",
       " 22                   ['[0-15]', '[16-20]', '[21-100]']  \n",
       " 23                   ['[0-15]', '[16-20]', '[21-100]']  \n",
       " 24                   ['[0-15]', '[16-20]', '[21-100]']  \n",
       " 25                   ['[0-15]', '[16-20]', '[21-100]']  \n",
       " 26                   ['[0-15]', '[16-20]', '[21-100]']  \n",
       " 27   ['0', '1', '10', '10.5', '2', '3', '3.5', '4',...  \n",
       " 28   ['0', '1', '10', '2', '3', '4', '4.5', '5', '6...  \n",
       " 29   ['0', '1', '10', '2', '2.5', '3', '4', '5', '5...  \n",
       " ..                                                 ...  \n",
       " 93                        ['[0-5]', '[6-8]', '[9-10]']  \n",
       " 94                        ['[0-5]', '[6-8]', '[9-10]']  \n",
       " 95                        ['[0-5]', '[6-8]', '[9-10]']  \n",
       " 96                        ['[0-5]', '[6-8]', '[9-10]']  \n",
       " 97                        ['[0-5]', '[6-8]', '[9-10]']  \n",
       " 98                        ['[0-5]', '[6-8]', '[9-10]']  \n",
       " 99                        ['[0-5]', '[6-8]', '[9-10]']  \n",
       " 100                       ['[0-5]', '[6-8]', '[9-10]']  \n",
       " 101                       ['[0-5]', '[6-8]', '[9-10]']  \n",
       " 102                       ['[0-5]', '[6-8]', '[9-10]']  \n",
       " 103                       ['[0-5]', '[6-8]', '[9-10]']  \n",
       " 104                       ['[0-5]', '[6-8]', '[9-10]']  \n",
       " 105                       ['[0-5]', '[6-8]', '[9-10]']  \n",
       " 106                       ['[0-5]', '[6-8]', '[9-10]']  \n",
       " 107                                               None  \n",
       " 108                 ['[-1-0]', '[0-0.33]', '[0.33-1]']  \n",
       " 109  ['1', '10', '2', '3', '4', '5', '6', '7', '8',...  \n",
       " 110  ['0', '1', '10', '12', '13', '14', '15', '18',...  \n",
       " 111  ['0', '0.5', '1', '1.5', '10', '12', '18', '2'...  \n",
       " 112                       ['[0-4]', '[5-6]', '[7-10]']  \n",
       " 113                      ['[0-3]', '[10-20]', '[4-9]']  \n",
       " 114                       ['[0-2]', '[3-5]', '[5-18]']  \n",
       " 115  ['0', '1', '10', '2', '3', '4', '4.5', '5', '5...  \n",
       " 116  ['0', '1', '1.5', '10', '2', '3', '3.5', '4', ...  \n",
       " 117                       ['[0-5]', '[6-8]', '[9-10]']  \n",
       " 118                       ['[0-4]', '[5-6]', '[7-10]']  \n",
       " 119           ['0', '1', '3', '5', '6', '7', '8', '?']  \n",
       " 120                                         ['0', '1']  \n",
       " 121                                         ['0', '1']  \n",
       " 122                                         ['0', '1']  \n",
       " \n",
       " [123 rows x 15 columns])"
      ]
     },
     "execution_count": 111,
     "metadata": {},
     "output_type": "execute_result"
    }
   ],
   "source": [
    "x = ds.download_artifact('1326a0468e844069bfa8fe3924849c4f')\n",
    "x"
   ]
  },
  {
   "cell_type": "code",
   "execution_count": 112,
   "metadata": {},
   "outputs": [
    {
     "data": {
      "text/plain": [
       "decision = 1                0.151136\n",
       "decision_o = 1              0.150688\n",
       "attractive_o                0.037410\n",
       "like                        0.035350\n",
       "attractive_partner          0.026821\n",
       "funny_o                     0.026815\n",
       "shared_interests_partner    0.024594\n",
       "funny_partner               0.022081\n",
       "shared_interests_o          0.020114\n",
       "interests_correlate         0.013716\n",
       "dtype: float64"
      ]
     },
     "execution_count": 112,
     "metadata": {},
     "output_type": "execute_result"
    }
   ],
   "source": [
    "feature_importance[:10]"
   ]
  },
  {
   "cell_type": "code",
   "execution_count": 117,
   "metadata": {},
   "outputs": [
    {
     "name": "stdout",
     "output_type": "stream",
     "text": [
      "{'status': 'Running', 'starttime': '2019-04-15T13:21:50.210044', 'endtime': None, 'percent_complete': 0, 'job_type': 'RunModel', 'loss': 0.3134501576423645, 'generations': 2, 'dataset_names': ['Speed_Dating_Clean.csv'], 'artifact_names': ['ed53e7ed953848efbe04e214eb098363'], 'model_name': 'match_model0', 'job_error': ''}\n",
      "{'status': 'Complete', 'starttime': '2019-04-15T13:21:50.210044', 'endtime': '2019-04-15T13:21:52.530554', 'percent_complete': 100, 'job_type': 'RunModel', 'loss': 0.3134501576423645, 'generations': 2, 'dataset_names': ['Speed_Dating_Clean.csv'], 'artifact_names': ['ed53e7ed953848efbe04e214eb098363'], 'model_name': 'match_model0', 'job_error': ''}\n",
      "(True, 'Job completed')\n"
     ]
    }
   ],
   "source": [
    "import time\n",
    "import datetime\n",
    "status, artifact = ds.run_model(dataset_name, model)\n",
    "sleep(1)\n",
    "stats = ds.wait_for_job(artifact['job_name'])\n",
    "print(stats)\n"
   ]
  },
  {
   "cell_type": "code",
   "execution_count": 114,
   "metadata": {},
   "outputs": [
    {
     "data": {
      "text/html": [
       "<div>\n",
       "<style scoped>\n",
       "    .dataframe tbody tr th:only-of-type {\n",
       "        vertical-align: middle;\n",
       "    }\n",
       "\n",
       "    .dataframe tbody tr th {\n",
       "        vertical-align: top;\n",
       "    }\n",
       "\n",
       "    .dataframe thead th {\n",
       "        text-align: right;\n",
       "    }\n",
       "</style>\n",
       "<table border=\"1\" class=\"dataframe\">\n",
       "  <thead>\n",
       "    <tr style=\"text-align: right;\">\n",
       "      <th></th>\n",
       "      <th>match</th>\n",
       "      <th>prob_0</th>\n",
       "      <th>prob_1</th>\n",
       "    </tr>\n",
       "  </thead>\n",
       "  <tbody>\n",
       "    <tr>\n",
       "      <th>0</th>\n",
       "      <td>0</td>\n",
       "      <td>0.999942</td>\n",
       "      <td>0.000058</td>\n",
       "    </tr>\n",
       "    <tr>\n",
       "      <th>1</th>\n",
       "      <td>0</td>\n",
       "      <td>0.999921</td>\n",
       "      <td>0.000079</td>\n",
       "    </tr>\n",
       "    <tr>\n",
       "      <th>2</th>\n",
       "      <td>1</td>\n",
       "      <td>0.000029</td>\n",
       "      <td>0.999971</td>\n",
       "    </tr>\n",
       "    <tr>\n",
       "      <th>3</th>\n",
       "      <td>1</td>\n",
       "      <td>0.000028</td>\n",
       "      <td>0.999972</td>\n",
       "    </tr>\n",
       "    <tr>\n",
       "      <th>4</th>\n",
       "      <td>1</td>\n",
       "      <td>0.000043</td>\n",
       "      <td>0.999957</td>\n",
       "    </tr>\n",
       "  </tbody>\n",
       "</table>\n",
       "</div>"
      ],
      "text/plain": [
       "   match    prob_0    prob_1\n",
       "0      0  0.999942  0.000058\n",
       "1      0  0.999921  0.000079\n",
       "2      1  0.000029  0.999971\n",
       "3      1  0.000028  0.999972\n",
       "4      1  0.000043  0.999957"
      ]
     },
     "execution_count": 114,
     "metadata": {},
     "output_type": "execute_result"
    }
   ],
   "source": [
    "status, prediction = ds.download_artifact(artifact['artifact_name'])\n",
    "prediction.head()"
   ]
  },
  {
   "cell_type": "code",
   "execution_count": 115,
   "metadata": {},
   "outputs": [
    {
     "name": "stdout",
     "output_type": "stream",
     "text": [
      "              precision    recall  f1-score   support\n",
      "\n",
      "           0       1.00      1.00      1.00      6870\n",
      "           1       1.00      1.00      1.00      1350\n",
      "\n",
      "   micro avg       1.00      1.00      1.00      8220\n",
      "   macro avg       1.00      1.00      1.00      8220\n",
      "weighted avg       1.00      1.00      1.00      8220\n",
      "\n",
      "Accuracy: 1.0\n"
     ]
    },
    {
     "data": {
      "image/png": "[encoded data removed]",
      "text/plain": [
       "<Figure size 432x288 with 1 Axes>"
      ]
     },
     "metadata": {
      "needs_background": "light"
     },
     "output_type": "display_data"
    }
   ],
   "source": [
    "\n",
    "unq = prediction[target].unique()[::-1]\n",
    "p = np.zeros((len(prediction),))\n",
    "a = np.zeros((len(prediction),))\n",
    "for i,q in enumerate(unq):\n",
    "    p += i*(prediction[target] == q).values\n",
    "    a += i*(df[target] == q).values\n",
    "#Plot predictions vs actual\n",
    "plt.plot(a)\n",
    "plt.plot(p)\n",
    "plt.legend(['Actual','Predicted'])\n",
    "plt.yticks([i for i in range(len(unq))],[q for q in unq]);\n",
    "print(classification_report(df[target], prediction[target]))\n",
    "\n",
    "from sklearn.metrics import accuracy_score\n",
    "print('Accuracy:',accuracy_score(df[target], prediction[target]))"
   ]
  },
  {
   "cell_type": "code",
   "execution_count": 96,
   "metadata": {},
   "outputs": [
    {
     "name": "stdout",
     "output_type": "stream",
     "text": [
      "[{'layer 1': {'type': 'LinearGene', 'parameters': {'activation': 'relu', 'numunits': 288}}}, {'layer 2': {'type': 'LinearGene', 'parameters': {'activation': 'relu', 'numunits': 2}}}]\n"
     ]
    }
   ],
   "source": [
    "status, model_type = ds.lookup_model_name(model)\n",
    "print(model_type['description']['best_genome'])"
   ]
  },
  {
   "cell_type": "code",
   "execution_count": 97,
   "metadata": {},
   "outputs": [
    {
     "data": {
      "text/plain": [
       "(True,\n",
       " {'job_name': '5a61b7d60e9a4067b8610bcf2d322e33',\n",
       "  'artifact_name': 'd918bf9168bb46f19fc20d36a2be6ce0'})"
      ]
     },
     "execution_count": 97,
     "metadata": {},
     "output_type": "execute_result"
    }
   ],
   "source": [
    "ds.analyze_model(model)"
   ]
  },
  {
   "cell_type": "code",
   "execution_count": 98,
   "metadata": {},
   "outputs": [
    {
     "data": {
      "text/plain": [
       "(True, decision_o = 1                     0.188584\n",
       " decision = 1                       0.166514\n",
       " attractive_o                       0.033629\n",
       " like                               0.028728\n",
       " attractive_partner                 0.024234\n",
       " shared_interests_o                 0.022989\n",
       " funny_o                            0.021268\n",
       " funny_partner                      0.020290\n",
       " shared_interests_partner           0.019825\n",
       " guess_prob_liked                   0.018248\n",
       " Unnamed: 0                         0.013655\n",
       " interests_correlate                0.011781\n",
       " pref_o_shared_interests            0.010881\n",
       " sincere_partner                    0.010745\n",
       " intelligence_partner               0.010582\n",
       " pref_o_attractive                  0.010390\n",
       " age_o                              0.010274\n",
       " ambitous_o                         0.009832\n",
       " sinsere_o                          0.009793\n",
       " pref_o_funny                       0.009783\n",
       " intelligence_o                     0.009314\n",
       " pref_o_sincere                     0.009290\n",
       " ambition_partner                   0.009002\n",
       " pref_o_intelligence                0.008694\n",
       " shared_interests_important         0.008655\n",
       " pref_o_ambitious                   0.008467\n",
       " d_age                              0.007824\n",
       " expected_num_matches               0.007712\n",
       " age                                0.007565\n",
       " intellicence_important             0.007241\n",
       "                                      ...   \n",
       " gaming = 14.0                      0.000282\n",
       " importance_same_religion = 10.0    0.000278\n",
       " sincere = 2.0                      0.000276\n",
       " music = 2.0                        0.000272\n",
       " art = 1.0                          0.000267\n",
       " hiking = 1.0                       0.000262\n",
       " theater = 2.0                      0.000252\n",
       " ambition = 3.0                     0.000245\n",
       " reading = 13.0                     0.000194\n",
       " intelligence = 4.0                 0.000189\n",
       " museums = 1.0                      0.000170\n",
       " concerts = 1.0                     0.000154\n",
       " ambition = 2.0                     0.000153\n",
       " gaming = 10.0                      0.000125\n",
       " movies = 3.0                       0.000110\n",
       " dining = 2.0                       0.000102\n",
       " intelligence = 2.0                 0.000097\n",
       " movies = 2.0                       0.000085\n",
       " attractive = 3.0                   0.000069\n",
       " funny = 3.0                        0.000044\n",
       " funny = 5.0                        0.000037\n",
       " music = 3.0                        0.000000\n",
       " met = 8.0                          0.000000\n",
       " met = 5.0                          0.000000\n",
       " met = 7.0                          0.000000\n",
       " met = 3.0                          0.000000\n",
       " sincere = 3.0                      0.000000\n",
       " met = 6.0                          0.000000\n",
       " attractive = 2.0                   0.000000\n",
       " funny = 4.0                        0.000000\n",
       " Length: 280, dtype: float64)"
      ]
     },
     "execution_count": 98,
     "metadata": {},
     "output_type": "execute_result"
    }
   ],
   "source": [
    "# analyzing the model\n",
    "ds.download_artifact('153fb6e4ca054a3da7d8dbecda8b5a5f')[:10]"
   ]
  },
  {
   "cell_type": "code",
   "execution_count": 100,
   "metadata": {},
   "outputs": [
    {
     "name": "stdout",
     "output_type": "stream",
     "text": [
      "{'status': 'Running', 'starttime': '2019-04-15T13:12:17.751155', 'endtime': None, 'percent_complete': 0, 'job_type': 'AnalyzePredictions', 'loss': 0.3134501576423645, 'generations': 2, 'dataset_names': None, 'artifact_names': ['b2a0ead9729e4e74a67a52d27a8fa201'], 'model_name': 'match_model0', 'job_error': ''}\n",
      "{'status': 'Failed', 'starttime': '2019-04-15T13:12:17.751155', 'endtime': '2019-04-15T13:12:19.388051', 'percent_complete': 100, 'job_type': 'AnalyzePredictions', 'loss': 0.3134501576423645, 'generations': 2, 'dataset_names': None, 'artifact_names': ['b2a0ead9729e4e74a67a52d27a8fa201'], 'model_name': 'match_model0', 'job_error': 'TooManyRowsToExplain: Too many rows in dataset to explain. Number of rows is 8220, maximum is 500'}\n"
     ]
    }
   ],
   "source": [
    "# analyze the model prediction\n",
    "status, artifact = ds.analyze_predictions(model,'Speed_Dating_Clean.csv')\n",
    "sleep(1)\n",
    "if status:\n",
    "    ds.wait_for_job(artifact['job_name'])\n",
    "else:\n",
    "    print(artifact)\n",
    "status, feature_importance = ds.download_artifact(artifact['artifact_name'])"
   ]
  },
  {
   "cell_type": "code",
   "execution_count": 101,
   "metadata": {},
   "outputs": [
    {
     "name": "stdout",
     "output_type": "stream",
     "text": [
      "{'status': 'Running', 'starttime': '2019-04-15T13:13:10.930461', 'endtime': None, 'percent_complete': 0, 'job_type': 'RunModel', 'loss': 0.3134501576423645, 'generations': 2, 'dataset_names': ['Speed_Dating_Clean.csv'], 'artifact_names': ['52f7beb3d73e47e08d854d2d4cf40c5d'], 'model_name': 'match_model0', 'job_error': ''}\n",
      "{'status': 'Complete', 'starttime': '2019-04-15T13:13:10.930461', 'endtime': '2019-04-15T13:13:21.396901', 'percent_complete': 100, 'job_type': 'RunModel', 'loss': 0.3134501576423645, 'generations': 2, 'dataset_names': ['Speed_Dating_Clean.csv'], 'artifact_names': ['52f7beb3d73e47e08d854d2d4cf40c5d'], 'model_name': 'match_model0', 'job_error': ''}\n"
     ]
    },
    {
     "data": {
      "text/plain": [
       "(True, 'Job completed')"
      ]
     },
     "execution_count": 101,
     "metadata": {},
     "output_type": "execute_result"
    }
   ],
   "source": [
    "# running a random forest model instead of Neural Nets and seeing the results differentiation\n",
    "status, artifact = ds.run_model('Speed_Dating_Clean.csv', model,model_type = 'RandomForest')\n",
    "sleep(1)\n",
    "ds.wait_for_job(artifact['job_name'])"
   ]
  },
  {
   "cell_type": "code",
   "execution_count": 102,
   "metadata": {},
   "outputs": [
    {
     "data": {
      "text/html": [
       "<div>\n",
       "<style scoped>\n",
       "    .dataframe tbody tr th:only-of-type {\n",
       "        vertical-align: middle;\n",
       "    }\n",
       "\n",
       "    .dataframe tbody tr th {\n",
       "        vertical-align: top;\n",
       "    }\n",
       "\n",
       "    .dataframe thead th {\n",
       "        text-align: right;\n",
       "    }\n",
       "</style>\n",
       "<table border=\"1\" class=\"dataframe\">\n",
       "  <thead>\n",
       "    <tr style=\"text-align: right;\">\n",
       "      <th></th>\n",
       "      <th>match</th>\n",
       "      <th>prob_0</th>\n",
       "      <th>prob_1</th>\n",
       "    </tr>\n",
       "  </thead>\n",
       "  <tbody>\n",
       "    <tr>\n",
       "      <th>0</th>\n",
       "      <td>0</td>\n",
       "      <td>1.0</td>\n",
       "      <td>0.0</td>\n",
       "    </tr>\n",
       "    <tr>\n",
       "      <th>1</th>\n",
       "      <td>0</td>\n",
       "      <td>1.0</td>\n",
       "      <td>0.0</td>\n",
       "    </tr>\n",
       "    <tr>\n",
       "      <th>2</th>\n",
       "      <td>1</td>\n",
       "      <td>0.0</td>\n",
       "      <td>1.0</td>\n",
       "    </tr>\n",
       "    <tr>\n",
       "      <th>3</th>\n",
       "      <td>1</td>\n",
       "      <td>0.0</td>\n",
       "      <td>1.0</td>\n",
       "    </tr>\n",
       "    <tr>\n",
       "      <th>4</th>\n",
       "      <td>1</td>\n",
       "      <td>0.0</td>\n",
       "      <td>1.0</td>\n",
       "    </tr>\n",
       "  </tbody>\n",
       "</table>\n",
       "</div>"
      ],
      "text/plain": [
       "   match  prob_0  prob_1\n",
       "0      0     1.0     0.0\n",
       "1      0     1.0     0.0\n",
       "2      1     0.0     1.0\n",
       "3      1     0.0     1.0\n",
       "4      1     0.0     1.0"
      ]
     },
     "execution_count": 102,
     "metadata": {},
     "output_type": "execute_result"
    }
   ],
   "source": [
    "status, prediction = ds.download_artifact(artifact['artifact_name'])\n",
    "prediction.head()"
   ]
  },
  {
   "cell_type": "code",
   "execution_count": 106,
   "metadata": {},
   "outputs": [
    {
     "name": "stdout",
     "output_type": "stream",
     "text": [
      "              precision    recall  f1-score   support\n",
      "\n",
      "           0       1.00      1.00      1.00      6870\n",
      "           1       1.00      1.00      1.00      1350\n",
      "\n",
      "   micro avg       1.00      1.00      1.00      8220\n",
      "   macro avg       1.00      1.00      1.00      8220\n",
      "weighted avg       1.00      1.00      1.00      8220\n",
      "\n",
      "Accuracy: 1.0\n"
     ]
    },
    {
     "data": {
      "image/png": "[encoded data removed]",
      "text/plain": [
       "<Figure size 432x288 with 1 Axes>"
      ]
     },
     "metadata": {
      "needs_background": "light"
     },
     "output_type": "display_data"
    }
   ],
   "source": [
    "unq = prediction[target].unique()[::-1]\n",
    "p = np.zeros((len(prediction),))\n",
    "a = np.zeros((len(prediction),))\n",
    "for i,q in enumerate(unq):\n",
    "    p += i*(prediction[target] == q).values\n",
    "    a += i*(df[target] == q).values\n",
    "#Plot predictions vs actual\n",
    "plt.plot(a)\n",
    "plt.plot(p)\n",
    "plt.legend(['Actual','Predicted'])\n",
    "plt.yticks([i for i in range(len(unq))],[q for q in unq]);\n",
    "print(classification_report(df[target], prediction[target]))\n",
    "from sklearn.metrics import accuracy_score\n",
    "print('Accuracy:',accuracy_score(df[target], prediction[target]))"
   ]
  },
  {
   "cell_type": "code",
   "execution_count": 119,
   "metadata": {},
   "outputs": [
    {
     "name": "stdout",
     "output_type": "stream",
     "text": [
      "{'status': 'Running', 'starttime': '2019-04-15T13:26:00.464404', 'endtime': None, 'percent_complete': 0, 'job_type': 'RunModel', 'loss': 0.3134501576423645, 'generations': 2, 'dataset_names': ['Speed_Dating_Clean.csv'], 'artifact_names': ['4a92ffe448094861b8b1cbcb68af94fb'], 'model_name': 'match_model0', 'job_error': ''}\n",
      "{'status': 'Complete', 'starttime': '2019-04-15T13:26:00.464404', 'endtime': '2019-04-15T13:26:02.778496', 'percent_complete': 100, 'job_type': 'RunModel', 'loss': 0.3134501576423645, 'generations': 2, 'dataset_names': ['Speed_Dating_Clean.csv'], 'artifact_names': ['4a92ffe448094861b8b1cbcb68af94fb'], 'model_name': 'match_model0', 'job_error': ''}\n",
      "              precision    recall  f1-score   support\n",
      "\n",
      "           0       1.00      1.00      1.00      6870\n",
      "           1       1.00      1.00      1.00      1350\n",
      "\n",
      "   micro avg       1.00      1.00      1.00      8220\n",
      "   macro avg       1.00      1.00      1.00      8220\n",
      "weighted avg       1.00      1.00      1.00      8220\n",
      "\n",
      "Accuracy: 1.0\n"
     ]
    },
    {
     "data": {
      "image/png": "[encoded data removed]",
      "text/plain": [
       "<Figure size 432x288 with 1 Axes>"
      ]
     },
     "metadata": {
      "needs_background": "light"
     },
     "output_type": "display_data"
    }
   ],
   "source": [
    "# running a Gradient Boosted model instead of Neural Nets and seeing the results differentiation\n",
    "status, artifact = ds.run_model('Speed_Dating_Clean.csv', model,model_type = 'GradientBoosted')\n",
    "sleep(1)\n",
    "ds.wait_for_job(artifact['job_name'])\n",
    "\n",
    "status, prediction = ds.download_artifact(artifact['artifact_name'])\n",
    "prediction.head()\n",
    "\n",
    "unq = prediction[target].unique()[::-1]\n",
    "p = np.zeros((len(prediction),))\n",
    "a = np.zeros((len(prediction),))\n",
    "for i,q in enumerate(unq):\n",
    "    p += i*(prediction[target] == q).values\n",
    "    a += i*(df[target] == q).values\n",
    "#Plot predictions vs actual\n",
    "plt.plot(a)\n",
    "plt.plot(p)\n",
    "plt.legend(['Actual','Predicted'])\n",
    "plt.yticks([i for i in range(len(unq))],[q for q in unq]);\n",
    "print(classification_report(df[target], prediction[target]))\n",
    "from sklearn.metrics import accuracy_score\n",
    "print('Accuracy:',accuracy_score(df[target], prediction[target]))"
   ]
  },
  {
   "cell_type": "markdown",
   "metadata": {},
   "source": [
    "# Using Darwin with Raw Data"
   ]
  },
  {
   "cell_type": "code",
   "execution_count": 130,
   "metadata": {},
   "outputs": [],
   "source": [
    "import warnings\n",
    "warnings.filterwarnings(\"ignore\", message=\"numpy.dtype size changed\")\n",
    "%matplotlib inline\n",
    "import matplotlib.pyplot as plt\n",
    "import pandas as pd\n",
    "from IPython.display import Image\n",
    "from time import sleep\n",
    "import os\n",
    "import numpy as np\n",
    "from sklearn.metrics import classification_report\n",
    "from amb_sdk.sdk import DarwinSdk"
   ]
  },
  {
   "cell_type": "code",
   "execution_count": 131,
   "metadata": {},
   "outputs": [],
   "source": [
    "ds = DarwinSdk()\n",
    "ds.set_url('https://amb-demo-api.sparkcognition.com/v1/')\n",
    "status, msg = ds.auth_login_user('aifazg92@gmail.com', 'UcLUQHr5N7')"
   ]
  },
  {
   "cell_type": "code",
   "execution_count": 132,
   "metadata": {},
   "outputs": [
    {
     "name": "stderr",
     "output_type": "stream",
     "text": [
      "/anaconda3/lib/python3.7/site-packages/IPython/core/interactiveshell.py:3020: DtypeWarning: Columns (3,10,11,15,16,17,18,19,39,40,41,42,43,44,51,52,53,54,55,73,74,75,76,77,78,79,80,81,82,83,84,85,86,87,88,89,107,109) have mixed types. Specify dtype option on import or set low_memory=False.\n",
      "  interactivity=interactivity, compiler=compiler, result=result)\n"
     ]
    }
   ],
   "source": [
    "data = pd.read_csv(\"Desktop/speeddating_raw.csv\")"
   ]
  },
  {
   "cell_type": "code",
   "execution_count": 133,
   "metadata": {},
   "outputs": [],
   "source": [
    "#Set your user id and password accordingly\n",
    "USER=\"aifazg92@gmail.com\"\n",
    "PW=\"UcLUQHr5N7\"\n",
    "\n",
    "path = 'Desktop/'"
   ]
  },
  {
   "cell_type": "code",
   "execution_count": 134,
   "metadata": {},
   "outputs": [
    {
     "data": {
      "text/html": [
       "<div>\n",
       "<style scoped>\n",
       "    .dataframe tbody tr th:only-of-type {\n",
       "        vertical-align: middle;\n",
       "    }\n",
       "\n",
       "    .dataframe tbody tr th {\n",
       "        vertical-align: top;\n",
       "    }\n",
       "\n",
       "    .dataframe thead th {\n",
       "        text-align: right;\n",
       "    }\n",
       "</style>\n",
       "<table border=\"1\" class=\"dataframe\">\n",
       "  <thead>\n",
       "    <tr style=\"text-align: right;\">\n",
       "      <th></th>\n",
       "      <th>has_null</th>\n",
       "      <th>wave</th>\n",
       "      <th>gender</th>\n",
       "      <th>age</th>\n",
       "      <th>age_o</th>\n",
       "      <th>d_age</th>\n",
       "      <th>d_d_age</th>\n",
       "      <th>race</th>\n",
       "      <th>race_o</th>\n",
       "      <th>samerace</th>\n",
       "      <th>...</th>\n",
       "      <th>d_expected_num_interested_in_me</th>\n",
       "      <th>d_expected_num_matches</th>\n",
       "      <th>like</th>\n",
       "      <th>guess_prob_liked</th>\n",
       "      <th>d_like</th>\n",
       "      <th>d_guess_prob_liked</th>\n",
       "      <th>met</th>\n",
       "      <th>decision</th>\n",
       "      <th>decision_o</th>\n",
       "      <th>match</th>\n",
       "    </tr>\n",
       "  </thead>\n",
       "  <tbody>\n",
       "    <tr>\n",
       "      <th>0</th>\n",
       "      <td>0</td>\n",
       "      <td>1</td>\n",
       "      <td>female</td>\n",
       "      <td>21</td>\n",
       "      <td>27</td>\n",
       "      <td>6</td>\n",
       "      <td>[4-6]</td>\n",
       "      <td>'Asian/Pacific Islander/Asian-American'</td>\n",
       "      <td>European/Caucasian-American</td>\n",
       "      <td>0</td>\n",
       "      <td>...</td>\n",
       "      <td>[0-3]</td>\n",
       "      <td>[3-5]</td>\n",
       "      <td>7</td>\n",
       "      <td>6</td>\n",
       "      <td>[6-8]</td>\n",
       "      <td>[5-6]</td>\n",
       "      <td>0</td>\n",
       "      <td>1</td>\n",
       "      <td>0</td>\n",
       "      <td>0</td>\n",
       "    </tr>\n",
       "    <tr>\n",
       "      <th>1</th>\n",
       "      <td>0</td>\n",
       "      <td>1</td>\n",
       "      <td>female</td>\n",
       "      <td>21</td>\n",
       "      <td>22</td>\n",
       "      <td>1</td>\n",
       "      <td>[0-1]</td>\n",
       "      <td>'Asian/Pacific Islander/Asian-American'</td>\n",
       "      <td>European/Caucasian-American</td>\n",
       "      <td>0</td>\n",
       "      <td>...</td>\n",
       "      <td>[0-3]</td>\n",
       "      <td>[3-5]</td>\n",
       "      <td>7</td>\n",
       "      <td>5</td>\n",
       "      <td>[6-8]</td>\n",
       "      <td>[5-6]</td>\n",
       "      <td>1</td>\n",
       "      <td>1</td>\n",
       "      <td>0</td>\n",
       "      <td>0</td>\n",
       "    </tr>\n",
       "    <tr>\n",
       "      <th>2</th>\n",
       "      <td>1</td>\n",
       "      <td>1</td>\n",
       "      <td>female</td>\n",
       "      <td>21</td>\n",
       "      <td>22</td>\n",
       "      <td>1</td>\n",
       "      <td>[0-1]</td>\n",
       "      <td>'Asian/Pacific Islander/Asian-American'</td>\n",
       "      <td>'Asian/Pacific Islander/Asian-American'</td>\n",
       "      <td>1</td>\n",
       "      <td>...</td>\n",
       "      <td>[0-3]</td>\n",
       "      <td>[3-5]</td>\n",
       "      <td>7</td>\n",
       "      <td>?</td>\n",
       "      <td>[6-8]</td>\n",
       "      <td>[0-4]</td>\n",
       "      <td>1</td>\n",
       "      <td>1</td>\n",
       "      <td>1</td>\n",
       "      <td>1</td>\n",
       "    </tr>\n",
       "    <tr>\n",
       "      <th>3</th>\n",
       "      <td>0</td>\n",
       "      <td>1</td>\n",
       "      <td>female</td>\n",
       "      <td>21</td>\n",
       "      <td>23</td>\n",
       "      <td>2</td>\n",
       "      <td>[2-3]</td>\n",
       "      <td>'Asian/Pacific Islander/Asian-American'</td>\n",
       "      <td>European/Caucasian-American</td>\n",
       "      <td>0</td>\n",
       "      <td>...</td>\n",
       "      <td>[0-3]</td>\n",
       "      <td>[3-5]</td>\n",
       "      <td>7</td>\n",
       "      <td>6</td>\n",
       "      <td>[6-8]</td>\n",
       "      <td>[5-6]</td>\n",
       "      <td>0</td>\n",
       "      <td>1</td>\n",
       "      <td>1</td>\n",
       "      <td>1</td>\n",
       "    </tr>\n",
       "    <tr>\n",
       "      <th>4</th>\n",
       "      <td>0</td>\n",
       "      <td>1</td>\n",
       "      <td>female</td>\n",
       "      <td>21</td>\n",
       "      <td>24</td>\n",
       "      <td>3</td>\n",
       "      <td>[2-3]</td>\n",
       "      <td>'Asian/Pacific Islander/Asian-American'</td>\n",
       "      <td>'Latino/Hispanic American'</td>\n",
       "      <td>0</td>\n",
       "      <td>...</td>\n",
       "      <td>[0-3]</td>\n",
       "      <td>[3-5]</td>\n",
       "      <td>6</td>\n",
       "      <td>6</td>\n",
       "      <td>[6-8]</td>\n",
       "      <td>[5-6]</td>\n",
       "      <td>0</td>\n",
       "      <td>1</td>\n",
       "      <td>1</td>\n",
       "      <td>1</td>\n",
       "    </tr>\n",
       "  </tbody>\n",
       "</table>\n",
       "<p>5 rows × 123 columns</p>\n",
       "</div>"
      ],
      "text/plain": [
       "   has_null  wave  gender age age_o  d_age d_d_age  \\\n",
       "0         0     1  female  21    27      6   [4-6]   \n",
       "1         0     1  female  21    22      1   [0-1]   \n",
       "2         1     1  female  21    22      1   [0-1]   \n",
       "3         0     1  female  21    23      2   [2-3]   \n",
       "4         0     1  female  21    24      3   [2-3]   \n",
       "\n",
       "                                      race  \\\n",
       "0  'Asian/Pacific Islander/Asian-American'   \n",
       "1  'Asian/Pacific Islander/Asian-American'   \n",
       "2  'Asian/Pacific Islander/Asian-American'   \n",
       "3  'Asian/Pacific Islander/Asian-American'   \n",
       "4  'Asian/Pacific Islander/Asian-American'   \n",
       "\n",
       "                                    race_o  samerace  ...   \\\n",
       "0              European/Caucasian-American         0  ...    \n",
       "1              European/Caucasian-American         0  ...    \n",
       "2  'Asian/Pacific Islander/Asian-American'         1  ...    \n",
       "3              European/Caucasian-American         0  ...    \n",
       "4               'Latino/Hispanic American'         0  ...    \n",
       "\n",
       "  d_expected_num_interested_in_me d_expected_num_matches like  \\\n",
       "0                           [0-3]                  [3-5]    7   \n",
       "1                           [0-3]                  [3-5]    7   \n",
       "2                           [0-3]                  [3-5]    7   \n",
       "3                           [0-3]                  [3-5]    7   \n",
       "4                           [0-3]                  [3-5]    6   \n",
       "\n",
       "  guess_prob_liked d_like d_guess_prob_liked met decision decision_o match  \n",
       "0                6  [6-8]              [5-6]   0        1          0     0  \n",
       "1                5  [6-8]              [5-6]   1        1          0     0  \n",
       "2                ?  [6-8]              [0-4]   1        1          1     1  \n",
       "3                6  [6-8]              [5-6]   0        1          1     1  \n",
       "4                6  [6-8]              [5-6]   0        1          1     1  \n",
       "\n",
       "[5 rows x 123 columns]"
      ]
     },
     "execution_count": 134,
     "metadata": {},
     "output_type": "execute_result"
    }
   ],
   "source": [
    "dataset_name = 'speeddating_raw.csv'\n",
    "df = pd.read_csv(os.path.join(path, dataset_name))\n",
    "df.head()"
   ]
  },
  {
   "cell_type": "code",
   "execution_count": 135,
   "metadata": {},
   "outputs": [
    {
     "name": "stdout",
     "output_type": "stream",
     "text": [
      "400: BAD REQUEST - {\"message\": \"Dataset already exists\"}\n",
      "\n"
     ]
    }
   ],
   "source": [
    "# Upload dataset\n",
    "status, dataset = ds.upload_dataset(os.path.join(path, dataset_name))\n",
    "if not status:\n",
    "    print(dataset)"
   ]
  },
  {
   "cell_type": "code",
   "execution_count": 136,
   "metadata": {},
   "outputs": [
    {
     "name": "stdout",
     "output_type": "stream",
     "text": [
      "{'status': 'Taken', 'starttime': '2019-04-15T14:33:51.699284', 'endtime': None, 'percent_complete': 0, 'job_type': 'CleanDataTiny', 'loss': None, 'generations': None, 'dataset_names': ['speeddating_raw.csv'], 'artifact_names': ['a6b8e73def3049cfaaeb704c06b88932'], 'model_name': None, 'job_error': None}\n",
      "{'status': 'Complete', 'starttime': '2019-04-15T14:33:51.699284', 'endtime': '2019-04-15T14:34:02.835149', 'percent_complete': 100, 'job_type': 'CleanDataTiny', 'loss': None, 'generations': None, 'dataset_names': ['speeddating_raw.csv'], 'artifact_names': ['a6b8e73def3049cfaaeb704c06b88932'], 'model_name': None, 'job_error': ''}\n"
     ]
    }
   ],
   "source": [
    "# clean dataset\n",
    "target = \"match\"\n",
    "status, job_id = ds.clean_data(dataset_name, target = target)\n",
    "\n",
    "if status:\n",
    "    ds.wait_for_job(job_id['job_name'])\n",
    "else:\n",
    "    print(job_id)"
   ]
  },
  {
   "cell_type": "code",
   "execution_count": 137,
   "metadata": {},
   "outputs": [
    {
     "name": "stdout",
     "output_type": "stream",
     "text": [
      "400: BAD REQUEST - {\"message\": \"A model with this name already exists\"}\n",
      "\n"
     ]
    }
   ],
   "source": [
    "model = target + \"_model0\"\n",
    "status, job_id = ds.create_model(dataset_names = dataset_name, \\\n",
    "                                 model_name =  model, \\\n",
    "                                 max_train_time = '00:02')\n",
    "if status:\n",
    "    ds.wait_for_job(job_id['job_name'])\n",
    "else:\n",
    "    print(job_id)"
   ]
  },
  {
   "cell_type": "code",
   "execution_count": 138,
   "metadata": {},
   "outputs": [
    {
     "name": "stdout",
     "output_type": "stream",
     "text": [
      "{'status': 'Running', 'starttime': '2019-04-15T14:34:11.399499', 'endtime': None, 'percent_complete': 0, 'job_type': 'AnalyzeModel', 'loss': 0.3134501576423645, 'generations': 2, 'dataset_names': None, 'artifact_names': ['6c8c0abf93b0445e81730e9b34d64945'], 'model_name': 'match_model0', 'job_error': ''}\n",
      "{'status': 'Complete', 'starttime': '2019-04-15T14:34:11.399499', 'endtime': '2019-04-15T14:34:13.507289', 'percent_complete': 100, 'job_type': 'AnalyzeModel', 'loss': 0.3134501576423645, 'generations': 2, 'dataset_names': None, 'artifact_names': ['6c8c0abf93b0445e81730e9b34d64945'], 'model_name': 'match_model0', 'job_error': ''}\n"
     ]
    }
   ],
   "source": [
    "# Retrieve feature importance of built model\n",
    "status, artifact = ds.analyze_model(model)\n",
    "sleep(1)\n",
    "if status:\n",
    "    ds.wait_for_job(artifact['job_name'])\n",
    "else:\n",
    "    print(artifact)\n",
    "status, feature_importance = ds.download_artifact(artifact['artifact_name'])"
   ]
  },
  {
   "cell_type": "code",
   "execution_count": 139,
   "metadata": {},
   "outputs": [
    {
     "data": {
      "text/plain": [
       "<matplotlib.axes._subplots.AxesSubplot at 0x1a2608c198>"
      ]
     },
     "execution_count": 139,
     "metadata": {},
     "output_type": "execute_result"
    },
    {
     "data": {
      "image/png": "[encoded data removed]",
      "text/plain": [
       "<Figure size 432x288 with 1 Axes>"
      ]
     },
     "metadata": {
      "needs_background": "light"
     },
     "output_type": "display_data"
    }
   ],
   "source": [
    "feature_importance[:30].plot(kind='bar')"
   ]
  },
  {
   "cell_type": "code",
   "execution_count": 140,
   "metadata": {},
   "outputs": [
    {
     "ename": "TypeError",
     "evalue": "string indices must be integers",
     "output_type": "error",
     "traceback": [
      "\u001b[0;31m---------------------------------------------------------------------------\u001b[0m",
      "\u001b[0;31mTypeError\u001b[0m                                 Traceback (most recent call last)",
      "\u001b[0;32m<ipython-input-140-722191558531>\u001b[0m in \u001b[0;36m<module>\u001b[0;34m\u001b[0m\n\u001b[1;32m      1\u001b[0m \u001b[0mstatus\u001b[0m\u001b[0;34m,\u001b[0m \u001b[0martifact\u001b[0m \u001b[0;34m=\u001b[0m \u001b[0mds\u001b[0m\u001b[0;34m.\u001b[0m\u001b[0mrun_model\u001b[0m\u001b[0;34m(\u001b[0m\u001b[0mdataset_name\u001b[0m\u001b[0;34m,\u001b[0m \u001b[0mmodel\u001b[0m\u001b[0;34m,\u001b[0m\u001b[0mmodel_type\u001b[0m \u001b[0;34m=\u001b[0m \u001b[0;34m'RandomForrest'\u001b[0m\u001b[0;34m)\u001b[0m\u001b[0;34m\u001b[0m\u001b[0;34m\u001b[0m\u001b[0m\n\u001b[1;32m      2\u001b[0m \u001b[0msleep\u001b[0m\u001b[0;34m(\u001b[0m\u001b[0;36m1\u001b[0m\u001b[0;34m)\u001b[0m\u001b[0;34m\u001b[0m\u001b[0;34m\u001b[0m\u001b[0m\n\u001b[0;32m----> 3\u001b[0;31m \u001b[0mds\u001b[0m\u001b[0;34m.\u001b[0m\u001b[0mwait_for_job\u001b[0m\u001b[0;34m(\u001b[0m\u001b[0martifact\u001b[0m\u001b[0;34m[\u001b[0m\u001b[0;34m'job_name'\u001b[0m\u001b[0;34m]\u001b[0m\u001b[0;34m)\u001b[0m\u001b[0;34m\u001b[0m\u001b[0;34m\u001b[0m\u001b[0m\n\u001b[0m",
      "\u001b[0;31mTypeError\u001b[0m: string indices must be integers"
     ]
    }
   ],
   "source": [
    "status, artifact = ds.run_model(dataset_name, model,model_type = 'RandomForrest')\n",
    "sleep(1)\n",
    "ds.wait_for_job(artifact['job_name'])"
   ]
  },
  {
   "cell_type": "code",
   "execution_count": 25,
   "metadata": {},
   "outputs": [
    {
     "ename": "AttributeError",
     "evalue": "'str' object has no attribute 'head'",
     "output_type": "error",
     "traceback": [
      "\u001b[0;31m---------------------------------------------------------------------------\u001b[0m",
      "\u001b[0;31mAttributeError\u001b[0m                            Traceback (most recent call last)",
      "\u001b[0;32m<ipython-input-25-e3743a8625a2>\u001b[0m in \u001b[0;36m<module>\u001b[0;34m\u001b[0m\n\u001b[1;32m      1\u001b[0m \u001b[0mstatus\u001b[0m\u001b[0;34m,\u001b[0m \u001b[0mprediction\u001b[0m \u001b[0;34m=\u001b[0m \u001b[0mds\u001b[0m\u001b[0;34m.\u001b[0m\u001b[0mdownload_artifact\u001b[0m\u001b[0;34m(\u001b[0m\u001b[0martifact\u001b[0m\u001b[0;34m[\u001b[0m\u001b[0;34m'artifact_name'\u001b[0m\u001b[0;34m]\u001b[0m\u001b[0;34m)\u001b[0m\u001b[0;34m\u001b[0m\u001b[0;34m\u001b[0m\u001b[0m\n\u001b[0;32m----> 2\u001b[0;31m \u001b[0mprediction\u001b[0m\u001b[0;34m.\u001b[0m\u001b[0mhead\u001b[0m\u001b[0;34m(\u001b[0m\u001b[0;34m)\u001b[0m\u001b[0;34m\u001b[0m\u001b[0;34m\u001b[0m\u001b[0m\n\u001b[0m",
      "\u001b[0;31mAttributeError\u001b[0m: 'str' object has no attribute 'head'"
     ]
    }
   ],
   "source": [
    "status, prediction = ds.download_artifact(artifact['artifact_name'])\n",
    "prediction.head()"
   ]
  },
  {
   "cell_type": "code",
   "execution_count": 146,
   "metadata": {},
   "outputs": [
    {
     "ename": "SyntaxError",
     "evalue": "invalid syntax (<ipython-input-146-091c659cf84e>, line 1)",
     "output_type": "error",
     "traceback": [
      "\u001b[0;36m  File \u001b[0;32m\"<ipython-input-146-091c659cf84e>\"\u001b[0;36m, line \u001b[0;32m1\u001b[0m\n\u001b[0;31m    data[,-1]\u001b[0m\n\u001b[0m         ^\u001b[0m\n\u001b[0;31mSyntaxError\u001b[0m\u001b[0;31m:\u001b[0m invalid syntax\n"
     ]
    }
   ],
   "source": [
    "data[]"
   ]
  },
  {
   "cell_type": "code",
   "execution_count": null,
   "metadata": {},
   "outputs": [],
   "source": []
  }
 ],
 "metadata": {
  "kernelspec": {
   "display_name": "Python 3",
   "language": "python",
   "name": "python3"
  },
  "language_info": {
   "codemirror_mode": {
    "name": "ipython",
    "version": 3
   },
   "file_extension": ".py",
   "mimetype": "text/x-python",
   "name": "python",
   "nbconvert_exporter": "python",
   "pygments_lexer": "ipython3",
   "version": "3.7.1"
  }
 },
 "nbformat": 4,
 "nbformat_minor": 2
}
