{
 "cells": [
  {
   "cell_type": "code",
   "execution_count": 1,
   "metadata": {},
   "outputs": [],
   "source": [
    "import pandas as pd\n",
    "import matplotlib.pyplot as plt\n",
    "from sklearn import preprocessing\n",
    "\n",
    "%matplotlib inline"
   ]
  },
  {
   "cell_type": "code",
   "execution_count": 2,
   "metadata": {},
   "outputs": [
    {
     "ename": "FileNotFoundError",
     "evalue": "File b'speed-dating_csv_edited.csv' does not exist",
     "output_type": "error",
     "traceback": [
      "\u001b[0;31m---------------------------------------------------------------------------\u001b[0m",
      "\u001b[0;31mFileNotFoundError\u001b[0m                         Traceback (most recent call last)",
      "\u001b[0;32m<ipython-input-2-224c219c2057>\u001b[0m in \u001b[0;36m<module>\u001b[0;34m\u001b[0m\n\u001b[0;32m----> 1\u001b[0;31m \u001b[0mdata\u001b[0m \u001b[0;34m=\u001b[0m \u001b[0mpd\u001b[0m\u001b[0;34m.\u001b[0m\u001b[0mread_csv\u001b[0m\u001b[0;34m(\u001b[0m\u001b[0;34m\"speed-dating_csv_edited.csv\"\u001b[0m\u001b[0;34m)\u001b[0m\u001b[0;34m\u001b[0m\u001b[0;34m\u001b[0m\u001b[0m\n\u001b[0m",
      "\u001b[0;32m~/anaconda/lib/python3.6/site-packages/pandas/io/parsers.py\u001b[0m in \u001b[0;36mparser_f\u001b[0;34m(filepath_or_buffer, sep, delimiter, header, names, index_col, usecols, squeeze, prefix, mangle_dupe_cols, dtype, engine, converters, true_values, false_values, skipinitialspace, skiprows, nrows, na_values, keep_default_na, na_filter, verbose, skip_blank_lines, parse_dates, infer_datetime_format, keep_date_col, date_parser, dayfirst, iterator, chunksize, compression, thousands, decimal, lineterminator, quotechar, quoting, escapechar, comment, encoding, dialect, tupleize_cols, error_bad_lines, warn_bad_lines, skipfooter, skip_footer, doublequote, delim_whitespace, as_recarray, compact_ints, use_unsigned, low_memory, buffer_lines, memory_map, float_precision)\u001b[0m\n\u001b[1;32m    653\u001b[0m                     skip_blank_lines=skip_blank_lines)\n\u001b[1;32m    654\u001b[0m \u001b[0;34m\u001b[0m\u001b[0m\n\u001b[0;32m--> 655\u001b[0;31m         \u001b[0;32mreturn\u001b[0m \u001b[0m_read\u001b[0m\u001b[0;34m(\u001b[0m\u001b[0mfilepath_or_buffer\u001b[0m\u001b[0;34m,\u001b[0m \u001b[0mkwds\u001b[0m\u001b[0;34m)\u001b[0m\u001b[0;34m\u001b[0m\u001b[0;34m\u001b[0m\u001b[0m\n\u001b[0m\u001b[1;32m    656\u001b[0m \u001b[0;34m\u001b[0m\u001b[0m\n\u001b[1;32m    657\u001b[0m     \u001b[0mparser_f\u001b[0m\u001b[0;34m.\u001b[0m\u001b[0m__name__\u001b[0m \u001b[0;34m=\u001b[0m \u001b[0mname\u001b[0m\u001b[0;34m\u001b[0m\u001b[0;34m\u001b[0m\u001b[0m\n",
      "\u001b[0;32m~/anaconda/lib/python3.6/site-packages/pandas/io/parsers.py\u001b[0m in \u001b[0;36m_read\u001b[0;34m(filepath_or_buffer, kwds)\u001b[0m\n\u001b[1;32m    403\u001b[0m \u001b[0;34m\u001b[0m\u001b[0m\n\u001b[1;32m    404\u001b[0m     \u001b[0;31m# Create the parser.\u001b[0m\u001b[0;34m\u001b[0m\u001b[0;34m\u001b[0m\u001b[0;34m\u001b[0m\u001b[0m\n\u001b[0;32m--> 405\u001b[0;31m     \u001b[0mparser\u001b[0m \u001b[0;34m=\u001b[0m \u001b[0mTextFileReader\u001b[0m\u001b[0;34m(\u001b[0m\u001b[0mfilepath_or_buffer\u001b[0m\u001b[0;34m,\u001b[0m \u001b[0;34m**\u001b[0m\u001b[0mkwds\u001b[0m\u001b[0;34m)\u001b[0m\u001b[0;34m\u001b[0m\u001b[0;34m\u001b[0m\u001b[0m\n\u001b[0m\u001b[1;32m    406\u001b[0m \u001b[0;34m\u001b[0m\u001b[0m\n\u001b[1;32m    407\u001b[0m     \u001b[0;32mif\u001b[0m \u001b[0mchunksize\u001b[0m \u001b[0;32mor\u001b[0m \u001b[0miterator\u001b[0m\u001b[0;34m:\u001b[0m\u001b[0;34m\u001b[0m\u001b[0;34m\u001b[0m\u001b[0m\n",
      "\u001b[0;32m~/anaconda/lib/python3.6/site-packages/pandas/io/parsers.py\u001b[0m in \u001b[0;36m__init__\u001b[0;34m(self, f, engine, **kwds)\u001b[0m\n\u001b[1;32m    760\u001b[0m             \u001b[0mself\u001b[0m\u001b[0;34m.\u001b[0m\u001b[0moptions\u001b[0m\u001b[0;34m[\u001b[0m\u001b[0;34m'has_index_names'\u001b[0m\u001b[0;34m]\u001b[0m \u001b[0;34m=\u001b[0m \u001b[0mkwds\u001b[0m\u001b[0;34m[\u001b[0m\u001b[0;34m'has_index_names'\u001b[0m\u001b[0;34m]\u001b[0m\u001b[0;34m\u001b[0m\u001b[0;34m\u001b[0m\u001b[0m\n\u001b[1;32m    761\u001b[0m \u001b[0;34m\u001b[0m\u001b[0m\n\u001b[0;32m--> 762\u001b[0;31m         \u001b[0mself\u001b[0m\u001b[0;34m.\u001b[0m\u001b[0m_make_engine\u001b[0m\u001b[0;34m(\u001b[0m\u001b[0mself\u001b[0m\u001b[0;34m.\u001b[0m\u001b[0mengine\u001b[0m\u001b[0;34m)\u001b[0m\u001b[0;34m\u001b[0m\u001b[0;34m\u001b[0m\u001b[0m\n\u001b[0m\u001b[1;32m    763\u001b[0m \u001b[0;34m\u001b[0m\u001b[0m\n\u001b[1;32m    764\u001b[0m     \u001b[0;32mdef\u001b[0m \u001b[0mclose\u001b[0m\u001b[0;34m(\u001b[0m\u001b[0mself\u001b[0m\u001b[0;34m)\u001b[0m\u001b[0;34m:\u001b[0m\u001b[0;34m\u001b[0m\u001b[0;34m\u001b[0m\u001b[0m\n",
      "\u001b[0;32m~/anaconda/lib/python3.6/site-packages/pandas/io/parsers.py\u001b[0m in \u001b[0;36m_make_engine\u001b[0;34m(self, engine)\u001b[0m\n\u001b[1;32m    964\u001b[0m     \u001b[0;32mdef\u001b[0m \u001b[0m_make_engine\u001b[0m\u001b[0;34m(\u001b[0m\u001b[0mself\u001b[0m\u001b[0;34m,\u001b[0m \u001b[0mengine\u001b[0m\u001b[0;34m=\u001b[0m\u001b[0;34m'c'\u001b[0m\u001b[0;34m)\u001b[0m\u001b[0;34m:\u001b[0m\u001b[0;34m\u001b[0m\u001b[0;34m\u001b[0m\u001b[0m\n\u001b[1;32m    965\u001b[0m         \u001b[0;32mif\u001b[0m \u001b[0mengine\u001b[0m \u001b[0;34m==\u001b[0m \u001b[0;34m'c'\u001b[0m\u001b[0;34m:\u001b[0m\u001b[0;34m\u001b[0m\u001b[0;34m\u001b[0m\u001b[0m\n\u001b[0;32m--> 966\u001b[0;31m             \u001b[0mself\u001b[0m\u001b[0;34m.\u001b[0m\u001b[0m_engine\u001b[0m \u001b[0;34m=\u001b[0m \u001b[0mCParserWrapper\u001b[0m\u001b[0;34m(\u001b[0m\u001b[0mself\u001b[0m\u001b[0;34m.\u001b[0m\u001b[0mf\u001b[0m\u001b[0;34m,\u001b[0m \u001b[0;34m**\u001b[0m\u001b[0mself\u001b[0m\u001b[0;34m.\u001b[0m\u001b[0moptions\u001b[0m\u001b[0;34m)\u001b[0m\u001b[0;34m\u001b[0m\u001b[0;34m\u001b[0m\u001b[0m\n\u001b[0m\u001b[1;32m    967\u001b[0m         \u001b[0;32melse\u001b[0m\u001b[0;34m:\u001b[0m\u001b[0;34m\u001b[0m\u001b[0;34m\u001b[0m\u001b[0m\n\u001b[1;32m    968\u001b[0m             \u001b[0;32mif\u001b[0m \u001b[0mengine\u001b[0m \u001b[0;34m==\u001b[0m \u001b[0;34m'python'\u001b[0m\u001b[0;34m:\u001b[0m\u001b[0;34m\u001b[0m\u001b[0;34m\u001b[0m\u001b[0m\n",
      "\u001b[0;32m~/anaconda/lib/python3.6/site-packages/pandas/io/parsers.py\u001b[0m in \u001b[0;36m__init__\u001b[0;34m(self, src, **kwds)\u001b[0m\n\u001b[1;32m   1580\u001b[0m         \u001b[0mkwds\u001b[0m\u001b[0;34m[\u001b[0m\u001b[0;34m'allow_leading_cols'\u001b[0m\u001b[0;34m]\u001b[0m \u001b[0;34m=\u001b[0m \u001b[0mself\u001b[0m\u001b[0;34m.\u001b[0m\u001b[0mindex_col\u001b[0m \u001b[0;32mis\u001b[0m \u001b[0;32mnot\u001b[0m \u001b[0;32mFalse\u001b[0m\u001b[0;34m\u001b[0m\u001b[0;34m\u001b[0m\u001b[0m\n\u001b[1;32m   1581\u001b[0m \u001b[0;34m\u001b[0m\u001b[0m\n\u001b[0;32m-> 1582\u001b[0;31m         \u001b[0mself\u001b[0m\u001b[0;34m.\u001b[0m\u001b[0m_reader\u001b[0m \u001b[0;34m=\u001b[0m \u001b[0mparsers\u001b[0m\u001b[0;34m.\u001b[0m\u001b[0mTextReader\u001b[0m\u001b[0;34m(\u001b[0m\u001b[0msrc\u001b[0m\u001b[0;34m,\u001b[0m \u001b[0;34m**\u001b[0m\u001b[0mkwds\u001b[0m\u001b[0;34m)\u001b[0m\u001b[0;34m\u001b[0m\u001b[0;34m\u001b[0m\u001b[0m\n\u001b[0m\u001b[1;32m   1583\u001b[0m \u001b[0;34m\u001b[0m\u001b[0m\n\u001b[1;32m   1584\u001b[0m         \u001b[0;31m# XXX\u001b[0m\u001b[0;34m\u001b[0m\u001b[0;34m\u001b[0m\u001b[0;34m\u001b[0m\u001b[0m\n",
      "\u001b[0;32mpandas/_libs/parsers.pyx\u001b[0m in \u001b[0;36mpandas._libs.parsers.TextReader.__cinit__ (pandas/_libs/parsers.c:4209)\u001b[0;34m()\u001b[0m\n",
      "\u001b[0;32mpandas/_libs/parsers.pyx\u001b[0m in \u001b[0;36mpandas._libs.parsers.TextReader._setup_parser_source (pandas/_libs/parsers.c:8873)\u001b[0;34m()\u001b[0m\n",
      "\u001b[0;31mFileNotFoundError\u001b[0m: File b'speed-dating_csv_edited.csv' does not exist"
     ]
    }
   ],
   "source": [
    "data = pd.read_csv(\"speed-dating_csv_edited.csv\")"
   ]
  },
  {
   "cell_type": "code",
   "execution_count": null,
   "metadata": {},
   "outputs": [],
   "source": [
    "data = data.dropna(axis = 0, subset = ['interests_correlate'])\n",
    "\n",
    "mean = data['age'].mean()\n",
    "data['age'].fillna(round(mean), inplace = True)\n",
    "mean = data['age_o'].mean()\n",
    "data['age_o'].fillna(round(mean), inplace = True)\n",
    "\n",
    "data['age_d'] = (data['age'] - data['age_o'])\n",
    "data['age_d_abs'] = data['age_d'].abs()\n",
    "\n",
    "data['race'].fillna('other', inplace = True)\n",
    "data['race_o'].fillna('other', inplace = True)\n",
    "\n",
    "data['same_race'] = (data['race'] == data['race_o'])\n",
    "\n",
    "mean = data['same_race_i'].mean()\n",
    "data['same_race_i'].fillna(round(mean), inplace = True)\n",
    "mean = data['same_religion_i'].mean()\n",
    "data['same_religion_i'].fillna(round(mean), inplace = True)\n",
    "\n",
    "preferences = ['attractive_o_i', 'sincere_o_i', 'intelligence_o_i', 'funny_o_i', 'ambitious_o_i', 'shared_interests_o_i', 'attractive_i', 'sincere_i', 'intelligence_i', 'funny_i', 'ambitious_i', 'shared_interests_i']          \n",
    "for pref in preferences:\n",
    "    data[pref].fillna(0, inplace = True)\n",
    "    \n",
    "data['o_i'] = data['attractive_o_i'] + data['sincere_o_i'] + data['intelligence_o_i'] + data['funny_o_i'] + data['ambitious_o_i'] + data['shared_interests_o_i']\n",
    "data['attractive_o_i'] = (data['attractive_o_i'] / data['o_i'])\n",
    "data['sincere_o_i'] = (data['sincere_o_i'] / data['o_i'])\n",
    "data['intelligence_o_i'] = (data['intelligence_o_i'] / data['o_i'])\n",
    "data['funny_o_i'] = (data['funny_o_i'] / data['o_i'])\n",
    "data['ambitious_o_i'] = (data['ambitious_o_i'] / data['o_i'])\n",
    "data['shared_interests_o_i'] = (data['shared_interests_o_i'] / data['o_i'])\n",
    "\n",
    "data['i'] = data['attractive_i'] + data['sincere_i'] + data['intelligence_i'] + data['funny_i'] + data['ambitious_i'] + data['shared_interests_i']\n",
    "data['attractive_i'] = (data['attractive_i'] / data['i'])\n",
    "data['sincere_i'] = (data['sincere_i'] / data['i'])\n",
    "data['intelligence_i'] = (data['intelligence_i'] / data['i'])\n",
    "data['funny_i'] = (data['funny_i'] / data['i'])\n",
    "data['ambitious_i'] = (data['ambitious_i'] / data['i'])\n",
    "data['shared_interests_i'] = (data['shared_interests_i'] / data['i'])\n",
    "\n",
    "del data['o_i']\n",
    "del data['i']\n",
    "\n",
    "preferences = ['attractive_o_i', 'sincere_o_i', 'intelligence_o_i', 'funny_o_i', 'ambitious_o_i', 'shared_interests_o_i', 'attractive_i', 'sincere_i', 'intelligence_i', 'funny_i', 'ambitious_i', 'shared_interests_i']          \n",
    "for pref in preferences:\n",
    "    data[pref].fillna((1.0 / 6.0), inplace = True)\n",
    "\n",
    "mean = data['attractive_o'].mean()\n",
    "data['attractive_o'].fillna(round(mean), inplace = True)\n",
    "mean = data['sincere_o'].mean()\n",
    "data['sincere_o'].fillna(round(mean), inplace = True)\n",
    "mean = data['intelligence_o'].mean()\n",
    "data['intelligence_o'].fillna(round(mean), inplace = True)\n",
    "mean = data['funny_o'].mean()\n",
    "data['funny_o'].fillna(round(mean), inplace = True)\n",
    "mean = data['ambitious_o'].mean()\n",
    "data['ambitious_o'].fillna(round(mean), inplace = True)\n",
    "mean = data['shared_interests_o'].mean()\n",
    "data['shared_interests_o'].fillna(round(mean), inplace = True)\n",
    "mean = data['attractive'].mean()\n",
    "data['attractive'].fillna(round(mean), inplace = True)\n",
    "mean = data['sincere'].mean()\n",
    "data['sincere'].fillna(round(mean), inplace = True)\n",
    "mean = data['intelligence'].mean()\n",
    "data['intelligence'].fillna(round(mean), inplace = True)\n",
    "mean = data['funny'].mean()\n",
    "data['funny'].fillna(round(mean), inplace = True)\n",
    "mean = data['ambitious'].mean()\n",
    "data['ambitious'].fillna(round(mean), inplace = True)\n",
    "mean = data['attractive_partner'].mean()\n",
    "data['attractive_partner'].fillna(round(mean), inplace = True)\n",
    "mean = data['sincere_partner'].mean()\n",
    "data['sincere_partner'].fillna(round(mean), inplace = True)\n",
    "mean = data['intelligence_partner'].mean()\n",
    "data['intelligence_partner'].fillna(round(mean), inplace = True)\n",
    "mean = data['funny_partner'].mean()\n",
    "data['funny_partner'].fillna(round(mean), inplace = True)\n",
    "mean = data['ambitious_partner'].mean()\n",
    "data['ambitious_partner'].fillna(round(mean), inplace = True)\n",
    "mean = data['shared_interests_partner'].mean()\n",
    "data['shared_interests_partner'].fillna(round(mean), inplace = True)\n",
    "\n",
    "mean = data['like'].mean()\n",
    "data['like'].fillna(round(mean), inplace = True)\n",
    "\n",
    "mean = data['met'].mean()\n",
    "data['met'].fillna(round(mean), inplace = True)"
   ]
  },
  {
   "cell_type": "code",
   "execution_count": null,
   "metadata": {},
   "outputs": [],
   "source": [
    "data.isnull().sum()"
   ]
  },
  {
   "cell_type": "code",
   "execution_count": null,
   "metadata": {
    "scrolled": true
   },
   "outputs": [],
   "source": [
    "data.head()"
   ]
  },
  {
   "cell_type": "code",
   "execution_count": null,
   "metadata": {},
   "outputs": [],
   "source": [
    "data.shape"
   ]
  },
  {
   "cell_type": "code",
   "execution_count": null,
   "metadata": {
    "scrolled": true
   },
   "outputs": [],
   "source": [
    "data.describe()"
   ]
  },
  {
   "cell_type": "code",
   "execution_count": null,
   "metadata": {},
   "outputs": [],
   "source": [
    "match_group = data.groupby('match').describe()\n",
    "match_group['attractive_o']"
   ]
  },
  {
   "cell_type": "markdown",
   "metadata": {},
   "source": [
    "# OneHotEnconder/LabelEncoder: object"
   ]
  },
  {
   "cell_type": "code",
   "execution_count": null,
   "metadata": {},
   "outputs": [],
   "source": [
    "le = preprocessing.LabelEncoder()\n",
    "data['same_race'] = le.fit_transform(data['same_race'])"
   ]
  },
  {
   "cell_type": "code",
   "execution_count": null,
   "metadata": {},
   "outputs": [],
   "source": [
    "data = pd.concat([data, pd.get_dummies(data['gender'], prefix = 'gender')], axis = 1)\n",
    "data = pd.concat([data, pd.get_dummies(data['race'], prefix = 'race')], axis = 1)\n",
    "data = pd.concat([data, pd.get_dummies(data['race_o'], prefix = 'race_o')], axis = 1)\n",
    "data = pd.concat([data, pd.get_dummies(data['field'], prefix = 'field')], axis = 1)\n",
    "\n",
    "del data['gender']\n",
    "del data['race']\n",
    "del data['race_o']\n",
    "del data['field']"
   ]
  },
  {
   "cell_type": "markdown",
   "metadata": {},
   "source": [
    "# Create new ratios and bins"
   ]
  },
  {
   "cell_type": "code",
   "execution_count": null,
   "metadata": {},
   "outputs": [],
   "source": [
    "data['attractive_i_d'] = (data['attractive_i'] - data['attractive_o_i'])\n",
    "data['sincere_i_d'] = (data['sincere_i'] - data['sincere_o_i'])\n",
    "data['intelligence_i_d'] = (data['intelligence_i'] - data['intelligence_o_i'])\n",
    "data['funny_i_d'] = (data['funny_i'] - data['funny_o_i'])\n",
    "data['ambitious_i_d'] = (data['ambitious_i'] - data['ambitious_o_i'])\n",
    "data['shared_interests_i_d'] = (data['shared_interests_i'] - data['shared_interests_o_i'])\n",
    "\n",
    "data['attractive_i_d_abs'] = data['attractive_i_d'].abs()\n",
    "data['sincere_i_d_abs'] = data['sincere_i_d'].abs()\n",
    "data['intelligence_i_d_abs'] = data['intelligence_i_d'].abs()\n",
    "data['funny_i_d_abs'] = data['funny_i_d'].abs()\n",
    "data['ambitious_i_d_abs'] = data['ambitious_i_d'].abs()\n",
    "data['shared_interests_i_d_abs'] = data['shared_interests_i_d'].abs()\n",
    "\n",
    "data['attractive_d'] = (data['attractive'] - data['attractive_o'])\n",
    "data['sincere_d'] = (data['sincere'] - data['sincere_o'])\n",
    "data['intelligence_d'] = (data['intelligence'] - data['intelligence_o'])\n",
    "data['funny_d'] = (data['funny'] - data['funny_o'])\n",
    "data['ambitious_d'] = (data['ambitious'] - data['ambitious_o'])\n",
    "data['shared_interests_d'] = (data['shared_interests_partner'] - data['shared_interests_o'])\n",
    "\n",
    "data['attractive_d_abs'] = data['attractive_d'].abs()\n",
    "data['sincere_d_abs'] = data['sincere_d'].abs()\n",
    "data['intelligence_d_abs'] = data['intelligence_d'].abs()\n",
    "data['funny_d_abs'] = data['funny_d'].abs()\n",
    "data['ambitious_d_abs'] = data['ambitious_d'].abs()\n",
    "data['shared_interests_d_abs'] = data['shared_interests_d'].abs()\n",
    "\n",
    "data['o'] = data['attractive_o'] + data['sincere_o'] + data['intelligence_o'] + data['funny_o'] + data['ambitious_o'] + data['shared_interests_o']\n",
    "data['attractive_o_n'] = (data['attractive_o'] / data['o'])\n",
    "data['sincere_o_n'] = (data['sincere_o'] / data['o'])\n",
    "data['intelligence_o_n'] = (data['intelligence_o'] / data['o'])\n",
    "data['funny_o_n'] = (data['funny_o'] / data['o'])\n",
    "data['ambitious_o_n'] = (data['ambitious_o'] / data['o'])\n",
    "data['shared_interests_o_n'] = (data['shared_interests_o'] / data['o'])\n",
    "\n",
    "data['p'] = data['attractive_partner'] + data['sincere_partner'] + data['intelligence_partner'] + data['funny_partner'] + data['ambitious_partner'] + data['shared_interests_partner']\n",
    "data['attractive_p_n'] = (data['attractive_partner'] / data['p'])\n",
    "data['sincere_p_n'] = (data['sincere_partner'] / data['p'])\n",
    "data['intelligence_p_n'] = (data['intelligence_partner'] / data['p'])\n",
    "data['funny_p_n'] = (data['funny_partner'] / data['p'])\n",
    "data['ambitious_p_n'] = (data['ambitious_partner'] / data['p'])\n",
    "data['shared_interests_p_n'] = (data['shared_interests_partner'] / data['p'])\n",
    "\n",
    "del data['o']\n",
    "del data['p']\n",
    "\n",
    "preferences = ['attractive_o_n', 'sincere_o_n', 'intelligence_o_n', 'funny_o_n', 'ambitious_o_n', 'shared_interests_o_n', 'attractive_p_n', 'sincere_p_n', 'intelligence_p_n', 'funny_p_n', 'ambitious_p_n', 'shared_interests_p_n']\n",
    "for pref in preferences:\n",
    "    data[pref].fillna(0, inplace = True)\n",
    "\n",
    "data['d'] = data['attractive_d_abs'] + data['sincere_d_abs'] + data['intelligence_d_abs'] + data['funny_d_abs'] + data['ambitious_d_abs'] + data['shared_interests_d_abs']\n",
    "data['attractive_d_n'] = (data['attractive_d'] / data['d'])\n",
    "data['sincere_d_n'] = (data['sincere_d'] / data['d'])\n",
    "data['intelligence_d_n'] = (data['intelligence_d'] / data['d'])\n",
    "data['funny_d_n'] = (data['funny_d'] / data['d'])\n",
    "data['ambitious_d_n'] = (data['ambitious_d'] / data['d'])\n",
    "data['shared_interests_d_n'] = (data['shared_interests_d'] / data['d'])\n",
    "\n",
    "del data['d']\n",
    "\n",
    "data['attractive_d_n_abs'] = data['attractive_d_n'].abs()\n",
    "data['sincere_d_n_abs'] = data['sincere_d_n'].abs()\n",
    "data['intelligence_d_n_abs'] = data['intelligence_d_n'].abs()\n",
    "data['funny_d_n_abs'] = data['funny_d_n'].abs()\n",
    "data['ambitious_d_n_abs'] = data['ambitious_d_n'].abs()\n",
    "data['shared_interests_d_n_abs'] = data['shared_interests_d_n'].abs()\n",
    "\n",
    "data['attractive_oi_o_d_n'] = (data['attractive_o_i'] - data['attractive_o_n'])\n",
    "data['sincere_oi_o_d_n'] = (data['sincere_o_i'] - data['sincere_o_n'])\n",
    "data['intelligence_oi_o_d_n'] = (data['intelligence_o_i'] - data['intelligence_o_n'])\n",
    "data['funny_oi_o_d_n'] = (data['funny_o_i'] - data['funny_o_n'])\n",
    "data['ambitious_oi_o_d_n'] = (data['ambitious_o_i'] - data['ambitious_o_n'])\n",
    "data['shared_interests_oi_o_d_n'] = (data['shared_interests_o_i'] - data['shared_interests_o_n'])\n",
    "\n",
    "data['attractive_oi_o_d_n_abs'] = data['attractive_oi_o_d_n'].abs()\n",
    "data['sincere_oi_o_d_n_abs'] = data['sincere_oi_o_d_n'].abs()\n",
    "data['intelligence_oi_o_d_n_abs'] = data['intelligence_oi_o_d_n'].abs()\n",
    "data['funny_oi_o_d_n_abs'] = data['funny_oi_o_d_n'].abs()\n",
    "data['ambitious_oi_o_d_n_abs'] = data['ambitious_oi_o_d_n'].abs()\n",
    "data['shared_interests_oi_o_d_n_abs'] = data['shared_interests_oi_o_d_n'].abs()\n",
    "\n",
    "data['attractive_i_p_d_n'] = (data['attractive_i'] - data['attractive_p_n'])\n",
    "data['sincere_i_p_d_n'] = (data['sincere_i'] - data['sincere_p_n'])\n",
    "data['intelligence_i_p_d_n'] = (data['intelligence_i'] - data['intelligence_p_n'])\n",
    "data['funny_i_p_d_n'] = (data['funny_i'] - data['funny_p_n'])\n",
    "data['ambitious_i_p_d_n'] = (data['ambitious_i'] - data['ambitious_p_n'])\n",
    "data['shared_interests_i_p_d_n'] = (data['shared_interests_i'] - data['shared_interests_p_n'])\n",
    "\n",
    "data['attractive_i_p_d_n_abs'] = data['attractive_i_p_d_n'].abs()\n",
    "data['sincere_i_p_d_n_abs'] = data['sincere_i_p_d_n'].abs()\n",
    "data['intelligence_i_p_d_n_abs'] = data['intelligence_i_p_d_n'].abs()\n",
    "data['funny_i_p_d_n_abs'] = data['funny_i_p_d_n'].abs()\n",
    "data['ambitious_i_p_d_n_abs'] = data['ambitious_i_p_d_n'].abs()\n",
    "data['shared_interests_i_p_d_n_abs'] = data['shared_interests_i_p_d_n'].abs()\n",
    "\n",
    "data['a'] = data['sports'] + data['tvsports'] + data['exercise'] + data['dining'] + data['museums'] + data['art'] + data['hiking'] + data['gaming'] + data['clubbing'] + data['reading'] + data['tv'] + data['theater'] + data['movies'] + data['concerts'] + data['music'] + data['shopping'] + data['yoga']\n",
    "data['sports_n'] = (data['sports'] / data['a']) \n",
    "data['tvsports_n'] = (data['tvsports'] / data['a']) \n",
    "data['exercise_n'] = (data['exercise'] / data['a']) \n",
    "data['dining_n'] = (data['dining'] / data['a']) \n",
    "data['museums_n'] = (data['museums'] / data['a']) \n",
    "data['art_n'] = (data['art'] / data['a']) \n",
    "data['hiking_n'] = (data['hiking'] / data['a']) \n",
    "data['gaming_n'] = (data['gaming'] / data['a']) \n",
    "data['clubbing_n'] = (data['clubbing'] / data['a']) \n",
    "data['reading_n'] = (data['reading'] / data['a']) \n",
    "data['tv_n'] = (data['tv'] / data['a']) \n",
    "data['theater_n'] = (data['theater'] / data['a']) \n",
    "data['movies_n'] = (data['movies'] / data['a']) \n",
    "data['concerts_n'] = (data['concerts'] / data['a']) \n",
    "data['music_n'] = (data['music'] / data['a']) \n",
    "data['shopping_n'] = (data['shopping'] / data['a']) \n",
    "data['yoga_n'] = (data['yoga'] / data['a']) \n",
    "\n",
    "del data['a']"
   ]
  },
  {
   "cell_type": "code",
   "execution_count": null,
   "metadata": {},
   "outputs": [],
   "source": [
    "data['age_d_abs'].describe()"
   ]
  },
  {
   "cell_type": "code",
   "execution_count": null,
   "metadata": {},
   "outputs": [],
   "source": [
    "def age_bin(value): \n",
    "    if (value >= 0.0 and value < 5.0): \n",
    "        return 0\n",
    "    if (value >= 5.0 and value < 10.0): \n",
    "        return 5\n",
    "    if (value >= 10.0 and value < 15.0): \n",
    "        return 12.5\n",
    "    if (value >= 15.0 and value < 20.0): \n",
    "        return 17.5\n",
    "    if (value >= 20.0 and value < 25.0): \n",
    "        return 22.5\n",
    "    if (value >= 25.0 and value < 30.0): \n",
    "        return 27.5\n",
    "    else: \n",
    "        return 32.5\n",
    "    \n",
    "data['age_d_abs_bin'] = data['age_d_abs'].map(age_bin)"
   ]
  },
  {
   "cell_type": "code",
   "execution_count": null,
   "metadata": {},
   "outputs": [],
   "source": [
    "bins = [0, 1, 2, 3, 4, 5, 7, 35]\n",
    "data['age_d_abs_bin'] = pd.cut(data['age_d_abs'], bins)\n",
    "data['age_d_abs_bin'].head()"
   ]
  },
  {
   "cell_type": "code",
   "execution_count": null,
   "metadata": {},
   "outputs": [],
   "source": [
    "data['age_d_abs_bin'] = pd.Categorical(data['age_d_abs_bin']).codes\n",
    "data['age_d_abs_bin'].head()"
   ]
  },
  {
   "cell_type": "code",
   "execution_count": null,
   "metadata": {},
   "outputs": [],
   "source": [
    "del data['age_d_abs_bin']"
   ]
  },
  {
   "cell_type": "markdown",
   "metadata": {},
   "source": [
    "# Plot graphs"
   ]
  },
  {
   "cell_type": "code",
   "execution_count": null,
   "metadata": {},
   "outputs": [],
   "source": [
    "data.boxplot()"
   ]
  },
  {
   "cell_type": "code",
   "execution_count": null,
   "metadata": {},
   "outputs": [],
   "source": [
    "data.boxplot('age_d')"
   ]
  },
  {
   "cell_type": "code",
   "execution_count": null,
   "metadata": {},
   "outputs": [],
   "source": [
    "data.plot()"
   ]
  },
  {
   "cell_type": "code",
   "execution_count": null,
   "metadata": {},
   "outputs": [],
   "source": [
    "plot_age = data['age']\n",
    "plot_age.plot()"
   ]
  },
  {
   "cell_type": "code",
   "execution_count": null,
   "metadata": {},
   "outputs": [],
   "source": [
    "data.plot(kind='hist', title = 'Histogram')"
   ]
  },
  {
   "cell_type": "code",
   "execution_count": null,
   "metadata": {},
   "outputs": [],
   "source": [
    "plot_age.plot(kind='hist', title = 'Histogram')"
   ]
  },
  {
   "cell_type": "code",
   "execution_count": null,
   "metadata": {},
   "outputs": [],
   "source": [
    "# data['age_d_abs_bin'].value_counts().plot.bar()\n",
    "data.groupby('age_d_abs_bin').size().plot.bar()"
   ]
  },
  {
   "cell_type": "code",
   "execution_count": null,
   "metadata": {},
   "outputs": [],
   "source": [
    "groups = data.groupby('match')\n",
    "print(groups.size())\n",
    "groups.size().plot.pie()"
   ]
  },
  {
   "cell_type": "code",
   "execution_count": null,
   "metadata": {},
   "outputs": [],
   "source": [
    "data.plot.scatter(x = 'like', y = 'interests_correlate')"
   ]
  },
  {
   "cell_type": "code",
   "execution_count": null,
   "metadata": {},
   "outputs": [],
   "source": [
    "colors = {1:'red', 0:'black'}\n",
    "plt.scatter(data['like'], \n",
    "           data['interests_correlate'], \n",
    "           c = data['match'].apply(lambda x: colors[x]),\n",
    "           marker = 'x')\n",
    "plt.xlabel('like')\n",
    "plt.ylabel('interests_correlate')\n",
    "\n",
    "plt.show()"
   ]
  },
  {
   "cell_type": "code",
   "execution_count": null,
   "metadata": {},
   "outputs": [],
   "source": [
    "colors = {1:'red', 0:'black'}\n",
    "plt.scatter(data['shared_interests_i_p_d_n'], \n",
    "           data['interests_correlate'], \n",
    "           c = data['match'].apply(lambda x: colors[x]),\n",
    "           marker = 'x')\n",
    "plt.xlabel('shared_interests_i_p_d_n')\n",
    "plt.ylabel('interests_correlate')\n",
    "\n",
    "plt.show()"
   ]
  },
  {
   "cell_type": "code",
   "execution_count": null,
   "metadata": {},
   "outputs": [],
   "source": [
    "colors = {1:'red', 0:'black'}\n",
    "plt.scatter(data['shared_interests_i_p_d_n'], \n",
    "           data['shared_interests_oi_o_d_n'], \n",
    "           c = data['match'].apply(lambda x: colors[x]),\n",
    "           marker = 'x')\n",
    "plt.xlabel('shared_interests_i_p_d_n')\n",
    "plt.ylabel('shared_interests_oi_o_d_n')\n",
    "\n",
    "plt.show()"
   ]
  },
  {
   "cell_type": "code",
   "execution_count": null,
   "metadata": {},
   "outputs": [],
   "source": [
    "# pd.plotting.scatter_matrix(data, figsize = (15,15))\n",
    "# pd.plotting.scatter_matrix(data[['age_d','same_race','like','interests_correlate']], figsize = (15,15))\n",
    "pd.plotting.scatter_matrix(data[['shared_interests_d','shared_interests_i_d','shared_interests_oi_o_d_n','shared_interests_i_p_d_n']], figsize = (15,15))\n",
    "plt.show()"
   ]
  },
  {
   "cell_type": "code",
   "execution_count": null,
   "metadata": {},
   "outputs": [],
   "source": [
    "pd.plotting.scatter_matrix(data[['sports_n','tvsports_n','exercise_n','dining_n','museums_n','art_n','hiking_n','gaming_n','clubbing_n','reading_n','tv_n','theater_n','movies_n','concerts_n','music_n','shopping_n','yoga_n','interests_correlate']], figsize = (15,15))\n",
    "plt.show()"
   ]
  },
  {
   "cell_type": "code",
   "execution_count": null,
   "metadata": {},
   "outputs": [],
   "source": [
    "pd.plotting.scatter_matrix(data[['sports','tvsports','exercise','dining','museums','art','hiking','gaming','clubbing','reading','tv','theater','movies','concerts','music','shopping','yoga','interests_correlate']], figsize = (15,15))\n",
    "plt.show()"
   ]
  },
  {
   "cell_type": "markdown",
   "metadata": {},
   "source": [
    "# Find outliers/noise"
   ]
  },
  {
   "cell_type": "code",
   "execution_count": null,
   "metadata": {},
   "outputs": [],
   "source": [
    "age_idx = data[data['age'] == 55].index\n",
    "# age_idx = data[data['age'] >= 35].index\n",
    "data.drop(age_idx , inplace = True)\n",
    "\n",
    "age_idx = data[data['age_o'] == 55].index\n",
    "# age_idx = data[data['age_o'] >= 35].index\n",
    "data.drop(age_idx , inplace = True)"
   ]
  },
  {
   "cell_type": "markdown",
   "metadata": {},
   "source": [
    "# Save file"
   ]
  },
  {
   "cell_type": "code",
   "execution_count": null,
   "metadata": {},
   "outputs": [],
   "source": [
    "data.dtypes"
   ]
  },
  {
   "cell_type": "code",
   "execution_count": null,
   "metadata": {},
   "outputs": [],
   "source": [
    "data.to_csv('Speed_Dating_Clean_Emmie.csv', index = False)"
   ]
  }
 ],
 "metadata": {
  "kernelspec": {
   "display_name": "Python 3",
   "language": "python",
   "name": "python3"
  },
  "language_info": {
   "codemirror_mode": {
    "name": "ipython",
    "version": 3
   },
   "file_extension": ".py",
   "mimetype": "text/x-python",
   "name": "python",
   "nbconvert_exporter": "python",
   "pygments_lexer": "ipython3",
   "version": "3.6.8"
  }
 },
 "nbformat": 4,
 "nbformat_minor": 2
}
