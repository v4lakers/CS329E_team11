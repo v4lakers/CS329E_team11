{
 "cells": [
  {
   "cell_type": "code",
   "execution_count": 1,
   "metadata": {},
   "outputs": [],
   "source": [
    "import pandas as pd"
   ]
  },
  {
   "cell_type": "code",
   "execution_count": 2,
   "metadata": {},
   "outputs": [
    {
     "name": "stdout",
     "output_type": "stream",
     "text": [
      "gender                           0\n",
      "age                              0\n",
      "age_o                            0\n",
      "d_age                            0\n",
      "d_d_age                          0\n",
      "race                             0\n",
      "race_o                           0\n",
      "samerace                         0\n",
      "importance_same_race             0\n",
      "importance_same_religion         0\n",
      "field                            0\n",
      "pref_o_attractive                0\n",
      "pref_o_sincere                   0\n",
      "pref_o_intelligence              0\n",
      "pref_o_funny                     0\n",
      "pref_o_ambitious                 0\n",
      "pref_o_shared_interests          0\n",
      "attractive_o                     0\n",
      "sinsere_o                        0\n",
      "intelligence_o                   0\n",
      "funny_o                          0\n",
      "ambitous_o                       0\n",
      "shared_interests_o               0\n",
      "attractive_important             0\n",
      "sincere_important                0\n",
      "intellicence_important           0\n",
      "funny_important                  0\n",
      "ambtition_important              0\n",
      "shared_interests_important       0\n",
      "attractive                       0\n",
      "                                ..\n",
      "intelligence_partner             0\n",
      "funny_partner                    0\n",
      "ambition_partner                 0\n",
      "shared_interests_partner         0\n",
      "sports                           0\n",
      "tvsports                         0\n",
      "exercise                         0\n",
      "dining                           0\n",
      "museums                          0\n",
      "art                              0\n",
      "hiking                           0\n",
      "gaming                           0\n",
      "clubbing                         0\n",
      "reading                          0\n",
      "tv                               0\n",
      "theater                          0\n",
      "movies                           0\n",
      "concerts                         0\n",
      "music                            0\n",
      "shopping                         0\n",
      "yoga                             0\n",
      "interests_correlate              0\n",
      "expected_happy_with_sd_people    0\n",
      "expected_num_matches             0\n",
      "like                             0\n",
      "guess_prob_liked                 0\n",
      "met                              0\n",
      "decision                         0\n",
      "decision_o                       0\n",
      "match                            0\n",
      "Length: 66, dtype: int64\n"
     ]
    }
   ],
   "source": [
    "data = pd.read_csv(\"speed-dating_csv.csv\")\n",
    "x = ['gender', 'race', 'race_o', 'field', 'd_d_age']\n",
    "columns = list(data)\n",
    "\n",
    "# Deleting Bins\n",
    "for column in columns:\n",
    "    if column not in x and data[str(column)].dtype.name == 'object':\n",
    "        del data[str(column)]\n",
    "\n",
    "# Deleting 2 useless columns        \n",
    "del data['has_null']\n",
    "del data['wave']\n",
    "\n",
    "# Deleting Column with 6k NA\n",
    "del data['expected_num_interested_in_me']\n",
    "\n",
    "data.isnull().sum()\n",
    "\n",
    "# Replace Age NA with mean\n",
    "mean = data['age'].mean()\n",
    "data['age'].fillna(mean, inplace=True)\n",
    "mean = data['age_o'].mean()\n",
    "data['age_o'].fillna(mean, inplace=True)\n",
    "\n",
    "# Repalce Race NA with Other\n",
    "data['race'].fillna('other', inplace=True)\n",
    "data['race_o'].fillna('other', inplace=True)\n",
    "\n",
    "# Replacing Religion NA's with 1\n",
    "data['importance_same_race'].fillna(1, inplace=True)\n",
    "data['importance_same_religion'].fillna(1, inplace=True)\n",
    "\n",
    "# Replacing Field NA with Mode\n",
    "mode = data['field'].mode()[0]\n",
    "data['field'].fillna(mode, inplace=True)\n",
    "\n",
    "# Replace NA with 0 for Preferences\n",
    "preferences = ['pref_o_attractive', 'pref_o_sincere', 'pref_o_intelligence', 'pref_o_funny', 'pref_o_ambitious', 'pref_o_shared_interests']          \n",
    "for pref in preferences:\n",
    "    data[pref].fillna(0, inplace=True)\n",
    "\n",
    "# Replace NA with 1 for Other Ratings\n",
    "for i in range(17, 57):\n",
    "    column = data.columns[i]\n",
    "    data[column].fillna(1, inplace=True)\n",
    "\n",
    "# Replace Expected Happy with SD People NA with Mean\n",
    "mean = data['expected_happy_with_sd_people'].mean()\n",
    "data['expected_happy_with_sd_people'].fillna(mean, inplace=True)\n",
    "\n",
    "# Delete Rows with NA's for Interest Correlate Column\n",
    "data = data.dropna(axis=0, subset=['interests_correlate'])\n",
    "\n",
    "# Replace Remaining NA values with 1\n",
    "remaining = ['expected_num_matches', 'like', 'guess_prob_liked', 'met']\n",
    "for item in remaining:\n",
    "    data[item].fillna(0, inplace=True)\n",
    "    \n",
    "\n",
    "print(data.isnull().sum())"
   ]
  },
  {
   "cell_type": "code",
   "execution_count": 3,
   "metadata": {},
   "outputs": [
    {
     "ename": "NameError",
     "evalue": "name 'data_X' is not defined",
     "output_type": "error",
     "traceback": [
      "\u001b[0;31m---------------------------------------------------------------------------\u001b[0m",
      "\u001b[0;31mNameError\u001b[0m                                 Traceback (most recent call last)",
      "\u001b[0;32m<ipython-input-3-dd1579d31db2>\u001b[0m in \u001b[0;36m<module>\u001b[0;34m\u001b[0m\n\u001b[1;32m      4\u001b[0m     \u001b[0;32melse\u001b[0m\u001b[0;34m:\u001b[0m\u001b[0;34m\u001b[0m\u001b[0;34m\u001b[0m\u001b[0m\n\u001b[1;32m      5\u001b[0m         \u001b[0;32mreturn\u001b[0m \u001b[0;36m1\u001b[0m\u001b[0;34m\u001b[0m\u001b[0;34m\u001b[0m\u001b[0m\n\u001b[0;32m----> 6\u001b[0;31m \u001b[0mmale\u001b[0m \u001b[0;34m=\u001b[0m \u001b[0mdata_X\u001b[0m\u001b[0;34m[\u001b[0m\u001b[0;34m'gender'\u001b[0m\u001b[0;34m]\u001b[0m\u001b[0;34m.\u001b[0m\u001b[0mmap\u001b[0m\u001b[0;34m(\u001b[0m\u001b[0mgender\u001b[0m\u001b[0;34m)\u001b[0m\u001b[0;34m\u001b[0m\u001b[0;34m\u001b[0m\u001b[0m\n\u001b[0m\u001b[1;32m      7\u001b[0m \u001b[0mdata_X\u001b[0m\u001b[0;34m[\u001b[0m\u001b[0;34m'gender'\u001b[0m\u001b[0;34m]\u001b[0m \u001b[0;34m=\u001b[0m \u001b[0mmale\u001b[0m\u001b[0;34m\u001b[0m\u001b[0;34m\u001b[0m\u001b[0m\n",
      "\u001b[0;31mNameError\u001b[0m: name 'data_X' is not defined"
     ]
    }
   ],
   "source": [
    "def gender(value): \n",
    "    if value == 'female': \n",
    "        return 0 \n",
    "    else: \n",
    "        return 1\n",
    "male = data_X['gender'].map(gender)\n",
    "data_X['gender'] = male"
   ]
  },
  {
   "cell_type": "code",
   "execution_count": null,
   "metadata": {},
   "outputs": [],
   "source": [
    "def d_d_age(value): \n",
    "    if value == '[2-3]': \n",
    "        return 2\n",
    "    if value == '[4-6]': \n",
    "        return 3\n",
    "    if value == '[0-1]': \n",
    "        return 1\n",
    "    if value == '[7-37]': \n",
    "        return 4\n",
    "dage = data_X['d_d_age'].map(d_d_age)\n",
    "data_X['d_d_age'] = dage"
   ]
  },
  {
   "cell_type": "code",
   "execution_count": null,
   "metadata": {},
   "outputs": [],
   "source": [
    "def race(value): \n",
    "    if value == 'asian/pacific islander/asian-american': \n",
    "        return 1\n",
    "    if value == 'black/african american': \n",
    "        return 2\n",
    "    if value == 'european/caucasian-american': \n",
    "        return 3\n",
    "    if value =='latino/hispanic american': \n",
    "        return 4\n",
    "    else: \n",
    "        return 5\n",
    "racee = data_X['race'].map(race)\n",
    "data_X['race'] = racee"
   ]
  },
  {
   "cell_type": "code",
   "execution_count": null,
   "metadata": {},
   "outputs": [],
   "source": [
    "race_o =data_X['race_o'].map(race)\n",
    "data_X['race_o'] = race_o"
   ]
  },
  {
   "cell_type": "code",
   "execution_count": null,
   "metadata": {},
   "outputs": [],
   "source": [
    "study1 = list(data_X['field'].value_counts().index)\n",
    "def study(value): \n",
    "    if value in study1: \n",
    "        return study1.index(value)\n",
    "study_idx = data_X['field'].map(study)\n",
    "data_X['field'] = study_idx"
   ]
  },
  {
   "cell_type": "code",
   "execution_count": null,
   "metadata": {},
   "outputs": [],
   "source": [
    "data.to_csv('Speed_Dating_Clean.csv')"
   ]
  },
  {
   "cell_type": "code",
   "execution_count": null,
   "metadata": {},
   "outputs": [],
   "source": []
  }
 ],
 "metadata": {
  "kernelspec": {
   "display_name": "Python 3",
   "language": "python",
   "name": "python3"
  },
  "language_info": {
   "codemirror_mode": {
    "name": "ipython",
    "version": 3
   },
   "file_extension": ".py",
   "mimetype": "text/x-python",
   "name": "python",
   "nbconvert_exporter": "python",
   "pygments_lexer": "ipython3",
   "version": "3.6.8"
  }
 },
 "nbformat": 4,
 "nbformat_minor": 2
}
